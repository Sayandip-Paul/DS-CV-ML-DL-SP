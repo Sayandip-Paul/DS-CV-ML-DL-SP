{
 "cells": [
  {
   "cell_type": "code",
   "execution_count": 1,
   "id": "04dfd637",
   "metadata": {
    "_cell_guid": "b1076dfc-b9ad-4769-8c92-a6c4dae69d19",
    "_uuid": "8f2839f25d086af736a60e9eeb907d3b93b6e0e5",
    "execution": {
     "iopub.execute_input": "2024-06-25T10:54:57.939628Z",
     "iopub.status.busy": "2024-06-25T10:54:57.939093Z",
     "iopub.status.idle": "2024-06-25T10:55:00.825092Z",
     "shell.execute_reply": "2024-06-25T10:55:00.823297Z"
    },
    "papermill": {
     "duration": 2.896523,
     "end_time": "2024-06-25T10:55:00.828649",
     "exception": false,
     "start_time": "2024-06-25T10:54:57.932126",
     "status": "completed"
    },
    "tags": []
   },
   "outputs": [],
   "source": [
    "import numpy as np # linear algebra\n",
    "import pandas as pd # data processing, CSV file I/O (e.g. pd.read_csv)\n",
    "import seaborn as sns\n",
    "from matplotlib import pyplot as plt"
   ]
  },
  {
   "cell_type": "code",
   "execution_count": 2,
   "id": "e28fdf96",
   "metadata": {
    "execution": {
     "iopub.execute_input": "2024-06-25T10:55:00.840751Z",
     "iopub.status.busy": "2024-06-25T10:55:00.840009Z",
     "iopub.status.idle": "2024-06-25T10:55:01.078467Z",
     "shell.execute_reply": "2024-06-25T10:55:01.076900Z"
    },
    "papermill": {
     "duration": 0.248112,
     "end_time": "2024-06-25T10:55:01.081836",
     "exception": false,
     "start_time": "2024-06-25T10:55:00.833724",
     "status": "completed"
    },
    "tags": []
   },
   "outputs": [],
   "source": [
    "df = pd.read_csv('/kaggle/input/diabetes-prediction-dataset/diabetes_prediction_dataset.csv')"
   ]
  },
  {
   "cell_type": "code",
   "execution_count": 3,
   "id": "3e3ba168",
   "metadata": {
    "execution": {
     "iopub.execute_input": "2024-06-25T10:55:01.093398Z",
     "iopub.status.busy": "2024-06-25T10:55:01.092925Z",
     "iopub.status.idle": "2024-06-25T10:55:01.126390Z",
     "shell.execute_reply": "2024-06-25T10:55:01.124883Z"
    },
    "papermill": {
     "duration": 0.042845,
     "end_time": "2024-06-25T10:55:01.129637",
     "exception": false,
     "start_time": "2024-06-25T10:55:01.086792",
     "status": "completed"
    },
    "tags": []
   },
   "outputs": [
    {
     "data": {
      "text/html": [
       "<div>\n",
       "<style scoped>\n",
       "    .dataframe tbody tr th:only-of-type {\n",
       "        vertical-align: middle;\n",
       "    }\n",
       "\n",
       "    .dataframe tbody tr th {\n",
       "        vertical-align: top;\n",
       "    }\n",
       "\n",
       "    .dataframe thead th {\n",
       "        text-align: right;\n",
       "    }\n",
       "</style>\n",
       "<table border=\"1\" class=\"dataframe\">\n",
       "  <thead>\n",
       "    <tr style=\"text-align: right;\">\n",
       "      <th></th>\n",
       "      <th>gender</th>\n",
       "      <th>age</th>\n",
       "      <th>hypertension</th>\n",
       "      <th>heart_disease</th>\n",
       "      <th>smoking_history</th>\n",
       "      <th>bmi</th>\n",
       "      <th>HbA1c_level</th>\n",
       "      <th>blood_glucose_level</th>\n",
       "      <th>diabetes</th>\n",
       "    </tr>\n",
       "  </thead>\n",
       "  <tbody>\n",
       "    <tr>\n",
       "      <th>0</th>\n",
       "      <td>Female</td>\n",
       "      <td>80.0</td>\n",
       "      <td>0</td>\n",
       "      <td>1</td>\n",
       "      <td>never</td>\n",
       "      <td>25.19</td>\n",
       "      <td>6.6</td>\n",
       "      <td>140</td>\n",
       "      <td>0</td>\n",
       "    </tr>\n",
       "    <tr>\n",
       "      <th>1</th>\n",
       "      <td>Female</td>\n",
       "      <td>54.0</td>\n",
       "      <td>0</td>\n",
       "      <td>0</td>\n",
       "      <td>No Info</td>\n",
       "      <td>27.32</td>\n",
       "      <td>6.6</td>\n",
       "      <td>80</td>\n",
       "      <td>0</td>\n",
       "    </tr>\n",
       "    <tr>\n",
       "      <th>2</th>\n",
       "      <td>Male</td>\n",
       "      <td>28.0</td>\n",
       "      <td>0</td>\n",
       "      <td>0</td>\n",
       "      <td>never</td>\n",
       "      <td>27.32</td>\n",
       "      <td>5.7</td>\n",
       "      <td>158</td>\n",
       "      <td>0</td>\n",
       "    </tr>\n",
       "    <tr>\n",
       "      <th>3</th>\n",
       "      <td>Female</td>\n",
       "      <td>36.0</td>\n",
       "      <td>0</td>\n",
       "      <td>0</td>\n",
       "      <td>current</td>\n",
       "      <td>23.45</td>\n",
       "      <td>5.0</td>\n",
       "      <td>155</td>\n",
       "      <td>0</td>\n",
       "    </tr>\n",
       "    <tr>\n",
       "      <th>4</th>\n",
       "      <td>Male</td>\n",
       "      <td>76.0</td>\n",
       "      <td>1</td>\n",
       "      <td>1</td>\n",
       "      <td>current</td>\n",
       "      <td>20.14</td>\n",
       "      <td>4.8</td>\n",
       "      <td>155</td>\n",
       "      <td>0</td>\n",
       "    </tr>\n",
       "  </tbody>\n",
       "</table>\n",
       "</div>"
      ],
      "text/plain": [
       "   gender   age  hypertension  heart_disease smoking_history    bmi  \\\n",
       "0  Female  80.0             0              1           never  25.19   \n",
       "1  Female  54.0             0              0         No Info  27.32   \n",
       "2    Male  28.0             0              0           never  27.32   \n",
       "3  Female  36.0             0              0         current  23.45   \n",
       "4    Male  76.0             1              1         current  20.14   \n",
       "\n",
       "   HbA1c_level  blood_glucose_level  diabetes  \n",
       "0          6.6                  140         0  \n",
       "1          6.6                   80         0  \n",
       "2          5.7                  158         0  \n",
       "3          5.0                  155         0  \n",
       "4          4.8                  155         0  "
      ]
     },
     "execution_count": 3,
     "metadata": {},
     "output_type": "execute_result"
    }
   ],
   "source": [
    "df.head()"
   ]
  },
  {
   "cell_type": "code",
   "execution_count": 4,
   "id": "d2b924eb",
   "metadata": {
    "execution": {
     "iopub.execute_input": "2024-06-25T10:55:01.141783Z",
     "iopub.status.busy": "2024-06-25T10:55:01.141291Z",
     "iopub.status.idle": "2024-06-25T10:55:01.196134Z",
     "shell.execute_reply": "2024-06-25T10:55:01.194728Z"
    },
    "papermill": {
     "duration": 0.064471,
     "end_time": "2024-06-25T10:55:01.199223",
     "exception": false,
     "start_time": "2024-06-25T10:55:01.134752",
     "status": "completed"
    },
    "tags": []
   },
   "outputs": [
    {
     "name": "stdout",
     "output_type": "stream",
     "text": [
      "<class 'pandas.core.frame.DataFrame'>\n",
      "RangeIndex: 100000 entries, 0 to 99999\n",
      "Data columns (total 9 columns):\n",
      " #   Column               Non-Null Count   Dtype  \n",
      "---  ------               --------------   -----  \n",
      " 0   gender               100000 non-null  object \n",
      " 1   age                  100000 non-null  float64\n",
      " 2   hypertension         100000 non-null  int64  \n",
      " 3   heart_disease        100000 non-null  int64  \n",
      " 4   smoking_history      100000 non-null  object \n",
      " 5   bmi                  100000 non-null  float64\n",
      " 6   HbA1c_level          100000 non-null  float64\n",
      " 7   blood_glucose_level  100000 non-null  int64  \n",
      " 8   diabetes             100000 non-null  int64  \n",
      "dtypes: float64(3), int64(4), object(2)\n",
      "memory usage: 6.9+ MB\n"
     ]
    }
   ],
   "source": [
    "df.info()"
   ]
  },
  {
   "cell_type": "code",
   "execution_count": 5,
   "id": "8076a52f",
   "metadata": {
    "execution": {
     "iopub.execute_input": "2024-06-25T10:55:01.211732Z",
     "iopub.status.busy": "2024-06-25T10:55:01.211282Z",
     "iopub.status.idle": "2024-06-25T10:55:01.246074Z",
     "shell.execute_reply": "2024-06-25T10:55:01.244609Z"
    },
    "papermill": {
     "duration": 0.044892,
     "end_time": "2024-06-25T10:55:01.249464",
     "exception": false,
     "start_time": "2024-06-25T10:55:01.204572",
     "status": "completed"
    },
    "tags": []
   },
   "outputs": [
    {
     "data": {
      "text/plain": [
       "gender                 0\n",
       "age                    0\n",
       "hypertension           0\n",
       "heart_disease          0\n",
       "smoking_history        0\n",
       "bmi                    0\n",
       "HbA1c_level            0\n",
       "blood_glucose_level    0\n",
       "diabetes               0\n",
       "dtype: int64"
      ]
     },
     "execution_count": 5,
     "metadata": {},
     "output_type": "execute_result"
    }
   ],
   "source": [
    "df.isnull().sum()"
   ]
  },
  {
   "cell_type": "code",
   "execution_count": 6,
   "id": "61c0d4f9",
   "metadata": {
    "execution": {
     "iopub.execute_input": "2024-06-25T10:55:01.262385Z",
     "iopub.status.busy": "2024-06-25T10:55:01.261927Z",
     "iopub.status.idle": "2024-06-25T10:55:01.300976Z",
     "shell.execute_reply": "2024-06-25T10:55:01.299384Z"
    },
    "papermill": {
     "duration": 0.049216,
     "end_time": "2024-06-25T10:55:01.304163",
     "exception": false,
     "start_time": "2024-06-25T10:55:01.254947",
     "status": "completed"
    },
    "tags": []
   },
   "outputs": [
    {
     "data": {
      "text/plain": [
       "gender                    3\n",
       "age                     102\n",
       "hypertension              2\n",
       "heart_disease             2\n",
       "smoking_history           6\n",
       "bmi                    4247\n",
       "HbA1c_level              18\n",
       "blood_glucose_level      18\n",
       "diabetes                  2\n",
       "dtype: int64"
      ]
     },
     "execution_count": 6,
     "metadata": {},
     "output_type": "execute_result"
    }
   ],
   "source": [
    "df.nunique()"
   ]
  },
  {
   "cell_type": "code",
   "execution_count": 7,
   "id": "4bea5bb3",
   "metadata": {
    "execution": {
     "iopub.execute_input": "2024-06-25T10:55:01.317370Z",
     "iopub.status.busy": "2024-06-25T10:55:01.316942Z",
     "iopub.status.idle": "2024-06-25T10:55:01.343091Z",
     "shell.execute_reply": "2024-06-25T10:55:01.341584Z"
    },
    "papermill": {
     "duration": 0.036181,
     "end_time": "2024-06-25T10:55:01.346026",
     "exception": false,
     "start_time": "2024-06-25T10:55:01.309845",
     "status": "completed"
    },
    "tags": []
   },
   "outputs": [
    {
     "data": {
      "text/plain": [
       "gender\n",
       "Female    58552\n",
       "Male      41430\n",
       "Other        18\n",
       "Name: count, dtype: int64"
      ]
     },
     "execution_count": 7,
     "metadata": {},
     "output_type": "execute_result"
    }
   ],
   "source": [
    "df['gender'].value_counts()"
   ]
  },
  {
   "cell_type": "code",
   "execution_count": 8,
   "id": "c2c7b269",
   "metadata": {
    "execution": {
     "iopub.execute_input": "2024-06-25T10:55:01.360841Z",
     "iopub.status.busy": "2024-06-25T10:55:01.359366Z",
     "iopub.status.idle": "2024-06-25T10:55:01.372420Z",
     "shell.execute_reply": "2024-06-25T10:55:01.370828Z"
    },
    "papermill": {
     "duration": 0.023511,
     "end_time": "2024-06-25T10:55:01.375274",
     "exception": false,
     "start_time": "2024-06-25T10:55:01.351763",
     "status": "completed"
    },
    "tags": []
   },
   "outputs": [
    {
     "data": {
      "text/plain": [
       "diabetes\n",
       "0    91500\n",
       "1     8500\n",
       "Name: count, dtype: int64"
      ]
     },
     "execution_count": 8,
     "metadata": {},
     "output_type": "execute_result"
    }
   ],
   "source": [
    "df['diabetes'].value_counts()"
   ]
  },
  {
   "cell_type": "code",
   "execution_count": 9,
   "id": "e6ad7a89",
   "metadata": {
    "execution": {
     "iopub.execute_input": "2024-06-25T10:55:01.389196Z",
     "iopub.status.busy": "2024-06-25T10:55:01.388251Z",
     "iopub.status.idle": "2024-06-25T10:55:01.438286Z",
     "shell.execute_reply": "2024-06-25T10:55:01.435803Z"
    },
    "papermill": {
     "duration": 0.060558,
     "end_time": "2024-06-25T10:55:01.441604",
     "exception": false,
     "start_time": "2024-06-25T10:55:01.381046",
     "status": "completed"
    },
    "tags": []
   },
   "outputs": [
    {
     "data": {
      "text/html": [
       "<div>\n",
       "<style scoped>\n",
       "    .dataframe tbody tr th:only-of-type {\n",
       "        vertical-align: middle;\n",
       "    }\n",
       "\n",
       "    .dataframe tbody tr th {\n",
       "        vertical-align: top;\n",
       "    }\n",
       "\n",
       "    .dataframe thead th {\n",
       "        text-align: right;\n",
       "    }\n",
       "</style>\n",
       "<table border=\"1\" class=\"dataframe\">\n",
       "  <thead>\n",
       "    <tr style=\"text-align: right;\">\n",
       "      <th></th>\n",
       "      <th>gender</th>\n",
       "      <th>age</th>\n",
       "      <th>hypertension</th>\n",
       "      <th>heart_disease</th>\n",
       "      <th>smoking_history</th>\n",
       "      <th>bmi</th>\n",
       "      <th>HbA1c_level</th>\n",
       "      <th>blood_glucose_level</th>\n",
       "      <th>diabetes</th>\n",
       "    </tr>\n",
       "  </thead>\n",
       "  <tbody>\n",
       "    <tr>\n",
       "      <th>12669</th>\n",
       "      <td>Other</td>\n",
       "      <td>10.0</td>\n",
       "      <td>0</td>\n",
       "      <td>0</td>\n",
       "      <td>not current</td>\n",
       "      <td>14.09</td>\n",
       "      <td>5.0</td>\n",
       "      <td>140</td>\n",
       "      <td>0</td>\n",
       "    </tr>\n",
       "    <tr>\n",
       "      <th>14838</th>\n",
       "      <td>Other</td>\n",
       "      <td>19.0</td>\n",
       "      <td>0</td>\n",
       "      <td>0</td>\n",
       "      <td>No Info</td>\n",
       "      <td>27.32</td>\n",
       "      <td>5.7</td>\n",
       "      <td>158</td>\n",
       "      <td>0</td>\n",
       "    </tr>\n",
       "    <tr>\n",
       "      <th>16702</th>\n",
       "      <td>Other</td>\n",
       "      <td>39.0</td>\n",
       "      <td>0</td>\n",
       "      <td>0</td>\n",
       "      <td>not current</td>\n",
       "      <td>31.24</td>\n",
       "      <td>6.2</td>\n",
       "      <td>85</td>\n",
       "      <td>0</td>\n",
       "    </tr>\n",
       "    <tr>\n",
       "      <th>18691</th>\n",
       "      <td>Other</td>\n",
       "      <td>10.0</td>\n",
       "      <td>0</td>\n",
       "      <td>0</td>\n",
       "      <td>not current</td>\n",
       "      <td>16.59</td>\n",
       "      <td>6.1</td>\n",
       "      <td>160</td>\n",
       "      <td>0</td>\n",
       "    </tr>\n",
       "    <tr>\n",
       "      <th>23266</th>\n",
       "      <td>Other</td>\n",
       "      <td>23.0</td>\n",
       "      <td>0</td>\n",
       "      <td>0</td>\n",
       "      <td>No Info</td>\n",
       "      <td>24.23</td>\n",
       "      <td>6.1</td>\n",
       "      <td>140</td>\n",
       "      <td>0</td>\n",
       "    </tr>\n",
       "    <tr>\n",
       "      <th>31985</th>\n",
       "      <td>Other</td>\n",
       "      <td>53.0</td>\n",
       "      <td>0</td>\n",
       "      <td>0</td>\n",
       "      <td>No Info</td>\n",
       "      <td>27.32</td>\n",
       "      <td>6.6</td>\n",
       "      <td>160</td>\n",
       "      <td>0</td>\n",
       "    </tr>\n",
       "    <tr>\n",
       "      <th>33805</th>\n",
       "      <td>Other</td>\n",
       "      <td>45.0</td>\n",
       "      <td>0</td>\n",
       "      <td>0</td>\n",
       "      <td>never</td>\n",
       "      <td>27.32</td>\n",
       "      <td>4.0</td>\n",
       "      <td>159</td>\n",
       "      <td>0</td>\n",
       "    </tr>\n",
       "    <tr>\n",
       "      <th>34929</th>\n",
       "      <td>Other</td>\n",
       "      <td>47.0</td>\n",
       "      <td>0</td>\n",
       "      <td>0</td>\n",
       "      <td>never</td>\n",
       "      <td>36.76</td>\n",
       "      <td>6.6</td>\n",
       "      <td>90</td>\n",
       "      <td>0</td>\n",
       "    </tr>\n",
       "    <tr>\n",
       "      <th>35006</th>\n",
       "      <td>Other</td>\n",
       "      <td>47.0</td>\n",
       "      <td>0</td>\n",
       "      <td>0</td>\n",
       "      <td>never</td>\n",
       "      <td>36.76</td>\n",
       "      <td>3.5</td>\n",
       "      <td>200</td>\n",
       "      <td>0</td>\n",
       "    </tr>\n",
       "    <tr>\n",
       "      <th>40337</th>\n",
       "      <td>Other</td>\n",
       "      <td>18.0</td>\n",
       "      <td>0</td>\n",
       "      <td>0</td>\n",
       "      <td>not current</td>\n",
       "      <td>30.19</td>\n",
       "      <td>6.1</td>\n",
       "      <td>90</td>\n",
       "      <td>0</td>\n",
       "    </tr>\n",
       "    <tr>\n",
       "      <th>56238</th>\n",
       "      <td>Other</td>\n",
       "      <td>10.0</td>\n",
       "      <td>0</td>\n",
       "      <td>0</td>\n",
       "      <td>not current</td>\n",
       "      <td>19.75</td>\n",
       "      <td>6.1</td>\n",
       "      <td>126</td>\n",
       "      <td>0</td>\n",
       "    </tr>\n",
       "    <tr>\n",
       "      <th>66595</th>\n",
       "      <td>Other</td>\n",
       "      <td>55.0</td>\n",
       "      <td>0</td>\n",
       "      <td>0</td>\n",
       "      <td>No Info</td>\n",
       "      <td>27.32</td>\n",
       "      <td>5.0</td>\n",
       "      <td>158</td>\n",
       "      <td>0</td>\n",
       "    </tr>\n",
       "    <tr>\n",
       "      <th>66887</th>\n",
       "      <td>Other</td>\n",
       "      <td>19.0</td>\n",
       "      <td>0</td>\n",
       "      <td>0</td>\n",
       "      <td>No Info</td>\n",
       "      <td>27.32</td>\n",
       "      <td>3.5</td>\n",
       "      <td>160</td>\n",
       "      <td>0</td>\n",
       "    </tr>\n",
       "    <tr>\n",
       "      <th>67204</th>\n",
       "      <td>Other</td>\n",
       "      <td>7.0</td>\n",
       "      <td>0</td>\n",
       "      <td>0</td>\n",
       "      <td>No Info</td>\n",
       "      <td>27.32</td>\n",
       "      <td>3.5</td>\n",
       "      <td>159</td>\n",
       "      <td>0</td>\n",
       "    </tr>\n",
       "    <tr>\n",
       "      <th>68484</th>\n",
       "      <td>Other</td>\n",
       "      <td>52.0</td>\n",
       "      <td>0</td>\n",
       "      <td>0</td>\n",
       "      <td>not current</td>\n",
       "      <td>31.63</td>\n",
       "      <td>6.6</td>\n",
       "      <td>159</td>\n",
       "      <td>0</td>\n",
       "    </tr>\n",
       "    <tr>\n",
       "      <th>71139</th>\n",
       "      <td>Other</td>\n",
       "      <td>28.0</td>\n",
       "      <td>0</td>\n",
       "      <td>0</td>\n",
       "      <td>ever</td>\n",
       "      <td>27.32</td>\n",
       "      <td>4.5</td>\n",
       "      <td>126</td>\n",
       "      <td>0</td>\n",
       "    </tr>\n",
       "    <tr>\n",
       "      <th>75302</th>\n",
       "      <td>Other</td>\n",
       "      <td>26.0</td>\n",
       "      <td>0</td>\n",
       "      <td>0</td>\n",
       "      <td>not current</td>\n",
       "      <td>37.49</td>\n",
       "      <td>6.0</td>\n",
       "      <td>80</td>\n",
       "      <td>0</td>\n",
       "    </tr>\n",
       "    <tr>\n",
       "      <th>75734</th>\n",
       "      <td>Other</td>\n",
       "      <td>24.0</td>\n",
       "      <td>0</td>\n",
       "      <td>0</td>\n",
       "      <td>not current</td>\n",
       "      <td>22.86</td>\n",
       "      <td>6.2</td>\n",
       "      <td>160</td>\n",
       "      <td>0</td>\n",
       "    </tr>\n",
       "  </tbody>\n",
       "</table>\n",
       "</div>"
      ],
      "text/plain": [
       "      gender   age  hypertension  heart_disease smoking_history    bmi  \\\n",
       "12669  Other  10.0             0              0     not current  14.09   \n",
       "14838  Other  19.0             0              0         No Info  27.32   \n",
       "16702  Other  39.0             0              0     not current  31.24   \n",
       "18691  Other  10.0             0              0     not current  16.59   \n",
       "23266  Other  23.0             0              0         No Info  24.23   \n",
       "31985  Other  53.0             0              0         No Info  27.32   \n",
       "33805  Other  45.0             0              0           never  27.32   \n",
       "34929  Other  47.0             0              0           never  36.76   \n",
       "35006  Other  47.0             0              0           never  36.76   \n",
       "40337  Other  18.0             0              0     not current  30.19   \n",
       "56238  Other  10.0             0              0     not current  19.75   \n",
       "66595  Other  55.0             0              0         No Info  27.32   \n",
       "66887  Other  19.0             0              0         No Info  27.32   \n",
       "67204  Other   7.0             0              0         No Info  27.32   \n",
       "68484  Other  52.0             0              0     not current  31.63   \n",
       "71139  Other  28.0             0              0            ever  27.32   \n",
       "75302  Other  26.0             0              0     not current  37.49   \n",
       "75734  Other  24.0             0              0     not current  22.86   \n",
       "\n",
       "       HbA1c_level  blood_glucose_level  diabetes  \n",
       "12669          5.0                  140         0  \n",
       "14838          5.7                  158         0  \n",
       "16702          6.2                   85         0  \n",
       "18691          6.1                  160         0  \n",
       "23266          6.1                  140         0  \n",
       "31985          6.6                  160         0  \n",
       "33805          4.0                  159         0  \n",
       "34929          6.6                   90         0  \n",
       "35006          3.5                  200         0  \n",
       "40337          6.1                   90         0  \n",
       "56238          6.1                  126         0  \n",
       "66595          5.0                  158         0  \n",
       "66887          3.5                  160         0  \n",
       "67204          3.5                  159         0  \n",
       "68484          6.6                  159         0  \n",
       "71139          4.5                  126         0  \n",
       "75302          6.0                   80         0  \n",
       "75734          6.2                  160         0  "
      ]
     },
     "execution_count": 9,
     "metadata": {},
     "output_type": "execute_result"
    }
   ],
   "source": [
    "df[df['gender']=='Other']"
   ]
  },
  {
   "cell_type": "code",
   "execution_count": null,
   "id": "77c698bf",
   "metadata": {
    "papermill": {
     "duration": 0.006073,
     "end_time": "2024-06-25T10:55:01.454092",
     "exception": false,
     "start_time": "2024-06-25T10:55:01.448019",
     "status": "completed"
    },
    "tags": []
   },
   "outputs": [],
   "source": []
  }
 ],
 "metadata": {
  "kaggle": {
   "accelerator": "none",
   "dataSources": [
    {
     "datasetId": 3102947,
     "sourceId": 5344155,
     "sourceType": "datasetVersion"
    }
   ],
   "dockerImageVersionId": 30732,
   "isGpuEnabled": false,
   "isInternetEnabled": true,
   "language": "python",
   "sourceType": "notebook"
  },
  "kernelspec": {
   "display_name": "Python 3",
   "language": "python",
   "name": "python3"
  },
  "language_info": {
   "codemirror_mode": {
    "name": "ipython",
    "version": 3
   },
   "file_extension": ".py",
   "mimetype": "text/x-python",
   "name": "python",
   "nbconvert_exporter": "python",
   "pygments_lexer": "ipython3",
   "version": "3.10.13"
  },
  "papermill": {
   "default_parameters": {},
   "duration": 7.987074,
   "end_time": "2024-06-25T10:55:02.386287",
   "environment_variables": {},
   "exception": null,
   "input_path": "__notebook__.ipynb",
   "output_path": "__notebook__.ipynb",
   "parameters": {},
   "start_time": "2024-06-25T10:54:54.399213",
   "version": "2.5.0"
  }
 },
 "nbformat": 4,
 "nbformat_minor": 5
}
