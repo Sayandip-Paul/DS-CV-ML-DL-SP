{
 "cells": [
  {
   "cell_type": "markdown",
   "id": "b4b68f41",
   "metadata": {
    "papermill": {
     "duration": 0.008263,
     "end_time": "2024-06-25T08:58:18.219728",
     "exception": false,
     "start_time": "2024-06-25T08:58:18.211465",
     "status": "completed"
    },
    "tags": []
   },
   "source": [
    "**Importing the Libraries**"
   ]
  },
  {
   "cell_type": "code",
   "execution_count": 1,
   "id": "a616c9b4",
   "metadata": {
    "execution": {
     "iopub.execute_input": "2024-06-25T08:58:18.237632Z",
     "iopub.status.busy": "2024-06-25T08:58:18.237223Z",
     "iopub.status.idle": "2024-06-25T08:58:20.603790Z",
     "shell.execute_reply": "2024-06-25T08:58:20.602747Z"
    },
    "papermill": {
     "duration": 2.378622,
     "end_time": "2024-06-25T08:58:20.606286",
     "exception": false,
     "start_time": "2024-06-25T08:58:18.227664",
     "status": "completed"
    },
    "tags": []
   },
   "outputs": [],
   "source": [
    "import numpy as np\n",
    "import pandas as pd\n",
    "import seaborn as sns\n",
    "from matplotlib import pyplot as plt\n",
    "from sklearn.metrics import accuracy_score\n",
    "import warnings\n",
    "warnings.filterwarnings('ignore')"
   ]
  },
  {
   "cell_type": "markdown",
   "id": "8d5fb78d",
   "metadata": {
    "papermill": {
     "duration": 0.007477,
     "end_time": "2024-06-25T08:58:20.621821",
     "exception": false,
     "start_time": "2024-06-25T08:58:20.614344",
     "status": "completed"
    },
    "tags": []
   },
   "source": [
    "**Importing the Dataset**"
   ]
  },
  {
   "cell_type": "code",
   "execution_count": 2,
   "id": "fdce2854",
   "metadata": {
    "execution": {
     "iopub.execute_input": "2024-06-25T08:58:20.639347Z",
     "iopub.status.busy": "2024-06-25T08:58:20.638796Z",
     "iopub.status.idle": "2024-06-25T08:58:20.658958Z",
     "shell.execute_reply": "2024-06-25T08:58:20.657884Z"
    },
    "papermill": {
     "duration": 0.031838,
     "end_time": "2024-06-25T08:58:20.661499",
     "exception": false,
     "start_time": "2024-06-25T08:58:20.629661",
     "status": "completed"
    },
    "tags": []
   },
   "outputs": [],
   "source": [
    "df = pd.read_csv('/kaggle/input/social-network-ads/Social_Network_Ads.csv')"
   ]
  },
  {
   "cell_type": "code",
   "execution_count": 3,
   "id": "60cf6c9c",
   "metadata": {
    "execution": {
     "iopub.execute_input": "2024-06-25T08:58:20.679595Z",
     "iopub.status.busy": "2024-06-25T08:58:20.678626Z",
     "iopub.status.idle": "2024-06-25T08:58:20.697439Z",
     "shell.execute_reply": "2024-06-25T08:58:20.696435Z"
    },
    "papermill": {
     "duration": 0.030245,
     "end_time": "2024-06-25T08:58:20.699765",
     "exception": false,
     "start_time": "2024-06-25T08:58:20.669520",
     "status": "completed"
    },
    "tags": []
   },
   "outputs": [
    {
     "data": {
      "text/html": [
       "<div>\n",
       "<style scoped>\n",
       "    .dataframe tbody tr th:only-of-type {\n",
       "        vertical-align: middle;\n",
       "    }\n",
       "\n",
       "    .dataframe tbody tr th {\n",
       "        vertical-align: top;\n",
       "    }\n",
       "\n",
       "    .dataframe thead th {\n",
       "        text-align: right;\n",
       "    }\n",
       "</style>\n",
       "<table border=\"1\" class=\"dataframe\">\n",
       "  <thead>\n",
       "    <tr style=\"text-align: right;\">\n",
       "      <th></th>\n",
       "      <th>Age</th>\n",
       "      <th>EstimatedSalary</th>\n",
       "      <th>Purchased</th>\n",
       "    </tr>\n",
       "  </thead>\n",
       "  <tbody>\n",
       "    <tr>\n",
       "      <th>0</th>\n",
       "      <td>19</td>\n",
       "      <td>19000</td>\n",
       "      <td>0</td>\n",
       "    </tr>\n",
       "    <tr>\n",
       "      <th>1</th>\n",
       "      <td>35</td>\n",
       "      <td>20000</td>\n",
       "      <td>0</td>\n",
       "    </tr>\n",
       "    <tr>\n",
       "      <th>2</th>\n",
       "      <td>26</td>\n",
       "      <td>43000</td>\n",
       "      <td>0</td>\n",
       "    </tr>\n",
       "    <tr>\n",
       "      <th>3</th>\n",
       "      <td>27</td>\n",
       "      <td>57000</td>\n",
       "      <td>0</td>\n",
       "    </tr>\n",
       "    <tr>\n",
       "      <th>4</th>\n",
       "      <td>19</td>\n",
       "      <td>76000</td>\n",
       "      <td>0</td>\n",
       "    </tr>\n",
       "  </tbody>\n",
       "</table>\n",
       "</div>"
      ],
      "text/plain": [
       "   Age  EstimatedSalary  Purchased\n",
       "0   19            19000          0\n",
       "1   35            20000          0\n",
       "2   26            43000          0\n",
       "3   27            57000          0\n",
       "4   19            76000          0"
      ]
     },
     "execution_count": 3,
     "metadata": {},
     "output_type": "execute_result"
    }
   ],
   "source": [
    "df.head()"
   ]
  },
  {
   "cell_type": "code",
   "execution_count": 4,
   "id": "4bbfad2d",
   "metadata": {
    "execution": {
     "iopub.execute_input": "2024-06-25T08:58:20.717386Z",
     "iopub.status.busy": "2024-06-25T08:58:20.717015Z",
     "iopub.status.idle": "2024-06-25T08:58:20.738682Z",
     "shell.execute_reply": "2024-06-25T08:58:20.737407Z"
    },
    "papermill": {
     "duration": 0.033421,
     "end_time": "2024-06-25T08:58:20.741315",
     "exception": false,
     "start_time": "2024-06-25T08:58:20.707894",
     "status": "completed"
    },
    "tags": []
   },
   "outputs": [
    {
     "name": "stdout",
     "output_type": "stream",
     "text": [
      "<class 'pandas.core.frame.DataFrame'>\n",
      "RangeIndex: 400 entries, 0 to 399\n",
      "Data columns (total 3 columns):\n",
      " #   Column           Non-Null Count  Dtype\n",
      "---  ------           --------------  -----\n",
      " 0   Age              400 non-null    int64\n",
      " 1   EstimatedSalary  400 non-null    int64\n",
      " 2   Purchased        400 non-null    int64\n",
      "dtypes: int64(3)\n",
      "memory usage: 9.5 KB\n"
     ]
    }
   ],
   "source": [
    "df.info()"
   ]
  },
  {
   "cell_type": "markdown",
   "id": "5f5459fc",
   "metadata": {
    "papermill": {
     "duration": 0.007911,
     "end_time": "2024-06-25T08:58:20.757509",
     "exception": false,
     "start_time": "2024-06-25T08:58:20.749598",
     "status": "completed"
    },
    "tags": []
   },
   "source": [
    "**Missing Values**"
   ]
  },
  {
   "cell_type": "code",
   "execution_count": 5,
   "id": "f438c302",
   "metadata": {
    "execution": {
     "iopub.execute_input": "2024-06-25T08:58:20.775583Z",
     "iopub.status.busy": "2024-06-25T08:58:20.775183Z",
     "iopub.status.idle": "2024-06-25T08:58:20.783569Z",
     "shell.execute_reply": "2024-06-25T08:58:20.782459Z"
    },
    "papermill": {
     "duration": 0.020036,
     "end_time": "2024-06-25T08:58:20.785766",
     "exception": false,
     "start_time": "2024-06-25T08:58:20.765730",
     "status": "completed"
    },
    "tags": []
   },
   "outputs": [
    {
     "data": {
      "text/plain": [
       "Age                0\n",
       "EstimatedSalary    0\n",
       "Purchased          0\n",
       "dtype: int64"
      ]
     },
     "execution_count": 5,
     "metadata": {},
     "output_type": "execute_result"
    }
   ],
   "source": [
    "df.isnull().sum()"
   ]
  },
  {
   "cell_type": "code",
   "execution_count": 6,
   "id": "6a5c3fb6",
   "metadata": {
    "execution": {
     "iopub.execute_input": "2024-06-25T08:58:20.803976Z",
     "iopub.status.busy": "2024-06-25T08:58:20.803617Z",
     "iopub.status.idle": "2024-06-25T08:58:20.813288Z",
     "shell.execute_reply": "2024-06-25T08:58:20.812184Z"
    },
    "papermill": {
     "duration": 0.021106,
     "end_time": "2024-06-25T08:58:20.815285",
     "exception": false,
     "start_time": "2024-06-25T08:58:20.794179",
     "status": "completed"
    },
    "tags": []
   },
   "outputs": [
    {
     "data": {
      "text/plain": [
       "Purchased\n",
       "0    257\n",
       "1    143\n",
       "Name: count, dtype: int64"
      ]
     },
     "execution_count": 6,
     "metadata": {},
     "output_type": "execute_result"
    }
   ],
   "source": [
    "df['Purchased'].value_counts()"
   ]
  },
  {
   "cell_type": "markdown",
   "id": "496594c3",
   "metadata": {
    "papermill": {
     "duration": 0.007999,
     "end_time": "2024-06-25T08:58:20.832512",
     "exception": false,
     "start_time": "2024-06-25T08:58:20.824513",
     "status": "completed"
    },
    "tags": []
   },
   "source": [
    "**Splitting the data into X and y**"
   ]
  },
  {
   "cell_type": "code",
   "execution_count": 7,
   "id": "b82b5062",
   "metadata": {
    "execution": {
     "iopub.execute_input": "2024-06-25T08:58:20.850688Z",
     "iopub.status.busy": "2024-06-25T08:58:20.850291Z",
     "iopub.status.idle": "2024-06-25T08:58:20.856387Z",
     "shell.execute_reply": "2024-06-25T08:58:20.855267Z"
    },
    "papermill": {
     "duration": 0.017766,
     "end_time": "2024-06-25T08:58:20.858603",
     "exception": false,
     "start_time": "2024-06-25T08:58:20.840837",
     "status": "completed"
    },
    "tags": []
   },
   "outputs": [],
   "source": [
    "X = df.drop(columns = 'Purchased',axis = 1)\n",
    "y = df['Purchased']"
   ]
  },
  {
   "cell_type": "code",
   "execution_count": 8,
   "id": "ff0f28b8",
   "metadata": {
    "execution": {
     "iopub.execute_input": "2024-06-25T08:58:20.877095Z",
     "iopub.status.busy": "2024-06-25T08:58:20.876703Z",
     "iopub.status.idle": "2024-06-25T08:58:20.886128Z",
     "shell.execute_reply": "2024-06-25T08:58:20.885066Z"
    },
    "papermill": {
     "duration": 0.021355,
     "end_time": "2024-06-25T08:58:20.888435",
     "exception": false,
     "start_time": "2024-06-25T08:58:20.867080",
     "status": "completed"
    },
    "tags": []
   },
   "outputs": [
    {
     "data": {
      "text/html": [
       "<div>\n",
       "<style scoped>\n",
       "    .dataframe tbody tr th:only-of-type {\n",
       "        vertical-align: middle;\n",
       "    }\n",
       "\n",
       "    .dataframe tbody tr th {\n",
       "        vertical-align: top;\n",
       "    }\n",
       "\n",
       "    .dataframe thead th {\n",
       "        text-align: right;\n",
       "    }\n",
       "</style>\n",
       "<table border=\"1\" class=\"dataframe\">\n",
       "  <thead>\n",
       "    <tr style=\"text-align: right;\">\n",
       "      <th></th>\n",
       "      <th>Age</th>\n",
       "      <th>EstimatedSalary</th>\n",
       "    </tr>\n",
       "  </thead>\n",
       "  <tbody>\n",
       "    <tr>\n",
       "      <th>0</th>\n",
       "      <td>19</td>\n",
       "      <td>19000</td>\n",
       "    </tr>\n",
       "    <tr>\n",
       "      <th>1</th>\n",
       "      <td>35</td>\n",
       "      <td>20000</td>\n",
       "    </tr>\n",
       "    <tr>\n",
       "      <th>2</th>\n",
       "      <td>26</td>\n",
       "      <td>43000</td>\n",
       "    </tr>\n",
       "    <tr>\n",
       "      <th>3</th>\n",
       "      <td>27</td>\n",
       "      <td>57000</td>\n",
       "    </tr>\n",
       "    <tr>\n",
       "      <th>4</th>\n",
       "      <td>19</td>\n",
       "      <td>76000</td>\n",
       "    </tr>\n",
       "  </tbody>\n",
       "</table>\n",
       "</div>"
      ],
      "text/plain": [
       "   Age  EstimatedSalary\n",
       "0   19            19000\n",
       "1   35            20000\n",
       "2   26            43000\n",
       "3   27            57000\n",
       "4   19            76000"
      ]
     },
     "execution_count": 8,
     "metadata": {},
     "output_type": "execute_result"
    }
   ],
   "source": [
    "X.head()"
   ]
  },
  {
   "cell_type": "markdown",
   "id": "7e29b6fa",
   "metadata": {
    "papermill": {
     "duration": 0.008277,
     "end_time": "2024-06-25T08:58:20.905425",
     "exception": false,
     "start_time": "2024-06-25T08:58:20.897148",
     "status": "completed"
    },
    "tags": []
   },
   "source": [
    "**Splitting the data into training set and testing set**"
   ]
  },
  {
   "cell_type": "code",
   "execution_count": 9,
   "id": "0e5fbcca",
   "metadata": {
    "execution": {
     "iopub.execute_input": "2024-06-25T08:58:20.924099Z",
     "iopub.status.busy": "2024-06-25T08:58:20.923733Z",
     "iopub.status.idle": "2024-06-25T08:58:20.941224Z",
     "shell.execute_reply": "2024-06-25T08:58:20.940187Z"
    },
    "papermill": {
     "duration": 0.029816,
     "end_time": "2024-06-25T08:58:20.943753",
     "exception": false,
     "start_time": "2024-06-25T08:58:20.913937",
     "status": "completed"
    },
    "tags": []
   },
   "outputs": [],
   "source": [
    "from sklearn.model_selection import train_test_split"
   ]
  },
  {
   "cell_type": "code",
   "execution_count": 10,
   "id": "7b25132d",
   "metadata": {
    "execution": {
     "iopub.execute_input": "2024-06-25T08:58:20.962392Z",
     "iopub.status.busy": "2024-06-25T08:58:20.962023Z",
     "iopub.status.idle": "2024-06-25T08:58:20.973980Z",
     "shell.execute_reply": "2024-06-25T08:58:20.973081Z"
    },
    "papermill": {
     "duration": 0.023875,
     "end_time": "2024-06-25T08:58:20.976280",
     "exception": false,
     "start_time": "2024-06-25T08:58:20.952405",
     "status": "completed"
    },
    "tags": []
   },
   "outputs": [],
   "source": [
    "X_train, X_test, y_train, y_test = train_test_split(X, y, test_size=0.20, stratify = y, random_state=101)"
   ]
  },
  {
   "cell_type": "markdown",
   "id": "7cbd2943",
   "metadata": {
    "papermill": {
     "duration": 0.008059,
     "end_time": "2024-06-25T08:58:20.992995",
     "exception": false,
     "start_time": "2024-06-25T08:58:20.984936",
     "status": "completed"
    },
    "tags": []
   },
   "source": [
    "**Feature Scaling**"
   ]
  },
  {
   "cell_type": "code",
   "execution_count": 11,
   "id": "f6d30019",
   "metadata": {
    "execution": {
     "iopub.execute_input": "2024-06-25T08:58:21.011397Z",
     "iopub.status.busy": "2024-06-25T08:58:21.010999Z",
     "iopub.status.idle": "2024-06-25T08:58:21.015820Z",
     "shell.execute_reply": "2024-06-25T08:58:21.014825Z"
    },
    "papermill": {
     "duration": 0.016469,
     "end_time": "2024-06-25T08:58:21.017926",
     "exception": false,
     "start_time": "2024-06-25T08:58:21.001457",
     "status": "completed"
    },
    "tags": []
   },
   "outputs": [],
   "source": [
    "from sklearn.preprocessing import StandardScaler\n",
    "scaler = StandardScaler()"
   ]
  },
  {
   "cell_type": "code",
   "execution_count": 12,
   "id": "f9b8fdc4",
   "metadata": {
    "execution": {
     "iopub.execute_input": "2024-06-25T08:58:21.036697Z",
     "iopub.status.busy": "2024-06-25T08:58:21.036337Z",
     "iopub.status.idle": "2024-06-25T08:58:21.047240Z",
     "shell.execute_reply": "2024-06-25T08:58:21.046253Z"
    },
    "papermill": {
     "duration": 0.02298,
     "end_time": "2024-06-25T08:58:21.049606",
     "exception": false,
     "start_time": "2024-06-25T08:58:21.026626",
     "status": "completed"
    },
    "tags": []
   },
   "outputs": [],
   "source": [
    "X_train = scaler.fit_transform(X_train)\n",
    "X_test = scaler.transform(X_test)"
   ]
  },
  {
   "cell_type": "markdown",
   "id": "ef10eaed",
   "metadata": {
    "papermill": {
     "duration": 0.008831,
     "end_time": "2024-06-25T08:58:21.067434",
     "exception": false,
     "start_time": "2024-06-25T08:58:21.058603",
     "status": "completed"
    },
    "tags": []
   },
   "source": [
    "**Training the Logistic Regression Model on the Training Set**"
   ]
  },
  {
   "cell_type": "code",
   "execution_count": 13,
   "id": "6bbf44f5",
   "metadata": {
    "execution": {
     "iopub.execute_input": "2024-06-25T08:58:21.087173Z",
     "iopub.status.busy": "2024-06-25T08:58:21.086236Z",
     "iopub.status.idle": "2024-06-25T08:58:21.180181Z",
     "shell.execute_reply": "2024-06-25T08:58:21.179216Z"
    },
    "papermill": {
     "duration": 0.106055,
     "end_time": "2024-06-25T08:58:21.182681",
     "exception": false,
     "start_time": "2024-06-25T08:58:21.076626",
     "status": "completed"
    },
    "tags": []
   },
   "outputs": [],
   "source": [
    "from sklearn.linear_model import LogisticRegression"
   ]
  },
  {
   "cell_type": "code",
   "execution_count": 14,
   "id": "e27e7f7f",
   "metadata": {
    "execution": {
     "iopub.execute_input": "2024-06-25T08:58:21.202032Z",
     "iopub.status.busy": "2024-06-25T08:58:21.201656Z",
     "iopub.status.idle": "2024-06-25T08:58:21.206225Z",
     "shell.execute_reply": "2024-06-25T08:58:21.205235Z"
    },
    "papermill": {
     "duration": 0.016285,
     "end_time": "2024-06-25T08:58:21.208172",
     "exception": false,
     "start_time": "2024-06-25T08:58:21.191887",
     "status": "completed"
    },
    "tags": []
   },
   "outputs": [],
   "source": [
    "clf_logr = LogisticRegression()"
   ]
  },
  {
   "cell_type": "code",
   "execution_count": 15,
   "id": "d1c729d2",
   "metadata": {
    "execution": {
     "iopub.execute_input": "2024-06-25T08:58:21.226710Z",
     "iopub.status.busy": "2024-06-25T08:58:21.226355Z",
     "iopub.status.idle": "2024-06-25T08:58:21.245991Z",
     "shell.execute_reply": "2024-06-25T08:58:21.244907Z"
    },
    "papermill": {
     "duration": 0.031676,
     "end_time": "2024-06-25T08:58:21.248333",
     "exception": false,
     "start_time": "2024-06-25T08:58:21.216657",
     "status": "completed"
    },
    "tags": []
   },
   "outputs": [
    {
     "data": {
      "text/html": [
       "<style>#sk-container-id-1 {color: black;background-color: white;}#sk-container-id-1 pre{padding: 0;}#sk-container-id-1 div.sk-toggleable {background-color: white;}#sk-container-id-1 label.sk-toggleable__label {cursor: pointer;display: block;width: 100%;margin-bottom: 0;padding: 0.3em;box-sizing: border-box;text-align: center;}#sk-container-id-1 label.sk-toggleable__label-arrow:before {content: \"▸\";float: left;margin-right: 0.25em;color: #696969;}#sk-container-id-1 label.sk-toggleable__label-arrow:hover:before {color: black;}#sk-container-id-1 div.sk-estimator:hover label.sk-toggleable__label-arrow:before {color: black;}#sk-container-id-1 div.sk-toggleable__content {max-height: 0;max-width: 0;overflow: hidden;text-align: left;background-color: #f0f8ff;}#sk-container-id-1 div.sk-toggleable__content pre {margin: 0.2em;color: black;border-radius: 0.25em;background-color: #f0f8ff;}#sk-container-id-1 input.sk-toggleable__control:checked~div.sk-toggleable__content {max-height: 200px;max-width: 100%;overflow: auto;}#sk-container-id-1 input.sk-toggleable__control:checked~label.sk-toggleable__label-arrow:before {content: \"▾\";}#sk-container-id-1 div.sk-estimator input.sk-toggleable__control:checked~label.sk-toggleable__label {background-color: #d4ebff;}#sk-container-id-1 div.sk-label input.sk-toggleable__control:checked~label.sk-toggleable__label {background-color: #d4ebff;}#sk-container-id-1 input.sk-hidden--visually {border: 0;clip: rect(1px 1px 1px 1px);clip: rect(1px, 1px, 1px, 1px);height: 1px;margin: -1px;overflow: hidden;padding: 0;position: absolute;width: 1px;}#sk-container-id-1 div.sk-estimator {font-family: monospace;background-color: #f0f8ff;border: 1px dotted black;border-radius: 0.25em;box-sizing: border-box;margin-bottom: 0.5em;}#sk-container-id-1 div.sk-estimator:hover {background-color: #d4ebff;}#sk-container-id-1 div.sk-parallel-item::after {content: \"\";width: 100%;border-bottom: 1px solid gray;flex-grow: 1;}#sk-container-id-1 div.sk-label:hover label.sk-toggleable__label {background-color: #d4ebff;}#sk-container-id-1 div.sk-serial::before {content: \"\";position: absolute;border-left: 1px solid gray;box-sizing: border-box;top: 0;bottom: 0;left: 50%;z-index: 0;}#sk-container-id-1 div.sk-serial {display: flex;flex-direction: column;align-items: center;background-color: white;padding-right: 0.2em;padding-left: 0.2em;position: relative;}#sk-container-id-1 div.sk-item {position: relative;z-index: 1;}#sk-container-id-1 div.sk-parallel {display: flex;align-items: stretch;justify-content: center;background-color: white;position: relative;}#sk-container-id-1 div.sk-item::before, #sk-container-id-1 div.sk-parallel-item::before {content: \"\";position: absolute;border-left: 1px solid gray;box-sizing: border-box;top: 0;bottom: 0;left: 50%;z-index: -1;}#sk-container-id-1 div.sk-parallel-item {display: flex;flex-direction: column;z-index: 1;position: relative;background-color: white;}#sk-container-id-1 div.sk-parallel-item:first-child::after {align-self: flex-end;width: 50%;}#sk-container-id-1 div.sk-parallel-item:last-child::after {align-self: flex-start;width: 50%;}#sk-container-id-1 div.sk-parallel-item:only-child::after {width: 0;}#sk-container-id-1 div.sk-dashed-wrapped {border: 1px dashed gray;margin: 0 0.4em 0.5em 0.4em;box-sizing: border-box;padding-bottom: 0.4em;background-color: white;}#sk-container-id-1 div.sk-label label {font-family: monospace;font-weight: bold;display: inline-block;line-height: 1.2em;}#sk-container-id-1 div.sk-label-container {text-align: center;}#sk-container-id-1 div.sk-container {/* jupyter's `normalize.less` sets `[hidden] { display: none; }` but bootstrap.min.css set `[hidden] { display: none !important; }` so we also need the `!important` here to be able to override the default hidden behavior on the sphinx rendered scikit-learn.org. See: https://github.com/scikit-learn/scikit-learn/issues/21755 */display: inline-block !important;position: relative;}#sk-container-id-1 div.sk-text-repr-fallback {display: none;}</style><div id=\"sk-container-id-1\" class=\"sk-top-container\"><div class=\"sk-text-repr-fallback\"><pre>LogisticRegression()</pre><b>In a Jupyter environment, please rerun this cell to show the HTML representation or trust the notebook. <br />On GitHub, the HTML representation is unable to render, please try loading this page with nbviewer.org.</b></div><div class=\"sk-container\" hidden><div class=\"sk-item\"><div class=\"sk-estimator sk-toggleable\"><input class=\"sk-toggleable__control sk-hidden--visually\" id=\"sk-estimator-id-1\" type=\"checkbox\" checked><label for=\"sk-estimator-id-1\" class=\"sk-toggleable__label sk-toggleable__label-arrow\">LogisticRegression</label><div class=\"sk-toggleable__content\"><pre>LogisticRegression()</pre></div></div></div></div></div>"
      ],
      "text/plain": [
       "LogisticRegression()"
      ]
     },
     "execution_count": 15,
     "metadata": {},
     "output_type": "execute_result"
    }
   ],
   "source": [
    "clf_logr.fit(X_train,y_train)"
   ]
  },
  {
   "cell_type": "markdown",
   "id": "44c59363",
   "metadata": {
    "papermill": {
     "duration": 0.008818,
     "end_time": "2024-06-25T08:58:21.266123",
     "exception": false,
     "start_time": "2024-06-25T08:58:21.257305",
     "status": "completed"
    },
    "tags": []
   },
   "source": [
    "**Predicting the Test set Results**"
   ]
  },
  {
   "cell_type": "code",
   "execution_count": 16,
   "id": "cf893d94",
   "metadata": {
    "execution": {
     "iopub.execute_input": "2024-06-25T08:58:21.286022Z",
     "iopub.status.busy": "2024-06-25T08:58:21.285313Z",
     "iopub.status.idle": "2024-06-25T08:58:21.290175Z",
     "shell.execute_reply": "2024-06-25T08:58:21.289251Z"
    },
    "papermill": {
     "duration": 0.017021,
     "end_time": "2024-06-25T08:58:21.292363",
     "exception": false,
     "start_time": "2024-06-25T08:58:21.275342",
     "status": "completed"
    },
    "tags": []
   },
   "outputs": [],
   "source": [
    "y_pred = clf_logr.predict(X_test)"
   ]
  },
  {
   "cell_type": "markdown",
   "id": "06eff752",
   "metadata": {
    "papermill": {
     "duration": 0.008421,
     "end_time": "2024-06-25T08:58:21.309647",
     "exception": false,
     "start_time": "2024-06-25T08:58:21.301226",
     "status": "completed"
    },
    "tags": []
   },
   "source": [
    "**Classification Report**"
   ]
  },
  {
   "cell_type": "code",
   "execution_count": 17,
   "id": "da3631da",
   "metadata": {
    "execution": {
     "iopub.execute_input": "2024-06-25T08:58:21.328949Z",
     "iopub.status.busy": "2024-06-25T08:58:21.328567Z",
     "iopub.status.idle": "2024-06-25T08:58:21.343641Z",
     "shell.execute_reply": "2024-06-25T08:58:21.342527Z"
    },
    "papermill": {
     "duration": 0.027587,
     "end_time": "2024-06-25T08:58:21.346122",
     "exception": false,
     "start_time": "2024-06-25T08:58:21.318535",
     "status": "completed"
    },
    "tags": []
   },
   "outputs": [
    {
     "name": "stdout",
     "output_type": "stream",
     "text": [
      "              precision    recall  f1-score   support\n",
      "\n",
      "     class 0       0.81      0.90      0.85        51\n",
      "     class 1       0.78      0.62      0.69        29\n",
      "\n",
      "    accuracy                           0.80        80\n",
      "   macro avg       0.79      0.76      0.77        80\n",
      "weighted avg       0.80      0.80      0.79        80\n",
      "\n"
     ]
    }
   ],
   "source": [
    "from sklearn.metrics import classification_report\n",
    "target_names = ['class 0', 'class 1']\n",
    "print(classification_report(y_test, y_pred, target_names=target_names))"
   ]
  },
  {
   "cell_type": "markdown",
   "id": "954390ed",
   "metadata": {
    "papermill": {
     "duration": 0.008515,
     "end_time": "2024-06-25T08:58:21.363737",
     "exception": false,
     "start_time": "2024-06-25T08:58:21.355222",
     "status": "completed"
    },
    "tags": []
   },
   "source": [
    "**Making the Confusion Matrix**"
   ]
  },
  {
   "cell_type": "code",
   "execution_count": 18,
   "id": "b8e5e015",
   "metadata": {
    "execution": {
     "iopub.execute_input": "2024-06-25T08:58:21.383000Z",
     "iopub.status.busy": "2024-06-25T08:58:21.382627Z",
     "iopub.status.idle": "2024-06-25T08:58:21.668394Z",
     "shell.execute_reply": "2024-06-25T08:58:21.667283Z"
    },
    "papermill": {
     "duration": 0.298054,
     "end_time": "2024-06-25T08:58:21.670645",
     "exception": false,
     "start_time": "2024-06-25T08:58:21.372591",
     "status": "completed"
    },
    "tags": []
   },
   "outputs": [
    {
     "data": {
      "image/png": "[encoded data removed]",
      "text/plain": [
       "<Figure size 640x480 with 2 Axes>"
      ]
     },
     "metadata": {},
     "output_type": "display_data"
    }
   ],
   "source": [
    "from sklearn.metrics import confusion_matrix, ConfusionMatrixDisplay\n",
    "cm = confusion_matrix(y_test, y_pred, labels=clf_logr.classes_)\n",
    "disp = ConfusionMatrixDisplay(confusion_matrix=cm,display_labels=clf_logr.classes_)\n",
    "disp.plot()\n",
    "plt.show()"
   ]
  },
  {
   "cell_type": "markdown",
   "id": "c4f84b12",
   "metadata": {
    "papermill": {
     "duration": 0.008931,
     "end_time": "2024-06-25T08:58:21.688937",
     "exception": false,
     "start_time": "2024-06-25T08:58:21.680006",
     "status": "completed"
    },
    "tags": []
   },
   "source": [
    "**Predicting a new result**"
   ]
  },
  {
   "cell_type": "code",
   "execution_count": 19,
   "id": "277278fc",
   "metadata": {
    "execution": {
     "iopub.execute_input": "2024-06-25T08:58:21.709024Z",
     "iopub.status.busy": "2024-06-25T08:58:21.708636Z",
     "iopub.status.idle": "2024-06-25T08:58:21.715304Z",
     "shell.execute_reply": "2024-06-25T08:58:21.714172Z"
    },
    "papermill": {
     "duration": 0.01949,
     "end_time": "2024-06-25T08:58:21.717670",
     "exception": false,
     "start_time": "2024-06-25T08:58:21.698180",
     "status": "completed"
    },
    "tags": []
   },
   "outputs": [
    {
     "name": "stdout",
     "output_type": "stream",
     "text": [
      "Not Purchased\n"
     ]
    }
   ],
   "source": [
    "if clf_logr.predict(scaler.transform([[30,87000]]))[0] == 0:\n",
    "    print(\"Not Purchased\")\n",
    "else:\n",
    "    print(\"Purchased\")"
   ]
  },
  {
   "cell_type": "code",
   "execution_count": 20,
   "id": "71c8aee5",
   "metadata": {
    "execution": {
     "iopub.execute_input": "2024-06-25T08:58:21.737705Z",
     "iopub.status.busy": "2024-06-25T08:58:21.737345Z",
     "iopub.status.idle": "2024-06-25T08:58:21.743452Z",
     "shell.execute_reply": "2024-06-25T08:58:21.742479Z"
    },
    "papermill": {
     "duration": 0.018893,
     "end_time": "2024-06-25T08:58:21.745845",
     "exception": false,
     "start_time": "2024-06-25T08:58:21.726952",
     "status": "completed"
    },
    "tags": []
   },
   "outputs": [
    {
     "name": "stdout",
     "output_type": "stream",
     "text": [
      "Purchased\n"
     ]
    }
   ],
   "source": [
    "if clf_logr.predict(scaler.transform([[47,49000]]))[0] == 0:\n",
    "    print(\"Not Purchased\")\n",
    "else:\n",
    "    print(\"Purchased\")"
   ]
  },
  {
   "cell_type": "markdown",
   "id": "6bc05b05",
   "metadata": {
    "papermill": {
     "duration": 0.009289,
     "end_time": "2024-06-25T08:58:21.764558",
     "exception": false,
     "start_time": "2024-06-25T08:58:21.755269",
     "status": "completed"
    },
    "tags": []
   },
   "source": [
    "**Predicting the Test set and prediction results**"
   ]
  },
  {
   "cell_type": "code",
   "execution_count": 21,
   "id": "464811b0",
   "metadata": {
    "execution": {
     "iopub.execute_input": "2024-06-25T08:58:21.785419Z",
     "iopub.status.busy": "2024-06-25T08:58:21.785000Z",
     "iopub.status.idle": "2024-06-25T08:58:21.791868Z",
     "shell.execute_reply": "2024-06-25T08:58:21.790739Z"
    },
    "papermill": {
     "duration": 0.020434,
     "end_time": "2024-06-25T08:58:21.794536",
     "exception": false,
     "start_time": "2024-06-25T08:58:21.774102",
     "status": "completed"
    },
    "tags": []
   },
   "outputs": [
    {
     "name": "stdout",
     "output_type": "stream",
     "text": [
      "[[0 1]\n",
      " [0 0]\n",
      " [1 1]\n",
      " [0 0]\n",
      " [0 0]\n",
      " [1 0]\n",
      " [1 0]\n",
      " [0 0]\n",
      " [0 1]\n",
      " [1 1]\n",
      " [0 0]\n",
      " [1 0]\n",
      " [0 0]\n",
      " [0 0]\n",
      " [0 1]\n",
      " [0 0]\n",
      " [0 0]\n",
      " [0 0]\n",
      " [1 0]\n",
      " [1 1]\n",
      " [0 0]\n",
      " [0 0]\n",
      " [0 0]\n",
      " [0 0]\n",
      " [0 0]\n",
      " [0 0]\n",
      " [0 0]\n",
      " [0 0]\n",
      " [1 1]\n",
      " [0 1]\n",
      " [0 0]\n",
      " [0 1]\n",
      " [1 1]\n",
      " [0 0]\n",
      " [0 0]\n",
      " [0 0]\n",
      " [0 0]\n",
      " [0 0]\n",
      " [0 1]\n",
      " [0 0]\n",
      " [1 1]\n",
      " [0 0]\n",
      " [0 1]\n",
      " [1 1]\n",
      " [0 0]\n",
      " [1 1]\n",
      " [0 1]\n",
      " [0 1]\n",
      " [0 0]\n",
      " [0 1]\n",
      " [0 0]\n",
      " [0 0]\n",
      " [0 0]\n",
      " [0 0]\n",
      " [0 0]\n",
      " [0 0]\n",
      " [0 0]\n",
      " [0 0]\n",
      " [0 0]\n",
      " [1 1]\n",
      " [0 0]\n",
      " [1 1]\n",
      " [0 0]\n",
      " [0 0]\n",
      " [1 1]\n",
      " [0 0]\n",
      " [0 0]\n",
      " [1 1]\n",
      " [0 1]\n",
      " [0 0]\n",
      " [1 1]\n",
      " [1 1]\n",
      " [1 1]\n",
      " [1 1]\n",
      " [1 0]\n",
      " [1 1]\n",
      " [0 0]\n",
      " [0 0]\n",
      " [1 1]\n",
      " [0 0]]\n"
     ]
    }
   ],
   "source": [
    "y_test = y_test.values\n",
    "# Predicting the Test set results\n",
    "print(np.concatenate((y_pred.reshape(len(y_pred),1), y_test.reshape(len(y_test),1)),1))"
   ]
  },
  {
   "cell_type": "code",
   "execution_count": 22,
   "id": "32414100",
   "metadata": {
    "execution": {
     "iopub.execute_input": "2024-06-25T08:58:21.815261Z",
     "iopub.status.busy": "2024-06-25T08:58:21.814849Z",
     "iopub.status.idle": "2024-06-25T08:58:21.822641Z",
     "shell.execute_reply": "2024-06-25T08:58:21.821625Z"
    },
    "papermill": {
     "duration": 0.020741,
     "end_time": "2024-06-25T08:58:21.824984",
     "exception": false,
     "start_time": "2024-06-25T08:58:21.804243",
     "status": "completed"
    },
    "tags": []
   },
   "outputs": [
    {
     "data": {
      "text/plain": [
       "0.8"
      ]
     },
     "execution_count": 22,
     "metadata": {},
     "output_type": "execute_result"
    }
   ],
   "source": [
    "accuracy_score(y_test, y_pred)"
   ]
  },
  {
   "cell_type": "markdown",
   "id": "cb79a1e9",
   "metadata": {
    "papermill": {
     "duration": 0.009388,
     "end_time": "2024-06-25T08:58:21.844076",
     "exception": false,
     "start_time": "2024-06-25T08:58:21.834688",
     "status": "completed"
    },
    "tags": []
   },
   "source": [
    "**Visalizing the Training Set Results**"
   ]
  },
  {
   "cell_type": "code",
   "execution_count": 23,
   "id": "283cea8c",
   "metadata": {
    "execution": {
     "iopub.execute_input": "2024-06-25T08:58:21.865222Z",
     "iopub.status.busy": "2024-06-25T08:58:21.864533Z",
     "iopub.status.idle": "2024-06-25T08:58:48.679300Z",
     "shell.execute_reply": "2024-06-25T08:58:48.678181Z"
    },
    "papermill": {
     "duration": 26.82782,
     "end_time": "2024-06-25T08:58:48.681526",
     "exception": false,
     "start_time": "2024-06-25T08:58:21.853706",
     "status": "completed"
    },
    "tags": []
   },
   "outputs": [
    {
     "data": {
      "image/png": "[encoded data removed]",
      "text/plain": [
       "<Figure size 640x480 with 1 Axes>"
      ]
     },
     "metadata": {},
     "output_type": "display_data"
    }
   ],
   "source": [
    "# Visualising the Training set results\n",
    "from matplotlib.colors import ListedColormap\n",
    "X_set, y_set = scaler.inverse_transform(X_train), y_train\n",
    "X1, X2 = np.meshgrid(np.arange(start = X_set[:, 0].min() - 10, stop = X_set[:, 0].max() + 10, step = 0.25),\n",
    "                     np.arange(start = X_set[:, 1].min() - 1000, stop = X_set[:, 1].max() + 1000, step = 0.25))\n",
    "plt.contourf(X1, X2, clf_logr.predict(scaler.transform(np.array([X1.ravel(), X2.ravel()]).T)).reshape(X1.shape),\n",
    "             alpha = 0.75, cmap = ListedColormap(('red', 'green')))\n",
    "plt.xlim(X1.min(), X1.max())\n",
    "plt.ylim(X2.min(), X2.max())\n",
    "for i, j in enumerate(np.unique(y_set)):\n",
    "    plt.scatter(X_set[y_set == j, 0], X_set[y_set == j, 1], c = ListedColormap(('red', 'green'))(i), label = j)\n",
    "plt.title('Logistic Regression (Training set)')\n",
    "plt.xlabel('Age')\n",
    "plt.ylabel('Estimated Salary')\n",
    "plt.legend()\n",
    "plt.show()"
   ]
  },
  {
   "cell_type": "markdown",
   "id": "3f96ac7e",
   "metadata": {
    "papermill": {
     "duration": 0.010065,
     "end_time": "2024-06-25T08:58:48.702170",
     "exception": false,
     "start_time": "2024-06-25T08:58:48.692105",
     "status": "completed"
    },
    "tags": []
   },
   "source": [
    "**Visualising the Test set results**\n"
   ]
  },
  {
   "cell_type": "code",
   "execution_count": 24,
   "id": "81c0839a",
   "metadata": {
    "execution": {
     "iopub.execute_input": "2024-06-25T08:58:48.725409Z",
     "iopub.status.busy": "2024-06-25T08:58:48.724348Z",
     "iopub.status.idle": "2024-06-25T08:59:13.395270Z",
     "shell.execute_reply": "2024-06-25T08:59:13.394197Z"
    },
    "papermill": {
     "duration": 24.68511,
     "end_time": "2024-06-25T08:59:13.397741",
     "exception": false,
     "start_time": "2024-06-25T08:58:48.712631",
     "status": "completed"
    },
    "tags": []
   },
   "outputs": [
    {
     "data": {
      "image/png": "[encoded data removed]",
      "text/plain": [
       "<Figure size 640x480 with 1 Axes>"
      ]
     },
     "metadata": {},
     "output_type": "display_data"
    }
   ],
   "source": [
    "# Visualising the Test set results\n",
    "from matplotlib.colors import ListedColormap\n",
    "X_set, y_set = scaler.inverse_transform(X_test), y_test\n",
    "X1, X2 = np.meshgrid(np.arange(start = X_set[:, 0].min() - 10, stop = X_set[:, 0].max() + 10, step = 0.25),\n",
    "                     np.arange(start = X_set[:, 1].min() - 1000, stop = X_set[:, 1].max() + 1000, step = 0.25))\n",
    "plt.contourf(X1, X2, clf_logr.predict(scaler.transform(np.array([X1.ravel(), X2.ravel()]).T)).reshape(X1.shape),\n",
    "             alpha = 0.75, cmap = ListedColormap(('red', 'green')))\n",
    "plt.xlim(X1.min(), X1.max())\n",
    "plt.ylim(X2.min(), X2.max())\n",
    "for i, j in enumerate(np.unique(y_set)):\n",
    "    plt.scatter(X_set[y_set == j, 0], X_set[y_set == j, 1], c = ListedColormap(('red', 'green'))(i), label = j)\n",
    "plt.title('Logistic Regression (Test set)')\n",
    "plt.xlabel('Age')\n",
    "plt.ylabel('Estimated Salary')\n",
    "plt.legend()\n",
    "plt.show()"
   ]
  },
  {
   "cell_type": "code",
   "execution_count": null,
   "id": "7143d6d5",
   "metadata": {
    "papermill": {
     "duration": 0.011293,
     "end_time": "2024-06-25T08:59:13.420297",
     "exception": false,
     "start_time": "2024-06-25T08:59:13.409004",
     "status": "completed"
    },
    "tags": []
   },
   "outputs": [],
   "source": []
  }
 ],
 "metadata": {
  "kaggle": {
   "accelerator": "none",
   "dataSources": [
    {
     "datasetId": 5277227,
     "sourceId": 8779780,
     "sourceType": "datasetVersion"
    }
   ],
   "dockerImageVersionId": 30732,
   "isGpuEnabled": false,
   "isInternetEnabled": true,
   "language": "python",
   "sourceType": "notebook"
  },
  "kernelspec": {
   "display_name": "Python 3",
   "language": "python",
   "name": "python3"
  },
  "language_info": {
   "codemirror_mode": {
    "name": "ipython",
    "version": 3
   },
   "file_extension": ".py",
   "mimetype": "text/x-python",
   "name": "python",
   "nbconvert_exporter": "python",
   "pygments_lexer": "ipython3",
   "version": "3.10.13"
  },
  "papermill": {
   "default_parameters": {},
   "duration": 58.494627,
   "end_time": "2024-06-25T08:59:14.052451",
   "environment_variables": {},
   "exception": null,
   "input_path": "__notebook__.ipynb",
   "output_path": "__notebook__.ipynb",
   "parameters": {},
   "start_time": "2024-06-25T08:58:15.557824",
   "version": "2.5.0"
  }
 },
 "nbformat": 4,
 "nbformat_minor": 5
}
