{
 "cells": [
  {
   "cell_type": "code",
   "execution_count": 1,
   "id": "9cf1412f",
   "metadata": {
    "_cell_guid": "b1076dfc-b9ad-4769-8c92-a6c4dae69d19",
    "_uuid": "8f2839f25d086af736a60e9eeb907d3b93b6e0e5",
    "execution": {
     "iopub.execute_input": "2024-06-28T08:47:28.500101Z",
     "iopub.status.busy": "2024-06-28T08:47:28.499569Z",
     "iopub.status.idle": "2024-06-28T08:47:31.488745Z",
     "shell.execute_reply": "2024-06-28T08:47:31.487274Z"
    },
    "papermill": {
     "duration": 3.010496,
     "end_time": "2024-06-28T08:47:31.491731",
     "exception": false,
     "start_time": "2024-06-28T08:47:28.481235",
     "status": "completed"
    },
    "tags": []
   },
   "outputs": [],
   "source": [
    "import numpy as np # linear algebra\n",
    "import pandas as pd # data processing, CSV file I/O (e.g. pd.read_csv)\n",
    "from matplotlib import pyplot as plt\n",
    "import seaborn as sns\n",
    "from sklearn.impute import SimpleImputer"
   ]
  },
  {
   "cell_type": "code",
   "execution_count": 2,
   "id": "7dc5fcb5",
   "metadata": {
    "execution": {
     "iopub.execute_input": "2024-06-28T08:47:31.524341Z",
     "iopub.status.busy": "2024-06-28T08:47:31.523640Z",
     "iopub.status.idle": "2024-06-28T08:47:31.530060Z",
     "shell.execute_reply": "2024-06-28T08:47:31.528659Z"
    },
    "papermill": {
     "duration": 0.026565,
     "end_time": "2024-06-28T08:47:31.533010",
     "exception": false,
     "start_time": "2024-06-28T08:47:31.506445",
     "status": "completed"
    },
    "tags": []
   },
   "outputs": [],
   "source": [
    "import warnings\n",
    "warnings.filterwarnings('ignore')"
   ]
  },
  {
   "cell_type": "code",
   "execution_count": 3,
   "id": "5168838e",
   "metadata": {
    "execution": {
     "iopub.execute_input": "2024-06-28T08:47:31.565690Z",
     "iopub.status.busy": "2024-06-28T08:47:31.565204Z",
     "iopub.status.idle": "2024-06-28T08:47:31.586900Z",
     "shell.execute_reply": "2024-06-28T08:47:31.585591Z"
    },
    "papermill": {
     "duration": 0.04118,
     "end_time": "2024-06-28T08:47:31.589933",
     "exception": false,
     "start_time": "2024-06-28T08:47:31.548753",
     "status": "completed"
    },
    "tags": []
   },
   "outputs": [],
   "source": [
    "cl_df = pd.read_csv('/kaggle/input/heart-disease-data-uci/processed.cleveland.data',header = None)"
   ]
  },
  {
   "cell_type": "code",
   "execution_count": 4,
   "id": "7d98173e",
   "metadata": {
    "execution": {
     "iopub.execute_input": "2024-06-28T08:47:31.622800Z",
     "iopub.status.busy": "2024-06-28T08:47:31.622302Z",
     "iopub.status.idle": "2024-06-28T08:47:31.658444Z",
     "shell.execute_reply": "2024-06-28T08:47:31.657157Z"
    },
    "papermill": {
     "duration": 0.056631,
     "end_time": "2024-06-28T08:47:31.661470",
     "exception": false,
     "start_time": "2024-06-28T08:47:31.604839",
     "status": "completed"
    },
    "tags": []
   },
   "outputs": [
    {
     "data": {
      "text/html": [
       "<div>\n",
       "<style scoped>\n",
       "    .dataframe tbody tr th:only-of-type {\n",
       "        vertical-align: middle;\n",
       "    }\n",
       "\n",
       "    .dataframe tbody tr th {\n",
       "        vertical-align: top;\n",
       "    }\n",
       "\n",
       "    .dataframe thead th {\n",
       "        text-align: right;\n",
       "    }\n",
       "</style>\n",
       "<table border=\"1\" class=\"dataframe\">\n",
       "  <thead>\n",
       "    <tr style=\"text-align: right;\">\n",
       "      <th></th>\n",
       "      <th>0</th>\n",
       "      <th>1</th>\n",
       "      <th>2</th>\n",
       "      <th>3</th>\n",
       "      <th>4</th>\n",
       "      <th>5</th>\n",
       "      <th>6</th>\n",
       "      <th>7</th>\n",
       "      <th>8</th>\n",
       "      <th>9</th>\n",
       "      <th>10</th>\n",
       "      <th>11</th>\n",
       "      <th>12</th>\n",
       "      <th>13</th>\n",
       "    </tr>\n",
       "  </thead>\n",
       "  <tbody>\n",
       "    <tr>\n",
       "      <th>0</th>\n",
       "      <td>63.0</td>\n",
       "      <td>1.0</td>\n",
       "      <td>1.0</td>\n",
       "      <td>145.0</td>\n",
       "      <td>233.0</td>\n",
       "      <td>1.0</td>\n",
       "      <td>2.0</td>\n",
       "      <td>150.0</td>\n",
       "      <td>0.0</td>\n",
       "      <td>2.3</td>\n",
       "      <td>3.0</td>\n",
       "      <td>0.0</td>\n",
       "      <td>6.0</td>\n",
       "      <td>0</td>\n",
       "    </tr>\n",
       "    <tr>\n",
       "      <th>1</th>\n",
       "      <td>67.0</td>\n",
       "      <td>1.0</td>\n",
       "      <td>4.0</td>\n",
       "      <td>160.0</td>\n",
       "      <td>286.0</td>\n",
       "      <td>0.0</td>\n",
       "      <td>2.0</td>\n",
       "      <td>108.0</td>\n",
       "      <td>1.0</td>\n",
       "      <td>1.5</td>\n",
       "      <td>2.0</td>\n",
       "      <td>3.0</td>\n",
       "      <td>3.0</td>\n",
       "      <td>2</td>\n",
       "    </tr>\n",
       "    <tr>\n",
       "      <th>2</th>\n",
       "      <td>67.0</td>\n",
       "      <td>1.0</td>\n",
       "      <td>4.0</td>\n",
       "      <td>120.0</td>\n",
       "      <td>229.0</td>\n",
       "      <td>0.0</td>\n",
       "      <td>2.0</td>\n",
       "      <td>129.0</td>\n",
       "      <td>1.0</td>\n",
       "      <td>2.6</td>\n",
       "      <td>2.0</td>\n",
       "      <td>2.0</td>\n",
       "      <td>7.0</td>\n",
       "      <td>1</td>\n",
       "    </tr>\n",
       "    <tr>\n",
       "      <th>3</th>\n",
       "      <td>37.0</td>\n",
       "      <td>1.0</td>\n",
       "      <td>3.0</td>\n",
       "      <td>130.0</td>\n",
       "      <td>250.0</td>\n",
       "      <td>0.0</td>\n",
       "      <td>0.0</td>\n",
       "      <td>187.0</td>\n",
       "      <td>0.0</td>\n",
       "      <td>3.5</td>\n",
       "      <td>3.0</td>\n",
       "      <td>0.0</td>\n",
       "      <td>3.0</td>\n",
       "      <td>0</td>\n",
       "    </tr>\n",
       "    <tr>\n",
       "      <th>4</th>\n",
       "      <td>41.0</td>\n",
       "      <td>0.0</td>\n",
       "      <td>2.0</td>\n",
       "      <td>130.0</td>\n",
       "      <td>204.0</td>\n",
       "      <td>0.0</td>\n",
       "      <td>2.0</td>\n",
       "      <td>172.0</td>\n",
       "      <td>0.0</td>\n",
       "      <td>1.4</td>\n",
       "      <td>1.0</td>\n",
       "      <td>0.0</td>\n",
       "      <td>3.0</td>\n",
       "      <td>0</td>\n",
       "    </tr>\n",
       "  </tbody>\n",
       "</table>\n",
       "</div>"
      ],
      "text/plain": [
       "     0    1    2      3      4    5    6      7    8    9    10   11   12  13\n",
       "0  63.0  1.0  1.0  145.0  233.0  1.0  2.0  150.0  0.0  2.3  3.0  0.0  6.0   0\n",
       "1  67.0  1.0  4.0  160.0  286.0  0.0  2.0  108.0  1.0  1.5  2.0  3.0  3.0   2\n",
       "2  67.0  1.0  4.0  120.0  229.0  0.0  2.0  129.0  1.0  2.6  2.0  2.0  7.0   1\n",
       "3  37.0  1.0  3.0  130.0  250.0  0.0  0.0  187.0  0.0  3.5  3.0  0.0  3.0   0\n",
       "4  41.0  0.0  2.0  130.0  204.0  0.0  2.0  172.0  0.0  1.4  1.0  0.0  3.0   0"
      ]
     },
     "execution_count": 4,
     "metadata": {},
     "output_type": "execute_result"
    }
   ],
   "source": [
    "cl_df.head()"
   ]
  },
  {
   "cell_type": "code",
   "execution_count": 5,
   "id": "5b9ae5c0",
   "metadata": {
    "execution": {
     "iopub.execute_input": "2024-06-28T08:47:31.693776Z",
     "iopub.status.busy": "2024-06-28T08:47:31.693338Z",
     "iopub.status.idle": "2024-06-28T08:47:31.717246Z",
     "shell.execute_reply": "2024-06-28T08:47:31.716170Z"
    },
    "papermill": {
     "duration": 0.043605,
     "end_time": "2024-06-28T08:47:31.720060",
     "exception": false,
     "start_time": "2024-06-28T08:47:31.676455",
     "status": "completed"
    },
    "tags": []
   },
   "outputs": [
    {
     "data": {
      "text/html": [
       "<div>\n",
       "<style scoped>\n",
       "    .dataframe tbody tr th:only-of-type {\n",
       "        vertical-align: middle;\n",
       "    }\n",
       "\n",
       "    .dataframe tbody tr th {\n",
       "        vertical-align: top;\n",
       "    }\n",
       "\n",
       "    .dataframe thead th {\n",
       "        text-align: right;\n",
       "    }\n",
       "</style>\n",
       "<table border=\"1\" class=\"dataframe\">\n",
       "  <thead>\n",
       "    <tr style=\"text-align: right;\">\n",
       "      <th></th>\n",
       "      <th>0</th>\n",
       "      <th>1</th>\n",
       "      <th>2</th>\n",
       "      <th>3</th>\n",
       "      <th>4</th>\n",
       "      <th>5</th>\n",
       "      <th>6</th>\n",
       "      <th>7</th>\n",
       "      <th>8</th>\n",
       "      <th>9</th>\n",
       "      <th>10</th>\n",
       "      <th>11</th>\n",
       "      <th>12</th>\n",
       "      <th>13</th>\n",
       "    </tr>\n",
       "  </thead>\n",
       "  <tbody>\n",
       "    <tr>\n",
       "      <th>0</th>\n",
       "      <td>32</td>\n",
       "      <td>1</td>\n",
       "      <td>1</td>\n",
       "      <td>95</td>\n",
       "      <td>0</td>\n",
       "      <td>?</td>\n",
       "      <td>0</td>\n",
       "      <td>127</td>\n",
       "      <td>0</td>\n",
       "      <td>.7</td>\n",
       "      <td>1</td>\n",
       "      <td>?</td>\n",
       "      <td>?</td>\n",
       "      <td>1</td>\n",
       "    </tr>\n",
       "    <tr>\n",
       "      <th>1</th>\n",
       "      <td>34</td>\n",
       "      <td>1</td>\n",
       "      <td>4</td>\n",
       "      <td>115</td>\n",
       "      <td>0</td>\n",
       "      <td>?</td>\n",
       "      <td>?</td>\n",
       "      <td>154</td>\n",
       "      <td>0</td>\n",
       "      <td>.2</td>\n",
       "      <td>1</td>\n",
       "      <td>?</td>\n",
       "      <td>?</td>\n",
       "      <td>1</td>\n",
       "    </tr>\n",
       "    <tr>\n",
       "      <th>2</th>\n",
       "      <td>35</td>\n",
       "      <td>1</td>\n",
       "      <td>4</td>\n",
       "      <td>?</td>\n",
       "      <td>0</td>\n",
       "      <td>?</td>\n",
       "      <td>0</td>\n",
       "      <td>130</td>\n",
       "      <td>1</td>\n",
       "      <td>?</td>\n",
       "      <td>?</td>\n",
       "      <td>?</td>\n",
       "      <td>7</td>\n",
       "      <td>3</td>\n",
       "    </tr>\n",
       "    <tr>\n",
       "      <th>3</th>\n",
       "      <td>36</td>\n",
       "      <td>1</td>\n",
       "      <td>4</td>\n",
       "      <td>110</td>\n",
       "      <td>0</td>\n",
       "      <td>?</td>\n",
       "      <td>0</td>\n",
       "      <td>125</td>\n",
       "      <td>1</td>\n",
       "      <td>1</td>\n",
       "      <td>2</td>\n",
       "      <td>?</td>\n",
       "      <td>6</td>\n",
       "      <td>1</td>\n",
       "    </tr>\n",
       "    <tr>\n",
       "      <th>4</th>\n",
       "      <td>38</td>\n",
       "      <td>0</td>\n",
       "      <td>4</td>\n",
       "      <td>105</td>\n",
       "      <td>0</td>\n",
       "      <td>?</td>\n",
       "      <td>0</td>\n",
       "      <td>166</td>\n",
       "      <td>0</td>\n",
       "      <td>2.8</td>\n",
       "      <td>1</td>\n",
       "      <td>?</td>\n",
       "      <td>?</td>\n",
       "      <td>2</td>\n",
       "    </tr>\n",
       "  </tbody>\n",
       "</table>\n",
       "</div>"
      ],
      "text/plain": [
       "   0   1   2    3   4  5  6    7  8    9  10 11 12  13\n",
       "0  32   1   1   95   0  ?  0  127  0   .7  1  ?  ?   1\n",
       "1  34   1   4  115   0  ?  ?  154  0   .2  1  ?  ?   1\n",
       "2  35   1   4    ?   0  ?  0  130  1    ?  ?  ?  7   3\n",
       "3  36   1   4  110   0  ?  0  125  1    1  2  ?  6   1\n",
       "4  38   0   4  105   0  ?  0  166  0  2.8  1  ?  ?   2"
      ]
     },
     "execution_count": 5,
     "metadata": {},
     "output_type": "execute_result"
    }
   ],
   "source": [
    "sw_df = pd.read_csv('/kaggle/input/heart-disease-data-uci/processed.switzerland.data',header = None)\n",
    "sw_df.head()"
   ]
  },
  {
   "cell_type": "code",
   "execution_count": 6,
   "id": "77c79297",
   "metadata": {
    "execution": {
     "iopub.execute_input": "2024-06-28T08:47:31.753095Z",
     "iopub.status.busy": "2024-06-28T08:47:31.752609Z",
     "iopub.status.idle": "2024-06-28T08:47:31.784817Z",
     "shell.execute_reply": "2024-06-28T08:47:31.783593Z"
    },
    "papermill": {
     "duration": 0.052884,
     "end_time": "2024-06-28T08:47:31.787620",
     "exception": false,
     "start_time": "2024-06-28T08:47:31.734736",
     "status": "completed"
    },
    "tags": []
   },
   "outputs": [
    {
     "data": {
      "text/html": [
       "<div>\n",
       "<style scoped>\n",
       "    .dataframe tbody tr th:only-of-type {\n",
       "        vertical-align: middle;\n",
       "    }\n",
       "\n",
       "    .dataframe tbody tr th {\n",
       "        vertical-align: top;\n",
       "    }\n",
       "\n",
       "    .dataframe thead th {\n",
       "        text-align: right;\n",
       "    }\n",
       "</style>\n",
       "<table border=\"1\" class=\"dataframe\">\n",
       "  <thead>\n",
       "    <tr style=\"text-align: right;\">\n",
       "      <th></th>\n",
       "      <th>0</th>\n",
       "      <th>1</th>\n",
       "      <th>2</th>\n",
       "      <th>3</th>\n",
       "      <th>4</th>\n",
       "      <th>5</th>\n",
       "      <th>6</th>\n",
       "      <th>7</th>\n",
       "      <th>8</th>\n",
       "      <th>9</th>\n",
       "      <th>10</th>\n",
       "      <th>11</th>\n",
       "      <th>12</th>\n",
       "      <th>13</th>\n",
       "    </tr>\n",
       "  </thead>\n",
       "  <tbody>\n",
       "    <tr>\n",
       "      <th>0</th>\n",
       "      <td>28</td>\n",
       "      <td>1</td>\n",
       "      <td>2</td>\n",
       "      <td>130</td>\n",
       "      <td>132</td>\n",
       "      <td>0</td>\n",
       "      <td>2</td>\n",
       "      <td>185</td>\n",
       "      <td>0</td>\n",
       "      <td>0.0</td>\n",
       "      <td>?</td>\n",
       "      <td>?</td>\n",
       "      <td>?</td>\n",
       "      <td>0</td>\n",
       "    </tr>\n",
       "    <tr>\n",
       "      <th>1</th>\n",
       "      <td>29</td>\n",
       "      <td>1</td>\n",
       "      <td>2</td>\n",
       "      <td>120</td>\n",
       "      <td>243</td>\n",
       "      <td>0</td>\n",
       "      <td>0</td>\n",
       "      <td>160</td>\n",
       "      <td>0</td>\n",
       "      <td>0.0</td>\n",
       "      <td>?</td>\n",
       "      <td>?</td>\n",
       "      <td>?</td>\n",
       "      <td>0</td>\n",
       "    </tr>\n",
       "    <tr>\n",
       "      <th>2</th>\n",
       "      <td>29</td>\n",
       "      <td>1</td>\n",
       "      <td>2</td>\n",
       "      <td>140</td>\n",
       "      <td>?</td>\n",
       "      <td>0</td>\n",
       "      <td>0</td>\n",
       "      <td>170</td>\n",
       "      <td>0</td>\n",
       "      <td>0.0</td>\n",
       "      <td>?</td>\n",
       "      <td>?</td>\n",
       "      <td>?</td>\n",
       "      <td>0</td>\n",
       "    </tr>\n",
       "    <tr>\n",
       "      <th>3</th>\n",
       "      <td>30</td>\n",
       "      <td>0</td>\n",
       "      <td>1</td>\n",
       "      <td>170</td>\n",
       "      <td>237</td>\n",
       "      <td>0</td>\n",
       "      <td>1</td>\n",
       "      <td>170</td>\n",
       "      <td>0</td>\n",
       "      <td>0.0</td>\n",
       "      <td>?</td>\n",
       "      <td>?</td>\n",
       "      <td>6</td>\n",
       "      <td>0</td>\n",
       "    </tr>\n",
       "    <tr>\n",
       "      <th>4</th>\n",
       "      <td>31</td>\n",
       "      <td>0</td>\n",
       "      <td>2</td>\n",
       "      <td>100</td>\n",
       "      <td>219</td>\n",
       "      <td>0</td>\n",
       "      <td>1</td>\n",
       "      <td>150</td>\n",
       "      <td>0</td>\n",
       "      <td>0.0</td>\n",
       "      <td>?</td>\n",
       "      <td>?</td>\n",
       "      <td>?</td>\n",
       "      <td>0</td>\n",
       "    </tr>\n",
       "  </tbody>\n",
       "</table>\n",
       "</div>"
      ],
      "text/plain": [
       "   0   1   2    3    4  5  6    7  8    9  10 11 12  13\n",
       "0  28   1   2  130  132  0  2  185  0  0.0  ?  ?  ?   0\n",
       "1  29   1   2  120  243  0  0  160  0  0.0  ?  ?  ?   0\n",
       "2  29   1   2  140    ?  0  0  170  0  0.0  ?  ?  ?   0\n",
       "3  30   0   1  170  237  0  1  170  0  0.0  ?  ?  6   0\n",
       "4  31   0   2  100  219  0  1  150  0  0.0  ?  ?  ?   0"
      ]
     },
     "execution_count": 6,
     "metadata": {},
     "output_type": "execute_result"
    }
   ],
   "source": [
    "hu_df = pd.read_csv('/kaggle/input/heart-disease-data-uci/processed.hungarian.data',header = None)\n",
    "hu_df.head()"
   ]
  },
  {
   "cell_type": "code",
   "execution_count": 7,
   "id": "4c79006f",
   "metadata": {
    "execution": {
     "iopub.execute_input": "2024-06-28T08:47:31.822871Z",
     "iopub.status.busy": "2024-06-28T08:47:31.822390Z",
     "iopub.status.idle": "2024-06-28T08:47:31.851114Z",
     "shell.execute_reply": "2024-06-28T08:47:31.849708Z"
    },
    "papermill": {
     "duration": 0.048871,
     "end_time": "2024-06-28T08:47:31.854015",
     "exception": false,
     "start_time": "2024-06-28T08:47:31.805144",
     "status": "completed"
    },
    "tags": []
   },
   "outputs": [
    {
     "data": {
      "text/html": [
       "<div>\n",
       "<style scoped>\n",
       "    .dataframe tbody tr th:only-of-type {\n",
       "        vertical-align: middle;\n",
       "    }\n",
       "\n",
       "    .dataframe tbody tr th {\n",
       "        vertical-align: top;\n",
       "    }\n",
       "\n",
       "    .dataframe thead th {\n",
       "        text-align: right;\n",
       "    }\n",
       "</style>\n",
       "<table border=\"1\" class=\"dataframe\">\n",
       "  <thead>\n",
       "    <tr style=\"text-align: right;\">\n",
       "      <th></th>\n",
       "      <th>0</th>\n",
       "      <th>1</th>\n",
       "      <th>2</th>\n",
       "      <th>3</th>\n",
       "      <th>4</th>\n",
       "      <th>5</th>\n",
       "      <th>6</th>\n",
       "      <th>7</th>\n",
       "      <th>8</th>\n",
       "      <th>9</th>\n",
       "      <th>10</th>\n",
       "      <th>11</th>\n",
       "      <th>12</th>\n",
       "      <th>13</th>\n",
       "    </tr>\n",
       "  </thead>\n",
       "  <tbody>\n",
       "    <tr>\n",
       "      <th>0</th>\n",
       "      <td>63</td>\n",
       "      <td>1</td>\n",
       "      <td>4</td>\n",
       "      <td>140</td>\n",
       "      <td>260</td>\n",
       "      <td>0</td>\n",
       "      <td>1</td>\n",
       "      <td>112</td>\n",
       "      <td>1</td>\n",
       "      <td>3</td>\n",
       "      <td>2</td>\n",
       "      <td>?</td>\n",
       "      <td>?</td>\n",
       "      <td>2</td>\n",
       "    </tr>\n",
       "    <tr>\n",
       "      <th>1</th>\n",
       "      <td>44</td>\n",
       "      <td>1</td>\n",
       "      <td>4</td>\n",
       "      <td>130</td>\n",
       "      <td>209</td>\n",
       "      <td>0</td>\n",
       "      <td>1</td>\n",
       "      <td>127</td>\n",
       "      <td>0</td>\n",
       "      <td>0</td>\n",
       "      <td>?</td>\n",
       "      <td>?</td>\n",
       "      <td>?</td>\n",
       "      <td>0</td>\n",
       "    </tr>\n",
       "    <tr>\n",
       "      <th>2</th>\n",
       "      <td>60</td>\n",
       "      <td>1</td>\n",
       "      <td>4</td>\n",
       "      <td>132</td>\n",
       "      <td>218</td>\n",
       "      <td>0</td>\n",
       "      <td>1</td>\n",
       "      <td>140</td>\n",
       "      <td>1</td>\n",
       "      <td>1.5</td>\n",
       "      <td>3</td>\n",
       "      <td>?</td>\n",
       "      <td>?</td>\n",
       "      <td>2</td>\n",
       "    </tr>\n",
       "    <tr>\n",
       "      <th>3</th>\n",
       "      <td>55</td>\n",
       "      <td>1</td>\n",
       "      <td>4</td>\n",
       "      <td>142</td>\n",
       "      <td>228</td>\n",
       "      <td>0</td>\n",
       "      <td>1</td>\n",
       "      <td>149</td>\n",
       "      <td>1</td>\n",
       "      <td>2.5</td>\n",
       "      <td>1</td>\n",
       "      <td>?</td>\n",
       "      <td>?</td>\n",
       "      <td>1</td>\n",
       "    </tr>\n",
       "    <tr>\n",
       "      <th>4</th>\n",
       "      <td>66</td>\n",
       "      <td>1</td>\n",
       "      <td>3</td>\n",
       "      <td>110</td>\n",
       "      <td>213</td>\n",
       "      <td>1</td>\n",
       "      <td>2</td>\n",
       "      <td>99</td>\n",
       "      <td>1</td>\n",
       "      <td>1.3</td>\n",
       "      <td>2</td>\n",
       "      <td>?</td>\n",
       "      <td>?</td>\n",
       "      <td>0</td>\n",
       "    </tr>\n",
       "  </tbody>\n",
       "</table>\n",
       "</div>"
      ],
      "text/plain": [
       "   0   1   2    3    4  5   6    7  8    9  10 11 12  13\n",
       "0  63   1   4  140  260  0   1  112  1    3  2  ?  ?   2\n",
       "1  44   1   4  130  209  0   1  127  0    0  ?  ?  ?   0\n",
       "2  60   1   4  132  218  0   1  140  1  1.5  3  ?  ?   2\n",
       "3  55   1   4  142  228  0   1  149  1  2.5  1  ?  ?   1\n",
       "4  66   1   3  110  213  1   2   99  1  1.3  2  ?  ?   0"
      ]
     },
     "execution_count": 7,
     "metadata": {},
     "output_type": "execute_result"
    }
   ],
   "source": [
    "va_df = pd.read_csv('/kaggle/input/heart-disease-data-uci/processed.va.data',header = None)\n",
    "va_df.head()"
   ]
  },
  {
   "cell_type": "code",
   "execution_count": 8,
   "id": "3bf71848",
   "metadata": {
    "execution": {
     "iopub.execute_input": "2024-06-28T08:47:31.888498Z",
     "iopub.status.busy": "2024-06-28T08:47:31.887669Z",
     "iopub.status.idle": "2024-06-28T08:47:31.897852Z",
     "shell.execute_reply": "2024-06-28T08:47:31.896456Z"
    },
    "papermill": {
     "duration": 0.030402,
     "end_time": "2024-06-28T08:47:31.900300",
     "exception": false,
     "start_time": "2024-06-28T08:47:31.869898",
     "status": "completed"
    },
    "tags": []
   },
   "outputs": [],
   "source": [
    "df = pd.concat([cl_df,sw_df,hu_df,va_df],axis = 0,ignore_index = True)"
   ]
  },
  {
   "cell_type": "code",
   "execution_count": 9,
   "id": "cb0bd0d7",
   "metadata": {
    "execution": {
     "iopub.execute_input": "2024-06-28T08:47:31.934646Z",
     "iopub.status.busy": "2024-06-28T08:47:31.934197Z",
     "iopub.status.idle": "2024-06-28T08:47:31.953776Z",
     "shell.execute_reply": "2024-06-28T08:47:31.952609Z"
    },
    "papermill": {
     "duration": 0.039007,
     "end_time": "2024-06-28T08:47:31.956114",
     "exception": false,
     "start_time": "2024-06-28T08:47:31.917107",
     "status": "completed"
    },
    "tags": []
   },
   "outputs": [
    {
     "data": {
      "text/html": [
       "<div>\n",
       "<style scoped>\n",
       "    .dataframe tbody tr th:only-of-type {\n",
       "        vertical-align: middle;\n",
       "    }\n",
       "\n",
       "    .dataframe tbody tr th {\n",
       "        vertical-align: top;\n",
       "    }\n",
       "\n",
       "    .dataframe thead th {\n",
       "        text-align: right;\n",
       "    }\n",
       "</style>\n",
       "<table border=\"1\" class=\"dataframe\">\n",
       "  <thead>\n",
       "    <tr style=\"text-align: right;\">\n",
       "      <th></th>\n",
       "      <th>0</th>\n",
       "      <th>1</th>\n",
       "      <th>2</th>\n",
       "      <th>3</th>\n",
       "      <th>4</th>\n",
       "      <th>5</th>\n",
       "      <th>6</th>\n",
       "      <th>7</th>\n",
       "      <th>8</th>\n",
       "      <th>9</th>\n",
       "      <th>10</th>\n",
       "      <th>11</th>\n",
       "      <th>12</th>\n",
       "      <th>13</th>\n",
       "    </tr>\n",
       "  </thead>\n",
       "  <tbody>\n",
       "    <tr>\n",
       "      <th>0</th>\n",
       "      <td>63.0</td>\n",
       "      <td>1.0</td>\n",
       "      <td>1.0</td>\n",
       "      <td>145.0</td>\n",
       "      <td>233.0</td>\n",
       "      <td>1.0</td>\n",
       "      <td>2.0</td>\n",
       "      <td>150.0</td>\n",
       "      <td>0.0</td>\n",
       "      <td>2.3</td>\n",
       "      <td>3.0</td>\n",
       "      <td>0.0</td>\n",
       "      <td>6.0</td>\n",
       "      <td>0</td>\n",
       "    </tr>\n",
       "    <tr>\n",
       "      <th>1</th>\n",
       "      <td>67.0</td>\n",
       "      <td>1.0</td>\n",
       "      <td>4.0</td>\n",
       "      <td>160.0</td>\n",
       "      <td>286.0</td>\n",
       "      <td>0.0</td>\n",
       "      <td>2.0</td>\n",
       "      <td>108.0</td>\n",
       "      <td>1.0</td>\n",
       "      <td>1.5</td>\n",
       "      <td>2.0</td>\n",
       "      <td>3.0</td>\n",
       "      <td>3.0</td>\n",
       "      <td>2</td>\n",
       "    </tr>\n",
       "    <tr>\n",
       "      <th>2</th>\n",
       "      <td>67.0</td>\n",
       "      <td>1.0</td>\n",
       "      <td>4.0</td>\n",
       "      <td>120.0</td>\n",
       "      <td>229.0</td>\n",
       "      <td>0.0</td>\n",
       "      <td>2.0</td>\n",
       "      <td>129.0</td>\n",
       "      <td>1.0</td>\n",
       "      <td>2.6</td>\n",
       "      <td>2.0</td>\n",
       "      <td>2.0</td>\n",
       "      <td>7.0</td>\n",
       "      <td>1</td>\n",
       "    </tr>\n",
       "    <tr>\n",
       "      <th>3</th>\n",
       "      <td>37.0</td>\n",
       "      <td>1.0</td>\n",
       "      <td>3.0</td>\n",
       "      <td>130.0</td>\n",
       "      <td>250.0</td>\n",
       "      <td>0.0</td>\n",
       "      <td>0.0</td>\n",
       "      <td>187.0</td>\n",
       "      <td>0.0</td>\n",
       "      <td>3.5</td>\n",
       "      <td>3.0</td>\n",
       "      <td>0.0</td>\n",
       "      <td>3.0</td>\n",
       "      <td>0</td>\n",
       "    </tr>\n",
       "    <tr>\n",
       "      <th>4</th>\n",
       "      <td>41.0</td>\n",
       "      <td>0.0</td>\n",
       "      <td>2.0</td>\n",
       "      <td>130.0</td>\n",
       "      <td>204.0</td>\n",
       "      <td>0.0</td>\n",
       "      <td>2.0</td>\n",
       "      <td>172.0</td>\n",
       "      <td>0.0</td>\n",
       "      <td>1.4</td>\n",
       "      <td>1.0</td>\n",
       "      <td>0.0</td>\n",
       "      <td>3.0</td>\n",
       "      <td>0</td>\n",
       "    </tr>\n",
       "  </tbody>\n",
       "</table>\n",
       "</div>"
      ],
      "text/plain": [
       "     0    1    2      3      4    5    6      7    8    9    10   11   12  13\n",
       "0  63.0  1.0  1.0  145.0  233.0  1.0  2.0  150.0  0.0  2.3  3.0  0.0  6.0   0\n",
       "1  67.0  1.0  4.0  160.0  286.0  0.0  2.0  108.0  1.0  1.5  2.0  3.0  3.0   2\n",
       "2  67.0  1.0  4.0  120.0  229.0  0.0  2.0  129.0  1.0  2.6  2.0  2.0  7.0   1\n",
       "3  37.0  1.0  3.0  130.0  250.0  0.0  0.0  187.0  0.0  3.5  3.0  0.0  3.0   0\n",
       "4  41.0  0.0  2.0  130.0  204.0  0.0  2.0  172.0  0.0  1.4  1.0  0.0  3.0   0"
      ]
     },
     "execution_count": 9,
     "metadata": {},
     "output_type": "execute_result"
    }
   ],
   "source": [
    "df.head()"
   ]
  },
  {
   "cell_type": "code",
   "execution_count": 10,
   "id": "e17d330e",
   "metadata": {
    "execution": {
     "iopub.execute_input": "2024-06-28T08:47:31.989595Z",
     "iopub.status.busy": "2024-06-28T08:47:31.989131Z",
     "iopub.status.idle": "2024-06-28T08:47:32.015556Z",
     "shell.execute_reply": "2024-06-28T08:47:32.014176Z"
    },
    "papermill": {
     "duration": 0.047399,
     "end_time": "2024-06-28T08:47:32.018647",
     "exception": false,
     "start_time": "2024-06-28T08:47:31.971248",
     "status": "completed"
    },
    "tags": []
   },
   "outputs": [
    {
     "name": "stdout",
     "output_type": "stream",
     "text": [
      "<class 'pandas.core.frame.DataFrame'>\n",
      "RangeIndex: 920 entries, 0 to 919\n",
      "Data columns (total 14 columns):\n",
      " #   Column  Non-Null Count  Dtype  \n",
      "---  ------  --------------  -----  \n",
      " 0   0       920 non-null    float64\n",
      " 1   1       920 non-null    float64\n",
      " 2   2       920 non-null    float64\n",
      " 3   3       920 non-null    object \n",
      " 4   4       920 non-null    object \n",
      " 5   5       920 non-null    object \n",
      " 6   6       920 non-null    object \n",
      " 7   7       920 non-null    object \n",
      " 8   8       920 non-null    object \n",
      " 9   9       920 non-null    object \n",
      " 10  10      920 non-null    object \n",
      " 11  11      920 non-null    object \n",
      " 12  12      920 non-null    object \n",
      " 13  13      920 non-null    int64  \n",
      "dtypes: float64(3), int64(1), object(10)\n",
      "memory usage: 100.8+ KB\n"
     ]
    }
   ],
   "source": [
    "df.info()"
   ]
  },
  {
   "cell_type": "code",
   "execution_count": 11,
   "id": "65b6e45e",
   "metadata": {
    "execution": {
     "iopub.execute_input": "2024-06-28T08:47:32.054014Z",
     "iopub.status.busy": "2024-06-28T08:47:32.053533Z",
     "iopub.status.idle": "2024-06-28T08:47:32.065175Z",
     "shell.execute_reply": "2024-06-28T08:47:32.063956Z"
    },
    "papermill": {
     "duration": 0.032294,
     "end_time": "2024-06-28T08:47:32.067708",
     "exception": false,
     "start_time": "2024-06-28T08:47:32.035414",
     "status": "completed"
    },
    "tags": []
   },
   "outputs": [
    {
     "data": {
      "text/plain": [
       "0     0\n",
       "1     0\n",
       "2     0\n",
       "3     0\n",
       "4     0\n",
       "5     0\n",
       "6     0\n",
       "7     0\n",
       "8     0\n",
       "9     0\n",
       "10    0\n",
       "11    0\n",
       "12    0\n",
       "13    0\n",
       "dtype: int64"
      ]
     },
     "execution_count": 11,
     "metadata": {},
     "output_type": "execute_result"
    }
   ],
   "source": [
    "df.isnull().sum()"
   ]
  },
  {
   "cell_type": "code",
   "execution_count": 12,
   "id": "331df6b0",
   "metadata": {
    "execution": {
     "iopub.execute_input": "2024-06-28T08:47:32.104301Z",
     "iopub.status.busy": "2024-06-28T08:47:32.103776Z",
     "iopub.status.idle": "2024-06-28T08:47:32.111088Z",
     "shell.execute_reply": "2024-06-28T08:47:32.109693Z"
    },
    "papermill": {
     "duration": 0.029265,
     "end_time": "2024-06-28T08:47:32.113965",
     "exception": false,
     "start_time": "2024-06-28T08:47:32.084700",
     "status": "completed"
    },
    "tags": []
   },
   "outputs": [],
   "source": [
    "df.columns = ['age','sex','cp','restbp','chol','fbs','restecg','thalach','exang','oldpeak','slope','ca','thal','hd']"
   ]
  },
  {
   "cell_type": "code",
   "execution_count": 13,
   "id": "cbe0d863",
   "metadata": {
    "execution": {
     "iopub.execute_input": "2024-06-28T08:47:32.151238Z",
     "iopub.status.busy": "2024-06-28T08:47:32.150005Z",
     "iopub.status.idle": "2024-06-28T08:47:32.171544Z",
     "shell.execute_reply": "2024-06-28T08:47:32.170299Z"
    },
    "papermill": {
     "duration": 0.043135,
     "end_time": "2024-06-28T08:47:32.174257",
     "exception": false,
     "start_time": "2024-06-28T08:47:32.131122",
     "status": "completed"
    },
    "tags": []
   },
   "outputs": [
    {
     "data": {
      "text/html": [
       "<div>\n",
       "<style scoped>\n",
       "    .dataframe tbody tr th:only-of-type {\n",
       "        vertical-align: middle;\n",
       "    }\n",
       "\n",
       "    .dataframe tbody tr th {\n",
       "        vertical-align: top;\n",
       "    }\n",
       "\n",
       "    .dataframe thead th {\n",
       "        text-align: right;\n",
       "    }\n",
       "</style>\n",
       "<table border=\"1\" class=\"dataframe\">\n",
       "  <thead>\n",
       "    <tr style=\"text-align: right;\">\n",
       "      <th></th>\n",
       "      <th>age</th>\n",
       "      <th>sex</th>\n",
       "      <th>cp</th>\n",
       "      <th>restbp</th>\n",
       "      <th>chol</th>\n",
       "      <th>fbs</th>\n",
       "      <th>restecg</th>\n",
       "      <th>thalach</th>\n",
       "      <th>exang</th>\n",
       "      <th>oldpeak</th>\n",
       "      <th>slope</th>\n",
       "      <th>ca</th>\n",
       "      <th>thal</th>\n",
       "      <th>hd</th>\n",
       "    </tr>\n",
       "  </thead>\n",
       "  <tbody>\n",
       "    <tr>\n",
       "      <th>0</th>\n",
       "      <td>63.0</td>\n",
       "      <td>1.0</td>\n",
       "      <td>1.0</td>\n",
       "      <td>145.0</td>\n",
       "      <td>233.0</td>\n",
       "      <td>1.0</td>\n",
       "      <td>2.0</td>\n",
       "      <td>150.0</td>\n",
       "      <td>0.0</td>\n",
       "      <td>2.3</td>\n",
       "      <td>3.0</td>\n",
       "      <td>0.0</td>\n",
       "      <td>6.0</td>\n",
       "      <td>0</td>\n",
       "    </tr>\n",
       "    <tr>\n",
       "      <th>1</th>\n",
       "      <td>67.0</td>\n",
       "      <td>1.0</td>\n",
       "      <td>4.0</td>\n",
       "      <td>160.0</td>\n",
       "      <td>286.0</td>\n",
       "      <td>0.0</td>\n",
       "      <td>2.0</td>\n",
       "      <td>108.0</td>\n",
       "      <td>1.0</td>\n",
       "      <td>1.5</td>\n",
       "      <td>2.0</td>\n",
       "      <td>3.0</td>\n",
       "      <td>3.0</td>\n",
       "      <td>2</td>\n",
       "    </tr>\n",
       "    <tr>\n",
       "      <th>2</th>\n",
       "      <td>67.0</td>\n",
       "      <td>1.0</td>\n",
       "      <td>4.0</td>\n",
       "      <td>120.0</td>\n",
       "      <td>229.0</td>\n",
       "      <td>0.0</td>\n",
       "      <td>2.0</td>\n",
       "      <td>129.0</td>\n",
       "      <td>1.0</td>\n",
       "      <td>2.6</td>\n",
       "      <td>2.0</td>\n",
       "      <td>2.0</td>\n",
       "      <td>7.0</td>\n",
       "      <td>1</td>\n",
       "    </tr>\n",
       "    <tr>\n",
       "      <th>3</th>\n",
       "      <td>37.0</td>\n",
       "      <td>1.0</td>\n",
       "      <td>3.0</td>\n",
       "      <td>130.0</td>\n",
       "      <td>250.0</td>\n",
       "      <td>0.0</td>\n",
       "      <td>0.0</td>\n",
       "      <td>187.0</td>\n",
       "      <td>0.0</td>\n",
       "      <td>3.5</td>\n",
       "      <td>3.0</td>\n",
       "      <td>0.0</td>\n",
       "      <td>3.0</td>\n",
       "      <td>0</td>\n",
       "    </tr>\n",
       "    <tr>\n",
       "      <th>4</th>\n",
       "      <td>41.0</td>\n",
       "      <td>0.0</td>\n",
       "      <td>2.0</td>\n",
       "      <td>130.0</td>\n",
       "      <td>204.0</td>\n",
       "      <td>0.0</td>\n",
       "      <td>2.0</td>\n",
       "      <td>172.0</td>\n",
       "      <td>0.0</td>\n",
       "      <td>1.4</td>\n",
       "      <td>1.0</td>\n",
       "      <td>0.0</td>\n",
       "      <td>3.0</td>\n",
       "      <td>0</td>\n",
       "    </tr>\n",
       "  </tbody>\n",
       "</table>\n",
       "</div>"
      ],
      "text/plain": [
       "    age  sex   cp restbp   chol  fbs restecg thalach exang oldpeak slope   ca  \\\n",
       "0  63.0  1.0  1.0  145.0  233.0  1.0     2.0   150.0   0.0     2.3   3.0  0.0   \n",
       "1  67.0  1.0  4.0  160.0  286.0  0.0     2.0   108.0   1.0     1.5   2.0  3.0   \n",
       "2  67.0  1.0  4.0  120.0  229.0  0.0     2.0   129.0   1.0     2.6   2.0  2.0   \n",
       "3  37.0  1.0  3.0  130.0  250.0  0.0     0.0   187.0   0.0     3.5   3.0  0.0   \n",
       "4  41.0  0.0  2.0  130.0  204.0  0.0     2.0   172.0   0.0     1.4   1.0  0.0   \n",
       "\n",
       "  thal  hd  \n",
       "0  6.0   0  \n",
       "1  3.0   2  \n",
       "2  7.0   1  \n",
       "3  3.0   0  \n",
       "4  3.0   0  "
      ]
     },
     "execution_count": 13,
     "metadata": {},
     "output_type": "execute_result"
    }
   ],
   "source": [
    "df.head()"
   ]
  },
  {
   "cell_type": "code",
   "execution_count": 14,
   "id": "b188d6c2",
   "metadata": {
    "execution": {
     "iopub.execute_input": "2024-06-28T08:47:32.210487Z",
     "iopub.status.busy": "2024-06-28T08:47:32.210023Z",
     "iopub.status.idle": "2024-06-28T08:47:32.225808Z",
     "shell.execute_reply": "2024-06-28T08:47:32.224340Z"
    },
    "papermill": {
     "duration": 0.037457,
     "end_time": "2024-06-28T08:47:32.228304",
     "exception": false,
     "start_time": "2024-06-28T08:47:32.190847",
     "status": "completed"
    },
    "tags": []
   },
   "outputs": [
    {
     "name": "stdout",
     "output_type": "stream",
     "text": [
      "<class 'pandas.core.frame.DataFrame'>\n",
      "RangeIndex: 920 entries, 0 to 919\n",
      "Data columns (total 14 columns):\n",
      " #   Column   Non-Null Count  Dtype  \n",
      "---  ------   --------------  -----  \n",
      " 0   age      920 non-null    float64\n",
      " 1   sex      920 non-null    float64\n",
      " 2   cp       920 non-null    float64\n",
      " 3   restbp   920 non-null    object \n",
      " 4   chol     920 non-null    object \n",
      " 5   fbs      920 non-null    object \n",
      " 6   restecg  920 non-null    object \n",
      " 7   thalach  920 non-null    object \n",
      " 8   exang    920 non-null    object \n",
      " 9   oldpeak  920 non-null    object \n",
      " 10  slope    920 non-null    object \n",
      " 11  ca       920 non-null    object \n",
      " 12  thal     920 non-null    object \n",
      " 13  hd       920 non-null    int64  \n",
      "dtypes: float64(3), int64(1), object(10)\n",
      "memory usage: 100.8+ KB\n"
     ]
    }
   ],
   "source": [
    "df.info()"
   ]
  },
  {
   "cell_type": "code",
   "execution_count": 15,
   "id": "b64f7eab",
   "metadata": {
    "execution": {
     "iopub.execute_input": "2024-06-28T08:47:32.264796Z",
     "iopub.status.busy": "2024-06-28T08:47:32.264348Z",
     "iopub.status.idle": "2024-06-28T08:47:32.271787Z",
     "shell.execute_reply": "2024-06-28T08:47:32.270581Z"
    },
    "papermill": {
     "duration": 0.028942,
     "end_time": "2024-06-28T08:47:32.274320",
     "exception": false,
     "start_time": "2024-06-28T08:47:32.245378",
     "status": "completed"
    },
    "tags": []
   },
   "outputs": [],
   "source": [
    "df['restbp'] = df['restbp'].replace('?',np.nan)"
   ]
  },
  {
   "cell_type": "code",
   "execution_count": 16,
   "id": "f788d171",
   "metadata": {
    "execution": {
     "iopub.execute_input": "2024-06-28T08:47:32.310697Z",
     "iopub.status.busy": "2024-06-28T08:47:32.310220Z",
     "iopub.status.idle": "2024-06-28T08:47:32.317461Z",
     "shell.execute_reply": "2024-06-28T08:47:32.316120Z"
    },
    "papermill": {
     "duration": 0.028679,
     "end_time": "2024-06-28T08:47:32.320136",
     "exception": false,
     "start_time": "2024-06-28T08:47:32.291457",
     "status": "completed"
    },
    "tags": []
   },
   "outputs": [],
   "source": [
    "df['chol'] = df['chol'].replace('?',np.nan)"
   ]
  },
  {
   "cell_type": "code",
   "execution_count": 17,
   "id": "e24ea62e",
   "metadata": {
    "execution": {
     "iopub.execute_input": "2024-06-28T08:47:32.356838Z",
     "iopub.status.busy": "2024-06-28T08:47:32.356388Z",
     "iopub.status.idle": "2024-06-28T08:47:32.363438Z",
     "shell.execute_reply": "2024-06-28T08:47:32.361647Z"
    },
    "papermill": {
     "duration": 0.02952,
     "end_time": "2024-06-28T08:47:32.366099",
     "exception": false,
     "start_time": "2024-06-28T08:47:32.336579",
     "status": "completed"
    },
    "tags": []
   },
   "outputs": [],
   "source": [
    "df['fbs'] = df['fbs'].replace('?',np.nan)"
   ]
  },
  {
   "cell_type": "code",
   "execution_count": 18,
   "id": "3387654d",
   "metadata": {
    "execution": {
     "iopub.execute_input": "2024-06-28T08:47:32.402833Z",
     "iopub.status.busy": "2024-06-28T08:47:32.401711Z",
     "iopub.status.idle": "2024-06-28T08:47:32.409261Z",
     "shell.execute_reply": "2024-06-28T08:47:32.407774Z"
    },
    "papermill": {
     "duration": 0.029709,
     "end_time": "2024-06-28T08:47:32.412124",
     "exception": false,
     "start_time": "2024-06-28T08:47:32.382415",
     "status": "completed"
    },
    "tags": []
   },
   "outputs": [],
   "source": [
    "df['restecg'] = df['restecg'].replace('?',np.nan)"
   ]
  },
  {
   "cell_type": "code",
   "execution_count": 19,
   "id": "22e69f6c",
   "metadata": {
    "execution": {
     "iopub.execute_input": "2024-06-28T08:47:32.449002Z",
     "iopub.status.busy": "2024-06-28T08:47:32.448249Z",
     "iopub.status.idle": "2024-06-28T08:47:32.457271Z",
     "shell.execute_reply": "2024-06-28T08:47:32.455839Z"
    },
    "papermill": {
     "duration": 0.031044,
     "end_time": "2024-06-28T08:47:32.459978",
     "exception": false,
     "start_time": "2024-06-28T08:47:32.428934",
     "status": "completed"
    },
    "tags": []
   },
   "outputs": [],
   "source": [
    "df['thalach'] = df['thalach'].replace('?',np.nan)"
   ]
  },
  {
   "cell_type": "code",
   "execution_count": 20,
   "id": "9643b555",
   "metadata": {
    "execution": {
     "iopub.execute_input": "2024-06-28T08:47:32.499441Z",
     "iopub.status.busy": "2024-06-28T08:47:32.499007Z",
     "iopub.status.idle": "2024-06-28T08:47:32.505786Z",
     "shell.execute_reply": "2024-06-28T08:47:32.504586Z"
    },
    "papermill": {
     "duration": 0.031032,
     "end_time": "2024-06-28T08:47:32.508802",
     "exception": false,
     "start_time": "2024-06-28T08:47:32.477770",
     "status": "completed"
    },
    "tags": []
   },
   "outputs": [],
   "source": [
    "df['exang'] = df['exang'].replace('?',np.nan)"
   ]
  },
  {
   "cell_type": "code",
   "execution_count": 21,
   "id": "a694134b",
   "metadata": {
    "execution": {
     "iopub.execute_input": "2024-06-28T08:47:32.545279Z",
     "iopub.status.busy": "2024-06-28T08:47:32.544800Z",
     "iopub.status.idle": "2024-06-28T08:47:32.553288Z",
     "shell.execute_reply": "2024-06-28T08:47:32.551698Z"
    },
    "papermill": {
     "duration": 0.029848,
     "end_time": "2024-06-28T08:47:32.555966",
     "exception": false,
     "start_time": "2024-06-28T08:47:32.526118",
     "status": "completed"
    },
    "tags": []
   },
   "outputs": [],
   "source": [
    "df['oldpeak'] = df['oldpeak'].replace('?',np.nan)"
   ]
  },
  {
   "cell_type": "code",
   "execution_count": 22,
   "id": "55f7d9e9",
   "metadata": {
    "execution": {
     "iopub.execute_input": "2024-06-28T08:47:32.594720Z",
     "iopub.status.busy": "2024-06-28T08:47:32.593488Z",
     "iopub.status.idle": "2024-06-28T08:47:32.601151Z",
     "shell.execute_reply": "2024-06-28T08:47:32.599875Z"
    },
    "papermill": {
     "duration": 0.03168,
     "end_time": "2024-06-28T08:47:32.604151",
     "exception": false,
     "start_time": "2024-06-28T08:47:32.572471",
     "status": "completed"
    },
    "tags": []
   },
   "outputs": [],
   "source": [
    "df['slope'] = df['slope'].replace('?',np.nan)"
   ]
  },
  {
   "cell_type": "code",
   "execution_count": 23,
   "id": "6b126196",
   "metadata": {
    "execution": {
     "iopub.execute_input": "2024-06-28T08:47:32.729080Z",
     "iopub.status.busy": "2024-06-28T08:47:32.728357Z",
     "iopub.status.idle": "2024-06-28T08:47:32.736501Z",
     "shell.execute_reply": "2024-06-28T08:47:32.735141Z"
    },
    "papermill": {
     "duration": 0.030243,
     "end_time": "2024-06-28T08:47:32.739213",
     "exception": false,
     "start_time": "2024-06-28T08:47:32.708970",
     "status": "completed"
    },
    "tags": []
   },
   "outputs": [],
   "source": [
    "df['ca'] = df['ca'].replace('?',np.nan)"
   ]
  },
  {
   "cell_type": "code",
   "execution_count": 24,
   "id": "de32c1dd",
   "metadata": {
    "execution": {
     "iopub.execute_input": "2024-06-28T08:47:32.776979Z",
     "iopub.status.busy": "2024-06-28T08:47:32.775793Z",
     "iopub.status.idle": "2024-06-28T08:47:32.783059Z",
     "shell.execute_reply": "2024-06-28T08:47:32.781625Z"
    },
    "papermill": {
     "duration": 0.029358,
     "end_time": "2024-06-28T08:47:32.785500",
     "exception": false,
     "start_time": "2024-06-28T08:47:32.756142",
     "status": "completed"
    },
    "tags": []
   },
   "outputs": [],
   "source": [
    "df['thal'] = df['thal'].replace('?',np.nan)"
   ]
  },
  {
   "cell_type": "code",
   "execution_count": 25,
   "id": "b92d94eb",
   "metadata": {
    "execution": {
     "iopub.execute_input": "2024-06-28T08:47:32.821308Z",
     "iopub.status.busy": "2024-06-28T08:47:32.820823Z",
     "iopub.status.idle": "2024-06-28T08:47:32.832513Z",
     "shell.execute_reply": "2024-06-28T08:47:32.831363Z"
    },
    "papermill": {
     "duration": 0.032732,
     "end_time": "2024-06-28T08:47:32.835068",
     "exception": false,
     "start_time": "2024-06-28T08:47:32.802336",
     "status": "completed"
    },
    "tags": []
   },
   "outputs": [
    {
     "data": {
      "text/plain": [
       "hd\n",
       "0    411\n",
       "1    265\n",
       "2    109\n",
       "3    107\n",
       "4     28\n",
       "Name: count, dtype: int64"
      ]
     },
     "execution_count": 25,
     "metadata": {},
     "output_type": "execute_result"
    }
   ],
   "source": [
    "df['hd'].value_counts()"
   ]
  },
  {
   "cell_type": "code",
   "execution_count": 26,
   "id": "62f067a3",
   "metadata": {
    "execution": {
     "iopub.execute_input": "2024-06-28T08:47:32.870915Z",
     "iopub.status.busy": "2024-06-28T08:47:32.870450Z",
     "iopub.status.idle": "2024-06-28T08:47:32.881844Z",
     "shell.execute_reply": "2024-06-28T08:47:32.880553Z"
    },
    "papermill": {
     "duration": 0.032491,
     "end_time": "2024-06-28T08:47:32.884458",
     "exception": false,
     "start_time": "2024-06-28T08:47:32.851967",
     "status": "completed"
    },
    "tags": []
   },
   "outputs": [
    {
     "data": {
      "text/plain": [
       "age          0\n",
       "sex          0\n",
       "cp           0\n",
       "restbp      59\n",
       "chol        30\n",
       "fbs         90\n",
       "restecg      2\n",
       "thalach     55\n",
       "exang       55\n",
       "oldpeak     62\n",
       "slope      309\n",
       "ca         611\n",
       "thal       486\n",
       "hd           0\n",
       "dtype: int64"
      ]
     },
     "execution_count": 26,
     "metadata": {},
     "output_type": "execute_result"
    }
   ],
   "source": [
    "df.isnull().sum()"
   ]
  },
  {
   "cell_type": "code",
   "execution_count": 27,
   "id": "61fef718",
   "metadata": {
    "execution": {
     "iopub.execute_input": "2024-06-28T08:47:32.922711Z",
     "iopub.status.busy": "2024-06-28T08:47:32.921795Z",
     "iopub.status.idle": "2024-06-28T08:47:32.929833Z",
     "shell.execute_reply": "2024-06-28T08:47:32.928269Z"
    },
    "papermill": {
     "duration": 0.03073,
     "end_time": "2024-06-28T08:47:32.932654",
     "exception": false,
     "start_time": "2024-06-28T08:47:32.901924",
     "status": "completed"
    },
    "tags": []
   },
   "outputs": [],
   "source": [
    "df['restbp'] = df['restbp'].astype(np.float64)"
   ]
  },
  {
   "cell_type": "code",
   "execution_count": 28,
   "id": "62947854",
   "metadata": {
    "execution": {
     "iopub.execute_input": "2024-06-28T08:47:32.970120Z",
     "iopub.status.busy": "2024-06-28T08:47:32.969640Z",
     "iopub.status.idle": "2024-06-28T08:47:32.982944Z",
     "shell.execute_reply": "2024-06-28T08:47:32.981391Z"
    },
    "papermill": {
     "duration": 0.035291,
     "end_time": "2024-06-28T08:47:32.985749",
     "exception": false,
     "start_time": "2024-06-28T08:47:32.950458",
     "status": "completed"
    },
    "tags": []
   },
   "outputs": [],
   "source": [
    "df['restbp'].bfill(inplace = True)"
   ]
  },
  {
   "cell_type": "code",
   "execution_count": 29,
   "id": "d02710c8",
   "metadata": {
    "execution": {
     "iopub.execute_input": "2024-06-28T08:47:33.024076Z",
     "iopub.status.busy": "2024-06-28T08:47:33.023568Z",
     "iopub.status.idle": "2024-06-28T08:47:33.030927Z",
     "shell.execute_reply": "2024-06-28T08:47:33.029316Z"
    },
    "papermill": {
     "duration": 0.031482,
     "end_time": "2024-06-28T08:47:33.033800",
     "exception": false,
     "start_time": "2024-06-28T08:47:33.002318",
     "status": "completed"
    },
    "tags": []
   },
   "outputs": [],
   "source": [
    "df['chol'] = df['chol'].astype(np.float64)"
   ]
  },
  {
   "cell_type": "code",
   "execution_count": 30,
   "id": "34cf4c89",
   "metadata": {
    "execution": {
     "iopub.execute_input": "2024-06-28T08:47:33.073212Z",
     "iopub.status.busy": "2024-06-28T08:47:33.072745Z",
     "iopub.status.idle": "2024-06-28T08:47:33.079973Z",
     "shell.execute_reply": "2024-06-28T08:47:33.078346Z"
    },
    "papermill": {
     "duration": 0.02975,
     "end_time": "2024-06-28T08:47:33.082454",
     "exception": false,
     "start_time": "2024-06-28T08:47:33.052704",
     "status": "completed"
    },
    "tags": []
   },
   "outputs": [],
   "source": [
    "df['chol'].bfill(inplace = True)"
   ]
  },
  {
   "cell_type": "code",
   "execution_count": 31,
   "id": "426d2aa7",
   "metadata": {
    "execution": {
     "iopub.execute_input": "2024-06-28T08:47:33.119485Z",
     "iopub.status.busy": "2024-06-28T08:47:33.119052Z",
     "iopub.status.idle": "2024-06-28T08:47:33.125708Z",
     "shell.execute_reply": "2024-06-28T08:47:33.124456Z"
    },
    "papermill": {
     "duration": 0.028617,
     "end_time": "2024-06-28T08:47:33.128507",
     "exception": false,
     "start_time": "2024-06-28T08:47:33.099890",
     "status": "completed"
    },
    "tags": []
   },
   "outputs": [],
   "source": [
    "df['fbs'] = df['fbs'].astype(np.float64)"
   ]
  },
  {
   "cell_type": "code",
   "execution_count": 32,
   "id": "a9fd83b6",
   "metadata": {
    "execution": {
     "iopub.execute_input": "2024-06-28T08:47:33.166525Z",
     "iopub.status.busy": "2024-06-28T08:47:33.165953Z",
     "iopub.status.idle": "2024-06-28T08:47:33.172557Z",
     "shell.execute_reply": "2024-06-28T08:47:33.171220Z"
    },
    "papermill": {
     "duration": 0.02972,
     "end_time": "2024-06-28T08:47:33.175806",
     "exception": false,
     "start_time": "2024-06-28T08:47:33.146086",
     "status": "completed"
    },
    "tags": []
   },
   "outputs": [],
   "source": [
    "df['fbs'].bfill(inplace = True)"
   ]
  },
  {
   "cell_type": "code",
   "execution_count": 33,
   "id": "769cdff2",
   "metadata": {
    "execution": {
     "iopub.execute_input": "2024-06-28T08:47:33.214012Z",
     "iopub.status.busy": "2024-06-28T08:47:33.212832Z",
     "iopub.status.idle": "2024-06-28T08:47:33.219655Z",
     "shell.execute_reply": "2024-06-28T08:47:33.218293Z"
    },
    "papermill": {
     "duration": 0.028897,
     "end_time": "2024-06-28T08:47:33.222522",
     "exception": false,
     "start_time": "2024-06-28T08:47:33.193625",
     "status": "completed"
    },
    "tags": []
   },
   "outputs": [],
   "source": [
    "df['restecg'] = df['restecg'].astype(np.float64)"
   ]
  },
  {
   "cell_type": "code",
   "execution_count": 34,
   "id": "e9fb4a8d",
   "metadata": {
    "execution": {
     "iopub.execute_input": "2024-06-28T08:47:33.264172Z",
     "iopub.status.busy": "2024-06-28T08:47:33.262715Z",
     "iopub.status.idle": "2024-06-28T08:47:33.269710Z",
     "shell.execute_reply": "2024-06-28T08:47:33.268333Z"
    },
    "papermill": {
     "duration": 0.030151,
     "end_time": "2024-06-28T08:47:33.272149",
     "exception": false,
     "start_time": "2024-06-28T08:47:33.241998",
     "status": "completed"
    },
    "tags": []
   },
   "outputs": [],
   "source": [
    "df['restecg'].bfill(inplace = True)"
   ]
  },
  {
   "cell_type": "code",
   "execution_count": 35,
   "id": "3e74f9b3",
   "metadata": {
    "execution": {
     "iopub.execute_input": "2024-06-28T08:47:33.310289Z",
     "iopub.status.busy": "2024-06-28T08:47:33.309387Z",
     "iopub.status.idle": "2024-06-28T08:47:33.316728Z",
     "shell.execute_reply": "2024-06-28T08:47:33.315216Z"
    },
    "papermill": {
     "duration": 0.030039,
     "end_time": "2024-06-28T08:47:33.319544",
     "exception": false,
     "start_time": "2024-06-28T08:47:33.289505",
     "status": "completed"
    },
    "tags": []
   },
   "outputs": [],
   "source": [
    "df['thalach'] = df['thalach'].astype(np.float64)"
   ]
  },
  {
   "cell_type": "code",
   "execution_count": 36,
   "id": "e7819c4f",
   "metadata": {
    "execution": {
     "iopub.execute_input": "2024-06-28T08:47:33.358809Z",
     "iopub.status.busy": "2024-06-28T08:47:33.358346Z",
     "iopub.status.idle": "2024-06-28T08:47:33.365621Z",
     "shell.execute_reply": "2024-06-28T08:47:33.364352Z"
    },
    "papermill": {
     "duration": 0.030513,
     "end_time": "2024-06-28T08:47:33.368200",
     "exception": false,
     "start_time": "2024-06-28T08:47:33.337687",
     "status": "completed"
    },
    "tags": []
   },
   "outputs": [],
   "source": [
    "df['thalach'].bfill(inplace = True)"
   ]
  },
  {
   "cell_type": "code",
   "execution_count": 37,
   "id": "d6f8bd95",
   "metadata": {
    "execution": {
     "iopub.execute_input": "2024-06-28T08:47:33.403957Z",
     "iopub.status.busy": "2024-06-28T08:47:33.403304Z",
     "iopub.status.idle": "2024-06-28T08:47:33.409989Z",
     "shell.execute_reply": "2024-06-28T08:47:33.408581Z"
    },
    "papermill": {
     "duration": 0.027358,
     "end_time": "2024-06-28T08:47:33.412512",
     "exception": false,
     "start_time": "2024-06-28T08:47:33.385154",
     "status": "completed"
    },
    "tags": []
   },
   "outputs": [],
   "source": [
    "df['exang'] = df['exang'].astype(np.float64)"
   ]
  },
  {
   "cell_type": "code",
   "execution_count": 38,
   "id": "17a5b291",
   "metadata": {
    "execution": {
     "iopub.execute_input": "2024-06-28T08:47:33.453450Z",
     "iopub.status.busy": "2024-06-28T08:47:33.452615Z",
     "iopub.status.idle": "2024-06-28T08:47:33.461227Z",
     "shell.execute_reply": "2024-06-28T08:47:33.459814Z"
    },
    "papermill": {
     "duration": 0.034022,
     "end_time": "2024-06-28T08:47:33.464657",
     "exception": false,
     "start_time": "2024-06-28T08:47:33.430635",
     "status": "completed"
    },
    "tags": []
   },
   "outputs": [],
   "source": [
    "df['exang'].bfill(inplace = True)"
   ]
  },
  {
   "cell_type": "code",
   "execution_count": 39,
   "id": "57964d42",
   "metadata": {
    "execution": {
     "iopub.execute_input": "2024-06-28T08:47:33.515185Z",
     "iopub.status.busy": "2024-06-28T08:47:33.514392Z",
     "iopub.status.idle": "2024-06-28T08:47:33.522260Z",
     "shell.execute_reply": "2024-06-28T08:47:33.520945Z"
    },
    "papermill": {
     "duration": 0.034961,
     "end_time": "2024-06-28T08:47:33.524628",
     "exception": false,
     "start_time": "2024-06-28T08:47:33.489667",
     "status": "completed"
    },
    "tags": []
   },
   "outputs": [],
   "source": [
    "df['oldpeak'] = df['oldpeak'].astype(np.float64)"
   ]
  },
  {
   "cell_type": "code",
   "execution_count": 40,
   "id": "6c47bd9f",
   "metadata": {
    "execution": {
     "iopub.execute_input": "2024-06-28T08:47:33.561734Z",
     "iopub.status.busy": "2024-06-28T08:47:33.561170Z",
     "iopub.status.idle": "2024-06-28T08:47:33.568037Z",
     "shell.execute_reply": "2024-06-28T08:47:33.566766Z"
    },
    "papermill": {
     "duration": 0.028188,
     "end_time": "2024-06-28T08:47:33.570373",
     "exception": false,
     "start_time": "2024-06-28T08:47:33.542185",
     "status": "completed"
    },
    "tags": []
   },
   "outputs": [],
   "source": [
    "df['oldpeak'].bfill(inplace = True)"
   ]
  },
  {
   "cell_type": "code",
   "execution_count": 41,
   "id": "21c8da21",
   "metadata": {
    "execution": {
     "iopub.execute_input": "2024-06-28T08:47:33.607380Z",
     "iopub.status.busy": "2024-06-28T08:47:33.606961Z",
     "iopub.status.idle": "2024-06-28T08:47:33.613741Z",
     "shell.execute_reply": "2024-06-28T08:47:33.612047Z"
    },
    "papermill": {
     "duration": 0.029593,
     "end_time": "2024-06-28T08:47:33.617760",
     "exception": false,
     "start_time": "2024-06-28T08:47:33.588167",
     "status": "completed"
    },
    "tags": []
   },
   "outputs": [],
   "source": [
    "df['slope'] = df['slope'].astype(np.float64)"
   ]
  },
  {
   "cell_type": "code",
   "execution_count": 42,
   "id": "c47ef17e",
   "metadata": {
    "execution": {
     "iopub.execute_input": "2024-06-28T08:47:33.671544Z",
     "iopub.status.busy": "2024-06-28T08:47:33.670236Z",
     "iopub.status.idle": "2024-06-28T08:47:33.677806Z",
     "shell.execute_reply": "2024-06-28T08:47:33.676658Z"
    },
    "papermill": {
     "duration": 0.038987,
     "end_time": "2024-06-28T08:47:33.681198",
     "exception": false,
     "start_time": "2024-06-28T08:47:33.642211",
     "status": "completed"
    },
    "tags": []
   },
   "outputs": [],
   "source": [
    "df['slope'].ffill(inplace = True)"
   ]
  },
  {
   "cell_type": "code",
   "execution_count": 43,
   "id": "6e015b2d",
   "metadata": {
    "execution": {
     "iopub.execute_input": "2024-06-28T08:47:33.732113Z",
     "iopub.status.busy": "2024-06-28T08:47:33.731350Z",
     "iopub.status.idle": "2024-06-28T08:47:33.738249Z",
     "shell.execute_reply": "2024-06-28T08:47:33.737135Z"
    },
    "papermill": {
     "duration": 0.035569,
     "end_time": "2024-06-28T08:47:33.741996",
     "exception": false,
     "start_time": "2024-06-28T08:47:33.706427",
     "status": "completed"
    },
    "tags": []
   },
   "outputs": [],
   "source": [
    "df['ca'] = df['ca'].astype(np.float64)"
   ]
  },
  {
   "cell_type": "code",
   "execution_count": 44,
   "id": "aa22ffe7",
   "metadata": {
    "execution": {
     "iopub.execute_input": "2024-06-28T08:47:33.785550Z",
     "iopub.status.busy": "2024-06-28T08:47:33.785073Z",
     "iopub.status.idle": "2024-06-28T08:47:33.791497Z",
     "shell.execute_reply": "2024-06-28T08:47:33.790058Z"
    },
    "papermill": {
     "duration": 0.027924,
     "end_time": "2024-06-28T08:47:33.794268",
     "exception": false,
     "start_time": "2024-06-28T08:47:33.766344",
     "status": "completed"
    },
    "tags": []
   },
   "outputs": [],
   "source": [
    "df['ca'].bfill(inplace = True)"
   ]
  },
  {
   "cell_type": "code",
   "execution_count": 45,
   "id": "562f8631",
   "metadata": {
    "execution": {
     "iopub.execute_input": "2024-06-28T08:47:33.832746Z",
     "iopub.status.busy": "2024-06-28T08:47:33.831608Z",
     "iopub.status.idle": "2024-06-28T08:47:33.839358Z",
     "shell.execute_reply": "2024-06-28T08:47:33.837879Z"
    },
    "papermill": {
     "duration": 0.031569,
     "end_time": "2024-06-28T08:47:33.843177",
     "exception": false,
     "start_time": "2024-06-28T08:47:33.811608",
     "status": "completed"
    },
    "tags": []
   },
   "outputs": [],
   "source": [
    "df['ca'].ffill(inplace = True)"
   ]
  },
  {
   "cell_type": "code",
   "execution_count": 46,
   "id": "c91726f5",
   "metadata": {
    "execution": {
     "iopub.execute_input": "2024-06-28T08:47:33.886776Z",
     "iopub.status.busy": "2024-06-28T08:47:33.886220Z",
     "iopub.status.idle": "2024-06-28T08:47:33.893527Z",
     "shell.execute_reply": "2024-06-28T08:47:33.892275Z"
    },
    "papermill": {
     "duration": 0.030274,
     "end_time": "2024-06-28T08:47:33.896114",
     "exception": false,
     "start_time": "2024-06-28T08:47:33.865840",
     "status": "completed"
    },
    "tags": []
   },
   "outputs": [],
   "source": [
    "df['thal'] = df['thal'].astype(np.float64)"
   ]
  },
  {
   "cell_type": "code",
   "execution_count": 47,
   "id": "91a0f374",
   "metadata": {
    "execution": {
     "iopub.execute_input": "2024-06-28T08:47:33.935407Z",
     "iopub.status.busy": "2024-06-28T08:47:33.934969Z",
     "iopub.status.idle": "2024-06-28T08:47:33.941445Z",
     "shell.execute_reply": "2024-06-28T08:47:33.940260Z"
    },
    "papermill": {
     "duration": 0.027733,
     "end_time": "2024-06-28T08:47:33.944432",
     "exception": false,
     "start_time": "2024-06-28T08:47:33.916699",
     "status": "completed"
    },
    "tags": []
   },
   "outputs": [],
   "source": [
    "df['thal'].bfill(inplace = True)"
   ]
  },
  {
   "cell_type": "code",
   "execution_count": 48,
   "id": "4f19498a",
   "metadata": {
    "execution": {
     "iopub.execute_input": "2024-06-28T08:47:33.981929Z",
     "iopub.status.busy": "2024-06-28T08:47:33.981449Z",
     "iopub.status.idle": "2024-06-28T08:47:33.988037Z",
     "shell.execute_reply": "2024-06-28T08:47:33.986797Z"
    },
    "papermill": {
     "duration": 0.028864,
     "end_time": "2024-06-28T08:47:33.991099",
     "exception": false,
     "start_time": "2024-06-28T08:47:33.962235",
     "status": "completed"
    },
    "tags": []
   },
   "outputs": [],
   "source": [
    "df['thal'].ffill(inplace = True)"
   ]
  },
  {
   "cell_type": "code",
   "execution_count": 49,
   "id": "610dea83",
   "metadata": {
    "execution": {
     "iopub.execute_input": "2024-06-28T08:47:34.027907Z",
     "iopub.status.busy": "2024-06-28T08:47:34.027393Z",
     "iopub.status.idle": "2024-06-28T08:47:34.052197Z",
     "shell.execute_reply": "2024-06-28T08:47:34.051117Z"
    },
    "papermill": {
     "duration": 0.046515,
     "end_time": "2024-06-28T08:47:34.054310",
     "exception": false,
     "start_time": "2024-06-28T08:47:34.007795",
     "status": "completed"
    },
    "tags": []
   },
   "outputs": [
    {
     "data": {
      "text/html": [
       "<div>\n",
       "<style scoped>\n",
       "    .dataframe tbody tr th:only-of-type {\n",
       "        vertical-align: middle;\n",
       "    }\n",
       "\n",
       "    .dataframe tbody tr th {\n",
       "        vertical-align: top;\n",
       "    }\n",
       "\n",
       "    .dataframe thead th {\n",
       "        text-align: right;\n",
       "    }\n",
       "</style>\n",
       "<table border=\"1\" class=\"dataframe\">\n",
       "  <thead>\n",
       "    <tr style=\"text-align: right;\">\n",
       "      <th></th>\n",
       "      <th>age</th>\n",
       "      <th>sex</th>\n",
       "      <th>cp</th>\n",
       "      <th>restbp</th>\n",
       "      <th>chol</th>\n",
       "      <th>fbs</th>\n",
       "      <th>restecg</th>\n",
       "      <th>thalach</th>\n",
       "      <th>exang</th>\n",
       "      <th>oldpeak</th>\n",
       "      <th>slope</th>\n",
       "      <th>ca</th>\n",
       "      <th>thal</th>\n",
       "      <th>hd</th>\n",
       "    </tr>\n",
       "  </thead>\n",
       "  <tbody>\n",
       "    <tr>\n",
       "      <th>0</th>\n",
       "      <td>63.0</td>\n",
       "      <td>1.0</td>\n",
       "      <td>1.0</td>\n",
       "      <td>145.0</td>\n",
       "      <td>233.0</td>\n",
       "      <td>1.0</td>\n",
       "      <td>2.0</td>\n",
       "      <td>150.0</td>\n",
       "      <td>0.0</td>\n",
       "      <td>2.3</td>\n",
       "      <td>3.0</td>\n",
       "      <td>0.0</td>\n",
       "      <td>6.0</td>\n",
       "      <td>0</td>\n",
       "    </tr>\n",
       "    <tr>\n",
       "      <th>1</th>\n",
       "      <td>67.0</td>\n",
       "      <td>1.0</td>\n",
       "      <td>4.0</td>\n",
       "      <td>160.0</td>\n",
       "      <td>286.0</td>\n",
       "      <td>0.0</td>\n",
       "      <td>2.0</td>\n",
       "      <td>108.0</td>\n",
       "      <td>1.0</td>\n",
       "      <td>1.5</td>\n",
       "      <td>2.0</td>\n",
       "      <td>3.0</td>\n",
       "      <td>3.0</td>\n",
       "      <td>2</td>\n",
       "    </tr>\n",
       "    <tr>\n",
       "      <th>2</th>\n",
       "      <td>67.0</td>\n",
       "      <td>1.0</td>\n",
       "      <td>4.0</td>\n",
       "      <td>120.0</td>\n",
       "      <td>229.0</td>\n",
       "      <td>0.0</td>\n",
       "      <td>2.0</td>\n",
       "      <td>129.0</td>\n",
       "      <td>1.0</td>\n",
       "      <td>2.6</td>\n",
       "      <td>2.0</td>\n",
       "      <td>2.0</td>\n",
       "      <td>7.0</td>\n",
       "      <td>1</td>\n",
       "    </tr>\n",
       "    <tr>\n",
       "      <th>3</th>\n",
       "      <td>37.0</td>\n",
       "      <td>1.0</td>\n",
       "      <td>3.0</td>\n",
       "      <td>130.0</td>\n",
       "      <td>250.0</td>\n",
       "      <td>0.0</td>\n",
       "      <td>0.0</td>\n",
       "      <td>187.0</td>\n",
       "      <td>0.0</td>\n",
       "      <td>3.5</td>\n",
       "      <td>3.0</td>\n",
       "      <td>0.0</td>\n",
       "      <td>3.0</td>\n",
       "      <td>0</td>\n",
       "    </tr>\n",
       "    <tr>\n",
       "      <th>4</th>\n",
       "      <td>41.0</td>\n",
       "      <td>0.0</td>\n",
       "      <td>2.0</td>\n",
       "      <td>130.0</td>\n",
       "      <td>204.0</td>\n",
       "      <td>0.0</td>\n",
       "      <td>2.0</td>\n",
       "      <td>172.0</td>\n",
       "      <td>0.0</td>\n",
       "      <td>1.4</td>\n",
       "      <td>1.0</td>\n",
       "      <td>0.0</td>\n",
       "      <td>3.0</td>\n",
       "      <td>0</td>\n",
       "    </tr>\n",
       "  </tbody>\n",
       "</table>\n",
       "</div>"
      ],
      "text/plain": [
       "    age  sex   cp  restbp   chol  fbs  restecg  thalach  exang  oldpeak  \\\n",
       "0  63.0  1.0  1.0   145.0  233.0  1.0      2.0    150.0    0.0      2.3   \n",
       "1  67.0  1.0  4.0   160.0  286.0  0.0      2.0    108.0    1.0      1.5   \n",
       "2  67.0  1.0  4.0   120.0  229.0  0.0      2.0    129.0    1.0      2.6   \n",
       "3  37.0  1.0  3.0   130.0  250.0  0.0      0.0    187.0    0.0      3.5   \n",
       "4  41.0  0.0  2.0   130.0  204.0  0.0      2.0    172.0    0.0      1.4   \n",
       "\n",
       "   slope   ca  thal  hd  \n",
       "0    3.0  0.0   6.0   0  \n",
       "1    2.0  3.0   3.0   2  \n",
       "2    2.0  2.0   7.0   1  \n",
       "3    3.0  0.0   3.0   0  \n",
       "4    1.0  0.0   3.0   0  "
      ]
     },
     "execution_count": 49,
     "metadata": {},
     "output_type": "execute_result"
    }
   ],
   "source": [
    "df.head()"
   ]
  },
  {
   "cell_type": "markdown",
   "id": "82f59a72",
   "metadata": {
    "papermill": {
     "duration": 0.016267,
     "end_time": "2024-06-28T08:47:34.086994",
     "exception": false,
     "start_time": "2024-06-28T08:47:34.070727",
     "status": "completed"
    },
    "tags": []
   },
   "source": [
    "# Dataset Description\n",
    "Only 14 attributes used:\n",
    "1.  (age)   Integer    \n",
    "2.  (sex)   Categorical    sex (1 = male; 0 = female)\n",
    "3.  (cp)    Categorical chest pain type\n",
    "            -- Value 1: typical angina\n",
    "            -- Value 2: atypical angina\n",
    "            -- Value 3: non-anginal pain\n",
    "            -- Value 4: asymptomatic  \n",
    "4.  (restbp)  Integer  resting blood pressure (in mm Hg on admission to the hospital)\n",
    "5.  (chol)      Integer  serum cholestoral in mg/dl\n",
    "6.  (fbs)       Categorical (fasting blood sugar > 120 mg/dl)  (1 = true; 0 = false)\n",
    "7.  (restecg)   Categorical resting electrocardiographic results\n",
    "            -- Value 0: normal\n",
    "            -- Value 1: having ST-T wave abnormality (T wave inversions and/or ST elevation or depression of > 0.05 mV)\n",
    "            -- Value 2: showing probable or definite left ventricular hypertrophy by Estes' criteria\n",
    "8.  (thalach)   Integer maximum heart rate achieved\n",
    "9.  (exang)     Categorical exercise induced angina (1 = yes; 0 = no)\n",
    "10. (oldpeak)   Integer ST depression induced by exercise relative to rest\n",
    "11. (slope)     Categorical  the slope of the peak exercise ST segment\n",
    "            -- Value 1: upsloping\n",
    "            -- Value 2: flat\n",
    "            -- Value 3: downsloping\n",
    "12. (ca)        Integer number of major vessels (0-3) colored by flourosopy\n",
    "13. (thal)      Categorical \n",
    "                3 = normal; 6 = fixed defect; 7 = reversable defect\n",
    "14. (hd)       (the predicted attribute) Integer \n",
    "            -- Value 0\n",
    "            -- Value 1\n",
    "            -- Value 2\n",
    "            -- Value 3\n",
    "            -- Value 4"
   ]
  },
  {
   "cell_type": "code",
   "execution_count": 50,
   "id": "7e1daa1c",
   "metadata": {
    "execution": {
     "iopub.execute_input": "2024-06-28T08:47:34.122745Z",
     "iopub.status.busy": "2024-06-28T08:47:34.122284Z",
     "iopub.status.idle": "2024-06-28T08:47:34.132152Z",
     "shell.execute_reply": "2024-06-28T08:47:34.130537Z"
    },
    "papermill": {
     "duration": 0.03152,
     "end_time": "2024-06-28T08:47:34.135202",
     "exception": false,
     "start_time": "2024-06-28T08:47:34.103682",
     "status": "completed"
    },
    "tags": []
   },
   "outputs": [],
   "source": [
    "X = df.drop(columns = 'hd',axis = 1)\n",
    "y = df['hd']"
   ]
  },
  {
   "cell_type": "code",
   "execution_count": 51,
   "id": "4541f10c",
   "metadata": {
    "execution": {
     "iopub.execute_input": "2024-06-28T08:47:34.170282Z",
     "iopub.status.busy": "2024-06-28T08:47:34.169806Z",
     "iopub.status.idle": "2024-06-28T08:47:34.193172Z",
     "shell.execute_reply": "2024-06-28T08:47:34.191910Z"
    },
    "papermill": {
     "duration": 0.044034,
     "end_time": "2024-06-28T08:47:34.195738",
     "exception": false,
     "start_time": "2024-06-28T08:47:34.151704",
     "status": "completed"
    },
    "tags": []
   },
   "outputs": [
    {
     "data": {
      "text/html": [
       "<div>\n",
       "<style scoped>\n",
       "    .dataframe tbody tr th:only-of-type {\n",
       "        vertical-align: middle;\n",
       "    }\n",
       "\n",
       "    .dataframe tbody tr th {\n",
       "        vertical-align: top;\n",
       "    }\n",
       "\n",
       "    .dataframe thead th {\n",
       "        text-align: right;\n",
       "    }\n",
       "</style>\n",
       "<table border=\"1\" class=\"dataframe\">\n",
       "  <thead>\n",
       "    <tr style=\"text-align: right;\">\n",
       "      <th></th>\n",
       "      <th>age</th>\n",
       "      <th>sex</th>\n",
       "      <th>cp</th>\n",
       "      <th>restbp</th>\n",
       "      <th>chol</th>\n",
       "      <th>fbs</th>\n",
       "      <th>restecg</th>\n",
       "      <th>thalach</th>\n",
       "      <th>exang</th>\n",
       "      <th>oldpeak</th>\n",
       "      <th>slope</th>\n",
       "      <th>ca</th>\n",
       "      <th>thal</th>\n",
       "    </tr>\n",
       "  </thead>\n",
       "  <tbody>\n",
       "    <tr>\n",
       "      <th>0</th>\n",
       "      <td>63.0</td>\n",
       "      <td>1.0</td>\n",
       "      <td>1.0</td>\n",
       "      <td>145.0</td>\n",
       "      <td>233.0</td>\n",
       "      <td>1.0</td>\n",
       "      <td>2.0</td>\n",
       "      <td>150.0</td>\n",
       "      <td>0.0</td>\n",
       "      <td>2.3</td>\n",
       "      <td>3.0</td>\n",
       "      <td>0.0</td>\n",
       "      <td>6.0</td>\n",
       "    </tr>\n",
       "    <tr>\n",
       "      <th>1</th>\n",
       "      <td>67.0</td>\n",
       "      <td>1.0</td>\n",
       "      <td>4.0</td>\n",
       "      <td>160.0</td>\n",
       "      <td>286.0</td>\n",
       "      <td>0.0</td>\n",
       "      <td>2.0</td>\n",
       "      <td>108.0</td>\n",
       "      <td>1.0</td>\n",
       "      <td>1.5</td>\n",
       "      <td>2.0</td>\n",
       "      <td>3.0</td>\n",
       "      <td>3.0</td>\n",
       "    </tr>\n",
       "    <tr>\n",
       "      <th>2</th>\n",
       "      <td>67.0</td>\n",
       "      <td>1.0</td>\n",
       "      <td>4.0</td>\n",
       "      <td>120.0</td>\n",
       "      <td>229.0</td>\n",
       "      <td>0.0</td>\n",
       "      <td>2.0</td>\n",
       "      <td>129.0</td>\n",
       "      <td>1.0</td>\n",
       "      <td>2.6</td>\n",
       "      <td>2.0</td>\n",
       "      <td>2.0</td>\n",
       "      <td>7.0</td>\n",
       "    </tr>\n",
       "    <tr>\n",
       "      <th>3</th>\n",
       "      <td>37.0</td>\n",
       "      <td>1.0</td>\n",
       "      <td>3.0</td>\n",
       "      <td>130.0</td>\n",
       "      <td>250.0</td>\n",
       "      <td>0.0</td>\n",
       "      <td>0.0</td>\n",
       "      <td>187.0</td>\n",
       "      <td>0.0</td>\n",
       "      <td>3.5</td>\n",
       "      <td>3.0</td>\n",
       "      <td>0.0</td>\n",
       "      <td>3.0</td>\n",
       "    </tr>\n",
       "    <tr>\n",
       "      <th>4</th>\n",
       "      <td>41.0</td>\n",
       "      <td>0.0</td>\n",
       "      <td>2.0</td>\n",
       "      <td>130.0</td>\n",
       "      <td>204.0</td>\n",
       "      <td>0.0</td>\n",
       "      <td>2.0</td>\n",
       "      <td>172.0</td>\n",
       "      <td>0.0</td>\n",
       "      <td>1.4</td>\n",
       "      <td>1.0</td>\n",
       "      <td>0.0</td>\n",
       "      <td>3.0</td>\n",
       "    </tr>\n",
       "  </tbody>\n",
       "</table>\n",
       "</div>"
      ],
      "text/plain": [
       "    age  sex   cp  restbp   chol  fbs  restecg  thalach  exang  oldpeak  \\\n",
       "0  63.0  1.0  1.0   145.0  233.0  1.0      2.0    150.0    0.0      2.3   \n",
       "1  67.0  1.0  4.0   160.0  286.0  0.0      2.0    108.0    1.0      1.5   \n",
       "2  67.0  1.0  4.0   120.0  229.0  0.0      2.0    129.0    1.0      2.6   \n",
       "3  37.0  1.0  3.0   130.0  250.0  0.0      0.0    187.0    0.0      3.5   \n",
       "4  41.0  0.0  2.0   130.0  204.0  0.0      2.0    172.0    0.0      1.4   \n",
       "\n",
       "   slope   ca  thal  \n",
       "0    3.0  0.0   6.0  \n",
       "1    2.0  3.0   3.0  \n",
       "2    2.0  2.0   7.0  \n",
       "3    3.0  0.0   3.0  \n",
       "4    1.0  0.0   3.0  "
      ]
     },
     "execution_count": 51,
     "metadata": {},
     "output_type": "execute_result"
    }
   ],
   "source": [
    "X.head()"
   ]
  },
  {
   "cell_type": "code",
   "execution_count": 52,
   "id": "808d9e77",
   "metadata": {
    "execution": {
     "iopub.execute_input": "2024-06-28T08:47:34.231767Z",
     "iopub.status.busy": "2024-06-28T08:47:34.230817Z",
     "iopub.status.idle": "2024-06-28T08:47:34.244013Z",
     "shell.execute_reply": "2024-06-28T08:47:34.242742Z"
    },
    "papermill": {
     "duration": 0.034449,
     "end_time": "2024-06-28T08:47:34.246996",
     "exception": false,
     "start_time": "2024-06-28T08:47:34.212547",
     "status": "completed"
    },
    "tags": []
   },
   "outputs": [],
   "source": [
    "# Split the data into training (70%), validation (15%), testing (15%)\n",
    "from sklearn.model_selection import train_test_split\n",
    "X_train, X_temp, y_train, y_temp = train_test_split(X, y, test_size=0.30, random_state=101)\n",
    "X_val, X_test, y_val, y_test = train_test_split(X_temp, y_temp, test_size=0.50, random_state=101)"
   ]
  },
  {
   "cell_type": "code",
   "execution_count": 53,
   "id": "efb4c8fe",
   "metadata": {
    "execution": {
     "iopub.execute_input": "2024-06-28T08:47:34.284494Z",
     "iopub.status.busy": "2024-06-28T08:47:34.284037Z",
     "iopub.status.idle": "2024-06-28T08:47:34.289699Z",
     "shell.execute_reply": "2024-06-28T08:47:34.288330Z"
    },
    "papermill": {
     "duration": 0.027388,
     "end_time": "2024-06-28T08:47:34.292180",
     "exception": false,
     "start_time": "2024-06-28T08:47:34.264792",
     "status": "completed"
    },
    "tags": []
   },
   "outputs": [],
   "source": [
    "from sklearn.preprocessing import StandardScaler\n",
    "scaler = StandardScaler()"
   ]
  },
  {
   "cell_type": "code",
   "execution_count": 54,
   "id": "c16b20f4",
   "metadata": {
    "execution": {
     "iopub.execute_input": "2024-06-28T08:47:34.329016Z",
     "iopub.status.busy": "2024-06-28T08:47:34.328516Z",
     "iopub.status.idle": "2024-06-28T08:47:34.344056Z",
     "shell.execute_reply": "2024-06-28T08:47:34.342735Z"
    },
    "papermill": {
     "duration": 0.037787,
     "end_time": "2024-06-28T08:47:34.347153",
     "exception": false,
     "start_time": "2024-06-28T08:47:34.309366",
     "status": "completed"
    },
    "tags": []
   },
   "outputs": [],
   "source": [
    "X_train.loc[:,['age','restbp','chol','thalach','oldpeak','ca']] = scaler.fit_transform(X_train.loc[:,['age','restbp','chol','thalach','oldpeak','ca']])"
   ]
  },
  {
   "cell_type": "code",
   "execution_count": 55,
   "id": "859577b3",
   "metadata": {
    "execution": {
     "iopub.execute_input": "2024-06-28T08:47:34.383528Z",
     "iopub.status.busy": "2024-06-28T08:47:34.383029Z",
     "iopub.status.idle": "2024-06-28T08:47:34.395553Z",
     "shell.execute_reply": "2024-06-28T08:47:34.394071Z"
    },
    "papermill": {
     "duration": 0.033637,
     "end_time": "2024-06-28T08:47:34.398172",
     "exception": false,
     "start_time": "2024-06-28T08:47:34.364535",
     "status": "completed"
    },
    "tags": []
   },
   "outputs": [],
   "source": [
    "X_test.loc[:,['age','restbp','chol','thalach','oldpeak','ca']] = scaler.transform(X_test.loc[:,['age','restbp','chol','thalach','oldpeak','ca']])"
   ]
  },
  {
   "cell_type": "code",
   "execution_count": 56,
   "id": "e5467e0a",
   "metadata": {
    "execution": {
     "iopub.execute_input": "2024-06-28T08:47:34.434618Z",
     "iopub.status.busy": "2024-06-28T08:47:34.434146Z",
     "iopub.status.idle": "2024-06-28T08:47:34.445773Z",
     "shell.execute_reply": "2024-06-28T08:47:34.444597Z"
    },
    "papermill": {
     "duration": 0.03301,
     "end_time": "2024-06-28T08:47:34.448616",
     "exception": false,
     "start_time": "2024-06-28T08:47:34.415606",
     "status": "completed"
    },
    "tags": []
   },
   "outputs": [],
   "source": [
    "X_val.loc[:,['age','restbp','chol','thalach','oldpeak','ca']] = scaler.transform(X_val.loc[:,['age','restbp','chol','thalach','oldpeak','ca']])"
   ]
  },
  {
   "cell_type": "code",
   "execution_count": 57,
   "id": "54ea0212",
   "metadata": {
    "execution": {
     "iopub.execute_input": "2024-06-28T08:47:34.487439Z",
     "iopub.status.busy": "2024-06-28T08:47:34.486989Z",
     "iopub.status.idle": "2024-06-28T08:47:34.495299Z",
     "shell.execute_reply": "2024-06-28T08:47:34.493957Z"
    },
    "papermill": {
     "duration": 0.030566,
     "end_time": "2024-06-28T08:47:34.497398",
     "exception": false,
     "start_time": "2024-06-28T08:47:34.466832",
     "status": "completed"
    },
    "tags": []
   },
   "outputs": [],
   "source": [
    "def model_accuracy_conf_clf(model,X_train,y_train,X_test,y_test):\n",
    "    from sklearn.metrics import confusion_matrix, ConfusionMatrixDisplay\n",
    "    from sklearn.metrics import classification_report,accuracy_score\n",
    "    model.fit(X_train,y_train)\n",
    "    y_pred = model.predict(X_test)\n",
    "    clf_report = classification_report(y_test, y_pred)\n",
    "    cm = confusion_matrix(y_test, y_pred, labels=model.classes_)\n",
    "    disp = ConfusionMatrixDisplay(confusion_matrix=cm,display_labels=model.classes_)\n",
    "    disp.plot()\n",
    "    plt.show()\n",
    "    print(clf_report,\"\\n\",\"Accuracy Score: \",round(accuracy_score(y_test, y_pred)*100,2))    "
   ]
  },
  {
   "cell_type": "code",
   "execution_count": 58,
   "id": "06eab6a2",
   "metadata": {
    "execution": {
     "iopub.execute_input": "2024-06-28T08:47:34.536870Z",
     "iopub.status.busy": "2024-06-28T08:47:34.536267Z",
     "iopub.status.idle": "2024-06-28T08:47:34.998628Z",
     "shell.execute_reply": "2024-06-28T08:47:34.997214Z"
    },
    "papermill": {
     "duration": 0.48455,
     "end_time": "2024-06-28T08:47:35.001805",
     "exception": false,
     "start_time": "2024-06-28T08:47:34.517255",
     "status": "completed"
    },
    "tags": []
   },
   "outputs": [
    {
     "data": {
      "image/png": "[encoded data removed]",
      "text/plain": [
       "<Figure size 640x480 with 2 Axes>"
      ]
     },
     "metadata": {},
     "output_type": "display_data"
    },
    {
     "name": "stdout",
     "output_type": "stream",
     "text": [
      "              precision    recall  f1-score   support\n",
      "\n",
      "           0       0.69      0.81      0.75        58\n",
      "           1       0.47      0.44      0.45        45\n",
      "           2       0.10      0.06      0.08        16\n",
      "           3       0.25      0.29      0.27        14\n",
      "           4       1.00      0.20      0.33         5\n",
      "\n",
      "    accuracy                           0.53       138\n",
      "   macro avg       0.50      0.36      0.38       138\n",
      "weighted avg       0.52      0.53      0.51       138\n",
      " \n",
      " Accuracy Score:  52.9\n"
     ]
    }
   ],
   "source": [
    "from sklearn.linear_model import LogisticRegression\n",
    "LogR = LogisticRegression(max_iter=1000)\n",
    "model_accuracy_conf_clf(LogR,X_train,y_train,X_test,y_test)"
   ]
  },
  {
   "cell_type": "code",
   "execution_count": 59,
   "id": "ef1a6474",
   "metadata": {
    "execution": {
     "iopub.execute_input": "2024-06-28T08:47:35.042021Z",
     "iopub.status.busy": "2024-06-28T08:47:35.040790Z",
     "iopub.status.idle": "2024-06-28T08:47:35.760310Z",
     "shell.execute_reply": "2024-06-28T08:47:35.759228Z"
    },
    "papermill": {
     "duration": 0.743724,
     "end_time": "2024-06-28T08:47:35.763735",
     "exception": false,
     "start_time": "2024-06-28T08:47:35.020011",
     "status": "completed"
    },
    "tags": []
   },
   "outputs": [
    {
     "data": {
      "image/png": "[encoded data removed]",
      "text/plain": [
       "<Figure size 640x480 with 2 Axes>"
      ]
     },
     "metadata": {},
     "output_type": "display_data"
    },
    {
     "name": "stdout",
     "output_type": "stream",
     "text": [
      "              precision    recall  f1-score   support\n",
      "\n",
      "           0       0.66      0.81      0.73        58\n",
      "           1       0.40      0.38      0.39        45\n",
      "           2       0.15      0.12      0.14        16\n",
      "           3       0.27      0.21      0.24        14\n",
      "           4       0.00      0.00      0.00         5\n",
      "\n",
      "    accuracy                           0.50       138\n",
      "   macro avg       0.30      0.31      0.30       138\n",
      "weighted avg       0.46      0.50      0.47       138\n",
      " \n",
      " Accuracy Score:  50.0\n"
     ]
    }
   ],
   "source": [
    "from sklearn.ensemble import RandomForestClassifier\n",
    "rf_clf = RandomForestClassifier(n_estimators = 100)\n",
    "model_accuracy_conf_clf(rf_clf,X_train,y_train,X_test,y_test)"
   ]
  },
  {
   "cell_type": "code",
   "execution_count": 60,
   "id": "bf38b8a3",
   "metadata": {
    "execution": {
     "iopub.execute_input": "2024-06-28T08:47:35.802845Z",
     "iopub.status.busy": "2024-06-28T08:47:35.802363Z",
     "iopub.status.idle": "2024-06-28T08:47:36.160627Z",
     "shell.execute_reply": "2024-06-28T08:47:36.159289Z"
    },
    "papermill": {
     "duration": 0.381514,
     "end_time": "2024-06-28T08:47:36.163688",
     "exception": false,
     "start_time": "2024-06-28T08:47:35.782174",
     "status": "completed"
    },
    "tags": []
   },
   "outputs": [
    {
     "data": {
      "image/png": "[encoded data removed]",
      "text/plain": [
       "<Figure size 640x480 with 2 Axes>"
      ]
     },
     "metadata": {},
     "output_type": "display_data"
    },
    {
     "name": "stdout",
     "output_type": "stream",
     "text": [
      "              precision    recall  f1-score   support\n",
      "\n",
      "           0       0.63      0.66      0.64        58\n",
      "           1       0.44      0.38      0.40        45\n",
      "           2       0.11      0.12      0.12        16\n",
      "           3       0.10      0.14      0.12        14\n",
      "           4       0.00      0.00      0.00         5\n",
      "\n",
      "    accuracy                           0.43       138\n",
      "   macro avg       0.26      0.26      0.26       138\n",
      "weighted avg       0.43      0.43      0.43       138\n",
      " \n",
      " Accuracy Score:  42.75\n"
     ]
    }
   ],
   "source": [
    "from sklearn.tree import DecisionTreeClassifier\n",
    "dt_clf = DecisionTreeClassifier()\n",
    "model_accuracy_conf_clf(dt_clf,X_train,y_train,X_test,y_test)"
   ]
  },
  {
   "cell_type": "code",
   "execution_count": 61,
   "id": "3c5ab0ce",
   "metadata": {
    "execution": {
     "iopub.execute_input": "2024-06-28T08:47:36.204813Z",
     "iopub.status.busy": "2024-06-28T08:47:36.204324Z",
     "iopub.status.idle": "2024-06-28T08:47:36.516480Z",
     "shell.execute_reply": "2024-06-28T08:47:36.515243Z"
    },
    "papermill": {
     "duration": 0.335616,
     "end_time": "2024-06-28T08:47:36.519230",
     "exception": false,
     "start_time": "2024-06-28T08:47:36.183614",
     "status": "completed"
    },
    "tags": []
   },
   "outputs": [
    {
     "data": {
      "image/png": "[encoded data removed]",
      "text/plain": [
       "<Figure size 640x480 with 2 Axes>"
      ]
     },
     "metadata": {},
     "output_type": "display_data"
    },
    {
     "name": "stdout",
     "output_type": "stream",
     "text": [
      "              precision    recall  f1-score   support\n",
      "\n",
      "           0       0.70      0.79      0.74        58\n",
      "           1       0.43      0.62      0.51        45\n",
      "           2       0.00      0.00      0.00        16\n",
      "           3       0.29      0.14      0.19        14\n",
      "           4       0.00      0.00      0.00         5\n",
      "\n",
      "    accuracy                           0.55       138\n",
      "   macro avg       0.28      0.31      0.29       138\n",
      "weighted avg       0.46      0.55      0.50       138\n",
      " \n",
      " Accuracy Score:  55.07\n"
     ]
    }
   ],
   "source": [
    "from sklearn.svm import SVC\n",
    "svc_clf = SVC()\n",
    "model_accuracy_conf_clf(svc_clf,X_train,y_train,X_test,y_test)"
   ]
  },
  {
   "cell_type": "code",
   "execution_count": 62,
   "id": "43c4c6cd",
   "metadata": {
    "execution": {
     "iopub.execute_input": "2024-06-28T08:47:36.565118Z",
     "iopub.status.busy": "2024-06-28T08:47:36.564646Z",
     "iopub.status.idle": "2024-06-28T08:47:37.089257Z",
     "shell.execute_reply": "2024-06-28T08:47:37.088055Z"
    },
    "papermill": {
     "duration": 0.553647,
     "end_time": "2024-06-28T08:47:37.093257",
     "exception": false,
     "start_time": "2024-06-28T08:47:36.539610",
     "status": "completed"
    },
    "tags": []
   },
   "outputs": [
    {
     "data": {
      "image/png": "[encoded data removed]",
      "text/plain": [
       "<Figure size 640x480 with 2 Axes>"
      ]
     },
     "metadata": {},
     "output_type": "display_data"
    },
    {
     "name": "stdout",
     "output_type": "stream",
     "text": [
      "              precision    recall  f1-score   support\n",
      "\n",
      "           0       0.58      0.86      0.69        58\n",
      "           1       0.38      0.18      0.24        45\n",
      "           2       0.14      0.12      0.13        16\n",
      "           3       0.08      0.07      0.08        14\n",
      "           4       0.40      0.40      0.40         5\n",
      "\n",
      "    accuracy                           0.46       138\n",
      "   macro avg       0.32      0.33      0.31       138\n",
      "weighted avg       0.41      0.46      0.41       138\n",
      " \n",
      " Accuracy Score:  45.65\n"
     ]
    }
   ],
   "source": [
    "from sklearn.ensemble import AdaBoostClassifier\n",
    "ada_clf = AdaBoostClassifier(n_estimators=100, algorithm=\"SAMME.R\", random_state=0)\n",
    "model_accuracy_conf_clf(ada_clf,X_train,y_train,X_test,y_test)"
   ]
  },
  {
   "cell_type": "code",
   "execution_count": 63,
   "id": "99c7a1b0",
   "metadata": {
    "execution": {
     "iopub.execute_input": "2024-06-28T08:47:37.134147Z",
     "iopub.status.busy": "2024-06-28T08:47:37.133560Z",
     "iopub.status.idle": "2024-06-28T08:47:37.944967Z",
     "shell.execute_reply": "2024-06-28T08:47:37.943286Z"
    },
    "papermill": {
     "duration": 0.835517,
     "end_time": "2024-06-28T08:47:37.948429",
     "exception": false,
     "start_time": "2024-06-28T08:47:37.112912",
     "status": "completed"
    },
    "tags": []
   },
   "outputs": [
    {
     "data": {
      "image/png": "[encoded data removed]",
      "text/plain": [
       "<Figure size 640x480 with 2 Axes>"
      ]
     },
     "metadata": {},
     "output_type": "display_data"
    },
    {
     "name": "stdout",
     "output_type": "stream",
     "text": [
      "              precision    recall  f1-score   support\n",
      "\n",
      "           0       0.71      0.81      0.76        58\n",
      "           1       0.45      0.47      0.46        45\n",
      "           2       0.21      0.19      0.20        16\n",
      "           3       0.00      0.00      0.00        14\n",
      "           4       0.20      0.20      0.20         5\n",
      "\n",
      "    accuracy                           0.52       138\n",
      "   macro avg       0.31      0.33      0.32       138\n",
      "weighted avg       0.48      0.52      0.50       138\n",
      " \n",
      " Accuracy Score:  52.17\n"
     ]
    }
   ],
   "source": [
    "from sklearn.ensemble import GradientBoostingClassifier\n",
    "grad_clf = GradientBoostingClassifier(n_estimators=100, learning_rate=1.0,max_depth=1, random_state=0)\n",
    "model_accuracy_conf_clf(grad_clf,X_train,y_train,X_test,y_test)"
   ]
  },
  {
   "cell_type": "code",
   "execution_count": 64,
   "id": "35b8da1f",
   "metadata": {
    "execution": {
     "iopub.execute_input": "2024-06-28T08:47:37.989758Z",
     "iopub.status.busy": "2024-06-28T08:47:37.988925Z",
     "iopub.status.idle": "2024-06-28T08:47:38.980840Z",
     "shell.execute_reply": "2024-06-28T08:47:38.979421Z"
    },
    "papermill": {
     "duration": 1.019381,
     "end_time": "2024-06-28T08:47:38.987416",
     "exception": false,
     "start_time": "2024-06-28T08:47:37.968035",
     "status": "completed"
    },
    "tags": []
   },
   "outputs": [
    {
     "data": {
      "image/png": "[encoded data removed]",
      "text/plain": [
       "<Figure size 640x480 with 2 Axes>"
      ]
     },
     "metadata": {},
     "output_type": "display_data"
    },
    {
     "name": "stdout",
     "output_type": "stream",
     "text": [
      "              precision    recall  f1-score   support\n",
      "\n",
      "           0       0.71      0.78      0.74        58\n",
      "           1       0.42      0.44      0.43        45\n",
      "           2       0.12      0.12      0.12        16\n",
      "           3       0.18      0.14      0.16        14\n",
      "           4       0.00      0.00      0.00         5\n",
      "\n",
      "    accuracy                           0.50       138\n",
      "   macro avg       0.29      0.30      0.29       138\n",
      "weighted avg       0.47      0.50      0.48       138\n",
      " \n",
      " Accuracy Score:  50.0\n"
     ]
    }
   ],
   "source": [
    "import xgboost as xgb\n",
    "xg_clf = xgb.XGBClassifier()\n",
    "model_accuracy_conf_clf(xg_clf,X_train,y_train,X_test,y_test)"
   ]
  },
  {
   "cell_type": "code",
   "execution_count": null,
   "id": "edfa93cb",
   "metadata": {
    "papermill": {
     "duration": 0.02245,
     "end_time": "2024-06-28T08:47:39.032608",
     "exception": false,
     "start_time": "2024-06-28T08:47:39.010158",
     "status": "completed"
    },
    "tags": []
   },
   "outputs": [],
   "source": []
  }
 ],
 "metadata": {
  "kaggle": {
   "accelerator": "none",
   "dataSources": [
    {
     "datasetId": 5297623,
     "sourceId": 8808157,
     "sourceType": "datasetVersion"
    }
   ],
   "dockerImageVersionId": 30732,
   "isGpuEnabled": false,
   "isInternetEnabled": true,
   "language": "python",
   "sourceType": "notebook"
  },
  "kernelspec": {
   "display_name": "Python 3",
   "language": "python",
   "name": "python3"
  },
  "language_info": {
   "codemirror_mode": {
    "name": "ipython",
    "version": 3
   },
   "file_extension": ".py",
   "mimetype": "text/x-python",
   "name": "python",
   "nbconvert_exporter": "python",
   "pygments_lexer": "ipython3",
   "version": "3.10.13"
  },
  "papermill": {
   "default_parameters": {},
   "duration": 14.667607,
   "end_time": "2024-06-28T08:47:39.980506",
   "environment_variables": {},
   "exception": null,
   "input_path": "__notebook__.ipynb",
   "output_path": "__notebook__.ipynb",
   "parameters": {},
   "start_time": "2024-06-28T08:47:25.312899",
   "version": "2.5.0"
  }
 },
 "nbformat": 4,
 "nbformat_minor": 5
}
