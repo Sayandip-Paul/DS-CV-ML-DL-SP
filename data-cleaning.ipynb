{
 "cells": [
  {
   "cell_type": "code",
   "execution_count": 1,
   "id": "fe36a846",
   "metadata": {
    "_cell_guid": "b1076dfc-b9ad-4769-8c92-a6c4dae69d19",
    "_uuid": "8f2839f25d086af736a60e9eeb907d3b93b6e0e5",
    "execution": {
     "iopub.execute_input": "2024-06-20T11:12:19.147018Z",
     "iopub.status.busy": "2024-06-20T11:12:19.146237Z",
     "iopub.status.idle": "2024-06-20T11:12:21.749393Z",
     "shell.execute_reply": "2024-06-20T11:12:21.748284Z"
    },
    "papermill": {
     "duration": 2.616766,
     "end_time": "2024-06-20T11:12:21.752026",
     "exception": false,
     "start_time": "2024-06-20T11:12:19.135260",
     "status": "completed"
    },
    "tags": []
   },
   "outputs": [],
   "source": [
    "# This Python 3 environment comes with many helpful analytics libraries installed\n",
    "# It is defined by the kaggle/python Docker image: https://github.com/kaggle/docker-python\n",
    "# For example, here's several helpful packages to load\n",
    "\n",
    "import numpy as np # linear algebra\n",
    "import pandas as pd # data processing, CSV file I/O (e.g. pd.read_csv)\n",
    "from matplotlib import pyplot as plt\n",
    "from sklearn.impute import SimpleImputer\n",
    "from sklearn.preprocessing import OneHotEncoder,LabelEncoder\n",
    "from sklearn.model_selection import train_test_split"
   ]
  },
  {
   "cell_type": "code",
   "execution_count": 2,
   "id": "9f706231",
   "metadata": {
    "execution": {
     "iopub.execute_input": "2024-06-20T11:12:21.771148Z",
     "iopub.status.busy": "2024-06-20T11:12:21.770568Z",
     "iopub.status.idle": "2024-06-20T11:12:21.790708Z",
     "shell.execute_reply": "2024-06-20T11:12:21.789542Z"
    },
    "papermill": {
     "duration": 0.032714,
     "end_time": "2024-06-20T11:12:21.793494",
     "exception": false,
     "start_time": "2024-06-20T11:12:21.760780",
     "status": "completed"
    },
    "tags": []
   },
   "outputs": [],
   "source": [
    "df = pd.read_csv('/kaggle/input/df-cleaning/Country_age_salary_purchased.csv')"
   ]
  },
  {
   "cell_type": "code",
   "execution_count": 3,
   "id": "d5b0da78",
   "metadata": {
    "execution": {
     "iopub.execute_input": "2024-06-20T11:12:21.813081Z",
     "iopub.status.busy": "2024-06-20T11:12:21.812648Z",
     "iopub.status.idle": "2024-06-20T11:12:21.838181Z",
     "shell.execute_reply": "2024-06-20T11:12:21.837110Z"
    },
    "papermill": {
     "duration": 0.038315,
     "end_time": "2024-06-20T11:12:21.840635",
     "exception": false,
     "start_time": "2024-06-20T11:12:21.802320",
     "status": "completed"
    },
    "tags": []
   },
   "outputs": [
    {
     "data": {
      "text/html": [
       "<div>\n",
       "<style scoped>\n",
       "    .dataframe tbody tr th:only-of-type {\n",
       "        vertical-align: middle;\n",
       "    }\n",
       "\n",
       "    .dataframe tbody tr th {\n",
       "        vertical-align: top;\n",
       "    }\n",
       "\n",
       "    .dataframe thead th {\n",
       "        text-align: right;\n",
       "    }\n",
       "</style>\n",
       "<table border=\"1\" class=\"dataframe\">\n",
       "  <thead>\n",
       "    <tr style=\"text-align: right;\">\n",
       "      <th></th>\n",
       "      <th>Country</th>\n",
       "      <th>Age</th>\n",
       "      <th>Salary</th>\n",
       "      <th>Purchased</th>\n",
       "    </tr>\n",
       "  </thead>\n",
       "  <tbody>\n",
       "    <tr>\n",
       "      <th>0</th>\n",
       "      <td>France</td>\n",
       "      <td>44.0</td>\n",
       "      <td>72000.0</td>\n",
       "      <td>No</td>\n",
       "    </tr>\n",
       "    <tr>\n",
       "      <th>1</th>\n",
       "      <td>Spain</td>\n",
       "      <td>27.0</td>\n",
       "      <td>48000.0</td>\n",
       "      <td>Yes</td>\n",
       "    </tr>\n",
       "    <tr>\n",
       "      <th>2</th>\n",
       "      <td>Germany</td>\n",
       "      <td>30.0</td>\n",
       "      <td>54000.0</td>\n",
       "      <td>No</td>\n",
       "    </tr>\n",
       "    <tr>\n",
       "      <th>3</th>\n",
       "      <td>Spain</td>\n",
       "      <td>38.0</td>\n",
       "      <td>61000.0</td>\n",
       "      <td>No</td>\n",
       "    </tr>\n",
       "    <tr>\n",
       "      <th>4</th>\n",
       "      <td>Germany</td>\n",
       "      <td>40.0</td>\n",
       "      <td>NaN</td>\n",
       "      <td>Yes</td>\n",
       "    </tr>\n",
       "  </tbody>\n",
       "</table>\n",
       "</div>"
      ],
      "text/plain": [
       "   Country   Age   Salary Purchased\n",
       "0   France  44.0  72000.0        No\n",
       "1    Spain  27.0  48000.0       Yes\n",
       "2  Germany  30.0  54000.0        No\n",
       "3    Spain  38.0  61000.0        No\n",
       "4  Germany  40.0      NaN       Yes"
      ]
     },
     "execution_count": 3,
     "metadata": {},
     "output_type": "execute_result"
    }
   ],
   "source": [
    "df.head()"
   ]
  },
  {
   "cell_type": "code",
   "execution_count": 4,
   "id": "92056a29",
   "metadata": {
    "execution": {
     "iopub.execute_input": "2024-06-20T11:12:21.860562Z",
     "iopub.status.busy": "2024-06-20T11:12:21.860159Z",
     "iopub.status.idle": "2024-06-20T11:12:21.891403Z",
     "shell.execute_reply": "2024-06-20T11:12:21.889951Z"
    },
    "papermill": {
     "duration": 0.044903,
     "end_time": "2024-06-20T11:12:21.894370",
     "exception": false,
     "start_time": "2024-06-20T11:12:21.849467",
     "status": "completed"
    },
    "tags": []
   },
   "outputs": [
    {
     "name": "stdout",
     "output_type": "stream",
     "text": [
      "<class 'pandas.core.frame.DataFrame'>\n",
      "RangeIndex: 10 entries, 0 to 9\n",
      "Data columns (total 4 columns):\n",
      " #   Column     Non-Null Count  Dtype  \n",
      "---  ------     --------------  -----  \n",
      " 0   Country    10 non-null     object \n",
      " 1   Age        9 non-null      float64\n",
      " 2   Salary     9 non-null      float64\n",
      " 3   Purchased  10 non-null     object \n",
      "dtypes: float64(2), object(2)\n",
      "memory usage: 448.0+ bytes\n"
     ]
    }
   ],
   "source": [
    "df.info()"
   ]
  },
  {
   "cell_type": "code",
   "execution_count": 5,
   "id": "e3588acc",
   "metadata": {
    "execution": {
     "iopub.execute_input": "2024-06-20T11:12:21.914948Z",
     "iopub.status.busy": "2024-06-20T11:12:21.914512Z",
     "iopub.status.idle": "2024-06-20T11:12:21.924804Z",
     "shell.execute_reply": "2024-06-20T11:12:21.923591Z"
    },
    "papermill": {
     "duration": 0.023131,
     "end_time": "2024-06-20T11:12:21.927252",
     "exception": false,
     "start_time": "2024-06-20T11:12:21.904121",
     "status": "completed"
    },
    "tags": []
   },
   "outputs": [
    {
     "data": {
      "text/plain": [
       "Country      0\n",
       "Age          1\n",
       "Salary       1\n",
       "Purchased    0\n",
       "dtype: int64"
      ]
     },
     "execution_count": 5,
     "metadata": {},
     "output_type": "execute_result"
    }
   ],
   "source": [
    "df.isnull().sum()"
   ]
  },
  {
   "cell_type": "code",
   "execution_count": 6,
   "id": "fffb8ad2",
   "metadata": {
    "execution": {
     "iopub.execute_input": "2024-06-20T11:12:21.948118Z",
     "iopub.status.busy": "2024-06-20T11:12:21.947740Z",
     "iopub.status.idle": "2024-06-20T11:12:21.952762Z",
     "shell.execute_reply": "2024-06-20T11:12:21.951551Z"
    },
    "papermill": {
     "duration": 0.018237,
     "end_time": "2024-06-20T11:12:21.955072",
     "exception": false,
     "start_time": "2024-06-20T11:12:21.936835",
     "status": "completed"
    },
    "tags": []
   },
   "outputs": [],
   "source": [
    "# Taking care of Missing Data\n",
    "imputer = SimpleImputer(strategy = 'mean')"
   ]
  },
  {
   "cell_type": "code",
   "execution_count": 7,
   "id": "2bdd5cb4",
   "metadata": {
    "execution": {
     "iopub.execute_input": "2024-06-20T11:12:21.975499Z",
     "iopub.status.busy": "2024-06-20T11:12:21.975098Z",
     "iopub.status.idle": "2024-06-20T11:12:21.987120Z",
     "shell.execute_reply": "2024-06-20T11:12:21.986017Z"
    },
    "papermill": {
     "duration": 0.025132,
     "end_time": "2024-06-20T11:12:21.989631",
     "exception": false,
     "start_time": "2024-06-20T11:12:21.964499",
     "status": "completed"
    },
    "tags": []
   },
   "outputs": [],
   "source": [
    "df['Salary'] = imputer.fit_transform(df[['Salary']])"
   ]
  },
  {
   "cell_type": "code",
   "execution_count": 8,
   "id": "0a70d46e",
   "metadata": {
    "execution": {
     "iopub.execute_input": "2024-06-20T11:12:22.010070Z",
     "iopub.status.busy": "2024-06-20T11:12:22.009646Z",
     "iopub.status.idle": "2024-06-20T11:12:22.024321Z",
     "shell.execute_reply": "2024-06-20T11:12:22.023270Z"
    },
    "papermill": {
     "duration": 0.02727,
     "end_time": "2024-06-20T11:12:22.026669",
     "exception": false,
     "start_time": "2024-06-20T11:12:21.999399",
     "status": "completed"
    },
    "tags": []
   },
   "outputs": [
    {
     "data": {
      "text/html": [
       "<div>\n",
       "<style scoped>\n",
       "    .dataframe tbody tr th:only-of-type {\n",
       "        vertical-align: middle;\n",
       "    }\n",
       "\n",
       "    .dataframe tbody tr th {\n",
       "        vertical-align: top;\n",
       "    }\n",
       "\n",
       "    .dataframe thead th {\n",
       "        text-align: right;\n",
       "    }\n",
       "</style>\n",
       "<table border=\"1\" class=\"dataframe\">\n",
       "  <thead>\n",
       "    <tr style=\"text-align: right;\">\n",
       "      <th></th>\n",
       "      <th>Country</th>\n",
       "      <th>Age</th>\n",
       "      <th>Salary</th>\n",
       "      <th>Purchased</th>\n",
       "    </tr>\n",
       "  </thead>\n",
       "  <tbody>\n",
       "    <tr>\n",
       "      <th>0</th>\n",
       "      <td>France</td>\n",
       "      <td>44.0</td>\n",
       "      <td>72000.000000</td>\n",
       "      <td>No</td>\n",
       "    </tr>\n",
       "    <tr>\n",
       "      <th>1</th>\n",
       "      <td>Spain</td>\n",
       "      <td>27.0</td>\n",
       "      <td>48000.000000</td>\n",
       "      <td>Yes</td>\n",
       "    </tr>\n",
       "    <tr>\n",
       "      <th>2</th>\n",
       "      <td>Germany</td>\n",
       "      <td>30.0</td>\n",
       "      <td>54000.000000</td>\n",
       "      <td>No</td>\n",
       "    </tr>\n",
       "    <tr>\n",
       "      <th>3</th>\n",
       "      <td>Spain</td>\n",
       "      <td>38.0</td>\n",
       "      <td>61000.000000</td>\n",
       "      <td>No</td>\n",
       "    </tr>\n",
       "    <tr>\n",
       "      <th>4</th>\n",
       "      <td>Germany</td>\n",
       "      <td>40.0</td>\n",
       "      <td>63777.777778</td>\n",
       "      <td>Yes</td>\n",
       "    </tr>\n",
       "    <tr>\n",
       "      <th>5</th>\n",
       "      <td>France</td>\n",
       "      <td>35.0</td>\n",
       "      <td>58000.000000</td>\n",
       "      <td>Yes</td>\n",
       "    </tr>\n",
       "    <tr>\n",
       "      <th>6</th>\n",
       "      <td>Spain</td>\n",
       "      <td>NaN</td>\n",
       "      <td>52000.000000</td>\n",
       "      <td>No</td>\n",
       "    </tr>\n",
       "    <tr>\n",
       "      <th>7</th>\n",
       "      <td>France</td>\n",
       "      <td>48.0</td>\n",
       "      <td>79000.000000</td>\n",
       "      <td>Yes</td>\n",
       "    </tr>\n",
       "    <tr>\n",
       "      <th>8</th>\n",
       "      <td>Germany</td>\n",
       "      <td>50.0</td>\n",
       "      <td>83000.000000</td>\n",
       "      <td>No</td>\n",
       "    </tr>\n",
       "    <tr>\n",
       "      <th>9</th>\n",
       "      <td>France</td>\n",
       "      <td>37.0</td>\n",
       "      <td>67000.000000</td>\n",
       "      <td>Yes</td>\n",
       "    </tr>\n",
       "  </tbody>\n",
       "</table>\n",
       "</div>"
      ],
      "text/plain": [
       "   Country   Age        Salary Purchased\n",
       "0   France  44.0  72000.000000        No\n",
       "1    Spain  27.0  48000.000000       Yes\n",
       "2  Germany  30.0  54000.000000        No\n",
       "3    Spain  38.0  61000.000000        No\n",
       "4  Germany  40.0  63777.777778       Yes\n",
       "5   France  35.0  58000.000000       Yes\n",
       "6    Spain   NaN  52000.000000        No\n",
       "7   France  48.0  79000.000000       Yes\n",
       "8  Germany  50.0  83000.000000        No\n",
       "9   France  37.0  67000.000000       Yes"
      ]
     },
     "execution_count": 8,
     "metadata": {},
     "output_type": "execute_result"
    }
   ],
   "source": [
    "df"
   ]
  },
  {
   "cell_type": "code",
   "execution_count": 9,
   "id": "c666bfd6",
   "metadata": {
    "execution": {
     "iopub.execute_input": "2024-06-20T11:12:22.046897Z",
     "iopub.status.busy": "2024-06-20T11:12:22.046490Z",
     "iopub.status.idle": "2024-06-20T11:12:22.057642Z",
     "shell.execute_reply": "2024-06-20T11:12:22.056456Z"
    },
    "papermill": {
     "duration": 0.023989,
     "end_time": "2024-06-20T11:12:22.060041",
     "exception": false,
     "start_time": "2024-06-20T11:12:22.036052",
     "status": "completed"
    },
    "tags": []
   },
   "outputs": [],
   "source": [
    "df['Age'] = imputer.fit_transform(df[['Age']])"
   ]
  },
  {
   "cell_type": "code",
   "execution_count": 10,
   "id": "662f68c4",
   "metadata": {
    "execution": {
     "iopub.execute_input": "2024-06-20T11:12:22.080347Z",
     "iopub.status.busy": "2024-06-20T11:12:22.079946Z",
     "iopub.status.idle": "2024-06-20T11:12:22.092539Z",
     "shell.execute_reply": "2024-06-20T11:12:22.091315Z"
    },
    "papermill": {
     "duration": 0.025476,
     "end_time": "2024-06-20T11:12:22.094906",
     "exception": false,
     "start_time": "2024-06-20T11:12:22.069430",
     "status": "completed"
    },
    "tags": []
   },
   "outputs": [
    {
     "data": {
      "text/html": [
       "<div>\n",
       "<style scoped>\n",
       "    .dataframe tbody tr th:only-of-type {\n",
       "        vertical-align: middle;\n",
       "    }\n",
       "\n",
       "    .dataframe tbody tr th {\n",
       "        vertical-align: top;\n",
       "    }\n",
       "\n",
       "    .dataframe thead th {\n",
       "        text-align: right;\n",
       "    }\n",
       "</style>\n",
       "<table border=\"1\" class=\"dataframe\">\n",
       "  <thead>\n",
       "    <tr style=\"text-align: right;\">\n",
       "      <th></th>\n",
       "      <th>Country</th>\n",
       "      <th>Age</th>\n",
       "      <th>Salary</th>\n",
       "      <th>Purchased</th>\n",
       "    </tr>\n",
       "  </thead>\n",
       "  <tbody>\n",
       "    <tr>\n",
       "      <th>0</th>\n",
       "      <td>France</td>\n",
       "      <td>44.000000</td>\n",
       "      <td>72000.000000</td>\n",
       "      <td>No</td>\n",
       "    </tr>\n",
       "    <tr>\n",
       "      <th>1</th>\n",
       "      <td>Spain</td>\n",
       "      <td>27.000000</td>\n",
       "      <td>48000.000000</td>\n",
       "      <td>Yes</td>\n",
       "    </tr>\n",
       "    <tr>\n",
       "      <th>2</th>\n",
       "      <td>Germany</td>\n",
       "      <td>30.000000</td>\n",
       "      <td>54000.000000</td>\n",
       "      <td>No</td>\n",
       "    </tr>\n",
       "    <tr>\n",
       "      <th>3</th>\n",
       "      <td>Spain</td>\n",
       "      <td>38.000000</td>\n",
       "      <td>61000.000000</td>\n",
       "      <td>No</td>\n",
       "    </tr>\n",
       "    <tr>\n",
       "      <th>4</th>\n",
       "      <td>Germany</td>\n",
       "      <td>40.000000</td>\n",
       "      <td>63777.777778</td>\n",
       "      <td>Yes</td>\n",
       "    </tr>\n",
       "    <tr>\n",
       "      <th>5</th>\n",
       "      <td>France</td>\n",
       "      <td>35.000000</td>\n",
       "      <td>58000.000000</td>\n",
       "      <td>Yes</td>\n",
       "    </tr>\n",
       "    <tr>\n",
       "      <th>6</th>\n",
       "      <td>Spain</td>\n",
       "      <td>38.777778</td>\n",
       "      <td>52000.000000</td>\n",
       "      <td>No</td>\n",
       "    </tr>\n",
       "    <tr>\n",
       "      <th>7</th>\n",
       "      <td>France</td>\n",
       "      <td>48.000000</td>\n",
       "      <td>79000.000000</td>\n",
       "      <td>Yes</td>\n",
       "    </tr>\n",
       "    <tr>\n",
       "      <th>8</th>\n",
       "      <td>Germany</td>\n",
       "      <td>50.000000</td>\n",
       "      <td>83000.000000</td>\n",
       "      <td>No</td>\n",
       "    </tr>\n",
       "    <tr>\n",
       "      <th>9</th>\n",
       "      <td>France</td>\n",
       "      <td>37.000000</td>\n",
       "      <td>67000.000000</td>\n",
       "      <td>Yes</td>\n",
       "    </tr>\n",
       "  </tbody>\n",
       "</table>\n",
       "</div>"
      ],
      "text/plain": [
       "   Country        Age        Salary Purchased\n",
       "0   France  44.000000  72000.000000        No\n",
       "1    Spain  27.000000  48000.000000       Yes\n",
       "2  Germany  30.000000  54000.000000        No\n",
       "3    Spain  38.000000  61000.000000        No\n",
       "4  Germany  40.000000  63777.777778       Yes\n",
       "5   France  35.000000  58000.000000       Yes\n",
       "6    Spain  38.777778  52000.000000        No\n",
       "7   France  48.000000  79000.000000       Yes\n",
       "8  Germany  50.000000  83000.000000        No\n",
       "9   France  37.000000  67000.000000       Yes"
      ]
     },
     "execution_count": 10,
     "metadata": {},
     "output_type": "execute_result"
    }
   ],
   "source": [
    "df"
   ]
  },
  {
   "cell_type": "code",
   "execution_count": 11,
   "id": "3848c4ef",
   "metadata": {
    "execution": {
     "iopub.execute_input": "2024-06-20T11:12:22.116224Z",
     "iopub.status.busy": "2024-06-20T11:12:22.115085Z",
     "iopub.status.idle": "2024-06-20T11:12:22.129683Z",
     "shell.execute_reply": "2024-06-20T11:12:22.128363Z"
    },
    "papermill": {
     "duration": 0.02806,
     "end_time": "2024-06-20T11:12:22.132441",
     "exception": false,
     "start_time": "2024-06-20T11:12:22.104381",
     "status": "completed"
    },
    "tags": []
   },
   "outputs": [],
   "source": [
    "encoder = OneHotEncoder(sparse_output = False)\n",
    "en_countries = encoder.fit_transform(df[['Country']])"
   ]
  },
  {
   "cell_type": "code",
   "execution_count": 12,
   "id": "927f1ba1",
   "metadata": {
    "execution": {
     "iopub.execute_input": "2024-06-20T11:12:22.153751Z",
     "iopub.status.busy": "2024-06-20T11:12:22.152586Z",
     "iopub.status.idle": "2024-06-20T11:12:22.160864Z",
     "shell.execute_reply": "2024-06-20T11:12:22.159727Z"
    },
    "papermill": {
     "duration": 0.021183,
     "end_time": "2024-06-20T11:12:22.163158",
     "exception": false,
     "start_time": "2024-06-20T11:12:22.141975",
     "status": "completed"
    },
    "tags": []
   },
   "outputs": [
    {
     "data": {
      "text/plain": [
       "array([[1., 0., 0.],\n",
       "       [0., 0., 1.],\n",
       "       [0., 1., 0.],\n",
       "       [0., 0., 1.],\n",
       "       [0., 1., 0.],\n",
       "       [1., 0., 0.],\n",
       "       [0., 0., 1.],\n",
       "       [1., 0., 0.],\n",
       "       [0., 1., 0.],\n",
       "       [1., 0., 0.]])"
      ]
     },
     "execution_count": 12,
     "metadata": {},
     "output_type": "execute_result"
    }
   ],
   "source": [
    "en_countries"
   ]
  },
  {
   "cell_type": "code",
   "execution_count": 13,
   "id": "c36858f5",
   "metadata": {
    "execution": {
     "iopub.execute_input": "2024-06-20T11:12:22.184066Z",
     "iopub.status.busy": "2024-06-20T11:12:22.183686Z",
     "iopub.status.idle": "2024-06-20T11:12:22.188805Z",
     "shell.execute_reply": "2024-06-20T11:12:22.187633Z"
    },
    "papermill": {
     "duration": 0.018198,
     "end_time": "2024-06-20T11:12:22.191037",
     "exception": false,
     "start_time": "2024-06-20T11:12:22.172839",
     "status": "completed"
    },
    "tags": []
   },
   "outputs": [],
   "source": [
    "en_countries_columns = encoder.get_feature_names_out(['Country'])"
   ]
  },
  {
   "cell_type": "code",
   "execution_count": 14,
   "id": "5c223a70",
   "metadata": {
    "execution": {
     "iopub.execute_input": "2024-06-20T11:12:22.212319Z",
     "iopub.status.busy": "2024-06-20T11:12:22.211910Z",
     "iopub.status.idle": "2024-06-20T11:12:22.217401Z",
     "shell.execute_reply": "2024-06-20T11:12:22.216135Z"
    },
    "papermill": {
     "duration": 0.018819,
     "end_time": "2024-06-20T11:12:22.220010",
     "exception": false,
     "start_time": "2024-06-20T11:12:22.201191",
     "status": "completed"
    },
    "tags": []
   },
   "outputs": [],
   "source": [
    "en_countries_df = pd.DataFrame(en_countries,columns = en_countries_columns)"
   ]
  },
  {
   "cell_type": "code",
   "execution_count": 15,
   "id": "db5f04ea",
   "metadata": {
    "execution": {
     "iopub.execute_input": "2024-06-20T11:12:22.242414Z",
     "iopub.status.busy": "2024-06-20T11:12:22.242054Z",
     "iopub.status.idle": "2024-06-20T11:12:22.250530Z",
     "shell.execute_reply": "2024-06-20T11:12:22.249174Z"
    },
    "papermill": {
     "duration": 0.022968,
     "end_time": "2024-06-20T11:12:22.252925",
     "exception": false,
     "start_time": "2024-06-20T11:12:22.229957",
     "status": "completed"
    },
    "tags": []
   },
   "outputs": [],
   "source": [
    "en_countries_df = pd.DataFrame(en_countries,columns = en_countries_columns)\n",
    "df = pd.concat([df.drop(columns = ['Country']),en_countries_df],axis = 1)"
   ]
  },
  {
   "cell_type": "code",
   "execution_count": 16,
   "id": "a3ea8851",
   "metadata": {
    "execution": {
     "iopub.execute_input": "2024-06-20T11:12:22.274262Z",
     "iopub.status.busy": "2024-06-20T11:12:22.273897Z",
     "iopub.status.idle": "2024-06-20T11:12:22.290912Z",
     "shell.execute_reply": "2024-06-20T11:12:22.289628Z"
    },
    "papermill": {
     "duration": 0.030623,
     "end_time": "2024-06-20T11:12:22.293474",
     "exception": false,
     "start_time": "2024-06-20T11:12:22.262851",
     "status": "completed"
    },
    "tags": []
   },
   "outputs": [
    {
     "data": {
      "text/html": [
       "<div>\n",
       "<style scoped>\n",
       "    .dataframe tbody tr th:only-of-type {\n",
       "        vertical-align: middle;\n",
       "    }\n",
       "\n",
       "    .dataframe tbody tr th {\n",
       "        vertical-align: top;\n",
       "    }\n",
       "\n",
       "    .dataframe thead th {\n",
       "        text-align: right;\n",
       "    }\n",
       "</style>\n",
       "<table border=\"1\" class=\"dataframe\">\n",
       "  <thead>\n",
       "    <tr style=\"text-align: right;\">\n",
       "      <th></th>\n",
       "      <th>Age</th>\n",
       "      <th>Salary</th>\n",
       "      <th>Purchased</th>\n",
       "      <th>Country_France</th>\n",
       "      <th>Country_Germany</th>\n",
       "      <th>Country_Spain</th>\n",
       "    </tr>\n",
       "  </thead>\n",
       "  <tbody>\n",
       "    <tr>\n",
       "      <th>0</th>\n",
       "      <td>44.000000</td>\n",
       "      <td>72000.000000</td>\n",
       "      <td>No</td>\n",
       "      <td>1.0</td>\n",
       "      <td>0.0</td>\n",
       "      <td>0.0</td>\n",
       "    </tr>\n",
       "    <tr>\n",
       "      <th>1</th>\n",
       "      <td>27.000000</td>\n",
       "      <td>48000.000000</td>\n",
       "      <td>Yes</td>\n",
       "      <td>0.0</td>\n",
       "      <td>0.0</td>\n",
       "      <td>1.0</td>\n",
       "    </tr>\n",
       "    <tr>\n",
       "      <th>2</th>\n",
       "      <td>30.000000</td>\n",
       "      <td>54000.000000</td>\n",
       "      <td>No</td>\n",
       "      <td>0.0</td>\n",
       "      <td>1.0</td>\n",
       "      <td>0.0</td>\n",
       "    </tr>\n",
       "    <tr>\n",
       "      <th>3</th>\n",
       "      <td>38.000000</td>\n",
       "      <td>61000.000000</td>\n",
       "      <td>No</td>\n",
       "      <td>0.0</td>\n",
       "      <td>0.0</td>\n",
       "      <td>1.0</td>\n",
       "    </tr>\n",
       "    <tr>\n",
       "      <th>4</th>\n",
       "      <td>40.000000</td>\n",
       "      <td>63777.777778</td>\n",
       "      <td>Yes</td>\n",
       "      <td>0.0</td>\n",
       "      <td>1.0</td>\n",
       "      <td>0.0</td>\n",
       "    </tr>\n",
       "    <tr>\n",
       "      <th>5</th>\n",
       "      <td>35.000000</td>\n",
       "      <td>58000.000000</td>\n",
       "      <td>Yes</td>\n",
       "      <td>1.0</td>\n",
       "      <td>0.0</td>\n",
       "      <td>0.0</td>\n",
       "    </tr>\n",
       "    <tr>\n",
       "      <th>6</th>\n",
       "      <td>38.777778</td>\n",
       "      <td>52000.000000</td>\n",
       "      <td>No</td>\n",
       "      <td>0.0</td>\n",
       "      <td>0.0</td>\n",
       "      <td>1.0</td>\n",
       "    </tr>\n",
       "    <tr>\n",
       "      <th>7</th>\n",
       "      <td>48.000000</td>\n",
       "      <td>79000.000000</td>\n",
       "      <td>Yes</td>\n",
       "      <td>1.0</td>\n",
       "      <td>0.0</td>\n",
       "      <td>0.0</td>\n",
       "    </tr>\n",
       "    <tr>\n",
       "      <th>8</th>\n",
       "      <td>50.000000</td>\n",
       "      <td>83000.000000</td>\n",
       "      <td>No</td>\n",
       "      <td>0.0</td>\n",
       "      <td>1.0</td>\n",
       "      <td>0.0</td>\n",
       "    </tr>\n",
       "    <tr>\n",
       "      <th>9</th>\n",
       "      <td>37.000000</td>\n",
       "      <td>67000.000000</td>\n",
       "      <td>Yes</td>\n",
       "      <td>1.0</td>\n",
       "      <td>0.0</td>\n",
       "      <td>0.0</td>\n",
       "    </tr>\n",
       "  </tbody>\n",
       "</table>\n",
       "</div>"
      ],
      "text/plain": [
       "         Age        Salary Purchased  Country_France  Country_Germany  \\\n",
       "0  44.000000  72000.000000        No             1.0              0.0   \n",
       "1  27.000000  48000.000000       Yes             0.0              0.0   \n",
       "2  30.000000  54000.000000        No             0.0              1.0   \n",
       "3  38.000000  61000.000000        No             0.0              0.0   \n",
       "4  40.000000  63777.777778       Yes             0.0              1.0   \n",
       "5  35.000000  58000.000000       Yes             1.0              0.0   \n",
       "6  38.777778  52000.000000        No             0.0              0.0   \n",
       "7  48.000000  79000.000000       Yes             1.0              0.0   \n",
       "8  50.000000  83000.000000        No             0.0              1.0   \n",
       "9  37.000000  67000.000000       Yes             1.0              0.0   \n",
       "\n",
       "   Country_Spain  \n",
       "0            0.0  \n",
       "1            1.0  \n",
       "2            0.0  \n",
       "3            1.0  \n",
       "4            0.0  \n",
       "5            0.0  \n",
       "6            1.0  \n",
       "7            0.0  \n",
       "8            0.0  \n",
       "9            0.0  "
      ]
     },
     "execution_count": 16,
     "metadata": {},
     "output_type": "execute_result"
    }
   ],
   "source": [
    "df"
   ]
  },
  {
   "cell_type": "code",
   "execution_count": 17,
   "id": "3eaf05b4",
   "metadata": {
    "execution": {
     "iopub.execute_input": "2024-06-20T11:12:22.317037Z",
     "iopub.status.busy": "2024-06-20T11:12:22.315643Z",
     "iopub.status.idle": "2024-06-20T11:12:22.322086Z",
     "shell.execute_reply": "2024-06-20T11:12:22.320896Z"
    },
    "papermill": {
     "duration": 0.02063,
     "end_time": "2024-06-20T11:12:22.324456",
     "exception": false,
     "start_time": "2024-06-20T11:12:22.303826",
     "status": "completed"
    },
    "tags": []
   },
   "outputs": [],
   "source": [
    "# Apply Label Encoder to the purchased columns\n",
    "label_encoder = LabelEncoder()\n",
    "df['Purchased'] = label_encoder.fit_transform(df['Purchased'])"
   ]
  },
  {
   "cell_type": "code",
   "execution_count": 18,
   "id": "448bef67",
   "metadata": {
    "execution": {
     "iopub.execute_input": "2024-06-20T11:12:22.345999Z",
     "iopub.status.busy": "2024-06-20T11:12:22.345614Z",
     "iopub.status.idle": "2024-06-20T11:12:22.360750Z",
     "shell.execute_reply": "2024-06-20T11:12:22.359578Z"
    },
    "papermill": {
     "duration": 0.028013,
     "end_time": "2024-06-20T11:12:22.362851",
     "exception": false,
     "start_time": "2024-06-20T11:12:22.334838",
     "status": "completed"
    },
    "tags": []
   },
   "outputs": [
    {
     "data": {
      "text/html": [
       "<div>\n",
       "<style scoped>\n",
       "    .dataframe tbody tr th:only-of-type {\n",
       "        vertical-align: middle;\n",
       "    }\n",
       "\n",
       "    .dataframe tbody tr th {\n",
       "        vertical-align: top;\n",
       "    }\n",
       "\n",
       "    .dataframe thead th {\n",
       "        text-align: right;\n",
       "    }\n",
       "</style>\n",
       "<table border=\"1\" class=\"dataframe\">\n",
       "  <thead>\n",
       "    <tr style=\"text-align: right;\">\n",
       "      <th></th>\n",
       "      <th>Age</th>\n",
       "      <th>Salary</th>\n",
       "      <th>Purchased</th>\n",
       "      <th>Country_France</th>\n",
       "      <th>Country_Germany</th>\n",
       "      <th>Country_Spain</th>\n",
       "    </tr>\n",
       "  </thead>\n",
       "  <tbody>\n",
       "    <tr>\n",
       "      <th>0</th>\n",
       "      <td>44.000000</td>\n",
       "      <td>72000.000000</td>\n",
       "      <td>0</td>\n",
       "      <td>1.0</td>\n",
       "      <td>0.0</td>\n",
       "      <td>0.0</td>\n",
       "    </tr>\n",
       "    <tr>\n",
       "      <th>1</th>\n",
       "      <td>27.000000</td>\n",
       "      <td>48000.000000</td>\n",
       "      <td>1</td>\n",
       "      <td>0.0</td>\n",
       "      <td>0.0</td>\n",
       "      <td>1.0</td>\n",
       "    </tr>\n",
       "    <tr>\n",
       "      <th>2</th>\n",
       "      <td>30.000000</td>\n",
       "      <td>54000.000000</td>\n",
       "      <td>0</td>\n",
       "      <td>0.0</td>\n",
       "      <td>1.0</td>\n",
       "      <td>0.0</td>\n",
       "    </tr>\n",
       "    <tr>\n",
       "      <th>3</th>\n",
       "      <td>38.000000</td>\n",
       "      <td>61000.000000</td>\n",
       "      <td>0</td>\n",
       "      <td>0.0</td>\n",
       "      <td>0.0</td>\n",
       "      <td>1.0</td>\n",
       "    </tr>\n",
       "    <tr>\n",
       "      <th>4</th>\n",
       "      <td>40.000000</td>\n",
       "      <td>63777.777778</td>\n",
       "      <td>1</td>\n",
       "      <td>0.0</td>\n",
       "      <td>1.0</td>\n",
       "      <td>0.0</td>\n",
       "    </tr>\n",
       "    <tr>\n",
       "      <th>5</th>\n",
       "      <td>35.000000</td>\n",
       "      <td>58000.000000</td>\n",
       "      <td>1</td>\n",
       "      <td>1.0</td>\n",
       "      <td>0.0</td>\n",
       "      <td>0.0</td>\n",
       "    </tr>\n",
       "    <tr>\n",
       "      <th>6</th>\n",
       "      <td>38.777778</td>\n",
       "      <td>52000.000000</td>\n",
       "      <td>0</td>\n",
       "      <td>0.0</td>\n",
       "      <td>0.0</td>\n",
       "      <td>1.0</td>\n",
       "    </tr>\n",
       "    <tr>\n",
       "      <th>7</th>\n",
       "      <td>48.000000</td>\n",
       "      <td>79000.000000</td>\n",
       "      <td>1</td>\n",
       "      <td>1.0</td>\n",
       "      <td>0.0</td>\n",
       "      <td>0.0</td>\n",
       "    </tr>\n",
       "    <tr>\n",
       "      <th>8</th>\n",
       "      <td>50.000000</td>\n",
       "      <td>83000.000000</td>\n",
       "      <td>0</td>\n",
       "      <td>0.0</td>\n",
       "      <td>1.0</td>\n",
       "      <td>0.0</td>\n",
       "    </tr>\n",
       "    <tr>\n",
       "      <th>9</th>\n",
       "      <td>37.000000</td>\n",
       "      <td>67000.000000</td>\n",
       "      <td>1</td>\n",
       "      <td>1.0</td>\n",
       "      <td>0.0</td>\n",
       "      <td>0.0</td>\n",
       "    </tr>\n",
       "  </tbody>\n",
       "</table>\n",
       "</div>"
      ],
      "text/plain": [
       "         Age        Salary  Purchased  Country_France  Country_Germany  \\\n",
       "0  44.000000  72000.000000          0             1.0              0.0   \n",
       "1  27.000000  48000.000000          1             0.0              0.0   \n",
       "2  30.000000  54000.000000          0             0.0              1.0   \n",
       "3  38.000000  61000.000000          0             0.0              0.0   \n",
       "4  40.000000  63777.777778          1             0.0              1.0   \n",
       "5  35.000000  58000.000000          1             1.0              0.0   \n",
       "6  38.777778  52000.000000          0             0.0              0.0   \n",
       "7  48.000000  79000.000000          1             1.0              0.0   \n",
       "8  50.000000  83000.000000          0             0.0              1.0   \n",
       "9  37.000000  67000.000000          1             1.0              0.0   \n",
       "\n",
       "   Country_Spain  \n",
       "0            0.0  \n",
       "1            1.0  \n",
       "2            0.0  \n",
       "3            1.0  \n",
       "4            0.0  \n",
       "5            0.0  \n",
       "6            1.0  \n",
       "7            0.0  \n",
       "8            0.0  \n",
       "9            0.0  "
      ]
     },
     "execution_count": 18,
     "metadata": {},
     "output_type": "execute_result"
    }
   ],
   "source": [
    "df"
   ]
  },
  {
   "cell_type": "code",
   "execution_count": 19,
   "id": "38c55a72",
   "metadata": {
    "execution": {
     "iopub.execute_input": "2024-06-20T11:12:22.384903Z",
     "iopub.status.busy": "2024-06-20T11:12:22.384265Z",
     "iopub.status.idle": "2024-06-20T11:12:22.395889Z",
     "shell.execute_reply": "2024-06-20T11:12:22.394207Z"
    },
    "papermill": {
     "duration": 0.025266,
     "end_time": "2024-06-20T11:12:22.398143",
     "exception": false,
     "start_time": "2024-06-20T11:12:22.372877",
     "status": "completed"
    },
    "tags": []
   },
   "outputs": [
    {
     "name": "stdout",
     "output_type": "stream",
     "text": [
      "<class 'pandas.core.frame.DataFrame'>\n",
      "RangeIndex: 10 entries, 0 to 9\n",
      "Data columns (total 6 columns):\n",
      " #   Column           Non-Null Count  Dtype  \n",
      "---  ------           --------------  -----  \n",
      " 0   Age              10 non-null     float64\n",
      " 1   Salary           10 non-null     float64\n",
      " 2   Purchased        10 non-null     int64  \n",
      " 3   Country_France   10 non-null     float64\n",
      " 4   Country_Germany  10 non-null     float64\n",
      " 5   Country_Spain    10 non-null     float64\n",
      "dtypes: float64(5), int64(1)\n",
      "memory usage: 608.0 bytes\n"
     ]
    }
   ],
   "source": [
    "df.info()"
   ]
  },
  {
   "cell_type": "code",
   "execution_count": 20,
   "id": "7796a0c8",
   "metadata": {
    "execution": {
     "iopub.execute_input": "2024-06-20T11:12:22.419990Z",
     "iopub.status.busy": "2024-06-20T11:12:22.419211Z",
     "iopub.status.idle": "2024-06-20T11:12:22.425069Z",
     "shell.execute_reply": "2024-06-20T11:12:22.423914Z"
    },
    "papermill": {
     "duration": 0.019156,
     "end_time": "2024-06-20T11:12:22.427301",
     "exception": false,
     "start_time": "2024-06-20T11:12:22.408145",
     "status": "completed"
    },
    "tags": []
   },
   "outputs": [],
   "source": [
    "X = df.drop(columns = 'Purchased',axis = 1)"
   ]
  },
  {
   "cell_type": "code",
   "execution_count": 21,
   "id": "90592b3a",
   "metadata": {
    "execution": {
     "iopub.execute_input": "2024-06-20T11:12:22.449588Z",
     "iopub.status.busy": "2024-06-20T11:12:22.448629Z",
     "iopub.status.idle": "2024-06-20T11:12:22.464062Z",
     "shell.execute_reply": "2024-06-20T11:12:22.462833Z"
    },
    "papermill": {
     "duration": 0.029016,
     "end_time": "2024-06-20T11:12:22.466404",
     "exception": false,
     "start_time": "2024-06-20T11:12:22.437388",
     "status": "completed"
    },
    "tags": []
   },
   "outputs": [
    {
     "data": {
      "text/html": [
       "<div>\n",
       "<style scoped>\n",
       "    .dataframe tbody tr th:only-of-type {\n",
       "        vertical-align: middle;\n",
       "    }\n",
       "\n",
       "    .dataframe tbody tr th {\n",
       "        vertical-align: top;\n",
       "    }\n",
       "\n",
       "    .dataframe thead th {\n",
       "        text-align: right;\n",
       "    }\n",
       "</style>\n",
       "<table border=\"1\" class=\"dataframe\">\n",
       "  <thead>\n",
       "    <tr style=\"text-align: right;\">\n",
       "      <th></th>\n",
       "      <th>Age</th>\n",
       "      <th>Salary</th>\n",
       "      <th>Country_France</th>\n",
       "      <th>Country_Germany</th>\n",
       "      <th>Country_Spain</th>\n",
       "    </tr>\n",
       "  </thead>\n",
       "  <tbody>\n",
       "    <tr>\n",
       "      <th>0</th>\n",
       "      <td>44.000000</td>\n",
       "      <td>72000.000000</td>\n",
       "      <td>1.0</td>\n",
       "      <td>0.0</td>\n",
       "      <td>0.0</td>\n",
       "    </tr>\n",
       "    <tr>\n",
       "      <th>1</th>\n",
       "      <td>27.000000</td>\n",
       "      <td>48000.000000</td>\n",
       "      <td>0.0</td>\n",
       "      <td>0.0</td>\n",
       "      <td>1.0</td>\n",
       "    </tr>\n",
       "    <tr>\n",
       "      <th>2</th>\n",
       "      <td>30.000000</td>\n",
       "      <td>54000.000000</td>\n",
       "      <td>0.0</td>\n",
       "      <td>1.0</td>\n",
       "      <td>0.0</td>\n",
       "    </tr>\n",
       "    <tr>\n",
       "      <th>3</th>\n",
       "      <td>38.000000</td>\n",
       "      <td>61000.000000</td>\n",
       "      <td>0.0</td>\n",
       "      <td>0.0</td>\n",
       "      <td>1.0</td>\n",
       "    </tr>\n",
       "    <tr>\n",
       "      <th>4</th>\n",
       "      <td>40.000000</td>\n",
       "      <td>63777.777778</td>\n",
       "      <td>0.0</td>\n",
       "      <td>1.0</td>\n",
       "      <td>0.0</td>\n",
       "    </tr>\n",
       "    <tr>\n",
       "      <th>5</th>\n",
       "      <td>35.000000</td>\n",
       "      <td>58000.000000</td>\n",
       "      <td>1.0</td>\n",
       "      <td>0.0</td>\n",
       "      <td>0.0</td>\n",
       "    </tr>\n",
       "    <tr>\n",
       "      <th>6</th>\n",
       "      <td>38.777778</td>\n",
       "      <td>52000.000000</td>\n",
       "      <td>0.0</td>\n",
       "      <td>0.0</td>\n",
       "      <td>1.0</td>\n",
       "    </tr>\n",
       "    <tr>\n",
       "      <th>7</th>\n",
       "      <td>48.000000</td>\n",
       "      <td>79000.000000</td>\n",
       "      <td>1.0</td>\n",
       "      <td>0.0</td>\n",
       "      <td>0.0</td>\n",
       "    </tr>\n",
       "    <tr>\n",
       "      <th>8</th>\n",
       "      <td>50.000000</td>\n",
       "      <td>83000.000000</td>\n",
       "      <td>0.0</td>\n",
       "      <td>1.0</td>\n",
       "      <td>0.0</td>\n",
       "    </tr>\n",
       "    <tr>\n",
       "      <th>9</th>\n",
       "      <td>37.000000</td>\n",
       "      <td>67000.000000</td>\n",
       "      <td>1.0</td>\n",
       "      <td>0.0</td>\n",
       "      <td>0.0</td>\n",
       "    </tr>\n",
       "  </tbody>\n",
       "</table>\n",
       "</div>"
      ],
      "text/plain": [
       "         Age        Salary  Country_France  Country_Germany  Country_Spain\n",
       "0  44.000000  72000.000000             1.0              0.0            0.0\n",
       "1  27.000000  48000.000000             0.0              0.0            1.0\n",
       "2  30.000000  54000.000000             0.0              1.0            0.0\n",
       "3  38.000000  61000.000000             0.0              0.0            1.0\n",
       "4  40.000000  63777.777778             0.0              1.0            0.0\n",
       "5  35.000000  58000.000000             1.0              0.0            0.0\n",
       "6  38.777778  52000.000000             0.0              0.0            1.0\n",
       "7  48.000000  79000.000000             1.0              0.0            0.0\n",
       "8  50.000000  83000.000000             0.0              1.0            0.0\n",
       "9  37.000000  67000.000000             1.0              0.0            0.0"
      ]
     },
     "execution_count": 21,
     "metadata": {},
     "output_type": "execute_result"
    }
   ],
   "source": [
    "X"
   ]
  },
  {
   "cell_type": "code",
   "execution_count": 22,
   "id": "5c96d215",
   "metadata": {
    "execution": {
     "iopub.execute_input": "2024-06-20T11:12:22.489348Z",
     "iopub.status.busy": "2024-06-20T11:12:22.488996Z",
     "iopub.status.idle": "2024-06-20T11:12:22.493829Z",
     "shell.execute_reply": "2024-06-20T11:12:22.492746Z"
    },
    "papermill": {
     "duration": 0.018896,
     "end_time": "2024-06-20T11:12:22.496062",
     "exception": false,
     "start_time": "2024-06-20T11:12:22.477166",
     "status": "completed"
    },
    "tags": []
   },
   "outputs": [],
   "source": [
    "y = df['Purchased']"
   ]
  },
  {
   "cell_type": "code",
   "execution_count": 23,
   "id": "fbecd58f",
   "metadata": {
    "execution": {
     "iopub.execute_input": "2024-06-20T11:12:22.518688Z",
     "iopub.status.busy": "2024-06-20T11:12:22.518300Z",
     "iopub.status.idle": "2024-06-20T11:12:22.527493Z",
     "shell.execute_reply": "2024-06-20T11:12:22.526520Z"
    },
    "papermill": {
     "duration": 0.023533,
     "end_time": "2024-06-20T11:12:22.529951",
     "exception": false,
     "start_time": "2024-06-20T11:12:22.506418",
     "status": "completed"
    },
    "tags": []
   },
   "outputs": [
    {
     "data": {
      "text/plain": [
       "0    0\n",
       "1    1\n",
       "2    0\n",
       "3    0\n",
       "4    1\n",
       "5    1\n",
       "6    0\n",
       "7    1\n",
       "8    0\n",
       "9    1\n",
       "Name: Purchased, dtype: int64"
      ]
     },
     "execution_count": 23,
     "metadata": {},
     "output_type": "execute_result"
    }
   ],
   "source": [
    "y"
   ]
  },
  {
   "cell_type": "code",
   "execution_count": 24,
   "id": "fd2b746b",
   "metadata": {
    "execution": {
     "iopub.execute_input": "2024-06-20T11:12:22.553579Z",
     "iopub.status.busy": "2024-06-20T11:12:22.552572Z",
     "iopub.status.idle": "2024-06-20T11:12:22.561059Z",
     "shell.execute_reply": "2024-06-20T11:12:22.559979Z"
    },
    "papermill": {
     "duration": 0.022553,
     "end_time": "2024-06-20T11:12:22.563501",
     "exception": false,
     "start_time": "2024-06-20T11:12:22.540948",
     "status": "completed"
    },
    "tags": []
   },
   "outputs": [],
   "source": [
    "X_train, X_test, y_train, y_test = train_test_split(X, y, test_size=0.20, random_state=101)"
   ]
  },
  {
   "cell_type": "code",
   "execution_count": 25,
   "id": "6498d2f7",
   "metadata": {
    "execution": {
     "iopub.execute_input": "2024-06-20T11:12:22.586411Z",
     "iopub.status.busy": "2024-06-20T11:12:22.585993Z",
     "iopub.status.idle": "2024-06-20T11:12:22.600644Z",
     "shell.execute_reply": "2024-06-20T11:12:22.599479Z"
    },
    "papermill": {
     "duration": 0.0289,
     "end_time": "2024-06-20T11:12:22.603112",
     "exception": false,
     "start_time": "2024-06-20T11:12:22.574212",
     "status": "completed"
    },
    "tags": []
   },
   "outputs": [
    {
     "data": {
      "text/html": [
       "<div>\n",
       "<style scoped>\n",
       "    .dataframe tbody tr th:only-of-type {\n",
       "        vertical-align: middle;\n",
       "    }\n",
       "\n",
       "    .dataframe tbody tr th {\n",
       "        vertical-align: top;\n",
       "    }\n",
       "\n",
       "    .dataframe thead th {\n",
       "        text-align: right;\n",
       "    }\n",
       "</style>\n",
       "<table border=\"1\" class=\"dataframe\">\n",
       "  <thead>\n",
       "    <tr style=\"text-align: right;\">\n",
       "      <th></th>\n",
       "      <th>Age</th>\n",
       "      <th>Salary</th>\n",
       "      <th>Country_France</th>\n",
       "      <th>Country_Germany</th>\n",
       "      <th>Country_Spain</th>\n",
       "    </tr>\n",
       "  </thead>\n",
       "  <tbody>\n",
       "    <tr>\n",
       "      <th>0</th>\n",
       "      <td>44.000000</td>\n",
       "      <td>72000.000000</td>\n",
       "      <td>1.0</td>\n",
       "      <td>0.0</td>\n",
       "      <td>0.0</td>\n",
       "    </tr>\n",
       "    <tr>\n",
       "      <th>4</th>\n",
       "      <td>40.000000</td>\n",
       "      <td>63777.777778</td>\n",
       "      <td>0.0</td>\n",
       "      <td>1.0</td>\n",
       "      <td>0.0</td>\n",
       "    </tr>\n",
       "    <tr>\n",
       "      <th>9</th>\n",
       "      <td>37.000000</td>\n",
       "      <td>67000.000000</td>\n",
       "      <td>1.0</td>\n",
       "      <td>0.0</td>\n",
       "      <td>0.0</td>\n",
       "    </tr>\n",
       "    <tr>\n",
       "      <th>3</th>\n",
       "      <td>38.000000</td>\n",
       "      <td>61000.000000</td>\n",
       "      <td>0.0</td>\n",
       "      <td>0.0</td>\n",
       "      <td>1.0</td>\n",
       "    </tr>\n",
       "    <tr>\n",
       "      <th>5</th>\n",
       "      <td>35.000000</td>\n",
       "      <td>58000.000000</td>\n",
       "      <td>1.0</td>\n",
       "      <td>0.0</td>\n",
       "      <td>0.0</td>\n",
       "    </tr>\n",
       "    <tr>\n",
       "      <th>7</th>\n",
       "      <td>48.000000</td>\n",
       "      <td>79000.000000</td>\n",
       "      <td>1.0</td>\n",
       "      <td>0.0</td>\n",
       "      <td>0.0</td>\n",
       "    </tr>\n",
       "    <tr>\n",
       "      <th>6</th>\n",
       "      <td>38.777778</td>\n",
       "      <td>52000.000000</td>\n",
       "      <td>0.0</td>\n",
       "      <td>0.0</td>\n",
       "      <td>1.0</td>\n",
       "    </tr>\n",
       "    <tr>\n",
       "      <th>1</th>\n",
       "      <td>27.000000</td>\n",
       "      <td>48000.000000</td>\n",
       "      <td>0.0</td>\n",
       "      <td>0.0</td>\n",
       "      <td>1.0</td>\n",
       "    </tr>\n",
       "  </tbody>\n",
       "</table>\n",
       "</div>"
      ],
      "text/plain": [
       "         Age        Salary  Country_France  Country_Germany  Country_Spain\n",
       "0  44.000000  72000.000000             1.0              0.0            0.0\n",
       "4  40.000000  63777.777778             0.0              1.0            0.0\n",
       "9  37.000000  67000.000000             1.0              0.0            0.0\n",
       "3  38.000000  61000.000000             0.0              0.0            1.0\n",
       "5  35.000000  58000.000000             1.0              0.0            0.0\n",
       "7  48.000000  79000.000000             1.0              0.0            0.0\n",
       "6  38.777778  52000.000000             0.0              0.0            1.0\n",
       "1  27.000000  48000.000000             0.0              0.0            1.0"
      ]
     },
     "execution_count": 25,
     "metadata": {},
     "output_type": "execute_result"
    }
   ],
   "source": [
    "X_train"
   ]
  },
  {
   "cell_type": "code",
   "execution_count": 26,
   "id": "3e7037fc",
   "metadata": {
    "execution": {
     "iopub.execute_input": "2024-06-20T11:12:22.626440Z",
     "iopub.status.busy": "2024-06-20T11:12:22.625517Z",
     "iopub.status.idle": "2024-06-20T11:12:22.630215Z",
     "shell.execute_reply": "2024-06-20T11:12:22.629206Z"
    },
    "papermill": {
     "duration": 0.019078,
     "end_time": "2024-06-20T11:12:22.632970",
     "exception": false,
     "start_time": "2024-06-20T11:12:22.613892",
     "status": "completed"
    },
    "tags": []
   },
   "outputs": [],
   "source": [
    "from sklearn.preprocessing import StandardScaler"
   ]
  },
  {
   "cell_type": "code",
   "execution_count": 27,
   "id": "5511517a",
   "metadata": {
    "execution": {
     "iopub.execute_input": "2024-06-20T11:12:22.655677Z",
     "iopub.status.busy": "2024-06-20T11:12:22.655293Z",
     "iopub.status.idle": "2024-06-20T11:12:22.660346Z",
     "shell.execute_reply": "2024-06-20T11:12:22.659238Z"
    },
    "papermill": {
     "duration": 0.019046,
     "end_time": "2024-06-20T11:12:22.662532",
     "exception": false,
     "start_time": "2024-06-20T11:12:22.643486",
     "status": "completed"
    },
    "tags": []
   },
   "outputs": [],
   "source": [
    "scaler = StandardScaler()"
   ]
  },
  {
   "cell_type": "code",
   "execution_count": 28,
   "id": "0510e022",
   "metadata": {
    "execution": {
     "iopub.execute_input": "2024-06-20T11:12:22.685844Z",
     "iopub.status.busy": "2024-06-20T11:12:22.684902Z",
     "iopub.status.idle": "2024-06-20T11:12:22.694560Z",
     "shell.execute_reply": "2024-06-20T11:12:22.693249Z"
    },
    "papermill": {
     "duration": 0.024045,
     "end_time": "2024-06-20T11:12:22.697253",
     "exception": false,
     "start_time": "2024-06-20T11:12:22.673208",
     "status": "completed"
    },
    "tags": []
   },
   "outputs": [],
   "source": [
    "X_train[['Age','Salary']] = scaler.fit_transform(X_train[['Age','Salary']])"
   ]
  },
  {
   "cell_type": "code",
   "execution_count": 29,
   "id": "6d408aac",
   "metadata": {
    "execution": {
     "iopub.execute_input": "2024-06-20T11:12:22.720892Z",
     "iopub.status.busy": "2024-06-20T11:12:22.720155Z",
     "iopub.status.idle": "2024-06-20T11:12:22.729720Z",
     "shell.execute_reply": "2024-06-20T11:12:22.728455Z"
    },
    "papermill": {
     "duration": 0.023768,
     "end_time": "2024-06-20T11:12:22.732024",
     "exception": false,
     "start_time": "2024-06-20T11:12:22.708256",
     "status": "completed"
    },
    "tags": []
   },
   "outputs": [],
   "source": [
    "X_test[['Age','Salary']] = scaler.fit_transform(X_test[['Age','Salary']])"
   ]
  },
  {
   "cell_type": "code",
   "execution_count": 30,
   "id": "bf802c9a",
   "metadata": {
    "execution": {
     "iopub.execute_input": "2024-06-20T11:12:22.756213Z",
     "iopub.status.busy": "2024-06-20T11:12:22.755860Z",
     "iopub.status.idle": "2024-06-20T11:12:22.769882Z",
     "shell.execute_reply": "2024-06-20T11:12:22.768739Z"
    },
    "papermill": {
     "duration": 0.028454,
     "end_time": "2024-06-20T11:12:22.772481",
     "exception": false,
     "start_time": "2024-06-20T11:12:22.744027",
     "status": "completed"
    },
    "tags": []
   },
   "outputs": [
    {
     "data": {
      "text/html": [
       "<div>\n",
       "<style scoped>\n",
       "    .dataframe tbody tr th:only-of-type {\n",
       "        vertical-align: middle;\n",
       "    }\n",
       "\n",
       "    .dataframe tbody tr th {\n",
       "        vertical-align: top;\n",
       "    }\n",
       "\n",
       "    .dataframe thead th {\n",
       "        text-align: right;\n",
       "    }\n",
       "</style>\n",
       "<table border=\"1\" class=\"dataframe\">\n",
       "  <thead>\n",
       "    <tr style=\"text-align: right;\">\n",
       "      <th></th>\n",
       "      <th>Age</th>\n",
       "      <th>Salary</th>\n",
       "      <th>Country_France</th>\n",
       "      <th>Country_Germany</th>\n",
       "      <th>Country_Spain</th>\n",
       "    </tr>\n",
       "  </thead>\n",
       "  <tbody>\n",
       "    <tr>\n",
       "      <th>0</th>\n",
       "      <td>0.951826</td>\n",
       "      <td>0.986148</td>\n",
       "      <td>1.0</td>\n",
       "      <td>0.0</td>\n",
       "      <td>0.0</td>\n",
       "    </tr>\n",
       "    <tr>\n",
       "      <th>4</th>\n",
       "      <td>0.263068</td>\n",
       "      <td>0.123815</td>\n",
       "      <td>0.0</td>\n",
       "      <td>1.0</td>\n",
       "      <td>0.0</td>\n",
       "    </tr>\n",
       "    <tr>\n",
       "      <th>9</th>\n",
       "      <td>-0.253501</td>\n",
       "      <td>0.461756</td>\n",
       "      <td>1.0</td>\n",
       "      <td>0.0</td>\n",
       "      <td>0.0</td>\n",
       "    </tr>\n",
       "    <tr>\n",
       "      <th>3</th>\n",
       "      <td>-0.081312</td>\n",
       "      <td>-0.167514</td>\n",
       "      <td>0.0</td>\n",
       "      <td>0.0</td>\n",
       "      <td>1.0</td>\n",
       "    </tr>\n",
       "    <tr>\n",
       "      <th>5</th>\n",
       "      <td>-0.597881</td>\n",
       "      <td>-0.482149</td>\n",
       "      <td>1.0</td>\n",
       "      <td>0.0</td>\n",
       "      <td>0.0</td>\n",
       "    </tr>\n",
       "    <tr>\n",
       "      <th>7</th>\n",
       "      <td>1.640585</td>\n",
       "      <td>1.720297</td>\n",
       "      <td>1.0</td>\n",
       "      <td>0.0</td>\n",
       "      <td>0.0</td>\n",
       "    </tr>\n",
       "    <tr>\n",
       "      <th>6</th>\n",
       "      <td>0.052614</td>\n",
       "      <td>-1.111420</td>\n",
       "      <td>0.0</td>\n",
       "      <td>0.0</td>\n",
       "      <td>1.0</td>\n",
       "    </tr>\n",
       "    <tr>\n",
       "      <th>1</th>\n",
       "      <td>-1.975398</td>\n",
       "      <td>-1.530933</td>\n",
       "      <td>0.0</td>\n",
       "      <td>0.0</td>\n",
       "      <td>1.0</td>\n",
       "    </tr>\n",
       "  </tbody>\n",
       "</table>\n",
       "</div>"
      ],
      "text/plain": [
       "        Age    Salary  Country_France  Country_Germany  Country_Spain\n",
       "0  0.951826  0.986148             1.0              0.0            0.0\n",
       "4  0.263068  0.123815             0.0              1.0            0.0\n",
       "9 -0.253501  0.461756             1.0              0.0            0.0\n",
       "3 -0.081312 -0.167514             0.0              0.0            1.0\n",
       "5 -0.597881 -0.482149             1.0              0.0            0.0\n",
       "7  1.640585  1.720297             1.0              0.0            0.0\n",
       "6  0.052614 -1.111420             0.0              0.0            1.0\n",
       "1 -1.975398 -1.530933             0.0              0.0            1.0"
      ]
     },
     "execution_count": 30,
     "metadata": {},
     "output_type": "execute_result"
    }
   ],
   "source": [
    "X_train"
   ]
  },
  {
   "cell_type": "code",
   "execution_count": 31,
   "id": "2937eb5b",
   "metadata": {
    "execution": {
     "iopub.execute_input": "2024-06-20T11:12:22.795927Z",
     "iopub.status.busy": "2024-06-20T11:12:22.795521Z",
     "iopub.status.idle": "2024-06-20T11:12:22.808396Z",
     "shell.execute_reply": "2024-06-20T11:12:22.807359Z"
    },
    "papermill": {
     "duration": 0.027721,
     "end_time": "2024-06-20T11:12:22.811165",
     "exception": false,
     "start_time": "2024-06-20T11:12:22.783444",
     "status": "completed"
    },
    "tags": []
   },
   "outputs": [
    {
     "data": {
      "text/html": [
       "<div>\n",
       "<style scoped>\n",
       "    .dataframe tbody tr th:only-of-type {\n",
       "        vertical-align: middle;\n",
       "    }\n",
       "\n",
       "    .dataframe tbody tr th {\n",
       "        vertical-align: top;\n",
       "    }\n",
       "\n",
       "    .dataframe thead th {\n",
       "        text-align: right;\n",
       "    }\n",
       "</style>\n",
       "<table border=\"1\" class=\"dataframe\">\n",
       "  <thead>\n",
       "    <tr style=\"text-align: right;\">\n",
       "      <th></th>\n",
       "      <th>Age</th>\n",
       "      <th>Salary</th>\n",
       "      <th>Country_France</th>\n",
       "      <th>Country_Germany</th>\n",
       "      <th>Country_Spain</th>\n",
       "    </tr>\n",
       "  </thead>\n",
       "  <tbody>\n",
       "    <tr>\n",
       "      <th>8</th>\n",
       "      <td>1.0</td>\n",
       "      <td>1.0</td>\n",
       "      <td>0.0</td>\n",
       "      <td>1.0</td>\n",
       "      <td>0.0</td>\n",
       "    </tr>\n",
       "    <tr>\n",
       "      <th>2</th>\n",
       "      <td>-1.0</td>\n",
       "      <td>-1.0</td>\n",
       "      <td>0.0</td>\n",
       "      <td>1.0</td>\n",
       "      <td>0.0</td>\n",
       "    </tr>\n",
       "  </tbody>\n",
       "</table>\n",
       "</div>"
      ],
      "text/plain": [
       "   Age  Salary  Country_France  Country_Germany  Country_Spain\n",
       "8  1.0     1.0             0.0              1.0            0.0\n",
       "2 -1.0    -1.0             0.0              1.0            0.0"
      ]
     },
     "execution_count": 31,
     "metadata": {},
     "output_type": "execute_result"
    }
   ],
   "source": [
    "X_test"
   ]
  },
  {
   "cell_type": "code",
   "execution_count": 32,
   "id": "875c2575",
   "metadata": {
    "execution": {
     "iopub.execute_input": "2024-06-20T11:12:22.835831Z",
     "iopub.status.busy": "2024-06-20T11:12:22.835408Z",
     "iopub.status.idle": "2024-06-20T11:12:22.842765Z",
     "shell.execute_reply": "2024-06-20T11:12:22.841709Z"
    },
    "papermill": {
     "duration": 0.022178,
     "end_time": "2024-06-20T11:12:22.844883",
     "exception": false,
     "start_time": "2024-06-20T11:12:22.822705",
     "status": "completed"
    },
    "tags": []
   },
   "outputs": [
    {
     "data": {
      "text/plain": [
       "0    0\n",
       "4    1\n",
       "9    1\n",
       "3    0\n",
       "5    1\n",
       "7    1\n",
       "6    0\n",
       "1    1\n",
       "Name: Purchased, dtype: int64"
      ]
     },
     "execution_count": 32,
     "metadata": {},
     "output_type": "execute_result"
    }
   ],
   "source": [
    "y_train"
   ]
  },
  {
   "cell_type": "code",
   "execution_count": 33,
   "id": "36aa9ec7",
   "metadata": {
    "execution": {
     "iopub.execute_input": "2024-06-20T11:12:22.868514Z",
     "iopub.status.busy": "2024-06-20T11:12:22.868152Z",
     "iopub.status.idle": "2024-06-20T11:12:22.954451Z",
     "shell.execute_reply": "2024-06-20T11:12:22.953202Z"
    },
    "papermill": {
     "duration": 0.1009,
     "end_time": "2024-06-20T11:12:22.956883",
     "exception": false,
     "start_time": "2024-06-20T11:12:22.855983",
     "status": "completed"
    },
    "tags": []
   },
   "outputs": [
    {
     "data": {
      "text/plain": [
       "8    0\n",
       "2    0\n",
       "Name: Purchased, dtype: int64"
      ]
     },
     "execution_count": 33,
     "metadata": {},
     "output_type": "execute_result"
    }
   ],
   "source": [
    "y_test"
   ]
  },
  {
   "cell_type": "code",
   "execution_count": null,
   "id": "f5dfda03",
   "metadata": {
    "papermill": {
     "duration": 0.010996,
     "end_time": "2024-06-20T11:12:22.979188",
     "exception": false,
     "start_time": "2024-06-20T11:12:22.968192",
     "status": "completed"
    },
    "tags": []
   },
   "outputs": [],
   "source": []
  },
  {
   "cell_type": "code",
   "execution_count": null,
   "id": "98595e12",
   "metadata": {
    "papermill": {
     "duration": 0.011898,
     "end_time": "2024-06-20T11:12:23.003262",
     "exception": false,
     "start_time": "2024-06-20T11:12:22.991364",
     "status": "completed"
    },
    "tags": []
   },
   "outputs": [],
   "source": []
  },
  {
   "cell_type": "code",
   "execution_count": 34,
   "id": "9b63634f",
   "metadata": {
    "execution": {
     "iopub.execute_input": "2024-06-20T11:12:23.028227Z",
     "iopub.status.busy": "2024-06-20T11:12:23.027865Z",
     "iopub.status.idle": "2024-06-20T11:12:23.032823Z",
     "shell.execute_reply": "2024-06-20T11:12:23.031529Z"
    },
    "papermill": {
     "duration": 0.019916,
     "end_time": "2024-06-20T11:12:23.035042",
     "exception": false,
     "start_time": "2024-06-20T11:12:23.015126",
     "status": "completed"
    },
    "tags": []
   },
   "outputs": [],
   "source": [
    "# # Encoding Categorical Data (only Country)\n",
    "# from sklearn.compose import ColumnTransformer\n",
    "# from sklearn.preprocessing import OneHotEncoder\n",
    "# ct = ColumnTransformer(transformers = [('encoder',OneHotEncoder(),['Country'])],remainder = 'passthrough')\n",
    "# df = ct.fit_transform(df)"
   ]
  },
  {
   "cell_type": "code",
   "execution_count": 35,
   "id": "8a6948dc",
   "metadata": {
    "execution": {
     "iopub.execute_input": "2024-06-20T11:12:23.058961Z",
     "iopub.status.busy": "2024-06-20T11:12:23.058559Z",
     "iopub.status.idle": "2024-06-20T11:12:23.064360Z",
     "shell.execute_reply": "2024-06-20T11:12:23.063016Z"
    },
    "papermill": {
     "duration": 0.020338,
     "end_time": "2024-06-20T11:12:23.066570",
     "exception": false,
     "start_time": "2024-06-20T11:12:23.046232",
     "status": "completed"
    },
    "tags": []
   },
   "outputs": [],
   "source": [
    "# df = pd.DataFrame(df,columns = ['Country_France','Country_Germany','Country_Spain','Age','Salary','Purchased'])"
   ]
  },
  {
   "cell_type": "code",
   "execution_count": 36,
   "id": "992e93bd",
   "metadata": {
    "execution": {
     "iopub.execute_input": "2024-06-20T11:12:23.156127Z",
     "iopub.status.busy": "2024-06-20T11:12:23.155743Z",
     "iopub.status.idle": "2024-06-20T11:12:23.161285Z",
     "shell.execute_reply": "2024-06-20T11:12:23.159560Z"
    },
    "papermill": {
     "duration": 0.085851,
     "end_time": "2024-06-20T11:12:23.164335",
     "exception": false,
     "start_time": "2024-06-20T11:12:23.078484",
     "status": "completed"
    },
    "tags": []
   },
   "outputs": [],
   "source": [
    "# df"
   ]
  },
  {
   "cell_type": "code",
   "execution_count": null,
   "id": "de6c3e0d",
   "metadata": {
    "papermill": {
     "duration": 0.011573,
     "end_time": "2024-06-20T11:12:23.187873",
     "exception": false,
     "start_time": "2024-06-20T11:12:23.176300",
     "status": "completed"
    },
    "tags": []
   },
   "outputs": [],
   "source": []
  }
 ],
 "metadata": {
  "kaggle": {
   "accelerator": "none",
   "dataSources": [
    {
     "datasetId": 5245148,
     "sourceId": 8737156,
     "sourceType": "datasetVersion"
    }
   ],
   "dockerImageVersionId": 30732,
   "isGpuEnabled": false,
   "isInternetEnabled": true,
   "language": "python",
   "sourceType": "notebook"
  },
  "kernelspec": {
   "display_name": "Python 3",
   "language": "python",
   "name": "python3"
  },
  "language_info": {
   "codemirror_mode": {
    "name": "ipython",
    "version": 3
   },
   "file_extension": ".py",
   "mimetype": "text/x-python",
   "name": "python",
   "nbconvert_exporter": "python",
   "pygments_lexer": "ipython3",
   "version": "3.10.13"
  },
  "papermill": {
   "default_parameters": {},
   "duration": 7.607913,
   "end_time": "2024-06-20T11:12:23.821438",
   "environment_variables": {},
   "exception": null,
   "input_path": "__notebook__.ipynb",
   "output_path": "__notebook__.ipynb",
   "parameters": {},
   "start_time": "2024-06-20T11:12:16.213525",
   "version": "2.5.0"
  }
 },
 "nbformat": 4,
 "nbformat_minor": 5
}
