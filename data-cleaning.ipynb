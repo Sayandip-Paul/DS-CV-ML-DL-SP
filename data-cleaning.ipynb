{
 "cells": [
  {
   "cell_type": "code",
   "execution_count": 1,
   "id": "e5e0d763",
   "metadata": {
    "_cell_guid": "b1076dfc-b9ad-4769-8c92-a6c4dae69d19",
    "_uuid": "8f2839f25d086af736a60e9eeb907d3b93b6e0e5",
    "execution": {
     "iopub.execute_input": "2024-06-20T11:22:33.876969Z",
     "iopub.status.busy": "2024-06-20T11:22:33.876530Z",
     "iopub.status.idle": "2024-06-20T11:22:36.147804Z",
     "shell.execute_reply": "2024-06-20T11:22:36.146657Z"
    },
    "papermill": {
     "duration": 2.28514,
     "end_time": "2024-06-20T11:22:36.150407",
     "exception": false,
     "start_time": "2024-06-20T11:22:33.865267",
     "status": "completed"
    },
    "tags": []
   },
   "outputs": [],
   "source": [
    "# This Python 3 environment comes with many helpful analytics libraries installed\n",
    "# It is defined by the kaggle/python Docker image: https://github.com/kaggle/docker-python\n",
    "# For example, here's several helpful packages to load\n",
    "\n",
    "import numpy as np # linear algebra\n",
    "import pandas as pd # data processing, CSV file I/O (e.g. pd.read_csv)\n",
    "from matplotlib import pyplot as plt\n",
    "from sklearn.impute import SimpleImputer\n",
    "from sklearn.preprocessing import OneHotEncoder,LabelEncoder\n",
    "from sklearn.model_selection import train_test_split"
   ]
  },
  {
   "cell_type": "code",
   "execution_count": 2,
   "id": "5ce6034f",
   "metadata": {
    "execution": {
     "iopub.execute_input": "2024-06-20T11:22:36.169894Z",
     "iopub.status.busy": "2024-06-20T11:22:36.169345Z",
     "iopub.status.idle": "2024-06-20T11:22:36.189719Z",
     "shell.execute_reply": "2024-06-20T11:22:36.188576Z"
    },
    "papermill": {
     "duration": 0.032935,
     "end_time": "2024-06-20T11:22:36.192270",
     "exception": false,
     "start_time": "2024-06-20T11:22:36.159335",
     "status": "completed"
    },
    "tags": []
   },
   "outputs": [],
   "source": [
    "df = pd.read_csv('/kaggle/input/df-cleaning/Country_age_salary_purchased.csv')"
   ]
  },
  {
   "cell_type": "code",
   "execution_count": 3,
   "id": "a1bae7fd",
   "metadata": {
    "execution": {
     "iopub.execute_input": "2024-06-20T11:22:36.211127Z",
     "iopub.status.busy": "2024-06-20T11:22:36.210696Z",
     "iopub.status.idle": "2024-06-20T11:22:36.236477Z",
     "shell.execute_reply": "2024-06-20T11:22:36.235362Z"
    },
    "papermill": {
     "duration": 0.03785,
     "end_time": "2024-06-20T11:22:36.238809",
     "exception": false,
     "start_time": "2024-06-20T11:22:36.200959",
     "status": "completed"
    },
    "tags": []
   },
   "outputs": [
    {
     "data": {
      "text/html": [
       "<div>\n",
       "<style scoped>\n",
       "    .dataframe tbody tr th:only-of-type {\n",
       "        vertical-align: middle;\n",
       "    }\n",
       "\n",
       "    .dataframe tbody tr th {\n",
       "        vertical-align: top;\n",
       "    }\n",
       "\n",
       "    .dataframe thead th {\n",
       "        text-align: right;\n",
       "    }\n",
       "</style>\n",
       "<table border=\"1\" class=\"dataframe\">\n",
       "  <thead>\n",
       "    <tr style=\"text-align: right;\">\n",
       "      <th></th>\n",
       "      <th>Country</th>\n",
       "      <th>Age</th>\n",
       "      <th>Salary</th>\n",
       "      <th>Purchased</th>\n",
       "    </tr>\n",
       "  </thead>\n",
       "  <tbody>\n",
       "    <tr>\n",
       "      <th>0</th>\n",
       "      <td>France</td>\n",
       "      <td>44.0</td>\n",
       "      <td>72000.0</td>\n",
       "      <td>No</td>\n",
       "    </tr>\n",
       "    <tr>\n",
       "      <th>1</th>\n",
       "      <td>Spain</td>\n",
       "      <td>27.0</td>\n",
       "      <td>48000.0</td>\n",
       "      <td>Yes</td>\n",
       "    </tr>\n",
       "    <tr>\n",
       "      <th>2</th>\n",
       "      <td>Germany</td>\n",
       "      <td>30.0</td>\n",
       "      <td>54000.0</td>\n",
       "      <td>No</td>\n",
       "    </tr>\n",
       "    <tr>\n",
       "      <th>3</th>\n",
       "      <td>Spain</td>\n",
       "      <td>38.0</td>\n",
       "      <td>61000.0</td>\n",
       "      <td>No</td>\n",
       "    </tr>\n",
       "    <tr>\n",
       "      <th>4</th>\n",
       "      <td>Germany</td>\n",
       "      <td>40.0</td>\n",
       "      <td>NaN</td>\n",
       "      <td>Yes</td>\n",
       "    </tr>\n",
       "  </tbody>\n",
       "</table>\n",
       "</div>"
      ],
      "text/plain": [
       "   Country   Age   Salary Purchased\n",
       "0   France  44.0  72000.0        No\n",
       "1    Spain  27.0  48000.0       Yes\n",
       "2  Germany  30.0  54000.0        No\n",
       "3    Spain  38.0  61000.0        No\n",
       "4  Germany  40.0      NaN       Yes"
      ]
     },
     "execution_count": 3,
     "metadata": {},
     "output_type": "execute_result"
    }
   ],
   "source": [
    "df.head()"
   ]
  },
  {
   "cell_type": "code",
   "execution_count": 4,
   "id": "1f1261ea",
   "metadata": {
    "execution": {
     "iopub.execute_input": "2024-06-20T11:22:36.258943Z",
     "iopub.status.busy": "2024-06-20T11:22:36.257725Z",
     "iopub.status.idle": "2024-06-20T11:22:36.283150Z",
     "shell.execute_reply": "2024-06-20T11:22:36.281870Z"
    },
    "papermill": {
     "duration": 0.038342,
     "end_time": "2024-06-20T11:22:36.285925",
     "exception": false,
     "start_time": "2024-06-20T11:22:36.247583",
     "status": "completed"
    },
    "tags": []
   },
   "outputs": [
    {
     "name": "stdout",
     "output_type": "stream",
     "text": [
      "<class 'pandas.core.frame.DataFrame'>\n",
      "RangeIndex: 10 entries, 0 to 9\n",
      "Data columns (total 4 columns):\n",
      " #   Column     Non-Null Count  Dtype  \n",
      "---  ------     --------------  -----  \n",
      " 0   Country    10 non-null     object \n",
      " 1   Age        9 non-null      float64\n",
      " 2   Salary     9 non-null      float64\n",
      " 3   Purchased  10 non-null     object \n",
      "dtypes: float64(2), object(2)\n",
      "memory usage: 448.0+ bytes\n"
     ]
    }
   ],
   "source": [
    "df.info()"
   ]
  },
  {
   "cell_type": "code",
   "execution_count": 5,
   "id": "9695dab6",
   "metadata": {
    "execution": {
     "iopub.execute_input": "2024-06-20T11:22:36.305470Z",
     "iopub.status.busy": "2024-06-20T11:22:36.305064Z",
     "iopub.status.idle": "2024-06-20T11:22:36.313506Z",
     "shell.execute_reply": "2024-06-20T11:22:36.312338Z"
    },
    "papermill": {
     "duration": 0.02085,
     "end_time": "2024-06-20T11:22:36.315805",
     "exception": false,
     "start_time": "2024-06-20T11:22:36.294955",
     "status": "completed"
    },
    "tags": []
   },
   "outputs": [
    {
     "data": {
      "text/plain": [
       "Country      0\n",
       "Age          1\n",
       "Salary       1\n",
       "Purchased    0\n",
       "dtype: int64"
      ]
     },
     "execution_count": 5,
     "metadata": {},
     "output_type": "execute_result"
    }
   ],
   "source": [
    "df.isnull().sum()"
   ]
  },
  {
   "cell_type": "code",
   "execution_count": 6,
   "id": "fefd0224",
   "metadata": {
    "execution": {
     "iopub.execute_input": "2024-06-20T11:22:36.336163Z",
     "iopub.status.busy": "2024-06-20T11:22:36.335754Z",
     "iopub.status.idle": "2024-06-20T11:22:36.341113Z",
     "shell.execute_reply": "2024-06-20T11:22:36.339893Z"
    },
    "papermill": {
     "duration": 0.018896,
     "end_time": "2024-06-20T11:22:36.343691",
     "exception": false,
     "start_time": "2024-06-20T11:22:36.324795",
     "status": "completed"
    },
    "tags": []
   },
   "outputs": [],
   "source": [
    "# Taking care of Missing Data\n",
    "imputer = SimpleImputer(strategy = 'mean')"
   ]
  },
  {
   "cell_type": "code",
   "execution_count": 7,
   "id": "7bf4ca14",
   "metadata": {
    "execution": {
     "iopub.execute_input": "2024-06-20T11:22:36.364381Z",
     "iopub.status.busy": "2024-06-20T11:22:36.363707Z",
     "iopub.status.idle": "2024-06-20T11:22:36.376463Z",
     "shell.execute_reply": "2024-06-20T11:22:36.375256Z"
    },
    "papermill": {
     "duration": 0.025781,
     "end_time": "2024-06-20T11:22:36.378669",
     "exception": false,
     "start_time": "2024-06-20T11:22:36.352888",
     "status": "completed"
    },
    "tags": []
   },
   "outputs": [],
   "source": [
    "df['Salary'] = imputer.fit_transform(df[['Salary']])"
   ]
  },
  {
   "cell_type": "code",
   "execution_count": 8,
   "id": "38418519",
   "metadata": {
    "execution": {
     "iopub.execute_input": "2024-06-20T11:22:36.398221Z",
     "iopub.status.busy": "2024-06-20T11:22:36.397849Z",
     "iopub.status.idle": "2024-06-20T11:22:36.411570Z",
     "shell.execute_reply": "2024-06-20T11:22:36.410442Z"
    },
    "papermill": {
     "duration": 0.026312,
     "end_time": "2024-06-20T11:22:36.414033",
     "exception": false,
     "start_time": "2024-06-20T11:22:36.387721",
     "status": "completed"
    },
    "tags": []
   },
   "outputs": [
    {
     "data": {
      "text/html": [
       "<div>\n",
       "<style scoped>\n",
       "    .dataframe tbody tr th:only-of-type {\n",
       "        vertical-align: middle;\n",
       "    }\n",
       "\n",
       "    .dataframe tbody tr th {\n",
       "        vertical-align: top;\n",
       "    }\n",
       "\n",
       "    .dataframe thead th {\n",
       "        text-align: right;\n",
       "    }\n",
       "</style>\n",
       "<table border=\"1\" class=\"dataframe\">\n",
       "  <thead>\n",
       "    <tr style=\"text-align: right;\">\n",
       "      <th></th>\n",
       "      <th>Country</th>\n",
       "      <th>Age</th>\n",
       "      <th>Salary</th>\n",
       "      <th>Purchased</th>\n",
       "    </tr>\n",
       "  </thead>\n",
       "  <tbody>\n",
       "    <tr>\n",
       "      <th>0</th>\n",
       "      <td>France</td>\n",
       "      <td>44.0</td>\n",
       "      <td>72000.000000</td>\n",
       "      <td>No</td>\n",
       "    </tr>\n",
       "    <tr>\n",
       "      <th>1</th>\n",
       "      <td>Spain</td>\n",
       "      <td>27.0</td>\n",
       "      <td>48000.000000</td>\n",
       "      <td>Yes</td>\n",
       "    </tr>\n",
       "    <tr>\n",
       "      <th>2</th>\n",
       "      <td>Germany</td>\n",
       "      <td>30.0</td>\n",
       "      <td>54000.000000</td>\n",
       "      <td>No</td>\n",
       "    </tr>\n",
       "    <tr>\n",
       "      <th>3</th>\n",
       "      <td>Spain</td>\n",
       "      <td>38.0</td>\n",
       "      <td>61000.000000</td>\n",
       "      <td>No</td>\n",
       "    </tr>\n",
       "    <tr>\n",
       "      <th>4</th>\n",
       "      <td>Germany</td>\n",
       "      <td>40.0</td>\n",
       "      <td>63777.777778</td>\n",
       "      <td>Yes</td>\n",
       "    </tr>\n",
       "    <tr>\n",
       "      <th>5</th>\n",
       "      <td>France</td>\n",
       "      <td>35.0</td>\n",
       "      <td>58000.000000</td>\n",
       "      <td>Yes</td>\n",
       "    </tr>\n",
       "    <tr>\n",
       "      <th>6</th>\n",
       "      <td>Spain</td>\n",
       "      <td>NaN</td>\n",
       "      <td>52000.000000</td>\n",
       "      <td>No</td>\n",
       "    </tr>\n",
       "    <tr>\n",
       "      <th>7</th>\n",
       "      <td>France</td>\n",
       "      <td>48.0</td>\n",
       "      <td>79000.000000</td>\n",
       "      <td>Yes</td>\n",
       "    </tr>\n",
       "    <tr>\n",
       "      <th>8</th>\n",
       "      <td>Germany</td>\n",
       "      <td>50.0</td>\n",
       "      <td>83000.000000</td>\n",
       "      <td>No</td>\n",
       "    </tr>\n",
       "    <tr>\n",
       "      <th>9</th>\n",
       "      <td>France</td>\n",
       "      <td>37.0</td>\n",
       "      <td>67000.000000</td>\n",
       "      <td>Yes</td>\n",
       "    </tr>\n",
       "  </tbody>\n",
       "</table>\n",
       "</div>"
      ],
      "text/plain": [
       "   Country   Age        Salary Purchased\n",
       "0   France  44.0  72000.000000        No\n",
       "1    Spain  27.0  48000.000000       Yes\n",
       "2  Germany  30.0  54000.000000        No\n",
       "3    Spain  38.0  61000.000000        No\n",
       "4  Germany  40.0  63777.777778       Yes\n",
       "5   France  35.0  58000.000000       Yes\n",
       "6    Spain   NaN  52000.000000        No\n",
       "7   France  48.0  79000.000000       Yes\n",
       "8  Germany  50.0  83000.000000        No\n",
       "9   France  37.0  67000.000000       Yes"
      ]
     },
     "execution_count": 8,
     "metadata": {},
     "output_type": "execute_result"
    }
   ],
   "source": [
    "df"
   ]
  },
  {
   "cell_type": "code",
   "execution_count": 9,
   "id": "d139a28a",
   "metadata": {
    "execution": {
     "iopub.execute_input": "2024-06-20T11:22:36.434836Z",
     "iopub.status.busy": "2024-06-20T11:22:36.434432Z",
     "iopub.status.idle": "2024-06-20T11:22:36.444796Z",
     "shell.execute_reply": "2024-06-20T11:22:36.443599Z"
    },
    "papermill": {
     "duration": 0.023794,
     "end_time": "2024-06-20T11:22:36.447201",
     "exception": false,
     "start_time": "2024-06-20T11:22:36.423407",
     "status": "completed"
    },
    "tags": []
   },
   "outputs": [],
   "source": [
    "df['Age'] = imputer.fit_transform(df[['Age']])"
   ]
  },
  {
   "cell_type": "code",
   "execution_count": 10,
   "id": "38d5f14c",
   "metadata": {
    "execution": {
     "iopub.execute_input": "2024-06-20T11:22:36.467383Z",
     "iopub.status.busy": "2024-06-20T11:22:36.466988Z",
     "iopub.status.idle": "2024-06-20T11:22:36.479370Z",
     "shell.execute_reply": "2024-06-20T11:22:36.478310Z"
    },
    "papermill": {
     "duration": 0.025081,
     "end_time": "2024-06-20T11:22:36.481647",
     "exception": false,
     "start_time": "2024-06-20T11:22:36.456566",
     "status": "completed"
    },
    "tags": []
   },
   "outputs": [
    {
     "data": {
      "text/html": [
       "<div>\n",
       "<style scoped>\n",
       "    .dataframe tbody tr th:only-of-type {\n",
       "        vertical-align: middle;\n",
       "    }\n",
       "\n",
       "    .dataframe tbody tr th {\n",
       "        vertical-align: top;\n",
       "    }\n",
       "\n",
       "    .dataframe thead th {\n",
       "        text-align: right;\n",
       "    }\n",
       "</style>\n",
       "<table border=\"1\" class=\"dataframe\">\n",
       "  <thead>\n",
       "    <tr style=\"text-align: right;\">\n",
       "      <th></th>\n",
       "      <th>Country</th>\n",
       "      <th>Age</th>\n",
       "      <th>Salary</th>\n",
       "      <th>Purchased</th>\n",
       "    </tr>\n",
       "  </thead>\n",
       "  <tbody>\n",
       "    <tr>\n",
       "      <th>0</th>\n",
       "      <td>France</td>\n",
       "      <td>44.000000</td>\n",
       "      <td>72000.000000</td>\n",
       "      <td>No</td>\n",
       "    </tr>\n",
       "    <tr>\n",
       "      <th>1</th>\n",
       "      <td>Spain</td>\n",
       "      <td>27.000000</td>\n",
       "      <td>48000.000000</td>\n",
       "      <td>Yes</td>\n",
       "    </tr>\n",
       "    <tr>\n",
       "      <th>2</th>\n",
       "      <td>Germany</td>\n",
       "      <td>30.000000</td>\n",
       "      <td>54000.000000</td>\n",
       "      <td>No</td>\n",
       "    </tr>\n",
       "    <tr>\n",
       "      <th>3</th>\n",
       "      <td>Spain</td>\n",
       "      <td>38.000000</td>\n",
       "      <td>61000.000000</td>\n",
       "      <td>No</td>\n",
       "    </tr>\n",
       "    <tr>\n",
       "      <th>4</th>\n",
       "      <td>Germany</td>\n",
       "      <td>40.000000</td>\n",
       "      <td>63777.777778</td>\n",
       "      <td>Yes</td>\n",
       "    </tr>\n",
       "    <tr>\n",
       "      <th>5</th>\n",
       "      <td>France</td>\n",
       "      <td>35.000000</td>\n",
       "      <td>58000.000000</td>\n",
       "      <td>Yes</td>\n",
       "    </tr>\n",
       "    <tr>\n",
       "      <th>6</th>\n",
       "      <td>Spain</td>\n",
       "      <td>38.777778</td>\n",
       "      <td>52000.000000</td>\n",
       "      <td>No</td>\n",
       "    </tr>\n",
       "    <tr>\n",
       "      <th>7</th>\n",
       "      <td>France</td>\n",
       "      <td>48.000000</td>\n",
       "      <td>79000.000000</td>\n",
       "      <td>Yes</td>\n",
       "    </tr>\n",
       "    <tr>\n",
       "      <th>8</th>\n",
       "      <td>Germany</td>\n",
       "      <td>50.000000</td>\n",
       "      <td>83000.000000</td>\n",
       "      <td>No</td>\n",
       "    </tr>\n",
       "    <tr>\n",
       "      <th>9</th>\n",
       "      <td>France</td>\n",
       "      <td>37.000000</td>\n",
       "      <td>67000.000000</td>\n",
       "      <td>Yes</td>\n",
       "    </tr>\n",
       "  </tbody>\n",
       "</table>\n",
       "</div>"
      ],
      "text/plain": [
       "   Country        Age        Salary Purchased\n",
       "0   France  44.000000  72000.000000        No\n",
       "1    Spain  27.000000  48000.000000       Yes\n",
       "2  Germany  30.000000  54000.000000        No\n",
       "3    Spain  38.000000  61000.000000        No\n",
       "4  Germany  40.000000  63777.777778       Yes\n",
       "5   France  35.000000  58000.000000       Yes\n",
       "6    Spain  38.777778  52000.000000        No\n",
       "7   France  48.000000  79000.000000       Yes\n",
       "8  Germany  50.000000  83000.000000        No\n",
       "9   France  37.000000  67000.000000       Yes"
      ]
     },
     "execution_count": 10,
     "metadata": {},
     "output_type": "execute_result"
    }
   ],
   "source": [
    "df"
   ]
  },
  {
   "cell_type": "code",
   "execution_count": 11,
   "id": "19408164",
   "metadata": {
    "execution": {
     "iopub.execute_input": "2024-06-20T11:22:36.504129Z",
     "iopub.status.busy": "2024-06-20T11:22:36.503160Z",
     "iopub.status.idle": "2024-06-20T11:22:36.515784Z",
     "shell.execute_reply": "2024-06-20T11:22:36.514582Z"
    },
    "papermill": {
     "duration": 0.026419,
     "end_time": "2024-06-20T11:22:36.518309",
     "exception": false,
     "start_time": "2024-06-20T11:22:36.491890",
     "status": "completed"
    },
    "tags": []
   },
   "outputs": [],
   "source": [
    "encoder = OneHotEncoder(sparse_output = False)\n",
    "en_countries = encoder.fit_transform(df[['Country']])"
   ]
  },
  {
   "cell_type": "code",
   "execution_count": 12,
   "id": "66878e39",
   "metadata": {
    "execution": {
     "iopub.execute_input": "2024-06-20T11:22:36.538887Z",
     "iopub.status.busy": "2024-06-20T11:22:36.538514Z",
     "iopub.status.idle": "2024-06-20T11:22:36.545701Z",
     "shell.execute_reply": "2024-06-20T11:22:36.544674Z"
    },
    "papermill": {
     "duration": 0.020089,
     "end_time": "2024-06-20T11:22:36.547930",
     "exception": false,
     "start_time": "2024-06-20T11:22:36.527841",
     "status": "completed"
    },
    "tags": []
   },
   "outputs": [
    {
     "data": {
      "text/plain": [
       "array([[1., 0., 0.],\n",
       "       [0., 0., 1.],\n",
       "       [0., 1., 0.],\n",
       "       [0., 0., 1.],\n",
       "       [0., 1., 0.],\n",
       "       [1., 0., 0.],\n",
       "       [0., 0., 1.],\n",
       "       [1., 0., 0.],\n",
       "       [0., 1., 0.],\n",
       "       [1., 0., 0.]])"
      ]
     },
     "execution_count": 12,
     "metadata": {},
     "output_type": "execute_result"
    }
   ],
   "source": [
    "en_countries"
   ]
  },
  {
   "cell_type": "code",
   "execution_count": 13,
   "id": "fdc7e82e",
   "metadata": {
    "execution": {
     "iopub.execute_input": "2024-06-20T11:22:36.568554Z",
     "iopub.status.busy": "2024-06-20T11:22:36.568145Z",
     "iopub.status.idle": "2024-06-20T11:22:36.573191Z",
     "shell.execute_reply": "2024-06-20T11:22:36.572152Z"
    },
    "papermill": {
     "duration": 0.017965,
     "end_time": "2024-06-20T11:22:36.575496",
     "exception": false,
     "start_time": "2024-06-20T11:22:36.557531",
     "status": "completed"
    },
    "tags": []
   },
   "outputs": [],
   "source": [
    "en_countries_columns = encoder.get_feature_names_out(['Country'])"
   ]
  },
  {
   "cell_type": "code",
   "execution_count": 14,
   "id": "478b5b50",
   "metadata": {
    "execution": {
     "iopub.execute_input": "2024-06-20T11:22:36.596121Z",
     "iopub.status.busy": "2024-06-20T11:22:36.595751Z",
     "iopub.status.idle": "2024-06-20T11:22:36.601541Z",
     "shell.execute_reply": "2024-06-20T11:22:36.600230Z"
    },
    "papermill": {
     "duration": 0.018898,
     "end_time": "2024-06-20T11:22:36.603960",
     "exception": false,
     "start_time": "2024-06-20T11:22:36.585062",
     "status": "completed"
    },
    "tags": []
   },
   "outputs": [],
   "source": [
    "en_countries_df = pd.DataFrame(en_countries,columns = en_countries_columns)"
   ]
  },
  {
   "cell_type": "code",
   "execution_count": 15,
   "id": "a10cc727",
   "metadata": {
    "execution": {
     "iopub.execute_input": "2024-06-20T11:22:36.625999Z",
     "iopub.status.busy": "2024-06-20T11:22:36.625631Z",
     "iopub.status.idle": "2024-06-20T11:22:36.634951Z",
     "shell.execute_reply": "2024-06-20T11:22:36.633816Z"
    },
    "papermill": {
     "duration": 0.023651,
     "end_time": "2024-06-20T11:22:36.637269",
     "exception": false,
     "start_time": "2024-06-20T11:22:36.613618",
     "status": "completed"
    },
    "tags": []
   },
   "outputs": [],
   "source": [
    "en_countries_df = pd.DataFrame(en_countries,columns = en_countries_columns)\n",
    "df = pd.concat([df.drop(columns = ['Country']),en_countries_df],axis = 1)"
   ]
  },
  {
   "cell_type": "code",
   "execution_count": 16,
   "id": "3d911881",
   "metadata": {
    "execution": {
     "iopub.execute_input": "2024-06-20T11:22:36.657891Z",
     "iopub.status.busy": "2024-06-20T11:22:36.657516Z",
     "iopub.status.idle": "2024-06-20T11:22:36.673771Z",
     "shell.execute_reply": "2024-06-20T11:22:36.672629Z"
    },
    "papermill": {
     "duration": 0.029454,
     "end_time": "2024-06-20T11:22:36.676339",
     "exception": false,
     "start_time": "2024-06-20T11:22:36.646885",
     "status": "completed"
    },
    "tags": []
   },
   "outputs": [
    {
     "data": {
      "text/html": [
       "<div>\n",
       "<style scoped>\n",
       "    .dataframe tbody tr th:only-of-type {\n",
       "        vertical-align: middle;\n",
       "    }\n",
       "\n",
       "    .dataframe tbody tr th {\n",
       "        vertical-align: top;\n",
       "    }\n",
       "\n",
       "    .dataframe thead th {\n",
       "        text-align: right;\n",
       "    }\n",
       "</style>\n",
       "<table border=\"1\" class=\"dataframe\">\n",
       "  <thead>\n",
       "    <tr style=\"text-align: right;\">\n",
       "      <th></th>\n",
       "      <th>Age</th>\n",
       "      <th>Salary</th>\n",
       "      <th>Purchased</th>\n",
       "      <th>Country_France</th>\n",
       "      <th>Country_Germany</th>\n",
       "      <th>Country_Spain</th>\n",
       "    </tr>\n",
       "  </thead>\n",
       "  <tbody>\n",
       "    <tr>\n",
       "      <th>0</th>\n",
       "      <td>44.000000</td>\n",
       "      <td>72000.000000</td>\n",
       "      <td>No</td>\n",
       "      <td>1.0</td>\n",
       "      <td>0.0</td>\n",
       "      <td>0.0</td>\n",
       "    </tr>\n",
       "    <tr>\n",
       "      <th>1</th>\n",
       "      <td>27.000000</td>\n",
       "      <td>48000.000000</td>\n",
       "      <td>Yes</td>\n",
       "      <td>0.0</td>\n",
       "      <td>0.0</td>\n",
       "      <td>1.0</td>\n",
       "    </tr>\n",
       "    <tr>\n",
       "      <th>2</th>\n",
       "      <td>30.000000</td>\n",
       "      <td>54000.000000</td>\n",
       "      <td>No</td>\n",
       "      <td>0.0</td>\n",
       "      <td>1.0</td>\n",
       "      <td>0.0</td>\n",
       "    </tr>\n",
       "    <tr>\n",
       "      <th>3</th>\n",
       "      <td>38.000000</td>\n",
       "      <td>61000.000000</td>\n",
       "      <td>No</td>\n",
       "      <td>0.0</td>\n",
       "      <td>0.0</td>\n",
       "      <td>1.0</td>\n",
       "    </tr>\n",
       "    <tr>\n",
       "      <th>4</th>\n",
       "      <td>40.000000</td>\n",
       "      <td>63777.777778</td>\n",
       "      <td>Yes</td>\n",
       "      <td>0.0</td>\n",
       "      <td>1.0</td>\n",
       "      <td>0.0</td>\n",
       "    </tr>\n",
       "    <tr>\n",
       "      <th>5</th>\n",
       "      <td>35.000000</td>\n",
       "      <td>58000.000000</td>\n",
       "      <td>Yes</td>\n",
       "      <td>1.0</td>\n",
       "      <td>0.0</td>\n",
       "      <td>0.0</td>\n",
       "    </tr>\n",
       "    <tr>\n",
       "      <th>6</th>\n",
       "      <td>38.777778</td>\n",
       "      <td>52000.000000</td>\n",
       "      <td>No</td>\n",
       "      <td>0.0</td>\n",
       "      <td>0.0</td>\n",
       "      <td>1.0</td>\n",
       "    </tr>\n",
       "    <tr>\n",
       "      <th>7</th>\n",
       "      <td>48.000000</td>\n",
       "      <td>79000.000000</td>\n",
       "      <td>Yes</td>\n",
       "      <td>1.0</td>\n",
       "      <td>0.0</td>\n",
       "      <td>0.0</td>\n",
       "    </tr>\n",
       "    <tr>\n",
       "      <th>8</th>\n",
       "      <td>50.000000</td>\n",
       "      <td>83000.000000</td>\n",
       "      <td>No</td>\n",
       "      <td>0.0</td>\n",
       "      <td>1.0</td>\n",
       "      <td>0.0</td>\n",
       "    </tr>\n",
       "    <tr>\n",
       "      <th>9</th>\n",
       "      <td>37.000000</td>\n",
       "      <td>67000.000000</td>\n",
       "      <td>Yes</td>\n",
       "      <td>1.0</td>\n",
       "      <td>0.0</td>\n",
       "      <td>0.0</td>\n",
       "    </tr>\n",
       "  </tbody>\n",
       "</table>\n",
       "</div>"
      ],
      "text/plain": [
       "         Age        Salary Purchased  Country_France  Country_Germany  \\\n",
       "0  44.000000  72000.000000        No             1.0              0.0   \n",
       "1  27.000000  48000.000000       Yes             0.0              0.0   \n",
       "2  30.000000  54000.000000        No             0.0              1.0   \n",
       "3  38.000000  61000.000000        No             0.0              0.0   \n",
       "4  40.000000  63777.777778       Yes             0.0              1.0   \n",
       "5  35.000000  58000.000000       Yes             1.0              0.0   \n",
       "6  38.777778  52000.000000        No             0.0              0.0   \n",
       "7  48.000000  79000.000000       Yes             1.0              0.0   \n",
       "8  50.000000  83000.000000        No             0.0              1.0   \n",
       "9  37.000000  67000.000000       Yes             1.0              0.0   \n",
       "\n",
       "   Country_Spain  \n",
       "0            0.0  \n",
       "1            1.0  \n",
       "2            0.0  \n",
       "3            1.0  \n",
       "4            0.0  \n",
       "5            0.0  \n",
       "6            1.0  \n",
       "7            0.0  \n",
       "8            0.0  \n",
       "9            0.0  "
      ]
     },
     "execution_count": 16,
     "metadata": {},
     "output_type": "execute_result"
    }
   ],
   "source": [
    "df"
   ]
  },
  {
   "cell_type": "code",
   "execution_count": 17,
   "id": "7c455c5f",
   "metadata": {
    "execution": {
     "iopub.execute_input": "2024-06-20T11:22:36.698751Z",
     "iopub.status.busy": "2024-06-20T11:22:36.698295Z",
     "iopub.status.idle": "2024-06-20T11:22:36.704647Z",
     "shell.execute_reply": "2024-06-20T11:22:36.703524Z"
    },
    "papermill": {
     "duration": 0.020614,
     "end_time": "2024-06-20T11:22:36.707052",
     "exception": false,
     "start_time": "2024-06-20T11:22:36.686438",
     "status": "completed"
    },
    "tags": []
   },
   "outputs": [],
   "source": [
    "# Apply Label Encoder to the purchased columns\n",
    "label_encoder = LabelEncoder()\n",
    "df['Purchased'] = label_encoder.fit_transform(df['Purchased'])"
   ]
  },
  {
   "cell_type": "code",
   "execution_count": 18,
   "id": "b7a9bbe0",
   "metadata": {
    "execution": {
     "iopub.execute_input": "2024-06-20T11:22:36.728860Z",
     "iopub.status.busy": "2024-06-20T11:22:36.728473Z",
     "iopub.status.idle": "2024-06-20T11:22:36.744529Z",
     "shell.execute_reply": "2024-06-20T11:22:36.743420Z"
    },
    "papermill": {
     "duration": 0.02949,
     "end_time": "2024-06-20T11:22:36.746806",
     "exception": false,
     "start_time": "2024-06-20T11:22:36.717316",
     "status": "completed"
    },
    "tags": []
   },
   "outputs": [
    {
     "data": {
      "text/html": [
       "<div>\n",
       "<style scoped>\n",
       "    .dataframe tbody tr th:only-of-type {\n",
       "        vertical-align: middle;\n",
       "    }\n",
       "\n",
       "    .dataframe tbody tr th {\n",
       "        vertical-align: top;\n",
       "    }\n",
       "\n",
       "    .dataframe thead th {\n",
       "        text-align: right;\n",
       "    }\n",
       "</style>\n",
       "<table border=\"1\" class=\"dataframe\">\n",
       "  <thead>\n",
       "    <tr style=\"text-align: right;\">\n",
       "      <th></th>\n",
       "      <th>Age</th>\n",
       "      <th>Salary</th>\n",
       "      <th>Purchased</th>\n",
       "      <th>Country_France</th>\n",
       "      <th>Country_Germany</th>\n",
       "      <th>Country_Spain</th>\n",
       "    </tr>\n",
       "  </thead>\n",
       "  <tbody>\n",
       "    <tr>\n",
       "      <th>0</th>\n",
       "      <td>44.000000</td>\n",
       "      <td>72000.000000</td>\n",
       "      <td>0</td>\n",
       "      <td>1.0</td>\n",
       "      <td>0.0</td>\n",
       "      <td>0.0</td>\n",
       "    </tr>\n",
       "    <tr>\n",
       "      <th>1</th>\n",
       "      <td>27.000000</td>\n",
       "      <td>48000.000000</td>\n",
       "      <td>1</td>\n",
       "      <td>0.0</td>\n",
       "      <td>0.0</td>\n",
       "      <td>1.0</td>\n",
       "    </tr>\n",
       "    <tr>\n",
       "      <th>2</th>\n",
       "      <td>30.000000</td>\n",
       "      <td>54000.000000</td>\n",
       "      <td>0</td>\n",
       "      <td>0.0</td>\n",
       "      <td>1.0</td>\n",
       "      <td>0.0</td>\n",
       "    </tr>\n",
       "    <tr>\n",
       "      <th>3</th>\n",
       "      <td>38.000000</td>\n",
       "      <td>61000.000000</td>\n",
       "      <td>0</td>\n",
       "      <td>0.0</td>\n",
       "      <td>0.0</td>\n",
       "      <td>1.0</td>\n",
       "    </tr>\n",
       "    <tr>\n",
       "      <th>4</th>\n",
       "      <td>40.000000</td>\n",
       "      <td>63777.777778</td>\n",
       "      <td>1</td>\n",
       "      <td>0.0</td>\n",
       "      <td>1.0</td>\n",
       "      <td>0.0</td>\n",
       "    </tr>\n",
       "    <tr>\n",
       "      <th>5</th>\n",
       "      <td>35.000000</td>\n",
       "      <td>58000.000000</td>\n",
       "      <td>1</td>\n",
       "      <td>1.0</td>\n",
       "      <td>0.0</td>\n",
       "      <td>0.0</td>\n",
       "    </tr>\n",
       "    <tr>\n",
       "      <th>6</th>\n",
       "      <td>38.777778</td>\n",
       "      <td>52000.000000</td>\n",
       "      <td>0</td>\n",
       "      <td>0.0</td>\n",
       "      <td>0.0</td>\n",
       "      <td>1.0</td>\n",
       "    </tr>\n",
       "    <tr>\n",
       "      <th>7</th>\n",
       "      <td>48.000000</td>\n",
       "      <td>79000.000000</td>\n",
       "      <td>1</td>\n",
       "      <td>1.0</td>\n",
       "      <td>0.0</td>\n",
       "      <td>0.0</td>\n",
       "    </tr>\n",
       "    <tr>\n",
       "      <th>8</th>\n",
       "      <td>50.000000</td>\n",
       "      <td>83000.000000</td>\n",
       "      <td>0</td>\n",
       "      <td>0.0</td>\n",
       "      <td>1.0</td>\n",
       "      <td>0.0</td>\n",
       "    </tr>\n",
       "    <tr>\n",
       "      <th>9</th>\n",
       "      <td>37.000000</td>\n",
       "      <td>67000.000000</td>\n",
       "      <td>1</td>\n",
       "      <td>1.0</td>\n",
       "      <td>0.0</td>\n",
       "      <td>0.0</td>\n",
       "    </tr>\n",
       "  </tbody>\n",
       "</table>\n",
       "</div>"
      ],
      "text/plain": [
       "         Age        Salary  Purchased  Country_France  Country_Germany  \\\n",
       "0  44.000000  72000.000000          0             1.0              0.0   \n",
       "1  27.000000  48000.000000          1             0.0              0.0   \n",
       "2  30.000000  54000.000000          0             0.0              1.0   \n",
       "3  38.000000  61000.000000          0             0.0              0.0   \n",
       "4  40.000000  63777.777778          1             0.0              1.0   \n",
       "5  35.000000  58000.000000          1             1.0              0.0   \n",
       "6  38.777778  52000.000000          0             0.0              0.0   \n",
       "7  48.000000  79000.000000          1             1.0              0.0   \n",
       "8  50.000000  83000.000000          0             0.0              1.0   \n",
       "9  37.000000  67000.000000          1             1.0              0.0   \n",
       "\n",
       "   Country_Spain  \n",
       "0            0.0  \n",
       "1            1.0  \n",
       "2            0.0  \n",
       "3            1.0  \n",
       "4            0.0  \n",
       "5            0.0  \n",
       "6            1.0  \n",
       "7            0.0  \n",
       "8            0.0  \n",
       "9            0.0  "
      ]
     },
     "execution_count": 18,
     "metadata": {},
     "output_type": "execute_result"
    }
   ],
   "source": [
    "df"
   ]
  },
  {
   "cell_type": "code",
   "execution_count": 19,
   "id": "a444a072",
   "metadata": {
    "execution": {
     "iopub.execute_input": "2024-06-20T11:22:36.769518Z",
     "iopub.status.busy": "2024-06-20T11:22:36.768257Z",
     "iopub.status.idle": "2024-06-20T11:22:36.780519Z",
     "shell.execute_reply": "2024-06-20T11:22:36.779288Z"
    },
    "papermill": {
     "duration": 0.025829,
     "end_time": "2024-06-20T11:22:36.782890",
     "exception": false,
     "start_time": "2024-06-20T11:22:36.757061",
     "status": "completed"
    },
    "tags": []
   },
   "outputs": [
    {
     "name": "stdout",
     "output_type": "stream",
     "text": [
      "<class 'pandas.core.frame.DataFrame'>\n",
      "RangeIndex: 10 entries, 0 to 9\n",
      "Data columns (total 6 columns):\n",
      " #   Column           Non-Null Count  Dtype  \n",
      "---  ------           --------------  -----  \n",
      " 0   Age              10 non-null     float64\n",
      " 1   Salary           10 non-null     float64\n",
      " 2   Purchased        10 non-null     int64  \n",
      " 3   Country_France   10 non-null     float64\n",
      " 4   Country_Germany  10 non-null     float64\n",
      " 5   Country_Spain    10 non-null     float64\n",
      "dtypes: float64(5), int64(1)\n",
      "memory usage: 608.0 bytes\n"
     ]
    }
   ],
   "source": [
    "df.info()"
   ]
  },
  {
   "cell_type": "code",
   "execution_count": 20,
   "id": "07fa9e4f",
   "metadata": {
    "execution": {
     "iopub.execute_input": "2024-06-20T11:22:36.804925Z",
     "iopub.status.busy": "2024-06-20T11:22:36.804509Z",
     "iopub.status.idle": "2024-06-20T11:22:36.810796Z",
     "shell.execute_reply": "2024-06-20T11:22:36.809587Z"
    },
    "papermill": {
     "duration": 0.020139,
     "end_time": "2024-06-20T11:22:36.813207",
     "exception": false,
     "start_time": "2024-06-20T11:22:36.793068",
     "status": "completed"
    },
    "tags": []
   },
   "outputs": [],
   "source": [
    "X = df.drop(columns = 'Purchased',axis = 1)"
   ]
  },
  {
   "cell_type": "code",
   "execution_count": 21,
   "id": "771d9a95",
   "metadata": {
    "execution": {
     "iopub.execute_input": "2024-06-20T11:22:36.835698Z",
     "iopub.status.busy": "2024-06-20T11:22:36.835261Z",
     "iopub.status.idle": "2024-06-20T11:22:36.850064Z",
     "shell.execute_reply": "2024-06-20T11:22:36.848908Z"
    },
    "papermill": {
     "duration": 0.0288,
     "end_time": "2024-06-20T11:22:36.852635",
     "exception": false,
     "start_time": "2024-06-20T11:22:36.823835",
     "status": "completed"
    },
    "tags": []
   },
   "outputs": [
    {
     "data": {
      "text/html": [
       "<div>\n",
       "<style scoped>\n",
       "    .dataframe tbody tr th:only-of-type {\n",
       "        vertical-align: middle;\n",
       "    }\n",
       "\n",
       "    .dataframe tbody tr th {\n",
       "        vertical-align: top;\n",
       "    }\n",
       "\n",
       "    .dataframe thead th {\n",
       "        text-align: right;\n",
       "    }\n",
       "</style>\n",
       "<table border=\"1\" class=\"dataframe\">\n",
       "  <thead>\n",
       "    <tr style=\"text-align: right;\">\n",
       "      <th></th>\n",
       "      <th>Age</th>\n",
       "      <th>Salary</th>\n",
       "      <th>Country_France</th>\n",
       "      <th>Country_Germany</th>\n",
       "      <th>Country_Spain</th>\n",
       "    </tr>\n",
       "  </thead>\n",
       "  <tbody>\n",
       "    <tr>\n",
       "      <th>0</th>\n",
       "      <td>44.000000</td>\n",
       "      <td>72000.000000</td>\n",
       "      <td>1.0</td>\n",
       "      <td>0.0</td>\n",
       "      <td>0.0</td>\n",
       "    </tr>\n",
       "    <tr>\n",
       "      <th>1</th>\n",
       "      <td>27.000000</td>\n",
       "      <td>48000.000000</td>\n",
       "      <td>0.0</td>\n",
       "      <td>0.0</td>\n",
       "      <td>1.0</td>\n",
       "    </tr>\n",
       "    <tr>\n",
       "      <th>2</th>\n",
       "      <td>30.000000</td>\n",
       "      <td>54000.000000</td>\n",
       "      <td>0.0</td>\n",
       "      <td>1.0</td>\n",
       "      <td>0.0</td>\n",
       "    </tr>\n",
       "    <tr>\n",
       "      <th>3</th>\n",
       "      <td>38.000000</td>\n",
       "      <td>61000.000000</td>\n",
       "      <td>0.0</td>\n",
       "      <td>0.0</td>\n",
       "      <td>1.0</td>\n",
       "    </tr>\n",
       "    <tr>\n",
       "      <th>4</th>\n",
       "      <td>40.000000</td>\n",
       "      <td>63777.777778</td>\n",
       "      <td>0.0</td>\n",
       "      <td>1.0</td>\n",
       "      <td>0.0</td>\n",
       "    </tr>\n",
       "    <tr>\n",
       "      <th>5</th>\n",
       "      <td>35.000000</td>\n",
       "      <td>58000.000000</td>\n",
       "      <td>1.0</td>\n",
       "      <td>0.0</td>\n",
       "      <td>0.0</td>\n",
       "    </tr>\n",
       "    <tr>\n",
       "      <th>6</th>\n",
       "      <td>38.777778</td>\n",
       "      <td>52000.000000</td>\n",
       "      <td>0.0</td>\n",
       "      <td>0.0</td>\n",
       "      <td>1.0</td>\n",
       "    </tr>\n",
       "    <tr>\n",
       "      <th>7</th>\n",
       "      <td>48.000000</td>\n",
       "      <td>79000.000000</td>\n",
       "      <td>1.0</td>\n",
       "      <td>0.0</td>\n",
       "      <td>0.0</td>\n",
       "    </tr>\n",
       "    <tr>\n",
       "      <th>8</th>\n",
       "      <td>50.000000</td>\n",
       "      <td>83000.000000</td>\n",
       "      <td>0.0</td>\n",
       "      <td>1.0</td>\n",
       "      <td>0.0</td>\n",
       "    </tr>\n",
       "    <tr>\n",
       "      <th>9</th>\n",
       "      <td>37.000000</td>\n",
       "      <td>67000.000000</td>\n",
       "      <td>1.0</td>\n",
       "      <td>0.0</td>\n",
       "      <td>0.0</td>\n",
       "    </tr>\n",
       "  </tbody>\n",
       "</table>\n",
       "</div>"
      ],
      "text/plain": [
       "         Age        Salary  Country_France  Country_Germany  Country_Spain\n",
       "0  44.000000  72000.000000             1.0              0.0            0.0\n",
       "1  27.000000  48000.000000             0.0              0.0            1.0\n",
       "2  30.000000  54000.000000             0.0              1.0            0.0\n",
       "3  38.000000  61000.000000             0.0              0.0            1.0\n",
       "4  40.000000  63777.777778             0.0              1.0            0.0\n",
       "5  35.000000  58000.000000             1.0              0.0            0.0\n",
       "6  38.777778  52000.000000             0.0              0.0            1.0\n",
       "7  48.000000  79000.000000             1.0              0.0            0.0\n",
       "8  50.000000  83000.000000             0.0              1.0            0.0\n",
       "9  37.000000  67000.000000             1.0              0.0            0.0"
      ]
     },
     "execution_count": 21,
     "metadata": {},
     "output_type": "execute_result"
    }
   ],
   "source": [
    "X"
   ]
  },
  {
   "cell_type": "code",
   "execution_count": 22,
   "id": "12074988",
   "metadata": {
    "execution": {
     "iopub.execute_input": "2024-06-20T11:22:36.875208Z",
     "iopub.status.busy": "2024-06-20T11:22:36.874795Z",
     "iopub.status.idle": "2024-06-20T11:22:36.880470Z",
     "shell.execute_reply": "2024-06-20T11:22:36.879058Z"
    },
    "papermill": {
     "duration": 0.020016,
     "end_time": "2024-06-20T11:22:36.883085",
     "exception": false,
     "start_time": "2024-06-20T11:22:36.863069",
     "status": "completed"
    },
    "tags": []
   },
   "outputs": [],
   "source": [
    "y = df['Purchased']"
   ]
  },
  {
   "cell_type": "code",
   "execution_count": 23,
   "id": "e6066a81",
   "metadata": {
    "execution": {
     "iopub.execute_input": "2024-06-20T11:22:36.905875Z",
     "iopub.status.busy": "2024-06-20T11:22:36.905483Z",
     "iopub.status.idle": "2024-06-20T11:22:36.913229Z",
     "shell.execute_reply": "2024-06-20T11:22:36.912131Z"
    },
    "papermill": {
     "duration": 0.02173,
     "end_time": "2024-06-20T11:22:36.915628",
     "exception": false,
     "start_time": "2024-06-20T11:22:36.893898",
     "status": "completed"
    },
    "tags": []
   },
   "outputs": [
    {
     "data": {
      "text/plain": [
       "0    0\n",
       "1    1\n",
       "2    0\n",
       "3    0\n",
       "4    1\n",
       "5    1\n",
       "6    0\n",
       "7    1\n",
       "8    0\n",
       "9    1\n",
       "Name: Purchased, dtype: int64"
      ]
     },
     "execution_count": 23,
     "metadata": {},
     "output_type": "execute_result"
    }
   ],
   "source": [
    "y"
   ]
  },
  {
   "cell_type": "code",
   "execution_count": 24,
   "id": "bb0de804",
   "metadata": {
    "execution": {
     "iopub.execute_input": "2024-06-20T11:22:36.938107Z",
     "iopub.status.busy": "2024-06-20T11:22:36.937727Z",
     "iopub.status.idle": "2024-06-20T11:22:36.946563Z",
     "shell.execute_reply": "2024-06-20T11:22:36.945384Z"
    },
    "papermill": {
     "duration": 0.022664,
     "end_time": "2024-06-20T11:22:36.948788",
     "exception": false,
     "start_time": "2024-06-20T11:22:36.926124",
     "status": "completed"
    },
    "tags": []
   },
   "outputs": [],
   "source": [
    "X_train, X_test, y_train, y_test = train_test_split(X, y, test_size=0.20, random_state=101)"
   ]
  },
  {
   "cell_type": "code",
   "execution_count": 25,
   "id": "d1668646",
   "metadata": {
    "execution": {
     "iopub.execute_input": "2024-06-20T11:22:36.971554Z",
     "iopub.status.busy": "2024-06-20T11:22:36.971141Z",
     "iopub.status.idle": "2024-06-20T11:22:36.986282Z",
     "shell.execute_reply": "2024-06-20T11:22:36.985168Z"
    },
    "papermill": {
     "duration": 0.029195,
     "end_time": "2024-06-20T11:22:36.988618",
     "exception": false,
     "start_time": "2024-06-20T11:22:36.959423",
     "status": "completed"
    },
    "tags": []
   },
   "outputs": [
    {
     "data": {
      "text/html": [
       "<div>\n",
       "<style scoped>\n",
       "    .dataframe tbody tr th:only-of-type {\n",
       "        vertical-align: middle;\n",
       "    }\n",
       "\n",
       "    .dataframe tbody tr th {\n",
       "        vertical-align: top;\n",
       "    }\n",
       "\n",
       "    .dataframe thead th {\n",
       "        text-align: right;\n",
       "    }\n",
       "</style>\n",
       "<table border=\"1\" class=\"dataframe\">\n",
       "  <thead>\n",
       "    <tr style=\"text-align: right;\">\n",
       "      <th></th>\n",
       "      <th>Age</th>\n",
       "      <th>Salary</th>\n",
       "      <th>Country_France</th>\n",
       "      <th>Country_Germany</th>\n",
       "      <th>Country_Spain</th>\n",
       "    </tr>\n",
       "  </thead>\n",
       "  <tbody>\n",
       "    <tr>\n",
       "      <th>0</th>\n",
       "      <td>44.000000</td>\n",
       "      <td>72000.000000</td>\n",
       "      <td>1.0</td>\n",
       "      <td>0.0</td>\n",
       "      <td>0.0</td>\n",
       "    </tr>\n",
       "    <tr>\n",
       "      <th>4</th>\n",
       "      <td>40.000000</td>\n",
       "      <td>63777.777778</td>\n",
       "      <td>0.0</td>\n",
       "      <td>1.0</td>\n",
       "      <td>0.0</td>\n",
       "    </tr>\n",
       "    <tr>\n",
       "      <th>9</th>\n",
       "      <td>37.000000</td>\n",
       "      <td>67000.000000</td>\n",
       "      <td>1.0</td>\n",
       "      <td>0.0</td>\n",
       "      <td>0.0</td>\n",
       "    </tr>\n",
       "    <tr>\n",
       "      <th>3</th>\n",
       "      <td>38.000000</td>\n",
       "      <td>61000.000000</td>\n",
       "      <td>0.0</td>\n",
       "      <td>0.0</td>\n",
       "      <td>1.0</td>\n",
       "    </tr>\n",
       "    <tr>\n",
       "      <th>5</th>\n",
       "      <td>35.000000</td>\n",
       "      <td>58000.000000</td>\n",
       "      <td>1.0</td>\n",
       "      <td>0.0</td>\n",
       "      <td>0.0</td>\n",
       "    </tr>\n",
       "    <tr>\n",
       "      <th>7</th>\n",
       "      <td>48.000000</td>\n",
       "      <td>79000.000000</td>\n",
       "      <td>1.0</td>\n",
       "      <td>0.0</td>\n",
       "      <td>0.0</td>\n",
       "    </tr>\n",
       "    <tr>\n",
       "      <th>6</th>\n",
       "      <td>38.777778</td>\n",
       "      <td>52000.000000</td>\n",
       "      <td>0.0</td>\n",
       "      <td>0.0</td>\n",
       "      <td>1.0</td>\n",
       "    </tr>\n",
       "    <tr>\n",
       "      <th>1</th>\n",
       "      <td>27.000000</td>\n",
       "      <td>48000.000000</td>\n",
       "      <td>0.0</td>\n",
       "      <td>0.0</td>\n",
       "      <td>1.0</td>\n",
       "    </tr>\n",
       "  </tbody>\n",
       "</table>\n",
       "</div>"
      ],
      "text/plain": [
       "         Age        Salary  Country_France  Country_Germany  Country_Spain\n",
       "0  44.000000  72000.000000             1.0              0.0            0.0\n",
       "4  40.000000  63777.777778             0.0              1.0            0.0\n",
       "9  37.000000  67000.000000             1.0              0.0            0.0\n",
       "3  38.000000  61000.000000             0.0              0.0            1.0\n",
       "5  35.000000  58000.000000             1.0              0.0            0.0\n",
       "7  48.000000  79000.000000             1.0              0.0            0.0\n",
       "6  38.777778  52000.000000             0.0              0.0            1.0\n",
       "1  27.000000  48000.000000             0.0              0.0            1.0"
      ]
     },
     "execution_count": 25,
     "metadata": {},
     "output_type": "execute_result"
    }
   ],
   "source": [
    "X_train"
   ]
  },
  {
   "cell_type": "code",
   "execution_count": 26,
   "id": "b3e389af",
   "metadata": {
    "execution": {
     "iopub.execute_input": "2024-06-20T11:22:37.011604Z",
     "iopub.status.busy": "2024-06-20T11:22:37.011192Z",
     "iopub.status.idle": "2024-06-20T11:22:37.016459Z",
     "shell.execute_reply": "2024-06-20T11:22:37.015168Z"
    },
    "papermill": {
     "duration": 0.019488,
     "end_time": "2024-06-20T11:22:37.018867",
     "exception": false,
     "start_time": "2024-06-20T11:22:36.999379",
     "status": "completed"
    },
    "tags": []
   },
   "outputs": [],
   "source": [
    "from sklearn.preprocessing import StandardScaler"
   ]
  },
  {
   "cell_type": "code",
   "execution_count": 27,
   "id": "9eaf0ec4",
   "metadata": {
    "execution": {
     "iopub.execute_input": "2024-06-20T11:22:37.042395Z",
     "iopub.status.busy": "2024-06-20T11:22:37.041446Z",
     "iopub.status.idle": "2024-06-20T11:22:37.046397Z",
     "shell.execute_reply": "2024-06-20T11:22:37.045298Z"
    },
    "papermill": {
     "duration": 0.018929,
     "end_time": "2024-06-20T11:22:37.048613",
     "exception": false,
     "start_time": "2024-06-20T11:22:37.029684",
     "status": "completed"
    },
    "tags": []
   },
   "outputs": [],
   "source": [
    "scaler = StandardScaler()"
   ]
  },
  {
   "cell_type": "code",
   "execution_count": 28,
   "id": "eb42b7e9",
   "metadata": {
    "execution": {
     "iopub.execute_input": "2024-06-20T11:22:37.072071Z",
     "iopub.status.busy": "2024-06-20T11:22:37.071252Z",
     "iopub.status.idle": "2024-06-20T11:22:37.081882Z",
     "shell.execute_reply": "2024-06-20T11:22:37.080571Z"
    },
    "papermill": {
     "duration": 0.024918,
     "end_time": "2024-06-20T11:22:37.084311",
     "exception": false,
     "start_time": "2024-06-20T11:22:37.059393",
     "status": "completed"
    },
    "tags": []
   },
   "outputs": [],
   "source": [
    "X_train[['Age','Salary']] = scaler.fit_transform(X_train[['Age','Salary']])"
   ]
  },
  {
   "cell_type": "code",
   "execution_count": 29,
   "id": "d3065d94",
   "metadata": {
    "execution": {
     "iopub.execute_input": "2024-06-20T11:22:37.107897Z",
     "iopub.status.busy": "2024-06-20T11:22:37.107403Z",
     "iopub.status.idle": "2024-06-20T11:22:37.115980Z",
     "shell.execute_reply": "2024-06-20T11:22:37.114684Z"
    },
    "papermill": {
     "duration": 0.023092,
     "end_time": "2024-06-20T11:22:37.118426",
     "exception": false,
     "start_time": "2024-06-20T11:22:37.095334",
     "status": "completed"
    },
    "tags": []
   },
   "outputs": [],
   "source": [
    "X_test[['Age','Salary']] = scaler.transform(X_test[['Age','Salary']])"
   ]
  },
  {
   "cell_type": "code",
   "execution_count": 30,
   "id": "9cae2c4f",
   "metadata": {
    "execution": {
     "iopub.execute_input": "2024-06-20T11:22:37.141573Z",
     "iopub.status.busy": "2024-06-20T11:22:37.141168Z",
     "iopub.status.idle": "2024-06-20T11:22:37.156313Z",
     "shell.execute_reply": "2024-06-20T11:22:37.155178Z"
    },
    "papermill": {
     "duration": 0.029744,
     "end_time": "2024-06-20T11:22:37.158889",
     "exception": false,
     "start_time": "2024-06-20T11:22:37.129145",
     "status": "completed"
    },
    "tags": []
   },
   "outputs": [
    {
     "data": {
      "text/html": [
       "<div>\n",
       "<style scoped>\n",
       "    .dataframe tbody tr th:only-of-type {\n",
       "        vertical-align: middle;\n",
       "    }\n",
       "\n",
       "    .dataframe tbody tr th {\n",
       "        vertical-align: top;\n",
       "    }\n",
       "\n",
       "    .dataframe thead th {\n",
       "        text-align: right;\n",
       "    }\n",
       "</style>\n",
       "<table border=\"1\" class=\"dataframe\">\n",
       "  <thead>\n",
       "    <tr style=\"text-align: right;\">\n",
       "      <th></th>\n",
       "      <th>Age</th>\n",
       "      <th>Salary</th>\n",
       "      <th>Country_France</th>\n",
       "      <th>Country_Germany</th>\n",
       "      <th>Country_Spain</th>\n",
       "    </tr>\n",
       "  </thead>\n",
       "  <tbody>\n",
       "    <tr>\n",
       "      <th>0</th>\n",
       "      <td>0.951826</td>\n",
       "      <td>0.986148</td>\n",
       "      <td>1.0</td>\n",
       "      <td>0.0</td>\n",
       "      <td>0.0</td>\n",
       "    </tr>\n",
       "    <tr>\n",
       "      <th>4</th>\n",
       "      <td>0.263068</td>\n",
       "      <td>0.123815</td>\n",
       "      <td>0.0</td>\n",
       "      <td>1.0</td>\n",
       "      <td>0.0</td>\n",
       "    </tr>\n",
       "    <tr>\n",
       "      <th>9</th>\n",
       "      <td>-0.253501</td>\n",
       "      <td>0.461756</td>\n",
       "      <td>1.0</td>\n",
       "      <td>0.0</td>\n",
       "      <td>0.0</td>\n",
       "    </tr>\n",
       "    <tr>\n",
       "      <th>3</th>\n",
       "      <td>-0.081312</td>\n",
       "      <td>-0.167514</td>\n",
       "      <td>0.0</td>\n",
       "      <td>0.0</td>\n",
       "      <td>1.0</td>\n",
       "    </tr>\n",
       "    <tr>\n",
       "      <th>5</th>\n",
       "      <td>-0.597881</td>\n",
       "      <td>-0.482149</td>\n",
       "      <td>1.0</td>\n",
       "      <td>0.0</td>\n",
       "      <td>0.0</td>\n",
       "    </tr>\n",
       "    <tr>\n",
       "      <th>7</th>\n",
       "      <td>1.640585</td>\n",
       "      <td>1.720297</td>\n",
       "      <td>1.0</td>\n",
       "      <td>0.0</td>\n",
       "      <td>0.0</td>\n",
       "    </tr>\n",
       "    <tr>\n",
       "      <th>6</th>\n",
       "      <td>0.052614</td>\n",
       "      <td>-1.111420</td>\n",
       "      <td>0.0</td>\n",
       "      <td>0.0</td>\n",
       "      <td>1.0</td>\n",
       "    </tr>\n",
       "    <tr>\n",
       "      <th>1</th>\n",
       "      <td>-1.975398</td>\n",
       "      <td>-1.530933</td>\n",
       "      <td>0.0</td>\n",
       "      <td>0.0</td>\n",
       "      <td>1.0</td>\n",
       "    </tr>\n",
       "  </tbody>\n",
       "</table>\n",
       "</div>"
      ],
      "text/plain": [
       "        Age    Salary  Country_France  Country_Germany  Country_Spain\n",
       "0  0.951826  0.986148             1.0              0.0            0.0\n",
       "4  0.263068  0.123815             0.0              1.0            0.0\n",
       "9 -0.253501  0.461756             1.0              0.0            0.0\n",
       "3 -0.081312 -0.167514             0.0              0.0            1.0\n",
       "5 -0.597881 -0.482149             1.0              0.0            0.0\n",
       "7  1.640585  1.720297             1.0              0.0            0.0\n",
       "6  0.052614 -1.111420             0.0              0.0            1.0\n",
       "1 -1.975398 -1.530933             0.0              0.0            1.0"
      ]
     },
     "execution_count": 30,
     "metadata": {},
     "output_type": "execute_result"
    }
   ],
   "source": [
    "X_train"
   ]
  },
  {
   "cell_type": "code",
   "execution_count": 31,
   "id": "3a3bb634",
   "metadata": {
    "execution": {
     "iopub.execute_input": "2024-06-20T11:22:37.183894Z",
     "iopub.status.busy": "2024-06-20T11:22:37.183452Z",
     "iopub.status.idle": "2024-06-20T11:22:37.277987Z",
     "shell.execute_reply": "2024-06-20T11:22:37.276867Z"
    },
    "papermill": {
     "duration": 0.109745,
     "end_time": "2024-06-20T11:22:37.280231",
     "exception": false,
     "start_time": "2024-06-20T11:22:37.170486",
     "status": "completed"
    },
    "tags": []
   },
   "outputs": [
    {
     "data": {
      "text/html": [
       "<div>\n",
       "<style scoped>\n",
       "    .dataframe tbody tr th:only-of-type {\n",
       "        vertical-align: middle;\n",
       "    }\n",
       "\n",
       "    .dataframe tbody tr th {\n",
       "        vertical-align: top;\n",
       "    }\n",
       "\n",
       "    .dataframe thead th {\n",
       "        text-align: right;\n",
       "    }\n",
       "</style>\n",
       "<table border=\"1\" class=\"dataframe\">\n",
       "  <thead>\n",
       "    <tr style=\"text-align: right;\">\n",
       "      <th></th>\n",
       "      <th>Age</th>\n",
       "      <th>Salary</th>\n",
       "      <th>Country_France</th>\n",
       "      <th>Country_Germany</th>\n",
       "      <th>Country_Spain</th>\n",
       "    </tr>\n",
       "  </thead>\n",
       "  <tbody>\n",
       "    <tr>\n",
       "      <th>8</th>\n",
       "      <td>1.984964</td>\n",
       "      <td>2.139811</td>\n",
       "      <td>0.0</td>\n",
       "      <td>1.0</td>\n",
       "      <td>0.0</td>\n",
       "    </tr>\n",
       "    <tr>\n",
       "      <th>2</th>\n",
       "      <td>-1.458829</td>\n",
       "      <td>-0.901663</td>\n",
       "      <td>0.0</td>\n",
       "      <td>1.0</td>\n",
       "      <td>0.0</td>\n",
       "    </tr>\n",
       "  </tbody>\n",
       "</table>\n",
       "</div>"
      ],
      "text/plain": [
       "        Age    Salary  Country_France  Country_Germany  Country_Spain\n",
       "8  1.984964  2.139811             0.0              1.0            0.0\n",
       "2 -1.458829 -0.901663             0.0              1.0            0.0"
      ]
     },
     "execution_count": 31,
     "metadata": {},
     "output_type": "execute_result"
    }
   ],
   "source": [
    "X_test"
   ]
  },
  {
   "cell_type": "code",
   "execution_count": 32,
   "id": "47f45fdd",
   "metadata": {
    "execution": {
     "iopub.execute_input": "2024-06-20T11:22:37.304179Z",
     "iopub.status.busy": "2024-06-20T11:22:37.303346Z",
     "iopub.status.idle": "2024-06-20T11:22:37.310563Z",
     "shell.execute_reply": "2024-06-20T11:22:37.309569Z"
    },
    "papermill": {
     "duration": 0.021488,
     "end_time": "2024-06-20T11:22:37.312838",
     "exception": false,
     "start_time": "2024-06-20T11:22:37.291350",
     "status": "completed"
    },
    "tags": []
   },
   "outputs": [
    {
     "data": {
      "text/plain": [
       "0    0\n",
       "4    1\n",
       "9    1\n",
       "3    0\n",
       "5    1\n",
       "7    1\n",
       "6    0\n",
       "1    1\n",
       "Name: Purchased, dtype: int64"
      ]
     },
     "execution_count": 32,
     "metadata": {},
     "output_type": "execute_result"
    }
   ],
   "source": [
    "y_train"
   ]
  },
  {
   "cell_type": "code",
   "execution_count": 33,
   "id": "2de5f1d6",
   "metadata": {
    "execution": {
     "iopub.execute_input": "2024-06-20T11:22:37.336765Z",
     "iopub.status.busy": "2024-06-20T11:22:37.336345Z",
     "iopub.status.idle": "2024-06-20T11:22:37.344918Z",
     "shell.execute_reply": "2024-06-20T11:22:37.343448Z"
    },
    "papermill": {
     "duration": 0.023231,
     "end_time": "2024-06-20T11:22:37.347285",
     "exception": false,
     "start_time": "2024-06-20T11:22:37.324054",
     "status": "completed"
    },
    "tags": []
   },
   "outputs": [
    {
     "data": {
      "text/plain": [
       "8    0\n",
       "2    0\n",
       "Name: Purchased, dtype: int64"
      ]
     },
     "execution_count": 33,
     "metadata": {},
     "output_type": "execute_result"
    }
   ],
   "source": [
    "y_test"
   ]
  },
  {
   "cell_type": "code",
   "execution_count": null,
   "id": "914f4bae",
   "metadata": {
    "papermill": {
     "duration": 0.013738,
     "end_time": "2024-06-20T11:22:37.372516",
     "exception": false,
     "start_time": "2024-06-20T11:22:37.358778",
     "status": "completed"
    },
    "tags": []
   },
   "outputs": [],
   "source": []
  },
  {
   "cell_type": "code",
   "execution_count": null,
   "id": "53d08774",
   "metadata": {
    "papermill": {
     "duration": 0.010937,
     "end_time": "2024-06-20T11:22:37.394932",
     "exception": false,
     "start_time": "2024-06-20T11:22:37.383995",
     "status": "completed"
    },
    "tags": []
   },
   "outputs": [],
   "source": []
  },
  {
   "cell_type": "code",
   "execution_count": 34,
   "id": "37541e22",
   "metadata": {
    "execution": {
     "iopub.execute_input": "2024-06-20T11:22:37.419480Z",
     "iopub.status.busy": "2024-06-20T11:22:37.419035Z",
     "iopub.status.idle": "2024-06-20T11:22:37.424192Z",
     "shell.execute_reply": "2024-06-20T11:22:37.422768Z"
    },
    "papermill": {
     "duration": 0.020189,
     "end_time": "2024-06-20T11:22:37.426628",
     "exception": false,
     "start_time": "2024-06-20T11:22:37.406439",
     "status": "completed"
    },
    "tags": []
   },
   "outputs": [],
   "source": [
    "# # Encoding Categorical Data (only Country)\n",
    "# from sklearn.compose import ColumnTransformer\n",
    "# from sklearn.preprocessing import OneHotEncoder\n",
    "# ct = ColumnTransformer(transformers = [('encoder',OneHotEncoder(),['Country'])],remainder = 'passthrough')\n",
    "# df = ct.fit_transform(df)"
   ]
  },
  {
   "cell_type": "code",
   "execution_count": 35,
   "id": "59977b65",
   "metadata": {
    "execution": {
     "iopub.execute_input": "2024-06-20T11:22:37.451848Z",
     "iopub.status.busy": "2024-06-20T11:22:37.451426Z",
     "iopub.status.idle": "2024-06-20T11:22:37.456448Z",
     "shell.execute_reply": "2024-06-20T11:22:37.455318Z"
    },
    "papermill": {
     "duration": 0.020341,
     "end_time": "2024-06-20T11:22:37.459015",
     "exception": false,
     "start_time": "2024-06-20T11:22:37.438674",
     "status": "completed"
    },
    "tags": []
   },
   "outputs": [],
   "source": [
    "# df = pd.DataFrame(df,columns = ['Country_France','Country_Germany','Country_Spain','Age','Salary','Purchased'])"
   ]
  },
  {
   "cell_type": "code",
   "execution_count": 36,
   "id": "52571cfc",
   "metadata": {
    "execution": {
     "iopub.execute_input": "2024-06-20T11:22:37.542997Z",
     "iopub.status.busy": "2024-06-20T11:22:37.542587Z",
     "iopub.status.idle": "2024-06-20T11:22:37.547252Z",
     "shell.execute_reply": "2024-06-20T11:22:37.546184Z"
    },
    "papermill": {
     "duration": 0.078685,
     "end_time": "2024-06-20T11:22:37.549645",
     "exception": false,
     "start_time": "2024-06-20T11:22:37.470960",
     "status": "completed"
    },
    "tags": []
   },
   "outputs": [],
   "source": [
    "# df"
   ]
  },
  {
   "cell_type": "code",
   "execution_count": null,
   "id": "28951974",
   "metadata": {
    "papermill": {
     "duration": 0.011169,
     "end_time": "2024-06-20T11:22:37.572310",
     "exception": false,
     "start_time": "2024-06-20T11:22:37.561141",
     "status": "completed"
    },
    "tags": []
   },
   "outputs": [],
   "source": []
  }
 ],
 "metadata": {
  "kaggle": {
   "accelerator": "none",
   "dataSources": [
    {
     "datasetId": 5245148,
     "sourceId": 8737156,
     "sourceType": "datasetVersion"
    }
   ],
   "dockerImageVersionId": 30732,
   "isGpuEnabled": false,
   "isInternetEnabled": true,
   "language": "python",
   "sourceType": "notebook"
  },
  "kernelspec": {
   "display_name": "Python 3",
   "language": "python",
   "name": "python3"
  },
  "language_info": {
   "codemirror_mode": {
    "name": "ipython",
    "version": 3
   },
   "file_extension": ".py",
   "mimetype": "text/x-python",
   "name": "python",
   "nbconvert_exporter": "python",
   "pygments_lexer": "ipython3",
   "version": "3.10.13"
  },
  "papermill": {
   "default_parameters": {},
   "duration": 7.209915,
   "end_time": "2024-06-20T11:22:38.205200",
   "environment_variables": {},
   "exception": null,
   "input_path": "__notebook__.ipynb",
   "output_path": "__notebook__.ipynb",
   "parameters": {},
   "start_time": "2024-06-20T11:22:30.995285",
   "version": "2.5.0"
  }
 },
 "nbformat": 4,
 "nbformat_minor": 5
}
