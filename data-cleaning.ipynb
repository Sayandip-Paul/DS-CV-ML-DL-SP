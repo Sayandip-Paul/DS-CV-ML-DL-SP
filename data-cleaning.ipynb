{
 "cells": [
  {
   "cell_type": "code",
   "execution_count": 1,
   "id": "79638950",
   "metadata": {
    "_cell_guid": "b1076dfc-b9ad-4769-8c92-a6c4dae69d19",
    "_uuid": "8f2839f25d086af736a60e9eeb907d3b93b6e0e5",
    "execution": {
     "iopub.execute_input": "2024-06-20T11:18:59.578638Z",
     "iopub.status.busy": "2024-06-20T11:18:59.578129Z",
     "iopub.status.idle": "2024-06-20T11:19:02.585616Z",
     "shell.execute_reply": "2024-06-20T11:19:02.584102Z"
    },
    "papermill": {
     "duration": 3.025309,
     "end_time": "2024-06-20T11:19:02.588792",
     "exception": false,
     "start_time": "2024-06-20T11:18:59.563483",
     "status": "completed"
    },
    "tags": []
   },
   "outputs": [],
   "source": [
    "# This Python 3 environment comes with many helpful analytics libraries installed\n",
    "# It is defined by the kaggle/python Docker image: https://github.com/kaggle/docker-python\n",
    "# For example, here's several helpful packages to load\n",
    "\n",
    "import numpy as np # linear algebra\n",
    "import pandas as pd # data processing, CSV file I/O (e.g. pd.read_csv)\n",
    "from matplotlib import pyplot as plt\n",
    "from sklearn.impute import SimpleImputer\n",
    "from sklearn.preprocessing import OneHotEncoder,LabelEncoder\n",
    "from sklearn.model_selection import train_test_split"
   ]
  },
  {
   "cell_type": "code",
   "execution_count": 2,
   "id": "179133bf",
   "metadata": {
    "execution": {
     "iopub.execute_input": "2024-06-20T11:19:02.616409Z",
     "iopub.status.busy": "2024-06-20T11:19:02.615782Z",
     "iopub.status.idle": "2024-06-20T11:19:02.640380Z",
     "shell.execute_reply": "2024-06-20T11:19:02.638794Z"
    },
    "papermill": {
     "duration": 0.042392,
     "end_time": "2024-06-20T11:19:02.643673",
     "exception": false,
     "start_time": "2024-06-20T11:19:02.601281",
     "status": "completed"
    },
    "tags": []
   },
   "outputs": [],
   "source": [
    "df = pd.read_csv('/kaggle/input/df-cleaning/Country_age_salary_purchased.csv')"
   ]
  },
  {
   "cell_type": "code",
   "execution_count": 3,
   "id": "238daa13",
   "metadata": {
    "execution": {
     "iopub.execute_input": "2024-06-20T11:19:02.672535Z",
     "iopub.status.busy": "2024-06-20T11:19:02.671505Z",
     "iopub.status.idle": "2024-06-20T11:19:02.700394Z",
     "shell.execute_reply": "2024-06-20T11:19:02.699109Z"
    },
    "papermill": {
     "duration": 0.046972,
     "end_time": "2024-06-20T11:19:02.703901",
     "exception": false,
     "start_time": "2024-06-20T11:19:02.656929",
     "status": "completed"
    },
    "tags": []
   },
   "outputs": [
    {
     "data": {
      "text/html": [
       "<div>\n",
       "<style scoped>\n",
       "    .dataframe tbody tr th:only-of-type {\n",
       "        vertical-align: middle;\n",
       "    }\n",
       "\n",
       "    .dataframe tbody tr th {\n",
       "        vertical-align: top;\n",
       "    }\n",
       "\n",
       "    .dataframe thead th {\n",
       "        text-align: right;\n",
       "    }\n",
       "</style>\n",
       "<table border=\"1\" class=\"dataframe\">\n",
       "  <thead>\n",
       "    <tr style=\"text-align: right;\">\n",
       "      <th></th>\n",
       "      <th>Country</th>\n",
       "      <th>Age</th>\n",
       "      <th>Salary</th>\n",
       "      <th>Purchased</th>\n",
       "    </tr>\n",
       "  </thead>\n",
       "  <tbody>\n",
       "    <tr>\n",
       "      <th>0</th>\n",
       "      <td>France</td>\n",
       "      <td>44.0</td>\n",
       "      <td>72000.0</td>\n",
       "      <td>No</td>\n",
       "    </tr>\n",
       "    <tr>\n",
       "      <th>1</th>\n",
       "      <td>Spain</td>\n",
       "      <td>27.0</td>\n",
       "      <td>48000.0</td>\n",
       "      <td>Yes</td>\n",
       "    </tr>\n",
       "    <tr>\n",
       "      <th>2</th>\n",
       "      <td>Germany</td>\n",
       "      <td>30.0</td>\n",
       "      <td>54000.0</td>\n",
       "      <td>No</td>\n",
       "    </tr>\n",
       "    <tr>\n",
       "      <th>3</th>\n",
       "      <td>Spain</td>\n",
       "      <td>38.0</td>\n",
       "      <td>61000.0</td>\n",
       "      <td>No</td>\n",
       "    </tr>\n",
       "    <tr>\n",
       "      <th>4</th>\n",
       "      <td>Germany</td>\n",
       "      <td>40.0</td>\n",
       "      <td>NaN</td>\n",
       "      <td>Yes</td>\n",
       "    </tr>\n",
       "  </tbody>\n",
       "</table>\n",
       "</div>"
      ],
      "text/plain": [
       "   Country   Age   Salary Purchased\n",
       "0   France  44.0  72000.0        No\n",
       "1    Spain  27.0  48000.0       Yes\n",
       "2  Germany  30.0  54000.0        No\n",
       "3    Spain  38.0  61000.0        No\n",
       "4  Germany  40.0      NaN       Yes"
      ]
     },
     "execution_count": 3,
     "metadata": {},
     "output_type": "execute_result"
    }
   ],
   "source": [
    "df.head()"
   ]
  },
  {
   "cell_type": "code",
   "execution_count": 4,
   "id": "eafd9372",
   "metadata": {
    "execution": {
     "iopub.execute_input": "2024-06-20T11:19:02.733167Z",
     "iopub.status.busy": "2024-06-20T11:19:02.732750Z",
     "iopub.status.idle": "2024-06-20T11:19:02.763088Z",
     "shell.execute_reply": "2024-06-20T11:19:02.761670Z"
    },
    "papermill": {
     "duration": 0.048462,
     "end_time": "2024-06-20T11:19:02.766491",
     "exception": false,
     "start_time": "2024-06-20T11:19:02.718029",
     "status": "completed"
    },
    "tags": []
   },
   "outputs": [
    {
     "name": "stdout",
     "output_type": "stream",
     "text": [
      "<class 'pandas.core.frame.DataFrame'>\n",
      "RangeIndex: 10 entries, 0 to 9\n",
      "Data columns (total 4 columns):\n",
      " #   Column     Non-Null Count  Dtype  \n",
      "---  ------     --------------  -----  \n",
      " 0   Country    10 non-null     object \n",
      " 1   Age        9 non-null      float64\n",
      " 2   Salary     9 non-null      float64\n",
      " 3   Purchased  10 non-null     object \n",
      "dtypes: float64(2), object(2)\n",
      "memory usage: 448.0+ bytes\n"
     ]
    }
   ],
   "source": [
    "df.info()"
   ]
  },
  {
   "cell_type": "code",
   "execution_count": 5,
   "id": "0bdb2aaa",
   "metadata": {
    "execution": {
     "iopub.execute_input": "2024-06-20T11:19:02.797038Z",
     "iopub.status.busy": "2024-06-20T11:19:02.796343Z",
     "iopub.status.idle": "2024-06-20T11:19:02.806793Z",
     "shell.execute_reply": "2024-06-20T11:19:02.805387Z"
    },
    "papermill": {
     "duration": 0.029893,
     "end_time": "2024-06-20T11:19:02.809901",
     "exception": false,
     "start_time": "2024-06-20T11:19:02.780008",
     "status": "completed"
    },
    "tags": []
   },
   "outputs": [
    {
     "data": {
      "text/plain": [
       "Country      0\n",
       "Age          1\n",
       "Salary       1\n",
       "Purchased    0\n",
       "dtype: int64"
      ]
     },
     "execution_count": 5,
     "metadata": {},
     "output_type": "execute_result"
    }
   ],
   "source": [
    "df.isnull().sum()"
   ]
  },
  {
   "cell_type": "code",
   "execution_count": 6,
   "id": "db7c0208",
   "metadata": {
    "execution": {
     "iopub.execute_input": "2024-06-20T11:19:02.840554Z",
     "iopub.status.busy": "2024-06-20T11:19:02.840126Z",
     "iopub.status.idle": "2024-06-20T11:19:02.846560Z",
     "shell.execute_reply": "2024-06-20T11:19:02.845209Z"
    },
    "papermill": {
     "duration": 0.026306,
     "end_time": "2024-06-20T11:19:02.849616",
     "exception": false,
     "start_time": "2024-06-20T11:19:02.823310",
     "status": "completed"
    },
    "tags": []
   },
   "outputs": [],
   "source": [
    "# Taking care of Missing Data\n",
    "imputer = SimpleImputer(strategy = 'mean')"
   ]
  },
  {
   "cell_type": "code",
   "execution_count": 7,
   "id": "903d1dca",
   "metadata": {
    "execution": {
     "iopub.execute_input": "2024-06-20T11:19:02.878021Z",
     "iopub.status.busy": "2024-06-20T11:19:02.877634Z",
     "iopub.status.idle": "2024-06-20T11:19:02.890410Z",
     "shell.execute_reply": "2024-06-20T11:19:02.889080Z"
    },
    "papermill": {
     "duration": 0.030118,
     "end_time": "2024-06-20T11:19:02.893085",
     "exception": false,
     "start_time": "2024-06-20T11:19:02.862967",
     "status": "completed"
    },
    "tags": []
   },
   "outputs": [],
   "source": [
    "df['Salary'] = imputer.fit_transform(df[['Salary']])"
   ]
  },
  {
   "cell_type": "code",
   "execution_count": 8,
   "id": "ddee527c",
   "metadata": {
    "execution": {
     "iopub.execute_input": "2024-06-20T11:19:02.922312Z",
     "iopub.status.busy": "2024-06-20T11:19:02.921893Z",
     "iopub.status.idle": "2024-06-20T11:19:02.937477Z",
     "shell.execute_reply": "2024-06-20T11:19:02.935966Z"
    },
    "papermill": {
     "duration": 0.033346,
     "end_time": "2024-06-20T11:19:02.940456",
     "exception": false,
     "start_time": "2024-06-20T11:19:02.907110",
     "status": "completed"
    },
    "tags": []
   },
   "outputs": [
    {
     "data": {
      "text/html": [
       "<div>\n",
       "<style scoped>\n",
       "    .dataframe tbody tr th:only-of-type {\n",
       "        vertical-align: middle;\n",
       "    }\n",
       "\n",
       "    .dataframe tbody tr th {\n",
       "        vertical-align: top;\n",
       "    }\n",
       "\n",
       "    .dataframe thead th {\n",
       "        text-align: right;\n",
       "    }\n",
       "</style>\n",
       "<table border=\"1\" class=\"dataframe\">\n",
       "  <thead>\n",
       "    <tr style=\"text-align: right;\">\n",
       "      <th></th>\n",
       "      <th>Country</th>\n",
       "      <th>Age</th>\n",
       "      <th>Salary</th>\n",
       "      <th>Purchased</th>\n",
       "    </tr>\n",
       "  </thead>\n",
       "  <tbody>\n",
       "    <tr>\n",
       "      <th>0</th>\n",
       "      <td>France</td>\n",
       "      <td>44.0</td>\n",
       "      <td>72000.000000</td>\n",
       "      <td>No</td>\n",
       "    </tr>\n",
       "    <tr>\n",
       "      <th>1</th>\n",
       "      <td>Spain</td>\n",
       "      <td>27.0</td>\n",
       "      <td>48000.000000</td>\n",
       "      <td>Yes</td>\n",
       "    </tr>\n",
       "    <tr>\n",
       "      <th>2</th>\n",
       "      <td>Germany</td>\n",
       "      <td>30.0</td>\n",
       "      <td>54000.000000</td>\n",
       "      <td>No</td>\n",
       "    </tr>\n",
       "    <tr>\n",
       "      <th>3</th>\n",
       "      <td>Spain</td>\n",
       "      <td>38.0</td>\n",
       "      <td>61000.000000</td>\n",
       "      <td>No</td>\n",
       "    </tr>\n",
       "    <tr>\n",
       "      <th>4</th>\n",
       "      <td>Germany</td>\n",
       "      <td>40.0</td>\n",
       "      <td>63777.777778</td>\n",
       "      <td>Yes</td>\n",
       "    </tr>\n",
       "    <tr>\n",
       "      <th>5</th>\n",
       "      <td>France</td>\n",
       "      <td>35.0</td>\n",
       "      <td>58000.000000</td>\n",
       "      <td>Yes</td>\n",
       "    </tr>\n",
       "    <tr>\n",
       "      <th>6</th>\n",
       "      <td>Spain</td>\n",
       "      <td>NaN</td>\n",
       "      <td>52000.000000</td>\n",
       "      <td>No</td>\n",
       "    </tr>\n",
       "    <tr>\n",
       "      <th>7</th>\n",
       "      <td>France</td>\n",
       "      <td>48.0</td>\n",
       "      <td>79000.000000</td>\n",
       "      <td>Yes</td>\n",
       "    </tr>\n",
       "    <tr>\n",
       "      <th>8</th>\n",
       "      <td>Germany</td>\n",
       "      <td>50.0</td>\n",
       "      <td>83000.000000</td>\n",
       "      <td>No</td>\n",
       "    </tr>\n",
       "    <tr>\n",
       "      <th>9</th>\n",
       "      <td>France</td>\n",
       "      <td>37.0</td>\n",
       "      <td>67000.000000</td>\n",
       "      <td>Yes</td>\n",
       "    </tr>\n",
       "  </tbody>\n",
       "</table>\n",
       "</div>"
      ],
      "text/plain": [
       "   Country   Age        Salary Purchased\n",
       "0   France  44.0  72000.000000        No\n",
       "1    Spain  27.0  48000.000000       Yes\n",
       "2  Germany  30.0  54000.000000        No\n",
       "3    Spain  38.0  61000.000000        No\n",
       "4  Germany  40.0  63777.777778       Yes\n",
       "5   France  35.0  58000.000000       Yes\n",
       "6    Spain   NaN  52000.000000        No\n",
       "7   France  48.0  79000.000000       Yes\n",
       "8  Germany  50.0  83000.000000        No\n",
       "9   France  37.0  67000.000000       Yes"
      ]
     },
     "execution_count": 8,
     "metadata": {},
     "output_type": "execute_result"
    }
   ],
   "source": [
    "df"
   ]
  },
  {
   "cell_type": "code",
   "execution_count": 9,
   "id": "695f75b5",
   "metadata": {
    "execution": {
     "iopub.execute_input": "2024-06-20T11:19:02.971257Z",
     "iopub.status.busy": "2024-06-20T11:19:02.970778Z",
     "iopub.status.idle": "2024-06-20T11:19:02.983403Z",
     "shell.execute_reply": "2024-06-20T11:19:02.981827Z"
    },
    "papermill": {
     "duration": 0.030963,
     "end_time": "2024-06-20T11:19:02.986321",
     "exception": false,
     "start_time": "2024-06-20T11:19:02.955358",
     "status": "completed"
    },
    "tags": []
   },
   "outputs": [],
   "source": [
    "df['Age'] = imputer.fit_transform(df[['Age']])"
   ]
  },
  {
   "cell_type": "code",
   "execution_count": 10,
   "id": "120258ab",
   "metadata": {
    "execution": {
     "iopub.execute_input": "2024-06-20T11:19:03.018065Z",
     "iopub.status.busy": "2024-06-20T11:19:03.017646Z",
     "iopub.status.idle": "2024-06-20T11:19:03.031667Z",
     "shell.execute_reply": "2024-06-20T11:19:03.030416Z"
    },
    "papermill": {
     "duration": 0.033306,
     "end_time": "2024-06-20T11:19:03.034402",
     "exception": false,
     "start_time": "2024-06-20T11:19:03.001096",
     "status": "completed"
    },
    "tags": []
   },
   "outputs": [
    {
     "data": {
      "text/html": [
       "<div>\n",
       "<style scoped>\n",
       "    .dataframe tbody tr th:only-of-type {\n",
       "        vertical-align: middle;\n",
       "    }\n",
       "\n",
       "    .dataframe tbody tr th {\n",
       "        vertical-align: top;\n",
       "    }\n",
       "\n",
       "    .dataframe thead th {\n",
       "        text-align: right;\n",
       "    }\n",
       "</style>\n",
       "<table border=\"1\" class=\"dataframe\">\n",
       "  <thead>\n",
       "    <tr style=\"text-align: right;\">\n",
       "      <th></th>\n",
       "      <th>Country</th>\n",
       "      <th>Age</th>\n",
       "      <th>Salary</th>\n",
       "      <th>Purchased</th>\n",
       "    </tr>\n",
       "  </thead>\n",
       "  <tbody>\n",
       "    <tr>\n",
       "      <th>0</th>\n",
       "      <td>France</td>\n",
       "      <td>44.000000</td>\n",
       "      <td>72000.000000</td>\n",
       "      <td>No</td>\n",
       "    </tr>\n",
       "    <tr>\n",
       "      <th>1</th>\n",
       "      <td>Spain</td>\n",
       "      <td>27.000000</td>\n",
       "      <td>48000.000000</td>\n",
       "      <td>Yes</td>\n",
       "    </tr>\n",
       "    <tr>\n",
       "      <th>2</th>\n",
       "      <td>Germany</td>\n",
       "      <td>30.000000</td>\n",
       "      <td>54000.000000</td>\n",
       "      <td>No</td>\n",
       "    </tr>\n",
       "    <tr>\n",
       "      <th>3</th>\n",
       "      <td>Spain</td>\n",
       "      <td>38.000000</td>\n",
       "      <td>61000.000000</td>\n",
       "      <td>No</td>\n",
       "    </tr>\n",
       "    <tr>\n",
       "      <th>4</th>\n",
       "      <td>Germany</td>\n",
       "      <td>40.000000</td>\n",
       "      <td>63777.777778</td>\n",
       "      <td>Yes</td>\n",
       "    </tr>\n",
       "    <tr>\n",
       "      <th>5</th>\n",
       "      <td>France</td>\n",
       "      <td>35.000000</td>\n",
       "      <td>58000.000000</td>\n",
       "      <td>Yes</td>\n",
       "    </tr>\n",
       "    <tr>\n",
       "      <th>6</th>\n",
       "      <td>Spain</td>\n",
       "      <td>38.777778</td>\n",
       "      <td>52000.000000</td>\n",
       "      <td>No</td>\n",
       "    </tr>\n",
       "    <tr>\n",
       "      <th>7</th>\n",
       "      <td>France</td>\n",
       "      <td>48.000000</td>\n",
       "      <td>79000.000000</td>\n",
       "      <td>Yes</td>\n",
       "    </tr>\n",
       "    <tr>\n",
       "      <th>8</th>\n",
       "      <td>Germany</td>\n",
       "      <td>50.000000</td>\n",
       "      <td>83000.000000</td>\n",
       "      <td>No</td>\n",
       "    </tr>\n",
       "    <tr>\n",
       "      <th>9</th>\n",
       "      <td>France</td>\n",
       "      <td>37.000000</td>\n",
       "      <td>67000.000000</td>\n",
       "      <td>Yes</td>\n",
       "    </tr>\n",
       "  </tbody>\n",
       "</table>\n",
       "</div>"
      ],
      "text/plain": [
       "   Country        Age        Salary Purchased\n",
       "0   France  44.000000  72000.000000        No\n",
       "1    Spain  27.000000  48000.000000       Yes\n",
       "2  Germany  30.000000  54000.000000        No\n",
       "3    Spain  38.000000  61000.000000        No\n",
       "4  Germany  40.000000  63777.777778       Yes\n",
       "5   France  35.000000  58000.000000       Yes\n",
       "6    Spain  38.777778  52000.000000        No\n",
       "7   France  48.000000  79000.000000       Yes\n",
       "8  Germany  50.000000  83000.000000        No\n",
       "9   France  37.000000  67000.000000       Yes"
      ]
     },
     "execution_count": 10,
     "metadata": {},
     "output_type": "execute_result"
    }
   ],
   "source": [
    "df"
   ]
  },
  {
   "cell_type": "code",
   "execution_count": 11,
   "id": "658a5ab1",
   "metadata": {
    "execution": {
     "iopub.execute_input": "2024-06-20T11:19:03.064975Z",
     "iopub.status.busy": "2024-06-20T11:19:03.064587Z",
     "iopub.status.idle": "2024-06-20T11:19:03.080809Z",
     "shell.execute_reply": "2024-06-20T11:19:03.079455Z"
    },
    "papermill": {
     "duration": 0.03477,
     "end_time": "2024-06-20T11:19:03.083800",
     "exception": false,
     "start_time": "2024-06-20T11:19:03.049030",
     "status": "completed"
    },
    "tags": []
   },
   "outputs": [],
   "source": [
    "encoder = OneHotEncoder(sparse_output = False)\n",
    "en_countries = encoder.fit_transform(df[['Country']])"
   ]
  },
  {
   "cell_type": "code",
   "execution_count": 12,
   "id": "0408c464",
   "metadata": {
    "execution": {
     "iopub.execute_input": "2024-06-20T11:19:03.113326Z",
     "iopub.status.busy": "2024-06-20T11:19:03.112917Z",
     "iopub.status.idle": "2024-06-20T11:19:03.121390Z",
     "shell.execute_reply": "2024-06-20T11:19:03.119956Z"
    },
    "papermill": {
     "duration": 0.026557,
     "end_time": "2024-06-20T11:19:03.124488",
     "exception": false,
     "start_time": "2024-06-20T11:19:03.097931",
     "status": "completed"
    },
    "tags": []
   },
   "outputs": [
    {
     "data": {
      "text/plain": [
       "array([[1., 0., 0.],\n",
       "       [0., 0., 1.],\n",
       "       [0., 1., 0.],\n",
       "       [0., 0., 1.],\n",
       "       [0., 1., 0.],\n",
       "       [1., 0., 0.],\n",
       "       [0., 0., 1.],\n",
       "       [1., 0., 0.],\n",
       "       [0., 1., 0.],\n",
       "       [1., 0., 0.]])"
      ]
     },
     "execution_count": 12,
     "metadata": {},
     "output_type": "execute_result"
    }
   ],
   "source": [
    "en_countries"
   ]
  },
  {
   "cell_type": "code",
   "execution_count": 13,
   "id": "9f0f9d4e",
   "metadata": {
    "execution": {
     "iopub.execute_input": "2024-06-20T11:19:03.156086Z",
     "iopub.status.busy": "2024-06-20T11:19:03.155676Z",
     "iopub.status.idle": "2024-06-20T11:19:03.162070Z",
     "shell.execute_reply": "2024-06-20T11:19:03.160632Z"
    },
    "papermill": {
     "duration": 0.025388,
     "end_time": "2024-06-20T11:19:03.165026",
     "exception": false,
     "start_time": "2024-06-20T11:19:03.139638",
     "status": "completed"
    },
    "tags": []
   },
   "outputs": [],
   "source": [
    "en_countries_columns = encoder.get_feature_names_out(['Country'])"
   ]
  },
  {
   "cell_type": "code",
   "execution_count": 14,
   "id": "e8dc5224",
   "metadata": {
    "execution": {
     "iopub.execute_input": "2024-06-20T11:19:03.197879Z",
     "iopub.status.busy": "2024-06-20T11:19:03.196939Z",
     "iopub.status.idle": "2024-06-20T11:19:03.203637Z",
     "shell.execute_reply": "2024-06-20T11:19:03.202343Z"
    },
    "papermill": {
     "duration": 0.025704,
     "end_time": "2024-06-20T11:19:03.206594",
     "exception": false,
     "start_time": "2024-06-20T11:19:03.180890",
     "status": "completed"
    },
    "tags": []
   },
   "outputs": [],
   "source": [
    "en_countries_df = pd.DataFrame(en_countries,columns = en_countries_columns)"
   ]
  },
  {
   "cell_type": "code",
   "execution_count": 15,
   "id": "72f670ec",
   "metadata": {
    "execution": {
     "iopub.execute_input": "2024-06-20T11:19:03.238087Z",
     "iopub.status.busy": "2024-06-20T11:19:03.237705Z",
     "iopub.status.idle": "2024-06-20T11:19:03.247995Z",
     "shell.execute_reply": "2024-06-20T11:19:03.246547Z"
    },
    "papermill": {
     "duration": 0.028867,
     "end_time": "2024-06-20T11:19:03.250748",
     "exception": false,
     "start_time": "2024-06-20T11:19:03.221881",
     "status": "completed"
    },
    "tags": []
   },
   "outputs": [],
   "source": [
    "en_countries_df = pd.DataFrame(en_countries,columns = en_countries_columns)\n",
    "df = pd.concat([df.drop(columns = ['Country']),en_countries_df],axis = 1)"
   ]
  },
  {
   "cell_type": "code",
   "execution_count": 16,
   "id": "6a81be92",
   "metadata": {
    "execution": {
     "iopub.execute_input": "2024-06-20T11:19:03.280401Z",
     "iopub.status.busy": "2024-06-20T11:19:03.279901Z",
     "iopub.status.idle": "2024-06-20T11:19:03.300757Z",
     "shell.execute_reply": "2024-06-20T11:19:03.299471Z"
    },
    "papermill": {
     "duration": 0.038777,
     "end_time": "2024-06-20T11:19:03.303429",
     "exception": false,
     "start_time": "2024-06-20T11:19:03.264652",
     "status": "completed"
    },
    "tags": []
   },
   "outputs": [
    {
     "data": {
      "text/html": [
       "<div>\n",
       "<style scoped>\n",
       "    .dataframe tbody tr th:only-of-type {\n",
       "        vertical-align: middle;\n",
       "    }\n",
       "\n",
       "    .dataframe tbody tr th {\n",
       "        vertical-align: top;\n",
       "    }\n",
       "\n",
       "    .dataframe thead th {\n",
       "        text-align: right;\n",
       "    }\n",
       "</style>\n",
       "<table border=\"1\" class=\"dataframe\">\n",
       "  <thead>\n",
       "    <tr style=\"text-align: right;\">\n",
       "      <th></th>\n",
       "      <th>Age</th>\n",
       "      <th>Salary</th>\n",
       "      <th>Purchased</th>\n",
       "      <th>Country_France</th>\n",
       "      <th>Country_Germany</th>\n",
       "      <th>Country_Spain</th>\n",
       "    </tr>\n",
       "  </thead>\n",
       "  <tbody>\n",
       "    <tr>\n",
       "      <th>0</th>\n",
       "      <td>44.000000</td>\n",
       "      <td>72000.000000</td>\n",
       "      <td>No</td>\n",
       "      <td>1.0</td>\n",
       "      <td>0.0</td>\n",
       "      <td>0.0</td>\n",
       "    </tr>\n",
       "    <tr>\n",
       "      <th>1</th>\n",
       "      <td>27.000000</td>\n",
       "      <td>48000.000000</td>\n",
       "      <td>Yes</td>\n",
       "      <td>0.0</td>\n",
       "      <td>0.0</td>\n",
       "      <td>1.0</td>\n",
       "    </tr>\n",
       "    <tr>\n",
       "      <th>2</th>\n",
       "      <td>30.000000</td>\n",
       "      <td>54000.000000</td>\n",
       "      <td>No</td>\n",
       "      <td>0.0</td>\n",
       "      <td>1.0</td>\n",
       "      <td>0.0</td>\n",
       "    </tr>\n",
       "    <tr>\n",
       "      <th>3</th>\n",
       "      <td>38.000000</td>\n",
       "      <td>61000.000000</td>\n",
       "      <td>No</td>\n",
       "      <td>0.0</td>\n",
       "      <td>0.0</td>\n",
       "      <td>1.0</td>\n",
       "    </tr>\n",
       "    <tr>\n",
       "      <th>4</th>\n",
       "      <td>40.000000</td>\n",
       "      <td>63777.777778</td>\n",
       "      <td>Yes</td>\n",
       "      <td>0.0</td>\n",
       "      <td>1.0</td>\n",
       "      <td>0.0</td>\n",
       "    </tr>\n",
       "    <tr>\n",
       "      <th>5</th>\n",
       "      <td>35.000000</td>\n",
       "      <td>58000.000000</td>\n",
       "      <td>Yes</td>\n",
       "      <td>1.0</td>\n",
       "      <td>0.0</td>\n",
       "      <td>0.0</td>\n",
       "    </tr>\n",
       "    <tr>\n",
       "      <th>6</th>\n",
       "      <td>38.777778</td>\n",
       "      <td>52000.000000</td>\n",
       "      <td>No</td>\n",
       "      <td>0.0</td>\n",
       "      <td>0.0</td>\n",
       "      <td>1.0</td>\n",
       "    </tr>\n",
       "    <tr>\n",
       "      <th>7</th>\n",
       "      <td>48.000000</td>\n",
       "      <td>79000.000000</td>\n",
       "      <td>Yes</td>\n",
       "      <td>1.0</td>\n",
       "      <td>0.0</td>\n",
       "      <td>0.0</td>\n",
       "    </tr>\n",
       "    <tr>\n",
       "      <th>8</th>\n",
       "      <td>50.000000</td>\n",
       "      <td>83000.000000</td>\n",
       "      <td>No</td>\n",
       "      <td>0.0</td>\n",
       "      <td>1.0</td>\n",
       "      <td>0.0</td>\n",
       "    </tr>\n",
       "    <tr>\n",
       "      <th>9</th>\n",
       "      <td>37.000000</td>\n",
       "      <td>67000.000000</td>\n",
       "      <td>Yes</td>\n",
       "      <td>1.0</td>\n",
       "      <td>0.0</td>\n",
       "      <td>0.0</td>\n",
       "    </tr>\n",
       "  </tbody>\n",
       "</table>\n",
       "</div>"
      ],
      "text/plain": [
       "         Age        Salary Purchased  Country_France  Country_Germany  \\\n",
       "0  44.000000  72000.000000        No             1.0              0.0   \n",
       "1  27.000000  48000.000000       Yes             0.0              0.0   \n",
       "2  30.000000  54000.000000        No             0.0              1.0   \n",
       "3  38.000000  61000.000000        No             0.0              0.0   \n",
       "4  40.000000  63777.777778       Yes             0.0              1.0   \n",
       "5  35.000000  58000.000000       Yes             1.0              0.0   \n",
       "6  38.777778  52000.000000        No             0.0              0.0   \n",
       "7  48.000000  79000.000000       Yes             1.0              0.0   \n",
       "8  50.000000  83000.000000        No             0.0              1.0   \n",
       "9  37.000000  67000.000000       Yes             1.0              0.0   \n",
       "\n",
       "   Country_Spain  \n",
       "0            0.0  \n",
       "1            1.0  \n",
       "2            0.0  \n",
       "3            1.0  \n",
       "4            0.0  \n",
       "5            0.0  \n",
       "6            1.0  \n",
       "7            0.0  \n",
       "8            0.0  \n",
       "9            0.0  "
      ]
     },
     "execution_count": 16,
     "metadata": {},
     "output_type": "execute_result"
    }
   ],
   "source": [
    "df"
   ]
  },
  {
   "cell_type": "code",
   "execution_count": 17,
   "id": "20930ca9",
   "metadata": {
    "execution": {
     "iopub.execute_input": "2024-06-20T11:19:03.333654Z",
     "iopub.status.busy": "2024-06-20T11:19:03.333186Z",
     "iopub.status.idle": "2024-06-20T11:19:03.340274Z",
     "shell.execute_reply": "2024-06-20T11:19:03.338836Z"
    },
    "papermill": {
     "duration": 0.025916,
     "end_time": "2024-06-20T11:19:03.343227",
     "exception": false,
     "start_time": "2024-06-20T11:19:03.317311",
     "status": "completed"
    },
    "tags": []
   },
   "outputs": [],
   "source": [
    "# Apply Label Encoder to the purchased columns\n",
    "label_encoder = LabelEncoder()\n",
    "df['Purchased'] = label_encoder.fit_transform(df['Purchased'])"
   ]
  },
  {
   "cell_type": "code",
   "execution_count": 18,
   "id": "bf14ac05",
   "metadata": {
    "execution": {
     "iopub.execute_input": "2024-06-20T11:19:03.374794Z",
     "iopub.status.busy": "2024-06-20T11:19:03.374298Z",
     "iopub.status.idle": "2024-06-20T11:19:03.395990Z",
     "shell.execute_reply": "2024-06-20T11:19:03.394520Z"
    },
    "papermill": {
     "duration": 0.041081,
     "end_time": "2024-06-20T11:19:03.398888",
     "exception": false,
     "start_time": "2024-06-20T11:19:03.357807",
     "status": "completed"
    },
    "tags": []
   },
   "outputs": [
    {
     "data": {
      "text/html": [
       "<div>\n",
       "<style scoped>\n",
       "    .dataframe tbody tr th:only-of-type {\n",
       "        vertical-align: middle;\n",
       "    }\n",
       "\n",
       "    .dataframe tbody tr th {\n",
       "        vertical-align: top;\n",
       "    }\n",
       "\n",
       "    .dataframe thead th {\n",
       "        text-align: right;\n",
       "    }\n",
       "</style>\n",
       "<table border=\"1\" class=\"dataframe\">\n",
       "  <thead>\n",
       "    <tr style=\"text-align: right;\">\n",
       "      <th></th>\n",
       "      <th>Age</th>\n",
       "      <th>Salary</th>\n",
       "      <th>Purchased</th>\n",
       "      <th>Country_France</th>\n",
       "      <th>Country_Germany</th>\n",
       "      <th>Country_Spain</th>\n",
       "    </tr>\n",
       "  </thead>\n",
       "  <tbody>\n",
       "    <tr>\n",
       "      <th>0</th>\n",
       "      <td>44.000000</td>\n",
       "      <td>72000.000000</td>\n",
       "      <td>0</td>\n",
       "      <td>1.0</td>\n",
       "      <td>0.0</td>\n",
       "      <td>0.0</td>\n",
       "    </tr>\n",
       "    <tr>\n",
       "      <th>1</th>\n",
       "      <td>27.000000</td>\n",
       "      <td>48000.000000</td>\n",
       "      <td>1</td>\n",
       "      <td>0.0</td>\n",
       "      <td>0.0</td>\n",
       "      <td>1.0</td>\n",
       "    </tr>\n",
       "    <tr>\n",
       "      <th>2</th>\n",
       "      <td>30.000000</td>\n",
       "      <td>54000.000000</td>\n",
       "      <td>0</td>\n",
       "      <td>0.0</td>\n",
       "      <td>1.0</td>\n",
       "      <td>0.0</td>\n",
       "    </tr>\n",
       "    <tr>\n",
       "      <th>3</th>\n",
       "      <td>38.000000</td>\n",
       "      <td>61000.000000</td>\n",
       "      <td>0</td>\n",
       "      <td>0.0</td>\n",
       "      <td>0.0</td>\n",
       "      <td>1.0</td>\n",
       "    </tr>\n",
       "    <tr>\n",
       "      <th>4</th>\n",
       "      <td>40.000000</td>\n",
       "      <td>63777.777778</td>\n",
       "      <td>1</td>\n",
       "      <td>0.0</td>\n",
       "      <td>1.0</td>\n",
       "      <td>0.0</td>\n",
       "    </tr>\n",
       "    <tr>\n",
       "      <th>5</th>\n",
       "      <td>35.000000</td>\n",
       "      <td>58000.000000</td>\n",
       "      <td>1</td>\n",
       "      <td>1.0</td>\n",
       "      <td>0.0</td>\n",
       "      <td>0.0</td>\n",
       "    </tr>\n",
       "    <tr>\n",
       "      <th>6</th>\n",
       "      <td>38.777778</td>\n",
       "      <td>52000.000000</td>\n",
       "      <td>0</td>\n",
       "      <td>0.0</td>\n",
       "      <td>0.0</td>\n",
       "      <td>1.0</td>\n",
       "    </tr>\n",
       "    <tr>\n",
       "      <th>7</th>\n",
       "      <td>48.000000</td>\n",
       "      <td>79000.000000</td>\n",
       "      <td>1</td>\n",
       "      <td>1.0</td>\n",
       "      <td>0.0</td>\n",
       "      <td>0.0</td>\n",
       "    </tr>\n",
       "    <tr>\n",
       "      <th>8</th>\n",
       "      <td>50.000000</td>\n",
       "      <td>83000.000000</td>\n",
       "      <td>0</td>\n",
       "      <td>0.0</td>\n",
       "      <td>1.0</td>\n",
       "      <td>0.0</td>\n",
       "    </tr>\n",
       "    <tr>\n",
       "      <th>9</th>\n",
       "      <td>37.000000</td>\n",
       "      <td>67000.000000</td>\n",
       "      <td>1</td>\n",
       "      <td>1.0</td>\n",
       "      <td>0.0</td>\n",
       "      <td>0.0</td>\n",
       "    </tr>\n",
       "  </tbody>\n",
       "</table>\n",
       "</div>"
      ],
      "text/plain": [
       "         Age        Salary  Purchased  Country_France  Country_Germany  \\\n",
       "0  44.000000  72000.000000          0             1.0              0.0   \n",
       "1  27.000000  48000.000000          1             0.0              0.0   \n",
       "2  30.000000  54000.000000          0             0.0              1.0   \n",
       "3  38.000000  61000.000000          0             0.0              0.0   \n",
       "4  40.000000  63777.777778          1             0.0              1.0   \n",
       "5  35.000000  58000.000000          1             1.0              0.0   \n",
       "6  38.777778  52000.000000          0             0.0              0.0   \n",
       "7  48.000000  79000.000000          1             1.0              0.0   \n",
       "8  50.000000  83000.000000          0             0.0              1.0   \n",
       "9  37.000000  67000.000000          1             1.0              0.0   \n",
       "\n",
       "   Country_Spain  \n",
       "0            0.0  \n",
       "1            1.0  \n",
       "2            0.0  \n",
       "3            1.0  \n",
       "4            0.0  \n",
       "5            0.0  \n",
       "6            1.0  \n",
       "7            0.0  \n",
       "8            0.0  \n",
       "9            0.0  "
      ]
     },
     "execution_count": 18,
     "metadata": {},
     "output_type": "execute_result"
    }
   ],
   "source": [
    "df"
   ]
  },
  {
   "cell_type": "code",
   "execution_count": 19,
   "id": "70fadecf",
   "metadata": {
    "execution": {
     "iopub.execute_input": "2024-06-20T11:19:03.430631Z",
     "iopub.status.busy": "2024-06-20T11:19:03.430123Z",
     "iopub.status.idle": "2024-06-20T11:19:03.445173Z",
     "shell.execute_reply": "2024-06-20T11:19:03.443647Z"
    },
    "papermill": {
     "duration": 0.034154,
     "end_time": "2024-06-20T11:19:03.448036",
     "exception": false,
     "start_time": "2024-06-20T11:19:03.413882",
     "status": "completed"
    },
    "tags": []
   },
   "outputs": [
    {
     "name": "stdout",
     "output_type": "stream",
     "text": [
      "<class 'pandas.core.frame.DataFrame'>\n",
      "RangeIndex: 10 entries, 0 to 9\n",
      "Data columns (total 6 columns):\n",
      " #   Column           Non-Null Count  Dtype  \n",
      "---  ------           --------------  -----  \n",
      " 0   Age              10 non-null     float64\n",
      " 1   Salary           10 non-null     float64\n",
      " 2   Purchased        10 non-null     int64  \n",
      " 3   Country_France   10 non-null     float64\n",
      " 4   Country_Germany  10 non-null     float64\n",
      " 5   Country_Spain    10 non-null     float64\n",
      "dtypes: float64(5), int64(1)\n",
      "memory usage: 608.0 bytes\n"
     ]
    }
   ],
   "source": [
    "df.info()"
   ]
  },
  {
   "cell_type": "code",
   "execution_count": 20,
   "id": "a298baa5",
   "metadata": {
    "execution": {
     "iopub.execute_input": "2024-06-20T11:19:03.480737Z",
     "iopub.status.busy": "2024-06-20T11:19:03.479357Z",
     "iopub.status.idle": "2024-06-20T11:19:03.486685Z",
     "shell.execute_reply": "2024-06-20T11:19:03.485463Z"
    },
    "papermill": {
     "duration": 0.027246,
     "end_time": "2024-06-20T11:19:03.489785",
     "exception": false,
     "start_time": "2024-06-20T11:19:03.462539",
     "status": "completed"
    },
    "tags": []
   },
   "outputs": [],
   "source": [
    "X = df.drop(columns = 'Purchased',axis = 1)"
   ]
  },
  {
   "cell_type": "code",
   "execution_count": 21,
   "id": "20fc7332",
   "metadata": {
    "execution": {
     "iopub.execute_input": "2024-06-20T11:19:03.522913Z",
     "iopub.status.busy": "2024-06-20T11:19:03.522449Z",
     "iopub.status.idle": "2024-06-20T11:19:03.541990Z",
     "shell.execute_reply": "2024-06-20T11:19:03.540461Z"
    },
    "papermill": {
     "duration": 0.039057,
     "end_time": "2024-06-20T11:19:03.545015",
     "exception": false,
     "start_time": "2024-06-20T11:19:03.505958",
     "status": "completed"
    },
    "tags": []
   },
   "outputs": [
    {
     "data": {
      "text/html": [
       "<div>\n",
       "<style scoped>\n",
       "    .dataframe tbody tr th:only-of-type {\n",
       "        vertical-align: middle;\n",
       "    }\n",
       "\n",
       "    .dataframe tbody tr th {\n",
       "        vertical-align: top;\n",
       "    }\n",
       "\n",
       "    .dataframe thead th {\n",
       "        text-align: right;\n",
       "    }\n",
       "</style>\n",
       "<table border=\"1\" class=\"dataframe\">\n",
       "  <thead>\n",
       "    <tr style=\"text-align: right;\">\n",
       "      <th></th>\n",
       "      <th>Age</th>\n",
       "      <th>Salary</th>\n",
       "      <th>Country_France</th>\n",
       "      <th>Country_Germany</th>\n",
       "      <th>Country_Spain</th>\n",
       "    </tr>\n",
       "  </thead>\n",
       "  <tbody>\n",
       "    <tr>\n",
       "      <th>0</th>\n",
       "      <td>44.000000</td>\n",
       "      <td>72000.000000</td>\n",
       "      <td>1.0</td>\n",
       "      <td>0.0</td>\n",
       "      <td>0.0</td>\n",
       "    </tr>\n",
       "    <tr>\n",
       "      <th>1</th>\n",
       "      <td>27.000000</td>\n",
       "      <td>48000.000000</td>\n",
       "      <td>0.0</td>\n",
       "      <td>0.0</td>\n",
       "      <td>1.0</td>\n",
       "    </tr>\n",
       "    <tr>\n",
       "      <th>2</th>\n",
       "      <td>30.000000</td>\n",
       "      <td>54000.000000</td>\n",
       "      <td>0.0</td>\n",
       "      <td>1.0</td>\n",
       "      <td>0.0</td>\n",
       "    </tr>\n",
       "    <tr>\n",
       "      <th>3</th>\n",
       "      <td>38.000000</td>\n",
       "      <td>61000.000000</td>\n",
       "      <td>0.0</td>\n",
       "      <td>0.0</td>\n",
       "      <td>1.0</td>\n",
       "    </tr>\n",
       "    <tr>\n",
       "      <th>4</th>\n",
       "      <td>40.000000</td>\n",
       "      <td>63777.777778</td>\n",
       "      <td>0.0</td>\n",
       "      <td>1.0</td>\n",
       "      <td>0.0</td>\n",
       "    </tr>\n",
       "    <tr>\n",
       "      <th>5</th>\n",
       "      <td>35.000000</td>\n",
       "      <td>58000.000000</td>\n",
       "      <td>1.0</td>\n",
       "      <td>0.0</td>\n",
       "      <td>0.0</td>\n",
       "    </tr>\n",
       "    <tr>\n",
       "      <th>6</th>\n",
       "      <td>38.777778</td>\n",
       "      <td>52000.000000</td>\n",
       "      <td>0.0</td>\n",
       "      <td>0.0</td>\n",
       "      <td>1.0</td>\n",
       "    </tr>\n",
       "    <tr>\n",
       "      <th>7</th>\n",
       "      <td>48.000000</td>\n",
       "      <td>79000.000000</td>\n",
       "      <td>1.0</td>\n",
       "      <td>0.0</td>\n",
       "      <td>0.0</td>\n",
       "    </tr>\n",
       "    <tr>\n",
       "      <th>8</th>\n",
       "      <td>50.000000</td>\n",
       "      <td>83000.000000</td>\n",
       "      <td>0.0</td>\n",
       "      <td>1.0</td>\n",
       "      <td>0.0</td>\n",
       "    </tr>\n",
       "    <tr>\n",
       "      <th>9</th>\n",
       "      <td>37.000000</td>\n",
       "      <td>67000.000000</td>\n",
       "      <td>1.0</td>\n",
       "      <td>0.0</td>\n",
       "      <td>0.0</td>\n",
       "    </tr>\n",
       "  </tbody>\n",
       "</table>\n",
       "</div>"
      ],
      "text/plain": [
       "         Age        Salary  Country_France  Country_Germany  Country_Spain\n",
       "0  44.000000  72000.000000             1.0              0.0            0.0\n",
       "1  27.000000  48000.000000             0.0              0.0            1.0\n",
       "2  30.000000  54000.000000             0.0              1.0            0.0\n",
       "3  38.000000  61000.000000             0.0              0.0            1.0\n",
       "4  40.000000  63777.777778             0.0              1.0            0.0\n",
       "5  35.000000  58000.000000             1.0              0.0            0.0\n",
       "6  38.777778  52000.000000             0.0              0.0            1.0\n",
       "7  48.000000  79000.000000             1.0              0.0            0.0\n",
       "8  50.000000  83000.000000             0.0              1.0            0.0\n",
       "9  37.000000  67000.000000             1.0              0.0            0.0"
      ]
     },
     "execution_count": 21,
     "metadata": {},
     "output_type": "execute_result"
    }
   ],
   "source": [
    "X"
   ]
  },
  {
   "cell_type": "code",
   "execution_count": 22,
   "id": "122a468d",
   "metadata": {
    "execution": {
     "iopub.execute_input": "2024-06-20T11:19:03.577816Z",
     "iopub.status.busy": "2024-06-20T11:19:03.577356Z",
     "iopub.status.idle": "2024-06-20T11:19:03.583303Z",
     "shell.execute_reply": "2024-06-20T11:19:03.582093Z"
    },
    "papermill": {
     "duration": 0.025914,
     "end_time": "2024-06-20T11:19:03.586058",
     "exception": false,
     "start_time": "2024-06-20T11:19:03.560144",
     "status": "completed"
    },
    "tags": []
   },
   "outputs": [],
   "source": [
    "y = df['Purchased']"
   ]
  },
  {
   "cell_type": "code",
   "execution_count": 23,
   "id": "b020a66b",
   "metadata": {
    "execution": {
     "iopub.execute_input": "2024-06-20T11:19:03.618168Z",
     "iopub.status.busy": "2024-06-20T11:19:03.617736Z",
     "iopub.status.idle": "2024-06-20T11:19:03.626433Z",
     "shell.execute_reply": "2024-06-20T11:19:03.624967Z"
    },
    "papermill": {
     "duration": 0.027889,
     "end_time": "2024-06-20T11:19:03.629203",
     "exception": false,
     "start_time": "2024-06-20T11:19:03.601314",
     "status": "completed"
    },
    "tags": []
   },
   "outputs": [
    {
     "data": {
      "text/plain": [
       "0    0\n",
       "1    1\n",
       "2    0\n",
       "3    0\n",
       "4    1\n",
       "5    1\n",
       "6    0\n",
       "7    1\n",
       "8    0\n",
       "9    1\n",
       "Name: Purchased, dtype: int64"
      ]
     },
     "execution_count": 23,
     "metadata": {},
     "output_type": "execute_result"
    }
   ],
   "source": [
    "y"
   ]
  },
  {
   "cell_type": "code",
   "execution_count": 24,
   "id": "b1c4da55",
   "metadata": {
    "execution": {
     "iopub.execute_input": "2024-06-20T11:19:03.661890Z",
     "iopub.status.busy": "2024-06-20T11:19:03.661495Z",
     "iopub.status.idle": "2024-06-20T11:19:03.671276Z",
     "shell.execute_reply": "2024-06-20T11:19:03.670127Z"
    },
    "papermill": {
     "duration": 0.028945,
     "end_time": "2024-06-20T11:19:03.673899",
     "exception": false,
     "start_time": "2024-06-20T11:19:03.644954",
     "status": "completed"
    },
    "tags": []
   },
   "outputs": [],
   "source": [
    "X_train, X_test, y_train, y_test = train_test_split(X, y, test_size=0.20, random_state=101)"
   ]
  },
  {
   "cell_type": "code",
   "execution_count": 25,
   "id": "0039f0a2",
   "metadata": {
    "execution": {
     "iopub.execute_input": "2024-06-20T11:19:03.706502Z",
     "iopub.status.busy": "2024-06-20T11:19:03.706036Z",
     "iopub.status.idle": "2024-06-20T11:19:03.723929Z",
     "shell.execute_reply": "2024-06-20T11:19:03.722478Z"
    },
    "papermill": {
     "duration": 0.037478,
     "end_time": "2024-06-20T11:19:03.726766",
     "exception": false,
     "start_time": "2024-06-20T11:19:03.689288",
     "status": "completed"
    },
    "tags": []
   },
   "outputs": [
    {
     "data": {
      "text/html": [
       "<div>\n",
       "<style scoped>\n",
       "    .dataframe tbody tr th:only-of-type {\n",
       "        vertical-align: middle;\n",
       "    }\n",
       "\n",
       "    .dataframe tbody tr th {\n",
       "        vertical-align: top;\n",
       "    }\n",
       "\n",
       "    .dataframe thead th {\n",
       "        text-align: right;\n",
       "    }\n",
       "</style>\n",
       "<table border=\"1\" class=\"dataframe\">\n",
       "  <thead>\n",
       "    <tr style=\"text-align: right;\">\n",
       "      <th></th>\n",
       "      <th>Age</th>\n",
       "      <th>Salary</th>\n",
       "      <th>Country_France</th>\n",
       "      <th>Country_Germany</th>\n",
       "      <th>Country_Spain</th>\n",
       "    </tr>\n",
       "  </thead>\n",
       "  <tbody>\n",
       "    <tr>\n",
       "      <th>0</th>\n",
       "      <td>44.000000</td>\n",
       "      <td>72000.000000</td>\n",
       "      <td>1.0</td>\n",
       "      <td>0.0</td>\n",
       "      <td>0.0</td>\n",
       "    </tr>\n",
       "    <tr>\n",
       "      <th>4</th>\n",
       "      <td>40.000000</td>\n",
       "      <td>63777.777778</td>\n",
       "      <td>0.0</td>\n",
       "      <td>1.0</td>\n",
       "      <td>0.0</td>\n",
       "    </tr>\n",
       "    <tr>\n",
       "      <th>9</th>\n",
       "      <td>37.000000</td>\n",
       "      <td>67000.000000</td>\n",
       "      <td>1.0</td>\n",
       "      <td>0.0</td>\n",
       "      <td>0.0</td>\n",
       "    </tr>\n",
       "    <tr>\n",
       "      <th>3</th>\n",
       "      <td>38.000000</td>\n",
       "      <td>61000.000000</td>\n",
       "      <td>0.0</td>\n",
       "      <td>0.0</td>\n",
       "      <td>1.0</td>\n",
       "    </tr>\n",
       "    <tr>\n",
       "      <th>5</th>\n",
       "      <td>35.000000</td>\n",
       "      <td>58000.000000</td>\n",
       "      <td>1.0</td>\n",
       "      <td>0.0</td>\n",
       "      <td>0.0</td>\n",
       "    </tr>\n",
       "    <tr>\n",
       "      <th>7</th>\n",
       "      <td>48.000000</td>\n",
       "      <td>79000.000000</td>\n",
       "      <td>1.0</td>\n",
       "      <td>0.0</td>\n",
       "      <td>0.0</td>\n",
       "    </tr>\n",
       "    <tr>\n",
       "      <th>6</th>\n",
       "      <td>38.777778</td>\n",
       "      <td>52000.000000</td>\n",
       "      <td>0.0</td>\n",
       "      <td>0.0</td>\n",
       "      <td>1.0</td>\n",
       "    </tr>\n",
       "    <tr>\n",
       "      <th>1</th>\n",
       "      <td>27.000000</td>\n",
       "      <td>48000.000000</td>\n",
       "      <td>0.0</td>\n",
       "      <td>0.0</td>\n",
       "      <td>1.0</td>\n",
       "    </tr>\n",
       "  </tbody>\n",
       "</table>\n",
       "</div>"
      ],
      "text/plain": [
       "         Age        Salary  Country_France  Country_Germany  Country_Spain\n",
       "0  44.000000  72000.000000             1.0              0.0            0.0\n",
       "4  40.000000  63777.777778             0.0              1.0            0.0\n",
       "9  37.000000  67000.000000             1.0              0.0            0.0\n",
       "3  38.000000  61000.000000             0.0              0.0            1.0\n",
       "5  35.000000  58000.000000             1.0              0.0            0.0\n",
       "7  48.000000  79000.000000             1.0              0.0            0.0\n",
       "6  38.777778  52000.000000             0.0              0.0            1.0\n",
       "1  27.000000  48000.000000             0.0              0.0            1.0"
      ]
     },
     "execution_count": 25,
     "metadata": {},
     "output_type": "execute_result"
    }
   ],
   "source": [
    "X_train"
   ]
  },
  {
   "cell_type": "code",
   "execution_count": 26,
   "id": "109959cc",
   "metadata": {
    "execution": {
     "iopub.execute_input": "2024-06-20T11:19:03.761663Z",
     "iopub.status.busy": "2024-06-20T11:19:03.760001Z",
     "iopub.status.idle": "2024-06-20T11:19:03.766385Z",
     "shell.execute_reply": "2024-06-20T11:19:03.765184Z"
    },
    "papermill": {
     "duration": 0.026322,
     "end_time": "2024-06-20T11:19:03.769248",
     "exception": false,
     "start_time": "2024-06-20T11:19:03.742926",
     "status": "completed"
    },
    "tags": []
   },
   "outputs": [],
   "source": [
    "from sklearn.preprocessing import StandardScaler"
   ]
  },
  {
   "cell_type": "code",
   "execution_count": 27,
   "id": "5c38ae27",
   "metadata": {
    "execution": {
     "iopub.execute_input": "2024-06-20T11:19:03.802809Z",
     "iopub.status.busy": "2024-06-20T11:19:03.801741Z",
     "iopub.status.idle": "2024-06-20T11:19:03.807549Z",
     "shell.execute_reply": "2024-06-20T11:19:03.806304Z"
    },
    "papermill": {
     "duration": 0.025542,
     "end_time": "2024-06-20T11:19:03.810163",
     "exception": false,
     "start_time": "2024-06-20T11:19:03.784621",
     "status": "completed"
    },
    "tags": []
   },
   "outputs": [],
   "source": [
    "scaler = StandardScaler()"
   ]
  },
  {
   "cell_type": "code",
   "execution_count": 28,
   "id": "0aa432eb",
   "metadata": {
    "execution": {
     "iopub.execute_input": "2024-06-20T11:19:03.842434Z",
     "iopub.status.busy": "2024-06-20T11:19:03.841979Z",
     "iopub.status.idle": "2024-06-20T11:19:03.854180Z",
     "shell.execute_reply": "2024-06-20T11:19:03.852534Z"
    },
    "papermill": {
     "duration": 0.031704,
     "end_time": "2024-06-20T11:19:03.857070",
     "exception": false,
     "start_time": "2024-06-20T11:19:03.825366",
     "status": "completed"
    },
    "tags": []
   },
   "outputs": [],
   "source": [
    "X_train[['Age','Salary']] = scaler.fit_transform(X_train[['Age','Salary']])"
   ]
  },
  {
   "cell_type": "code",
   "execution_count": 29,
   "id": "4f059115",
   "metadata": {
    "execution": {
     "iopub.execute_input": "2024-06-20T11:19:03.890874Z",
     "iopub.status.busy": "2024-06-20T11:19:03.890408Z",
     "iopub.status.idle": "2024-06-20T11:19:03.899996Z",
     "shell.execute_reply": "2024-06-20T11:19:03.898689Z"
    },
    "papermill": {
     "duration": 0.030111,
     "end_time": "2024-06-20T11:19:03.902831",
     "exception": false,
     "start_time": "2024-06-20T11:19:03.872720",
     "status": "completed"
    },
    "tags": []
   },
   "outputs": [],
   "source": [
    "X_test[['Age','Salary']] = scaler.transform(X_test[['Age','Salary']])"
   ]
  },
  {
   "cell_type": "code",
   "execution_count": 30,
   "id": "423f63af",
   "metadata": {
    "execution": {
     "iopub.execute_input": "2024-06-20T11:19:03.936359Z",
     "iopub.status.busy": "2024-06-20T11:19:03.935942Z",
     "iopub.status.idle": "2024-06-20T11:19:03.952976Z",
     "shell.execute_reply": "2024-06-20T11:19:03.951670Z"
    },
    "papermill": {
     "duration": 0.037568,
     "end_time": "2024-06-20T11:19:03.956267",
     "exception": false,
     "start_time": "2024-06-20T11:19:03.918699",
     "status": "completed"
    },
    "tags": []
   },
   "outputs": [
    {
     "data": {
      "text/html": [
       "<div>\n",
       "<style scoped>\n",
       "    .dataframe tbody tr th:only-of-type {\n",
       "        vertical-align: middle;\n",
       "    }\n",
       "\n",
       "    .dataframe tbody tr th {\n",
       "        vertical-align: top;\n",
       "    }\n",
       "\n",
       "    .dataframe thead th {\n",
       "        text-align: right;\n",
       "    }\n",
       "</style>\n",
       "<table border=\"1\" class=\"dataframe\">\n",
       "  <thead>\n",
       "    <tr style=\"text-align: right;\">\n",
       "      <th></th>\n",
       "      <th>Age</th>\n",
       "      <th>Salary</th>\n",
       "      <th>Country_France</th>\n",
       "      <th>Country_Germany</th>\n",
       "      <th>Country_Spain</th>\n",
       "    </tr>\n",
       "  </thead>\n",
       "  <tbody>\n",
       "    <tr>\n",
       "      <th>0</th>\n",
       "      <td>0.951826</td>\n",
       "      <td>0.986148</td>\n",
       "      <td>1.0</td>\n",
       "      <td>0.0</td>\n",
       "      <td>0.0</td>\n",
       "    </tr>\n",
       "    <tr>\n",
       "      <th>4</th>\n",
       "      <td>0.263068</td>\n",
       "      <td>0.123815</td>\n",
       "      <td>0.0</td>\n",
       "      <td>1.0</td>\n",
       "      <td>0.0</td>\n",
       "    </tr>\n",
       "    <tr>\n",
       "      <th>9</th>\n",
       "      <td>-0.253501</td>\n",
       "      <td>0.461756</td>\n",
       "      <td>1.0</td>\n",
       "      <td>0.0</td>\n",
       "      <td>0.0</td>\n",
       "    </tr>\n",
       "    <tr>\n",
       "      <th>3</th>\n",
       "      <td>-0.081312</td>\n",
       "      <td>-0.167514</td>\n",
       "      <td>0.0</td>\n",
       "      <td>0.0</td>\n",
       "      <td>1.0</td>\n",
       "    </tr>\n",
       "    <tr>\n",
       "      <th>5</th>\n",
       "      <td>-0.597881</td>\n",
       "      <td>-0.482149</td>\n",
       "      <td>1.0</td>\n",
       "      <td>0.0</td>\n",
       "      <td>0.0</td>\n",
       "    </tr>\n",
       "    <tr>\n",
       "      <th>7</th>\n",
       "      <td>1.640585</td>\n",
       "      <td>1.720297</td>\n",
       "      <td>1.0</td>\n",
       "      <td>0.0</td>\n",
       "      <td>0.0</td>\n",
       "    </tr>\n",
       "    <tr>\n",
       "      <th>6</th>\n",
       "      <td>0.052614</td>\n",
       "      <td>-1.111420</td>\n",
       "      <td>0.0</td>\n",
       "      <td>0.0</td>\n",
       "      <td>1.0</td>\n",
       "    </tr>\n",
       "    <tr>\n",
       "      <th>1</th>\n",
       "      <td>-1.975398</td>\n",
       "      <td>-1.530933</td>\n",
       "      <td>0.0</td>\n",
       "      <td>0.0</td>\n",
       "      <td>1.0</td>\n",
       "    </tr>\n",
       "  </tbody>\n",
       "</table>\n",
       "</div>"
      ],
      "text/plain": [
       "        Age    Salary  Country_France  Country_Germany  Country_Spain\n",
       "0  0.951826  0.986148             1.0              0.0            0.0\n",
       "4  0.263068  0.123815             0.0              1.0            0.0\n",
       "9 -0.253501  0.461756             1.0              0.0            0.0\n",
       "3 -0.081312 -0.167514             0.0              0.0            1.0\n",
       "5 -0.597881 -0.482149             1.0              0.0            0.0\n",
       "7  1.640585  1.720297             1.0              0.0            0.0\n",
       "6  0.052614 -1.111420             0.0              0.0            1.0\n",
       "1 -1.975398 -1.530933             0.0              0.0            1.0"
      ]
     },
     "execution_count": 30,
     "metadata": {},
     "output_type": "execute_result"
    }
   ],
   "source": [
    "X_train"
   ]
  },
  {
   "cell_type": "code",
   "execution_count": 31,
   "id": "57c6b06b",
   "metadata": {
    "execution": {
     "iopub.execute_input": "2024-06-20T11:19:03.990659Z",
     "iopub.status.busy": "2024-06-20T11:19:03.990171Z",
     "iopub.status.idle": "2024-06-20T11:19:04.006017Z",
     "shell.execute_reply": "2024-06-20T11:19:04.004791Z"
    },
    "papermill": {
     "duration": 0.036415,
     "end_time": "2024-06-20T11:19:04.008819",
     "exception": false,
     "start_time": "2024-06-20T11:19:03.972404",
     "status": "completed"
    },
    "tags": []
   },
   "outputs": [
    {
     "data": {
      "text/html": [
       "<div>\n",
       "<style scoped>\n",
       "    .dataframe tbody tr th:only-of-type {\n",
       "        vertical-align: middle;\n",
       "    }\n",
       "\n",
       "    .dataframe tbody tr th {\n",
       "        vertical-align: top;\n",
       "    }\n",
       "\n",
       "    .dataframe thead th {\n",
       "        text-align: right;\n",
       "    }\n",
       "</style>\n",
       "<table border=\"1\" class=\"dataframe\">\n",
       "  <thead>\n",
       "    <tr style=\"text-align: right;\">\n",
       "      <th></th>\n",
       "      <th>Age</th>\n",
       "      <th>Salary</th>\n",
       "      <th>Country_France</th>\n",
       "      <th>Country_Germany</th>\n",
       "      <th>Country_Spain</th>\n",
       "    </tr>\n",
       "  </thead>\n",
       "  <tbody>\n",
       "    <tr>\n",
       "      <th>8</th>\n",
       "      <td>1.984964</td>\n",
       "      <td>2.139811</td>\n",
       "      <td>0.0</td>\n",
       "      <td>1.0</td>\n",
       "      <td>0.0</td>\n",
       "    </tr>\n",
       "    <tr>\n",
       "      <th>2</th>\n",
       "      <td>-1.458829</td>\n",
       "      <td>-0.901663</td>\n",
       "      <td>0.0</td>\n",
       "      <td>1.0</td>\n",
       "      <td>0.0</td>\n",
       "    </tr>\n",
       "  </tbody>\n",
       "</table>\n",
       "</div>"
      ],
      "text/plain": [
       "        Age    Salary  Country_France  Country_Germany  Country_Spain\n",
       "8  1.984964  2.139811             0.0              1.0            0.0\n",
       "2 -1.458829 -0.901663             0.0              1.0            0.0"
      ]
     },
     "execution_count": 31,
     "metadata": {},
     "output_type": "execute_result"
    }
   ],
   "source": [
    "X_test"
   ]
  },
  {
   "cell_type": "code",
   "execution_count": 32,
   "id": "16d771fc",
   "metadata": {
    "execution": {
     "iopub.execute_input": "2024-06-20T11:19:04.044680Z",
     "iopub.status.busy": "2024-06-20T11:19:04.044173Z",
     "iopub.status.idle": "2024-06-20T11:19:04.053629Z",
     "shell.execute_reply": "2024-06-20T11:19:04.052466Z"
    },
    "papermill": {
     "duration": 0.030832,
     "end_time": "2024-06-20T11:19:04.056320",
     "exception": false,
     "start_time": "2024-06-20T11:19:04.025488",
     "status": "completed"
    },
    "tags": []
   },
   "outputs": [
    {
     "data": {
      "text/plain": [
       "0    0\n",
       "4    1\n",
       "9    1\n",
       "3    0\n",
       "5    1\n",
       "7    1\n",
       "6    0\n",
       "1    1\n",
       "Name: Purchased, dtype: int64"
      ]
     },
     "execution_count": 32,
     "metadata": {},
     "output_type": "execute_result"
    }
   ],
   "source": [
    "y_train"
   ]
  },
  {
   "cell_type": "code",
   "execution_count": 33,
   "id": "7be3a1f8",
   "metadata": {
    "execution": {
     "iopub.execute_input": "2024-06-20T11:19:04.093408Z",
     "iopub.status.busy": "2024-06-20T11:19:04.092980Z",
     "iopub.status.idle": "2024-06-20T11:19:04.198149Z",
     "shell.execute_reply": "2024-06-20T11:19:04.196493Z"
    },
    "papermill": {
     "duration": 0.128131,
     "end_time": "2024-06-20T11:19:04.202100",
     "exception": false,
     "start_time": "2024-06-20T11:19:04.073969",
     "status": "completed"
    },
    "tags": []
   },
   "outputs": [
    {
     "data": {
      "text/plain": [
       "8    0\n",
       "2    0\n",
       "Name: Purchased, dtype: int64"
      ]
     },
     "execution_count": 33,
     "metadata": {},
     "output_type": "execute_result"
    }
   ],
   "source": [
    "y_test"
   ]
  },
  {
   "cell_type": "code",
   "execution_count": null,
   "id": "2aca2711",
   "metadata": {
    "papermill": {
     "duration": 0.017244,
     "end_time": "2024-06-20T11:19:04.237500",
     "exception": false,
     "start_time": "2024-06-20T11:19:04.220256",
     "status": "completed"
    },
    "tags": []
   },
   "outputs": [],
   "source": []
  },
  {
   "cell_type": "code",
   "execution_count": null,
   "id": "13e4fd84",
   "metadata": {
    "papermill": {
     "duration": 0.01816,
     "end_time": "2024-06-20T11:19:04.272495",
     "exception": false,
     "start_time": "2024-06-20T11:19:04.254335",
     "status": "completed"
    },
    "tags": []
   },
   "outputs": [],
   "source": []
  },
  {
   "cell_type": "code",
   "execution_count": 34,
   "id": "1dae49af",
   "metadata": {
    "execution": {
     "iopub.execute_input": "2024-06-20T11:19:04.311548Z",
     "iopub.status.busy": "2024-06-20T11:19:04.311118Z",
     "iopub.status.idle": "2024-06-20T11:19:04.316800Z",
     "shell.execute_reply": "2024-06-20T11:19:04.315216Z"
    },
    "papermill": {
     "duration": 0.028734,
     "end_time": "2024-06-20T11:19:04.319777",
     "exception": false,
     "start_time": "2024-06-20T11:19:04.291043",
     "status": "completed"
    },
    "tags": []
   },
   "outputs": [],
   "source": [
    "# # Encoding Categorical Data (only Country)\n",
    "# from sklearn.compose import ColumnTransformer\n",
    "# from sklearn.preprocessing import OneHotEncoder\n",
    "# ct = ColumnTransformer(transformers = [('encoder',OneHotEncoder(),['Country'])],remainder = 'passthrough')\n",
    "# df = ct.fit_transform(df)"
   ]
  },
  {
   "cell_type": "code",
   "execution_count": 35,
   "id": "62872d74",
   "metadata": {
    "execution": {
     "iopub.execute_input": "2024-06-20T11:19:04.360543Z",
     "iopub.status.busy": "2024-06-20T11:19:04.358313Z",
     "iopub.status.idle": "2024-06-20T11:19:04.368069Z",
     "shell.execute_reply": "2024-06-20T11:19:04.365209Z"
    },
    "papermill": {
     "duration": 0.034909,
     "end_time": "2024-06-20T11:19:04.372150",
     "exception": false,
     "start_time": "2024-06-20T11:19:04.337241",
     "status": "completed"
    },
    "tags": []
   },
   "outputs": [],
   "source": [
    "# df = pd.DataFrame(df,columns = ['Country_France','Country_Germany','Country_Spain','Age','Salary','Purchased'])"
   ]
  },
  {
   "cell_type": "code",
   "execution_count": 36,
   "id": "8a23c8f7",
   "metadata": {
    "execution": {
     "iopub.execute_input": "2024-06-20T11:19:04.478606Z",
     "iopub.status.busy": "2024-06-20T11:19:04.478080Z",
     "iopub.status.idle": "2024-06-20T11:19:04.483946Z",
     "shell.execute_reply": "2024-06-20T11:19:04.482461Z"
    },
    "papermill": {
     "duration": 0.09222,
     "end_time": "2024-06-20T11:19:04.486776",
     "exception": false,
     "start_time": "2024-06-20T11:19:04.394556",
     "status": "completed"
    },
    "tags": []
   },
   "outputs": [],
   "source": [
    "# df"
   ]
  },
  {
   "cell_type": "code",
   "execution_count": null,
   "id": "2d5bbd9e",
   "metadata": {
    "papermill": {
     "duration": 0.019577,
     "end_time": "2024-06-20T11:19:04.531510",
     "exception": false,
     "start_time": "2024-06-20T11:19:04.511933",
     "status": "completed"
    },
    "tags": []
   },
   "outputs": [],
   "source": []
  }
 ],
 "metadata": {
  "kaggle": {
   "accelerator": "none",
   "dataSources": [
    {
     "datasetId": 5245148,
     "sourceId": 8737156,
     "sourceType": "datasetVersion"
    }
   ],
   "dockerImageVersionId": 30732,
   "isGpuEnabled": false,
   "isInternetEnabled": true,
   "language": "python",
   "sourceType": "notebook"
  },
  "kernelspec": {
   "display_name": "Python 3",
   "language": "python",
   "name": "python3"
  },
  "language_info": {
   "codemirror_mode": {
    "name": "ipython",
    "version": 3
   },
   "file_extension": ".py",
   "mimetype": "text/x-python",
   "name": "python",
   "nbconvert_exporter": "python",
   "pygments_lexer": "ipython3",
   "version": "3.10.13"
  },
  "papermill": {
   "default_parameters": {},
   "duration": 9.243073,
   "end_time": "2024-06-20T11:19:05.479839",
   "environment_variables": {},
   "exception": null,
   "input_path": "__notebook__.ipynb",
   "output_path": "__notebook__.ipynb",
   "parameters": {},
   "start_time": "2024-06-20T11:18:56.236766",
   "version": "2.5.0"
  }
 },
 "nbformat": 4,
 "nbformat_minor": 5
}
