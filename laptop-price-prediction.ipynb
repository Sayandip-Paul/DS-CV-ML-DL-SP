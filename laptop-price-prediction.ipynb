{
 "cells": [
  {
   "cell_type": "code",
   "execution_count": 1,
   "id": "871cf1ad",
   "metadata": {
    "_cell_guid": "b1076dfc-b9ad-4769-8c92-a6c4dae69d19",
    "_uuid": "8f2839f25d086af736a60e9eeb907d3b93b6e0e5",
    "execution": {
     "iopub.execute_input": "2024-06-29T07:31:53.489102Z",
     "iopub.status.busy": "2024-06-29T07:31:53.488631Z",
     "iopub.status.idle": "2024-06-29T07:31:56.569801Z",
     "shell.execute_reply": "2024-06-29T07:31:56.568628Z"
    },
    "papermill": {
     "duration": 3.101912,
     "end_time": "2024-06-29T07:31:56.572583",
     "exception": false,
     "start_time": "2024-06-29T07:31:53.470671",
     "status": "completed"
    },
    "tags": []
   },
   "outputs": [],
   "source": [
    "import numpy as np # linear algebra\n",
    "import pandas as pd # data processing, CSV file I/O (e.g. pd.read_csv)\n",
    "from matplotlib import pyplot as plt\n",
    "import seaborn as sns\n",
    "from sklearn.impute import SimpleImputer\n",
    "import warnings\n",
    "warnings.filterwarnings('ignore')"
   ]
  },
  {
   "cell_type": "code",
   "execution_count": 2,
   "id": "7007d256",
   "metadata": {
    "execution": {
     "iopub.execute_input": "2024-06-29T07:31:56.607586Z",
     "iopub.status.busy": "2024-06-29T07:31:56.606957Z",
     "iopub.status.idle": "2024-06-29T07:31:56.659405Z",
     "shell.execute_reply": "2024-06-29T07:31:56.658165Z"
    },
    "papermill": {
     "duration": 0.07314,
     "end_time": "2024-06-29T07:31:56.662337",
     "exception": false,
     "start_time": "2024-06-29T07:31:56.589197",
     "status": "completed"
    },
    "tags": []
   },
   "outputs": [],
   "source": [
    "df_train = pd.read_csv('/kaggle/input/laptop-price-prediction/laptops_train.csv')\n",
    "df_test = pd.read_csv('/kaggle/input/laptop-price-prediction/laptops_test.csv')"
   ]
  },
  {
   "cell_type": "code",
   "execution_count": 3,
   "id": "dd880d1d",
   "metadata": {
    "collapsed": true,
    "execution": {
     "iopub.execute_input": "2024-06-29T07:31:56.697828Z",
     "iopub.status.busy": "2024-06-29T07:31:56.697349Z",
     "iopub.status.idle": "2024-06-29T07:31:56.729964Z",
     "shell.execute_reply": "2024-06-29T07:31:56.728628Z"
    },
    "jupyter": {
     "outputs_hidden": true
    },
    "papermill": {
     "duration": 0.052745,
     "end_time": "2024-06-29T07:31:56.732841",
     "exception": false,
     "start_time": "2024-06-29T07:31:56.680096",
     "status": "completed"
    },
    "tags": []
   },
   "outputs": [
    {
     "data": {
      "text/html": [
       "<div>\n",
       "<style scoped>\n",
       "    .dataframe tbody tr th:only-of-type {\n",
       "        vertical-align: middle;\n",
       "    }\n",
       "\n",
       "    .dataframe tbody tr th {\n",
       "        vertical-align: top;\n",
       "    }\n",
       "\n",
       "    .dataframe thead th {\n",
       "        text-align: right;\n",
       "    }\n",
       "</style>\n",
       "<table border=\"1\" class=\"dataframe\">\n",
       "  <thead>\n",
       "    <tr style=\"text-align: right;\">\n",
       "      <th></th>\n",
       "      <th>Manufacturer</th>\n",
       "      <th>Model Name</th>\n",
       "      <th>Category</th>\n",
       "      <th>Screen Size</th>\n",
       "      <th>Screen</th>\n",
       "      <th>CPU</th>\n",
       "      <th>RAM</th>\n",
       "      <th>Storage</th>\n",
       "      <th>GPU</th>\n",
       "      <th>Operating System</th>\n",
       "      <th>Operating System Version</th>\n",
       "      <th>Weight</th>\n",
       "      <th>Price</th>\n",
       "    </tr>\n",
       "  </thead>\n",
       "  <tbody>\n",
       "    <tr>\n",
       "      <th>0</th>\n",
       "      <td>Apple</td>\n",
       "      <td>MacBook Pro</td>\n",
       "      <td>Ultrabook</td>\n",
       "      <td>13.3\"</td>\n",
       "      <td>IPS Panel Retina Display 2560x1600</td>\n",
       "      <td>Intel Core i5 2.3GHz</td>\n",
       "      <td>8GB</td>\n",
       "      <td>128GB SSD</td>\n",
       "      <td>Intel Iris Plus Graphics 640</td>\n",
       "      <td>macOS</td>\n",
       "      <td>NaN</td>\n",
       "      <td>1.37kg</td>\n",
       "      <td>11912523.48</td>\n",
       "    </tr>\n",
       "    <tr>\n",
       "      <th>1</th>\n",
       "      <td>Apple</td>\n",
       "      <td>Macbook Air</td>\n",
       "      <td>Ultrabook</td>\n",
       "      <td>13.3\"</td>\n",
       "      <td>1440x900</td>\n",
       "      <td>Intel Core i5 1.8GHz</td>\n",
       "      <td>8GB</td>\n",
       "      <td>128GB Flash Storage</td>\n",
       "      <td>Intel HD Graphics 6000</td>\n",
       "      <td>macOS</td>\n",
       "      <td>NaN</td>\n",
       "      <td>1.34kg</td>\n",
       "      <td>7993374.48</td>\n",
       "    </tr>\n",
       "    <tr>\n",
       "      <th>2</th>\n",
       "      <td>HP</td>\n",
       "      <td>250 G6</td>\n",
       "      <td>Notebook</td>\n",
       "      <td>15.6\"</td>\n",
       "      <td>Full HD 1920x1080</td>\n",
       "      <td>Intel Core i5 7200U 2.5GHz</td>\n",
       "      <td>8GB</td>\n",
       "      <td>256GB SSD</td>\n",
       "      <td>Intel HD Graphics 620</td>\n",
       "      <td>No OS</td>\n",
       "      <td>NaN</td>\n",
       "      <td>1.86kg</td>\n",
       "      <td>5112900.00</td>\n",
       "    </tr>\n",
       "    <tr>\n",
       "      <th>3</th>\n",
       "      <td>Apple</td>\n",
       "      <td>MacBook Pro</td>\n",
       "      <td>Ultrabook</td>\n",
       "      <td>15.4\"</td>\n",
       "      <td>IPS Panel Retina Display 2880x1800</td>\n",
       "      <td>Intel Core i7 2.7GHz</td>\n",
       "      <td>16GB</td>\n",
       "      <td>512GB SSD</td>\n",
       "      <td>AMD Radeon Pro 455</td>\n",
       "      <td>macOS</td>\n",
       "      <td>NaN</td>\n",
       "      <td>1.83kg</td>\n",
       "      <td>22563005.40</td>\n",
       "    </tr>\n",
       "    <tr>\n",
       "      <th>4</th>\n",
       "      <td>Apple</td>\n",
       "      <td>MacBook Pro</td>\n",
       "      <td>Ultrabook</td>\n",
       "      <td>13.3\"</td>\n",
       "      <td>IPS Panel Retina Display 2560x1600</td>\n",
       "      <td>Intel Core i5 3.1GHz</td>\n",
       "      <td>8GB</td>\n",
       "      <td>256GB SSD</td>\n",
       "      <td>Intel Iris Plus Graphics 650</td>\n",
       "      <td>macOS</td>\n",
       "      <td>NaN</td>\n",
       "      <td>1.37kg</td>\n",
       "      <td>16037611.20</td>\n",
       "    </tr>\n",
       "  </tbody>\n",
       "</table>\n",
       "</div>"
      ],
      "text/plain": [
       "  Manufacturer   Model Name   Category Screen Size  \\\n",
       "0        Apple  MacBook Pro  Ultrabook       13.3\"   \n",
       "1        Apple  Macbook Air  Ultrabook       13.3\"   \n",
       "2           HP       250 G6   Notebook       15.6\"   \n",
       "3        Apple  MacBook Pro  Ultrabook       15.4\"   \n",
       "4        Apple  MacBook Pro  Ultrabook       13.3\"   \n",
       "\n",
       "                               Screen                         CPU   RAM  \\\n",
       "0  IPS Panel Retina Display 2560x1600        Intel Core i5 2.3GHz   8GB   \n",
       "1                            1440x900        Intel Core i5 1.8GHz   8GB   \n",
       "2                   Full HD 1920x1080  Intel Core i5 7200U 2.5GHz   8GB   \n",
       "3  IPS Panel Retina Display 2880x1800        Intel Core i7 2.7GHz  16GB   \n",
       "4  IPS Panel Retina Display 2560x1600        Intel Core i5 3.1GHz   8GB   \n",
       "\n",
       "               Storage                           GPU Operating System  \\\n",
       "0            128GB SSD  Intel Iris Plus Graphics 640            macOS   \n",
       "1  128GB Flash Storage        Intel HD Graphics 6000            macOS   \n",
       "2            256GB SSD         Intel HD Graphics 620            No OS   \n",
       "3            512GB SSD            AMD Radeon Pro 455            macOS   \n",
       "4            256GB SSD  Intel Iris Plus Graphics 650            macOS   \n",
       "\n",
       "  Operating System Version  Weight        Price  \n",
       "0                      NaN  1.37kg  11912523.48  \n",
       "1                      NaN  1.34kg   7993374.48  \n",
       "2                      NaN  1.86kg   5112900.00  \n",
       "3                      NaN  1.83kg  22563005.40  \n",
       "4                      NaN  1.37kg  16037611.20  "
      ]
     },
     "execution_count": 3,
     "metadata": {},
     "output_type": "execute_result"
    }
   ],
   "source": [
    "df_train.head()"
   ]
  },
  {
   "cell_type": "code",
   "execution_count": 4,
   "id": "4b9f73d0",
   "metadata": {
    "collapsed": true,
    "execution": {
     "iopub.execute_input": "2024-06-29T07:31:56.768371Z",
     "iopub.status.busy": "2024-06-29T07:31:56.767385Z",
     "iopub.status.idle": "2024-06-29T07:31:56.787148Z",
     "shell.execute_reply": "2024-06-29T07:31:56.785991Z"
    },
    "jupyter": {
     "outputs_hidden": true
    },
    "papermill": {
     "duration": 0.040277,
     "end_time": "2024-06-29T07:31:56.789722",
     "exception": false,
     "start_time": "2024-06-29T07:31:56.749445",
     "status": "completed"
    },
    "tags": []
   },
   "outputs": [
    {
     "data": {
      "text/html": [
       "<div>\n",
       "<style scoped>\n",
       "    .dataframe tbody tr th:only-of-type {\n",
       "        vertical-align: middle;\n",
       "    }\n",
       "\n",
       "    .dataframe tbody tr th {\n",
       "        vertical-align: top;\n",
       "    }\n",
       "\n",
       "    .dataframe thead th {\n",
       "        text-align: right;\n",
       "    }\n",
       "</style>\n",
       "<table border=\"1\" class=\"dataframe\">\n",
       "  <thead>\n",
       "    <tr style=\"text-align: right;\">\n",
       "      <th></th>\n",
       "      <th>Manufacturer</th>\n",
       "      <th>Model Name</th>\n",
       "      <th>Category</th>\n",
       "      <th>Screen Size</th>\n",
       "      <th>Screen</th>\n",
       "      <th>CPU</th>\n",
       "      <th>RAM</th>\n",
       "      <th>Storage</th>\n",
       "      <th>GPU</th>\n",
       "      <th>Operating System</th>\n",
       "      <th>Operating System Version</th>\n",
       "      <th>Weight</th>\n",
       "      <th>Price</th>\n",
       "    </tr>\n",
       "  </thead>\n",
       "  <tbody>\n",
       "    <tr>\n",
       "      <th>0</th>\n",
       "      <td>HP</td>\n",
       "      <td>15-bs053od (i7-7500U/6GB/1TB/W10)</td>\n",
       "      <td>Notebook</td>\n",
       "      <td>15.6\"</td>\n",
       "      <td>1366x768</td>\n",
       "      <td>Intel Core i7 7500U 2.7GHz</td>\n",
       "      <td>6GB</td>\n",
       "      <td>1TB HDD</td>\n",
       "      <td>Intel HD Graphics 620</td>\n",
       "      <td>Windows</td>\n",
       "      <td>10</td>\n",
       "      <td>2.04kg</td>\n",
       "      <td>5148468.0</td>\n",
       "    </tr>\n",
       "    <tr>\n",
       "      <th>1</th>\n",
       "      <td>Asus</td>\n",
       "      <td>Rog GL753VE-DS74</td>\n",
       "      <td>Gaming</td>\n",
       "      <td>17.3\"</td>\n",
       "      <td>Full HD 1920x1080</td>\n",
       "      <td>Intel Core i7 7700HQ 2.8GHz</td>\n",
       "      <td>16GB</td>\n",
       "      <td>256GB SSD +  1TB HDD</td>\n",
       "      <td>Nvidia GeForce GTX 1050 Ti</td>\n",
       "      <td>Windows</td>\n",
       "      <td>10</td>\n",
       "      <td>2.99kg</td>\n",
       "      <td>15552108.0</td>\n",
       "    </tr>\n",
       "    <tr>\n",
       "      <th>2</th>\n",
       "      <td>Dell</td>\n",
       "      <td>Inspiron 7579</td>\n",
       "      <td>2 in 1 Convertible</td>\n",
       "      <td>15.6\"</td>\n",
       "      <td>IPS Panel Full HD / Touchscreen 1920x1080</td>\n",
       "      <td>Intel Core i7 7500U 2.7GHz</td>\n",
       "      <td>12GB</td>\n",
       "      <td>512GB SSD</td>\n",
       "      <td>Intel HD Graphics 620</td>\n",
       "      <td>Windows</td>\n",
       "      <td>10</td>\n",
       "      <td>2.19kg</td>\n",
       "      <td>11550708.0</td>\n",
       "    </tr>\n",
       "    <tr>\n",
       "      <th>3</th>\n",
       "      <td>Toshiba</td>\n",
       "      <td>Portege Z30-C-1CV</td>\n",
       "      <td>Notebook</td>\n",
       "      <td>13.3\"</td>\n",
       "      <td>Full HD 1920x1080</td>\n",
       "      <td>Intel Core i5 6200U 2.3GHz</td>\n",
       "      <td>4GB</td>\n",
       "      <td>128GB SSD</td>\n",
       "      <td>Intel HD Graphics 520</td>\n",
       "      <td>Windows</td>\n",
       "      <td>7</td>\n",
       "      <td>1.2kg</td>\n",
       "      <td>10625940.0</td>\n",
       "    </tr>\n",
       "    <tr>\n",
       "      <th>4</th>\n",
       "      <td>Lenovo</td>\n",
       "      <td>IdeaPad 320-15ABR</td>\n",
       "      <td>Notebook</td>\n",
       "      <td>15.6\"</td>\n",
       "      <td>Full HD 1920x1080</td>\n",
       "      <td>AMD A12-Series 9720P 3.6GHz</td>\n",
       "      <td>6GB</td>\n",
       "      <td>256GB SSD</td>\n",
       "      <td>AMD Radeon 530</td>\n",
       "      <td>Windows</td>\n",
       "      <td>10</td>\n",
       "      <td>2.2kg</td>\n",
       "      <td>4881708.0</td>\n",
       "    </tr>\n",
       "  </tbody>\n",
       "</table>\n",
       "</div>"
      ],
      "text/plain": [
       "  Manufacturer                         Model Name            Category  \\\n",
       "0           HP  15-bs053od (i7-7500U/6GB/1TB/W10)            Notebook   \n",
       "1         Asus                   Rog GL753VE-DS74              Gaming   \n",
       "2         Dell                      Inspiron 7579  2 in 1 Convertible   \n",
       "3      Toshiba                  Portege Z30-C-1CV            Notebook   \n",
       "4       Lenovo                  IdeaPad 320-15ABR            Notebook   \n",
       "\n",
       "  Screen Size                                     Screen  \\\n",
       "0       15.6\"                                   1366x768   \n",
       "1       17.3\"                          Full HD 1920x1080   \n",
       "2       15.6\"  IPS Panel Full HD / Touchscreen 1920x1080   \n",
       "3       13.3\"                          Full HD 1920x1080   \n",
       "4       15.6\"                          Full HD 1920x1080   \n",
       "\n",
       "                           CPU   RAM               Storage  \\\n",
       "0   Intel Core i7 7500U 2.7GHz   6GB               1TB HDD   \n",
       "1  Intel Core i7 7700HQ 2.8GHz  16GB  256GB SSD +  1TB HDD   \n",
       "2   Intel Core i7 7500U 2.7GHz  12GB             512GB SSD   \n",
       "3   Intel Core i5 6200U 2.3GHz   4GB             128GB SSD   \n",
       "4  AMD A12-Series 9720P 3.6GHz   6GB             256GB SSD   \n",
       "\n",
       "                          GPU Operating System Operating System Version  \\\n",
       "0       Intel HD Graphics 620          Windows                       10   \n",
       "1  Nvidia GeForce GTX 1050 Ti          Windows                       10   \n",
       "2       Intel HD Graphics 620          Windows                       10   \n",
       "3       Intel HD Graphics 520          Windows                        7   \n",
       "4              AMD Radeon 530          Windows                       10   \n",
       "\n",
       "   Weight       Price  \n",
       "0  2.04kg   5148468.0  \n",
       "1  2.99kg  15552108.0  \n",
       "2  2.19kg  11550708.0  \n",
       "3   1.2kg  10625940.0  \n",
       "4   2.2kg   4881708.0  "
      ]
     },
     "execution_count": 4,
     "metadata": {},
     "output_type": "execute_result"
    }
   ],
   "source": [
    "df_test.head()"
   ]
  },
  {
   "cell_type": "code",
   "execution_count": 5,
   "id": "3994abd1",
   "metadata": {
    "execution": {
     "iopub.execute_input": "2024-06-29T07:31:56.825996Z",
     "iopub.status.busy": "2024-06-29T07:31:56.825551Z",
     "iopub.status.idle": "2024-06-29T07:31:56.832161Z",
     "shell.execute_reply": "2024-06-29T07:31:56.830945Z"
    },
    "papermill": {
     "duration": 0.028059,
     "end_time": "2024-06-29T07:31:56.834826",
     "exception": false,
     "start_time": "2024-06-29T07:31:56.806767",
     "status": "completed"
    },
    "tags": []
   },
   "outputs": [],
   "source": [
    "df = pd.concat([df_train,df_test],axis = 0,ignore_index = True)"
   ]
  },
  {
   "cell_type": "code",
   "execution_count": 6,
   "id": "21f61400",
   "metadata": {
    "execution": {
     "iopub.execute_input": "2024-06-29T07:31:56.870355Z",
     "iopub.status.busy": "2024-06-29T07:31:56.869941Z",
     "iopub.status.idle": "2024-06-29T07:31:56.890556Z",
     "shell.execute_reply": "2024-06-29T07:31:56.889432Z"
    },
    "papermill": {
     "duration": 0.041578,
     "end_time": "2024-06-29T07:31:56.893040",
     "exception": false,
     "start_time": "2024-06-29T07:31:56.851462",
     "status": "completed"
    },
    "tags": []
   },
   "outputs": [
    {
     "data": {
      "text/html": [
       "<div>\n",
       "<style scoped>\n",
       "    .dataframe tbody tr th:only-of-type {\n",
       "        vertical-align: middle;\n",
       "    }\n",
       "\n",
       "    .dataframe tbody tr th {\n",
       "        vertical-align: top;\n",
       "    }\n",
       "\n",
       "    .dataframe thead th {\n",
       "        text-align: right;\n",
       "    }\n",
       "</style>\n",
       "<table border=\"1\" class=\"dataframe\">\n",
       "  <thead>\n",
       "    <tr style=\"text-align: right;\">\n",
       "      <th></th>\n",
       "      <th>Manufacturer</th>\n",
       "      <th>Model Name</th>\n",
       "      <th>Category</th>\n",
       "      <th>Screen Size</th>\n",
       "      <th>Screen</th>\n",
       "      <th>CPU</th>\n",
       "      <th>RAM</th>\n",
       "      <th>Storage</th>\n",
       "      <th>GPU</th>\n",
       "      <th>Operating System</th>\n",
       "      <th>Operating System Version</th>\n",
       "      <th>Weight</th>\n",
       "      <th>Price</th>\n",
       "    </tr>\n",
       "  </thead>\n",
       "  <tbody>\n",
       "    <tr>\n",
       "      <th>0</th>\n",
       "      <td>Apple</td>\n",
       "      <td>MacBook Pro</td>\n",
       "      <td>Ultrabook</td>\n",
       "      <td>13.3\"</td>\n",
       "      <td>IPS Panel Retina Display 2560x1600</td>\n",
       "      <td>Intel Core i5 2.3GHz</td>\n",
       "      <td>8GB</td>\n",
       "      <td>128GB SSD</td>\n",
       "      <td>Intel Iris Plus Graphics 640</td>\n",
       "      <td>macOS</td>\n",
       "      <td>NaN</td>\n",
       "      <td>1.37kg</td>\n",
       "      <td>11912523.48</td>\n",
       "    </tr>\n",
       "    <tr>\n",
       "      <th>1</th>\n",
       "      <td>Apple</td>\n",
       "      <td>Macbook Air</td>\n",
       "      <td>Ultrabook</td>\n",
       "      <td>13.3\"</td>\n",
       "      <td>1440x900</td>\n",
       "      <td>Intel Core i5 1.8GHz</td>\n",
       "      <td>8GB</td>\n",
       "      <td>128GB Flash Storage</td>\n",
       "      <td>Intel HD Graphics 6000</td>\n",
       "      <td>macOS</td>\n",
       "      <td>NaN</td>\n",
       "      <td>1.34kg</td>\n",
       "      <td>7993374.48</td>\n",
       "    </tr>\n",
       "    <tr>\n",
       "      <th>2</th>\n",
       "      <td>HP</td>\n",
       "      <td>250 G6</td>\n",
       "      <td>Notebook</td>\n",
       "      <td>15.6\"</td>\n",
       "      <td>Full HD 1920x1080</td>\n",
       "      <td>Intel Core i5 7200U 2.5GHz</td>\n",
       "      <td>8GB</td>\n",
       "      <td>256GB SSD</td>\n",
       "      <td>Intel HD Graphics 620</td>\n",
       "      <td>No OS</td>\n",
       "      <td>NaN</td>\n",
       "      <td>1.86kg</td>\n",
       "      <td>5112900.00</td>\n",
       "    </tr>\n",
       "    <tr>\n",
       "      <th>3</th>\n",
       "      <td>Apple</td>\n",
       "      <td>MacBook Pro</td>\n",
       "      <td>Ultrabook</td>\n",
       "      <td>15.4\"</td>\n",
       "      <td>IPS Panel Retina Display 2880x1800</td>\n",
       "      <td>Intel Core i7 2.7GHz</td>\n",
       "      <td>16GB</td>\n",
       "      <td>512GB SSD</td>\n",
       "      <td>AMD Radeon Pro 455</td>\n",
       "      <td>macOS</td>\n",
       "      <td>NaN</td>\n",
       "      <td>1.83kg</td>\n",
       "      <td>22563005.40</td>\n",
       "    </tr>\n",
       "    <tr>\n",
       "      <th>4</th>\n",
       "      <td>Apple</td>\n",
       "      <td>MacBook Pro</td>\n",
       "      <td>Ultrabook</td>\n",
       "      <td>13.3\"</td>\n",
       "      <td>IPS Panel Retina Display 2560x1600</td>\n",
       "      <td>Intel Core i5 3.1GHz</td>\n",
       "      <td>8GB</td>\n",
       "      <td>256GB SSD</td>\n",
       "      <td>Intel Iris Plus Graphics 650</td>\n",
       "      <td>macOS</td>\n",
       "      <td>NaN</td>\n",
       "      <td>1.37kg</td>\n",
       "      <td>16037611.20</td>\n",
       "    </tr>\n",
       "  </tbody>\n",
       "</table>\n",
       "</div>"
      ],
      "text/plain": [
       "  Manufacturer   Model Name   Category Screen Size  \\\n",
       "0        Apple  MacBook Pro  Ultrabook       13.3\"   \n",
       "1        Apple  Macbook Air  Ultrabook       13.3\"   \n",
       "2           HP       250 G6   Notebook       15.6\"   \n",
       "3        Apple  MacBook Pro  Ultrabook       15.4\"   \n",
       "4        Apple  MacBook Pro  Ultrabook       13.3\"   \n",
       "\n",
       "                               Screen                         CPU   RAM  \\\n",
       "0  IPS Panel Retina Display 2560x1600        Intel Core i5 2.3GHz   8GB   \n",
       "1                            1440x900        Intel Core i5 1.8GHz   8GB   \n",
       "2                   Full HD 1920x1080  Intel Core i5 7200U 2.5GHz   8GB   \n",
       "3  IPS Panel Retina Display 2880x1800        Intel Core i7 2.7GHz  16GB   \n",
       "4  IPS Panel Retina Display 2560x1600        Intel Core i5 3.1GHz   8GB   \n",
       "\n",
       "               Storage                           GPU Operating System  \\\n",
       "0            128GB SSD  Intel Iris Plus Graphics 640            macOS   \n",
       "1  128GB Flash Storage        Intel HD Graphics 6000            macOS   \n",
       "2            256GB SSD         Intel HD Graphics 620            No OS   \n",
       "3            512GB SSD            AMD Radeon Pro 455            macOS   \n",
       "4            256GB SSD  Intel Iris Plus Graphics 650            macOS   \n",
       "\n",
       "  Operating System Version  Weight        Price  \n",
       "0                      NaN  1.37kg  11912523.48  \n",
       "1                      NaN  1.34kg   7993374.48  \n",
       "2                      NaN  1.86kg   5112900.00  \n",
       "3                      NaN  1.83kg  22563005.40  \n",
       "4                      NaN  1.37kg  16037611.20  "
      ]
     },
     "execution_count": 6,
     "metadata": {},
     "output_type": "execute_result"
    }
   ],
   "source": [
    "df.head()"
   ]
  },
  {
   "cell_type": "code",
   "execution_count": 7,
   "id": "a79e99a9",
   "metadata": {
    "execution": {
     "iopub.execute_input": "2024-06-29T07:31:56.929387Z",
     "iopub.status.busy": "2024-06-29T07:31:56.928627Z",
     "iopub.status.idle": "2024-06-29T07:31:56.956722Z",
     "shell.execute_reply": "2024-06-29T07:31:56.955513Z"
    },
    "papermill": {
     "duration": 0.049319,
     "end_time": "2024-06-29T07:31:56.959666",
     "exception": false,
     "start_time": "2024-06-29T07:31:56.910347",
     "status": "completed"
    },
    "tags": []
   },
   "outputs": [
    {
     "name": "stdout",
     "output_type": "stream",
     "text": [
      "<class 'pandas.core.frame.DataFrame'>\n",
      "RangeIndex: 1302 entries, 0 to 1301\n",
      "Data columns (total 13 columns):\n",
      " #   Column                    Non-Null Count  Dtype  \n",
      "---  ------                    --------------  -----  \n",
      " 0   Manufacturer              1302 non-null   object \n",
      " 1   Model Name                1302 non-null   object \n",
      " 2   Category                  1302 non-null   object \n",
      " 3   Screen Size               1302 non-null   object \n",
      " 4   Screen                    1302 non-null   object \n",
      " 5   CPU                       1302 non-null   object \n",
      " 6   RAM                       1302 non-null   object \n",
      " 7    Storage                  1302 non-null   object \n",
      " 8   GPU                       1302 non-null   object \n",
      " 9   Operating System          1302 non-null   object \n",
      " 10  Operating System Version  1132 non-null   object \n",
      " 11  Weight                    1302 non-null   object \n",
      " 12  Price                     1302 non-null   float64\n",
      "dtypes: float64(1), object(12)\n",
      "memory usage: 132.4+ KB\n"
     ]
    }
   ],
   "source": [
    "df.info()"
   ]
  },
  {
   "cell_type": "code",
   "execution_count": 8,
   "id": "dba8d4a6",
   "metadata": {
    "execution": {
     "iopub.execute_input": "2024-06-29T07:31:56.997281Z",
     "iopub.status.busy": "2024-06-29T07:31:56.996906Z",
     "iopub.status.idle": "2024-06-29T07:31:57.003796Z",
     "shell.execute_reply": "2024-06-29T07:31:57.002523Z"
    },
    "papermill": {
     "duration": 0.028776,
     "end_time": "2024-06-29T07:31:57.006448",
     "exception": false,
     "start_time": "2024-06-29T07:31:56.977672",
     "status": "completed"
    },
    "tags": []
   },
   "outputs": [],
   "source": [
    "df['Operating System Version'] = df['Operating System Version'].fillna(value = 10)"
   ]
  },
  {
   "cell_type": "code",
   "execution_count": 9,
   "id": "3e6fa14c",
   "metadata": {
    "execution": {
     "iopub.execute_input": "2024-06-29T07:31:57.044724Z",
     "iopub.status.busy": "2024-06-29T07:31:57.043886Z",
     "iopub.status.idle": "2024-06-29T07:31:57.050804Z",
     "shell.execute_reply": "2024-06-29T07:31:57.049645Z"
    },
    "papermill": {
     "duration": 0.029105,
     "end_time": "2024-06-29T07:31:57.053421",
     "exception": false,
     "start_time": "2024-06-29T07:31:57.024316",
     "status": "completed"
    },
    "tags": []
   },
   "outputs": [],
   "source": [
    "df = df.rename(columns={\" Storage\": \"Storage\"})"
   ]
  },
  {
   "cell_type": "code",
   "execution_count": 10,
   "id": "69c9d78b",
   "metadata": {
    "execution": {
     "iopub.execute_input": "2024-06-29T07:31:57.090990Z",
     "iopub.status.busy": "2024-06-29T07:31:57.090542Z",
     "iopub.status.idle": "2024-06-29T07:31:57.108137Z",
     "shell.execute_reply": "2024-06-29T07:31:57.106914Z"
    },
    "papermill": {
     "duration": 0.0394,
     "end_time": "2024-06-29T07:31:57.110828",
     "exception": false,
     "start_time": "2024-06-29T07:31:57.071428",
     "status": "completed"
    },
    "tags": []
   },
   "outputs": [
    {
     "data": {
      "text/html": [
       "<div>\n",
       "<style scoped>\n",
       "    .dataframe tbody tr th:only-of-type {\n",
       "        vertical-align: middle;\n",
       "    }\n",
       "\n",
       "    .dataframe tbody tr th {\n",
       "        vertical-align: top;\n",
       "    }\n",
       "\n",
       "    .dataframe thead th {\n",
       "        text-align: right;\n",
       "    }\n",
       "</style>\n",
       "<table border=\"1\" class=\"dataframe\">\n",
       "  <thead>\n",
       "    <tr style=\"text-align: right;\">\n",
       "      <th></th>\n",
       "      <th>Price</th>\n",
       "    </tr>\n",
       "  </thead>\n",
       "  <tbody>\n",
       "    <tr>\n",
       "      <th>count</th>\n",
       "      <td>1.302000e+03</td>\n",
       "    </tr>\n",
       "    <tr>\n",
       "      <th>mean</th>\n",
       "      <td>9.987213e+06</td>\n",
       "    </tr>\n",
       "    <tr>\n",
       "      <th>std</th>\n",
       "      <td>6.215746e+06</td>\n",
       "    </tr>\n",
       "    <tr>\n",
       "      <th>min</th>\n",
       "      <td>1.547208e+06</td>\n",
       "    </tr>\n",
       "    <tr>\n",
       "      <th>25%</th>\n",
       "      <td>5.326308e+06</td>\n",
       "    </tr>\n",
       "    <tr>\n",
       "      <th>50%</th>\n",
       "      <td>8.687484e+06</td>\n",
       "    </tr>\n",
       "    <tr>\n",
       "      <th>75%</th>\n",
       "      <td>1.321198e+07</td>\n",
       "    </tr>\n",
       "    <tr>\n",
       "      <th>max</th>\n",
       "      <td>5.423231e+07</td>\n",
       "    </tr>\n",
       "  </tbody>\n",
       "</table>\n",
       "</div>"
      ],
      "text/plain": [
       "              Price\n",
       "count  1.302000e+03\n",
       "mean   9.987213e+06\n",
       "std    6.215746e+06\n",
       "min    1.547208e+06\n",
       "25%    5.326308e+06\n",
       "50%    8.687484e+06\n",
       "75%    1.321198e+07\n",
       "max    5.423231e+07"
      ]
     },
     "execution_count": 10,
     "metadata": {},
     "output_type": "execute_result"
    }
   ],
   "source": [
    "df.describe()"
   ]
  },
  {
   "cell_type": "code",
   "execution_count": 11,
   "id": "57b34384",
   "metadata": {
    "execution": {
     "iopub.execute_input": "2024-06-29T07:31:57.147872Z",
     "iopub.status.busy": "2024-06-29T07:31:57.147442Z",
     "iopub.status.idle": "2024-06-29T07:31:57.196462Z",
     "shell.execute_reply": "2024-06-29T07:31:57.195271Z"
    },
    "papermill": {
     "duration": 0.070877,
     "end_time": "2024-06-29T07:31:57.199542",
     "exception": false,
     "start_time": "2024-06-29T07:31:57.128665",
     "status": "completed"
    },
    "tags": []
   },
   "outputs": [
    {
     "data": {
      "text/html": [
       "<div>\n",
       "<style scoped>\n",
       "    .dataframe tbody tr th:only-of-type {\n",
       "        vertical-align: middle;\n",
       "    }\n",
       "\n",
       "    .dataframe tbody tr th {\n",
       "        vertical-align: top;\n",
       "    }\n",
       "\n",
       "    .dataframe thead th {\n",
       "        text-align: right;\n",
       "    }\n",
       "</style>\n",
       "<table border=\"1\" class=\"dataframe\">\n",
       "  <thead>\n",
       "    <tr style=\"text-align: right;\">\n",
       "      <th></th>\n",
       "      <th>Manufacturer</th>\n",
       "      <th>Model Name</th>\n",
       "      <th>Category</th>\n",
       "      <th>Screen Size</th>\n",
       "      <th>Screen</th>\n",
       "      <th>CPU</th>\n",
       "      <th>RAM</th>\n",
       "      <th>Storage</th>\n",
       "      <th>GPU</th>\n",
       "      <th>Operating System</th>\n",
       "      <th>Operating System Version</th>\n",
       "      <th>Weight</th>\n",
       "      <th>Price</th>\n",
       "    </tr>\n",
       "  </thead>\n",
       "  <tbody>\n",
       "    <tr>\n",
       "      <th>count</th>\n",
       "      <td>1302</td>\n",
       "      <td>1302</td>\n",
       "      <td>1302</td>\n",
       "      <td>1302</td>\n",
       "      <td>1302</td>\n",
       "      <td>1302</td>\n",
       "      <td>1302</td>\n",
       "      <td>1302</td>\n",
       "      <td>1302</td>\n",
       "      <td>1302</td>\n",
       "      <td>1302</td>\n",
       "      <td>1302</td>\n",
       "      <td>1.302000e+03</td>\n",
       "    </tr>\n",
       "    <tr>\n",
       "      <th>unique</th>\n",
       "      <td>19</td>\n",
       "      <td>617</td>\n",
       "      <td>6</td>\n",
       "      <td>18</td>\n",
       "      <td>40</td>\n",
       "      <td>118</td>\n",
       "      <td>9</td>\n",
       "      <td>38</td>\n",
       "      <td>110</td>\n",
       "      <td>7</td>\n",
       "      <td>5</td>\n",
       "      <td>179</td>\n",
       "      <td>NaN</td>\n",
       "    </tr>\n",
       "    <tr>\n",
       "      <th>top</th>\n",
       "      <td>Dell</td>\n",
       "      <td>XPS 13</td>\n",
       "      <td>Notebook</td>\n",
       "      <td>15.6\"</td>\n",
       "      <td>Full HD 1920x1080</td>\n",
       "      <td>Intel Core i5 7200U 2.5GHz</td>\n",
       "      <td>8GB</td>\n",
       "      <td>256GB SSD</td>\n",
       "      <td>Intel HD Graphics 620</td>\n",
       "      <td>Windows</td>\n",
       "      <td>10</td>\n",
       "      <td>2.2kg</td>\n",
       "      <td>NaN</td>\n",
       "    </tr>\n",
       "    <tr>\n",
       "      <th>freq</th>\n",
       "      <td>297</td>\n",
       "      <td>30</td>\n",
       "      <td>727</td>\n",
       "      <td>664</td>\n",
       "      <td>507</td>\n",
       "      <td>190</td>\n",
       "      <td>619</td>\n",
       "      <td>412</td>\n",
       "      <td>281</td>\n",
       "      <td>1124</td>\n",
       "      <td>1071</td>\n",
       "      <td>121</td>\n",
       "      <td>NaN</td>\n",
       "    </tr>\n",
       "    <tr>\n",
       "      <th>mean</th>\n",
       "      <td>NaN</td>\n",
       "      <td>NaN</td>\n",
       "      <td>NaN</td>\n",
       "      <td>NaN</td>\n",
       "      <td>NaN</td>\n",
       "      <td>NaN</td>\n",
       "      <td>NaN</td>\n",
       "      <td>NaN</td>\n",
       "      <td>NaN</td>\n",
       "      <td>NaN</td>\n",
       "      <td>NaN</td>\n",
       "      <td>NaN</td>\n",
       "      <td>9.987213e+06</td>\n",
       "    </tr>\n",
       "    <tr>\n",
       "      <th>std</th>\n",
       "      <td>NaN</td>\n",
       "      <td>NaN</td>\n",
       "      <td>NaN</td>\n",
       "      <td>NaN</td>\n",
       "      <td>NaN</td>\n",
       "      <td>NaN</td>\n",
       "      <td>NaN</td>\n",
       "      <td>NaN</td>\n",
       "      <td>NaN</td>\n",
       "      <td>NaN</td>\n",
       "      <td>NaN</td>\n",
       "      <td>NaN</td>\n",
       "      <td>6.215746e+06</td>\n",
       "    </tr>\n",
       "    <tr>\n",
       "      <th>min</th>\n",
       "      <td>NaN</td>\n",
       "      <td>NaN</td>\n",
       "      <td>NaN</td>\n",
       "      <td>NaN</td>\n",
       "      <td>NaN</td>\n",
       "      <td>NaN</td>\n",
       "      <td>NaN</td>\n",
       "      <td>NaN</td>\n",
       "      <td>NaN</td>\n",
       "      <td>NaN</td>\n",
       "      <td>NaN</td>\n",
       "      <td>NaN</td>\n",
       "      <td>1.547208e+06</td>\n",
       "    </tr>\n",
       "    <tr>\n",
       "      <th>25%</th>\n",
       "      <td>NaN</td>\n",
       "      <td>NaN</td>\n",
       "      <td>NaN</td>\n",
       "      <td>NaN</td>\n",
       "      <td>NaN</td>\n",
       "      <td>NaN</td>\n",
       "      <td>NaN</td>\n",
       "      <td>NaN</td>\n",
       "      <td>NaN</td>\n",
       "      <td>NaN</td>\n",
       "      <td>NaN</td>\n",
       "      <td>NaN</td>\n",
       "      <td>5.326308e+06</td>\n",
       "    </tr>\n",
       "    <tr>\n",
       "      <th>50%</th>\n",
       "      <td>NaN</td>\n",
       "      <td>NaN</td>\n",
       "      <td>NaN</td>\n",
       "      <td>NaN</td>\n",
       "      <td>NaN</td>\n",
       "      <td>NaN</td>\n",
       "      <td>NaN</td>\n",
       "      <td>NaN</td>\n",
       "      <td>NaN</td>\n",
       "      <td>NaN</td>\n",
       "      <td>NaN</td>\n",
       "      <td>NaN</td>\n",
       "      <td>8.687484e+06</td>\n",
       "    </tr>\n",
       "    <tr>\n",
       "      <th>75%</th>\n",
       "      <td>NaN</td>\n",
       "      <td>NaN</td>\n",
       "      <td>NaN</td>\n",
       "      <td>NaN</td>\n",
       "      <td>NaN</td>\n",
       "      <td>NaN</td>\n",
       "      <td>NaN</td>\n",
       "      <td>NaN</td>\n",
       "      <td>NaN</td>\n",
       "      <td>NaN</td>\n",
       "      <td>NaN</td>\n",
       "      <td>NaN</td>\n",
       "      <td>1.321198e+07</td>\n",
       "    </tr>\n",
       "    <tr>\n",
       "      <th>max</th>\n",
       "      <td>NaN</td>\n",
       "      <td>NaN</td>\n",
       "      <td>NaN</td>\n",
       "      <td>NaN</td>\n",
       "      <td>NaN</td>\n",
       "      <td>NaN</td>\n",
       "      <td>NaN</td>\n",
       "      <td>NaN</td>\n",
       "      <td>NaN</td>\n",
       "      <td>NaN</td>\n",
       "      <td>NaN</td>\n",
       "      <td>NaN</td>\n",
       "      <td>5.423231e+07</td>\n",
       "    </tr>\n",
       "  </tbody>\n",
       "</table>\n",
       "</div>"
      ],
      "text/plain": [
       "       Manufacturer Model Name  Category Screen Size             Screen  \\\n",
       "count          1302       1302      1302        1302               1302   \n",
       "unique           19        617         6          18                 40   \n",
       "top            Dell     XPS 13  Notebook       15.6\"  Full HD 1920x1080   \n",
       "freq            297         30       727         664                507   \n",
       "mean            NaN        NaN       NaN         NaN                NaN   \n",
       "std             NaN        NaN       NaN         NaN                NaN   \n",
       "min             NaN        NaN       NaN         NaN                NaN   \n",
       "25%             NaN        NaN       NaN         NaN                NaN   \n",
       "50%             NaN        NaN       NaN         NaN                NaN   \n",
       "75%             NaN        NaN       NaN         NaN                NaN   \n",
       "max             NaN        NaN       NaN         NaN                NaN   \n",
       "\n",
       "                               CPU   RAM    Storage                    GPU  \\\n",
       "count                         1302  1302       1302                   1302   \n",
       "unique                         118     9         38                    110   \n",
       "top     Intel Core i5 7200U 2.5GHz   8GB  256GB SSD  Intel HD Graphics 620   \n",
       "freq                           190   619        412                    281   \n",
       "mean                           NaN   NaN        NaN                    NaN   \n",
       "std                            NaN   NaN        NaN                    NaN   \n",
       "min                            NaN   NaN        NaN                    NaN   \n",
       "25%                            NaN   NaN        NaN                    NaN   \n",
       "50%                            NaN   NaN        NaN                    NaN   \n",
       "75%                            NaN   NaN        NaN                    NaN   \n",
       "max                            NaN   NaN        NaN                    NaN   \n",
       "\n",
       "       Operating System Operating System Version Weight         Price  \n",
       "count              1302                     1302   1302  1.302000e+03  \n",
       "unique                7                        5    179           NaN  \n",
       "top             Windows                       10  2.2kg           NaN  \n",
       "freq               1124                     1071    121           NaN  \n",
       "mean                NaN                      NaN    NaN  9.987213e+06  \n",
       "std                 NaN                      NaN    NaN  6.215746e+06  \n",
       "min                 NaN                      NaN    NaN  1.547208e+06  \n",
       "25%                 NaN                      NaN    NaN  5.326308e+06  \n",
       "50%                 NaN                      NaN    NaN  8.687484e+06  \n",
       "75%                 NaN                      NaN    NaN  1.321198e+07  \n",
       "max                 NaN                      NaN    NaN  5.423231e+07  "
      ]
     },
     "execution_count": 11,
     "metadata": {},
     "output_type": "execute_result"
    }
   ],
   "source": [
    "df.describe(include = 'all')"
   ]
  },
  {
   "cell_type": "code",
   "execution_count": 12,
   "id": "80ecb285",
   "metadata": {
    "execution": {
     "iopub.execute_input": "2024-06-29T07:31:57.239090Z",
     "iopub.status.busy": "2024-06-29T07:31:57.238687Z",
     "iopub.status.idle": "2024-06-29T07:31:57.252156Z",
     "shell.execute_reply": "2024-06-29T07:31:57.250865Z"
    },
    "papermill": {
     "duration": 0.036394,
     "end_time": "2024-06-29T07:31:57.255092",
     "exception": false,
     "start_time": "2024-06-29T07:31:57.218698",
     "status": "completed"
    },
    "tags": []
   },
   "outputs": [
    {
     "name": "stdout",
     "output_type": "stream",
     "text": [
      "<class 'pandas.core.frame.DataFrame'>\n",
      "RangeIndex: 1302 entries, 0 to 1301\n",
      "Data columns (total 13 columns):\n",
      " #   Column                    Non-Null Count  Dtype  \n",
      "---  ------                    --------------  -----  \n",
      " 0   Manufacturer              1302 non-null   object \n",
      " 1   Model Name                1302 non-null   object \n",
      " 2   Category                  1302 non-null   object \n",
      " 3   Screen Size               1302 non-null   object \n",
      " 4   Screen                    1302 non-null   object \n",
      " 5   CPU                       1302 non-null   object \n",
      " 6   RAM                       1302 non-null   object \n",
      " 7   Storage                   1302 non-null   object \n",
      " 8   GPU                       1302 non-null   object \n",
      " 9   Operating System          1302 non-null   object \n",
      " 10  Operating System Version  1302 non-null   object \n",
      " 11  Weight                    1302 non-null   object \n",
      " 12  Price                     1302 non-null   float64\n",
      "dtypes: float64(1), object(12)\n",
      "memory usage: 132.4+ KB\n"
     ]
    }
   ],
   "source": [
    "df.info()"
   ]
  },
  {
   "cell_type": "code",
   "execution_count": 13,
   "id": "63f5ccbb",
   "metadata": {
    "execution": {
     "iopub.execute_input": "2024-06-29T07:31:57.292479Z",
     "iopub.status.busy": "2024-06-29T07:31:57.292058Z",
     "iopub.status.idle": "2024-06-29T07:31:57.301963Z",
     "shell.execute_reply": "2024-06-29T07:31:57.300798Z"
    },
    "papermill": {
     "duration": 0.031394,
     "end_time": "2024-06-29T07:31:57.304403",
     "exception": false,
     "start_time": "2024-06-29T07:31:57.273009",
     "status": "completed"
    },
    "tags": []
   },
   "outputs": [
    {
     "data": {
      "text/plain": [
       "Manufacturer\n",
       "Dell         297\n",
       "Lenovo       297\n",
       "HP           274\n",
       "Asus         157\n",
       "Acer         103\n",
       "MSI           54\n",
       "Toshiba       48\n",
       "Apple         21\n",
       "Samsung        9\n",
       "Razer          7\n",
       "Mediacom       7\n",
       "Microsoft      6\n",
       "Xiaomi         4\n",
       "Vero           4\n",
       "Chuwi          3\n",
       "Google         3\n",
       "Fujitsu        3\n",
       "LG             3\n",
       "Huawei         2\n",
       "Name: count, dtype: int64"
      ]
     },
     "execution_count": 13,
     "metadata": {},
     "output_type": "execute_result"
    }
   ],
   "source": [
    "df['Manufacturer'].value_counts()"
   ]
  },
  {
   "cell_type": "code",
   "execution_count": 14,
   "id": "e047e265",
   "metadata": {
    "execution": {
     "iopub.execute_input": "2024-06-29T07:31:57.342234Z",
     "iopub.status.busy": "2024-06-29T07:31:57.341807Z",
     "iopub.status.idle": "2024-06-29T07:31:57.349505Z",
     "shell.execute_reply": "2024-06-29T07:31:57.348180Z"
    },
    "papermill": {
     "duration": 0.029815,
     "end_time": "2024-06-29T07:31:57.352219",
     "exception": false,
     "start_time": "2024-06-29T07:31:57.322404",
     "status": "completed"
    },
    "tags": []
   },
   "outputs": [],
   "source": [
    "df['Screen Size'] = df['Screen Size'].str.replace('\"','')"
   ]
  },
  {
   "cell_type": "code",
   "execution_count": 15,
   "id": "43c722e1",
   "metadata": {
    "execution": {
     "iopub.execute_input": "2024-06-29T07:31:57.390091Z",
     "iopub.status.busy": "2024-06-29T07:31:57.389684Z",
     "iopub.status.idle": "2024-06-29T07:31:57.395843Z",
     "shell.execute_reply": "2024-06-29T07:31:57.394725Z"
    },
    "papermill": {
     "duration": 0.028168,
     "end_time": "2024-06-29T07:31:57.398369",
     "exception": false,
     "start_time": "2024-06-29T07:31:57.370201",
     "status": "completed"
    },
    "tags": []
   },
   "outputs": [],
   "source": [
    "df['Screen Size'] = df['Screen Size'].astype(np.float64)"
   ]
  },
  {
   "cell_type": "code",
   "execution_count": 16,
   "id": "12f920c4",
   "metadata": {
    "execution": {
     "iopub.execute_input": "2024-06-29T07:31:57.437229Z",
     "iopub.status.busy": "2024-06-29T07:31:57.436795Z",
     "iopub.status.idle": "2024-06-29T07:31:57.456810Z",
     "shell.execute_reply": "2024-06-29T07:31:57.455594Z"
    },
    "papermill": {
     "duration": 0.043137,
     "end_time": "2024-06-29T07:31:57.459538",
     "exception": false,
     "start_time": "2024-06-29T07:31:57.416401",
     "status": "completed"
    },
    "tags": []
   },
   "outputs": [
    {
     "data": {
      "text/html": [
       "<div>\n",
       "<style scoped>\n",
       "    .dataframe tbody tr th:only-of-type {\n",
       "        vertical-align: middle;\n",
       "    }\n",
       "\n",
       "    .dataframe tbody tr th {\n",
       "        vertical-align: top;\n",
       "    }\n",
       "\n",
       "    .dataframe thead th {\n",
       "        text-align: right;\n",
       "    }\n",
       "</style>\n",
       "<table border=\"1\" class=\"dataframe\">\n",
       "  <thead>\n",
       "    <tr style=\"text-align: right;\">\n",
       "      <th></th>\n",
       "      <th>Manufacturer</th>\n",
       "      <th>Model Name</th>\n",
       "      <th>Category</th>\n",
       "      <th>Screen Size</th>\n",
       "      <th>Screen</th>\n",
       "      <th>CPU</th>\n",
       "      <th>RAM</th>\n",
       "      <th>Storage</th>\n",
       "      <th>GPU</th>\n",
       "      <th>Operating System</th>\n",
       "      <th>Operating System Version</th>\n",
       "      <th>Weight</th>\n",
       "      <th>Price</th>\n",
       "    </tr>\n",
       "  </thead>\n",
       "  <tbody>\n",
       "    <tr>\n",
       "      <th>0</th>\n",
       "      <td>Apple</td>\n",
       "      <td>MacBook Pro</td>\n",
       "      <td>Ultrabook</td>\n",
       "      <td>13.3</td>\n",
       "      <td>IPS Panel Retina Display 2560x1600</td>\n",
       "      <td>Intel Core i5 2.3GHz</td>\n",
       "      <td>8GB</td>\n",
       "      <td>128GB SSD</td>\n",
       "      <td>Intel Iris Plus Graphics 640</td>\n",
       "      <td>macOS</td>\n",
       "      <td>10</td>\n",
       "      <td>1.37kg</td>\n",
       "      <td>11912523.48</td>\n",
       "    </tr>\n",
       "    <tr>\n",
       "      <th>1</th>\n",
       "      <td>Apple</td>\n",
       "      <td>Macbook Air</td>\n",
       "      <td>Ultrabook</td>\n",
       "      <td>13.3</td>\n",
       "      <td>1440x900</td>\n",
       "      <td>Intel Core i5 1.8GHz</td>\n",
       "      <td>8GB</td>\n",
       "      <td>128GB Flash Storage</td>\n",
       "      <td>Intel HD Graphics 6000</td>\n",
       "      <td>macOS</td>\n",
       "      <td>10</td>\n",
       "      <td>1.34kg</td>\n",
       "      <td>7993374.48</td>\n",
       "    </tr>\n",
       "    <tr>\n",
       "      <th>2</th>\n",
       "      <td>HP</td>\n",
       "      <td>250 G6</td>\n",
       "      <td>Notebook</td>\n",
       "      <td>15.6</td>\n",
       "      <td>Full HD 1920x1080</td>\n",
       "      <td>Intel Core i5 7200U 2.5GHz</td>\n",
       "      <td>8GB</td>\n",
       "      <td>256GB SSD</td>\n",
       "      <td>Intel HD Graphics 620</td>\n",
       "      <td>No OS</td>\n",
       "      <td>10</td>\n",
       "      <td>1.86kg</td>\n",
       "      <td>5112900.00</td>\n",
       "    </tr>\n",
       "    <tr>\n",
       "      <th>3</th>\n",
       "      <td>Apple</td>\n",
       "      <td>MacBook Pro</td>\n",
       "      <td>Ultrabook</td>\n",
       "      <td>15.4</td>\n",
       "      <td>IPS Panel Retina Display 2880x1800</td>\n",
       "      <td>Intel Core i7 2.7GHz</td>\n",
       "      <td>16GB</td>\n",
       "      <td>512GB SSD</td>\n",
       "      <td>AMD Radeon Pro 455</td>\n",
       "      <td>macOS</td>\n",
       "      <td>10</td>\n",
       "      <td>1.83kg</td>\n",
       "      <td>22563005.40</td>\n",
       "    </tr>\n",
       "    <tr>\n",
       "      <th>4</th>\n",
       "      <td>Apple</td>\n",
       "      <td>MacBook Pro</td>\n",
       "      <td>Ultrabook</td>\n",
       "      <td>13.3</td>\n",
       "      <td>IPS Panel Retina Display 2560x1600</td>\n",
       "      <td>Intel Core i5 3.1GHz</td>\n",
       "      <td>8GB</td>\n",
       "      <td>256GB SSD</td>\n",
       "      <td>Intel Iris Plus Graphics 650</td>\n",
       "      <td>macOS</td>\n",
       "      <td>10</td>\n",
       "      <td>1.37kg</td>\n",
       "      <td>16037611.20</td>\n",
       "    </tr>\n",
       "  </tbody>\n",
       "</table>\n",
       "</div>"
      ],
      "text/plain": [
       "  Manufacturer   Model Name   Category  Screen Size  \\\n",
       "0        Apple  MacBook Pro  Ultrabook         13.3   \n",
       "1        Apple  Macbook Air  Ultrabook         13.3   \n",
       "2           HP       250 G6   Notebook         15.6   \n",
       "3        Apple  MacBook Pro  Ultrabook         15.4   \n",
       "4        Apple  MacBook Pro  Ultrabook         13.3   \n",
       "\n",
       "                               Screen                         CPU   RAM  \\\n",
       "0  IPS Panel Retina Display 2560x1600        Intel Core i5 2.3GHz   8GB   \n",
       "1                            1440x900        Intel Core i5 1.8GHz   8GB   \n",
       "2                   Full HD 1920x1080  Intel Core i5 7200U 2.5GHz   8GB   \n",
       "3  IPS Panel Retina Display 2880x1800        Intel Core i7 2.7GHz  16GB   \n",
       "4  IPS Panel Retina Display 2560x1600        Intel Core i5 3.1GHz   8GB   \n",
       "\n",
       "               Storage                           GPU Operating System  \\\n",
       "0            128GB SSD  Intel Iris Plus Graphics 640            macOS   \n",
       "1  128GB Flash Storage        Intel HD Graphics 6000            macOS   \n",
       "2            256GB SSD         Intel HD Graphics 620            No OS   \n",
       "3            512GB SSD            AMD Radeon Pro 455            macOS   \n",
       "4            256GB SSD  Intel Iris Plus Graphics 650            macOS   \n",
       "\n",
       "  Operating System Version  Weight        Price  \n",
       "0                       10  1.37kg  11912523.48  \n",
       "1                       10  1.34kg   7993374.48  \n",
       "2                       10  1.86kg   5112900.00  \n",
       "3                       10  1.83kg  22563005.40  \n",
       "4                       10  1.37kg  16037611.20  "
      ]
     },
     "execution_count": 16,
     "metadata": {},
     "output_type": "execute_result"
    }
   ],
   "source": [
    "df.head()"
   ]
  },
  {
   "cell_type": "code",
   "execution_count": 17,
   "id": "d8d327b2",
   "metadata": {
    "execution": {
     "iopub.execute_input": "2024-06-29T07:31:57.498279Z",
     "iopub.status.busy": "2024-06-29T07:31:57.497853Z",
     "iopub.status.idle": "2024-06-29T07:31:57.505327Z",
     "shell.execute_reply": "2024-06-29T07:31:57.504223Z"
    },
    "papermill": {
     "duration": 0.029916,
     "end_time": "2024-06-29T07:31:57.507986",
     "exception": false,
     "start_time": "2024-06-29T07:31:57.478070",
     "status": "completed"
    },
    "tags": []
   },
   "outputs": [],
   "source": [
    "df = df.rename(columns={\" Screen Size\": \"Screen Size in inches\"})"
   ]
  },
  {
   "cell_type": "code",
   "execution_count": 18,
   "id": "289ec571",
   "metadata": {
    "execution": {
     "iopub.execute_input": "2024-06-29T07:31:57.549662Z",
     "iopub.status.busy": "2024-06-29T07:31:57.549162Z",
     "iopub.status.idle": "2024-06-29T07:31:57.559245Z",
     "shell.execute_reply": "2024-06-29T07:31:57.558051Z"
    },
    "papermill": {
     "duration": 0.034306,
     "end_time": "2024-06-29T07:31:57.562037",
     "exception": false,
     "start_time": "2024-06-29T07:31:57.527731",
     "status": "completed"
    },
    "tags": []
   },
   "outputs": [
    {
     "data": {
      "text/plain": [
       "Category\n",
       "Notebook              727\n",
       "Gaming                205\n",
       "Ultrabook             196\n",
       "2 in 1 Convertible    120\n",
       "Workstation            29\n",
       "Netbook                25\n",
       "Name: count, dtype: int64"
      ]
     },
     "execution_count": 18,
     "metadata": {},
     "output_type": "execute_result"
    }
   ],
   "source": [
    "df['Category'].value_counts()"
   ]
  },
  {
   "cell_type": "code",
   "execution_count": 19,
   "id": "7f598ca9",
   "metadata": {
    "execution": {
     "iopub.execute_input": "2024-06-29T07:31:57.601435Z",
     "iopub.status.busy": "2024-06-29T07:31:57.600989Z",
     "iopub.status.idle": "2024-06-29T07:31:57.608771Z",
     "shell.execute_reply": "2024-06-29T07:31:57.607616Z"
    },
    "papermill": {
     "duration": 0.030198,
     "end_time": "2024-06-29T07:31:57.611242",
     "exception": false,
     "start_time": "2024-06-29T07:31:57.581044",
     "status": "completed"
    },
    "tags": []
   },
   "outputs": [],
   "source": [
    "category_mapping = {\n",
    "    'Gaming': 1,\n",
    "    'Netbook': 2,\n",
    "    'Notebook': 3,\n",
    "    'Ultrabook': 4,\n",
    "    'Workstation': 5,\n",
    "    '2 in 1 Convertible':6\n",
    "}\n",
    "df['Category'] = df['Category'].map(category_mapping)"
   ]
  },
  {
   "cell_type": "code",
   "execution_count": 20,
   "id": "0dfc7768",
   "metadata": {
    "execution": {
     "iopub.execute_input": "2024-06-29T07:31:57.651058Z",
     "iopub.status.busy": "2024-06-29T07:31:57.650619Z",
     "iopub.status.idle": "2024-06-29T07:31:57.666171Z",
     "shell.execute_reply": "2024-06-29T07:31:57.664491Z"
    },
    "papermill": {
     "duration": 0.039251,
     "end_time": "2024-06-29T07:31:57.669364",
     "exception": false,
     "start_time": "2024-06-29T07:31:57.630113",
     "status": "completed"
    },
    "tags": []
   },
   "outputs": [
    {
     "name": "stdout",
     "output_type": "stream",
     "text": [
      "<class 'pandas.core.frame.DataFrame'>\n",
      "RangeIndex: 1302 entries, 0 to 1301\n",
      "Data columns (total 13 columns):\n",
      " #   Column                    Non-Null Count  Dtype  \n",
      "---  ------                    --------------  -----  \n",
      " 0   Manufacturer              1302 non-null   object \n",
      " 1   Model Name                1302 non-null   object \n",
      " 2   Category                  1302 non-null   int64  \n",
      " 3   Screen Size               1302 non-null   float64\n",
      " 4   Screen                    1302 non-null   object \n",
      " 5   CPU                       1302 non-null   object \n",
      " 6   RAM                       1302 non-null   object \n",
      " 7   Storage                   1302 non-null   object \n",
      " 8   GPU                       1302 non-null   object \n",
      " 9   Operating System          1302 non-null   object \n",
      " 10  Operating System Version  1302 non-null   object \n",
      " 11  Weight                    1302 non-null   object \n",
      " 12  Price                     1302 non-null   float64\n",
      "dtypes: float64(2), int64(1), object(10)\n",
      "memory usage: 132.4+ KB\n"
     ]
    }
   ],
   "source": [
    "df.info()"
   ]
  },
  {
   "cell_type": "code",
   "execution_count": 21,
   "id": "31690a92",
   "metadata": {
    "execution": {
     "iopub.execute_input": "2024-06-29T07:31:57.713446Z",
     "iopub.status.busy": "2024-06-29T07:31:57.713012Z",
     "iopub.status.idle": "2024-06-29T07:31:57.725340Z",
     "shell.execute_reply": "2024-06-29T07:31:57.723655Z"
    },
    "papermill": {
     "duration": 0.03626,
     "end_time": "2024-06-29T07:31:57.728395",
     "exception": false,
     "start_time": "2024-06-29T07:31:57.692135",
     "status": "completed"
    },
    "tags": []
   },
   "outputs": [
    {
     "data": {
      "text/plain": [
       "GPU\n",
       "Intel HD Graphics 620      281\n",
       "Intel HD Graphics 520      185\n",
       "Intel UHD Graphics 620      68\n",
       "Nvidia GeForce GTX 1050     66\n",
       "Nvidia GeForce GTX 1060     48\n",
       "                          ... \n",
       "AMD Radeon R5 520            1\n",
       "AMD Radeon R7                1\n",
       "Intel HD Graphics 540        1\n",
       "AMD Radeon 540               1\n",
       "ARM Mali T860 MP4            1\n",
       "Name: count, Length: 110, dtype: int64"
      ]
     },
     "execution_count": 21,
     "metadata": {},
     "output_type": "execute_result"
    }
   ],
   "source": [
    "df['GPU'].value_counts()"
   ]
  },
  {
   "cell_type": "code",
   "execution_count": 22,
   "id": "bf86d276",
   "metadata": {
    "execution": {
     "iopub.execute_input": "2024-06-29T07:31:57.770445Z",
     "iopub.status.busy": "2024-06-29T07:31:57.769992Z",
     "iopub.status.idle": "2024-06-29T07:31:57.778719Z",
     "shell.execute_reply": "2024-06-29T07:31:57.777453Z"
    },
    "papermill": {
     "duration": 0.033403,
     "end_time": "2024-06-29T07:31:57.781748",
     "exception": false,
     "start_time": "2024-06-29T07:31:57.748345",
     "status": "completed"
    },
    "tags": []
   },
   "outputs": [],
   "source": [
    "df['GPU'] = df['GPU'].apply(lambda x: 'Intel' if 'intel' in x.lower() else x)"
   ]
  },
  {
   "cell_type": "code",
   "execution_count": 23,
   "id": "418b93d3",
   "metadata": {
    "execution": {
     "iopub.execute_input": "2024-06-29T07:31:57.823034Z",
     "iopub.status.busy": "2024-06-29T07:31:57.822601Z",
     "iopub.status.idle": "2024-06-29T07:31:57.830189Z",
     "shell.execute_reply": "2024-06-29T07:31:57.828871Z"
    },
    "papermill": {
     "duration": 0.031483,
     "end_time": "2024-06-29T07:31:57.832898",
     "exception": false,
     "start_time": "2024-06-29T07:31:57.801415",
     "status": "completed"
    },
    "tags": []
   },
   "outputs": [],
   "source": [
    "df['GPU'] = df['GPU'].apply(lambda x: 'NVidia' if 'nvidia' in x.lower() else x)"
   ]
  },
  {
   "cell_type": "code",
   "execution_count": 24,
   "id": "d73d7941",
   "metadata": {
    "execution": {
     "iopub.execute_input": "2024-06-29T07:31:57.936699Z",
     "iopub.status.busy": "2024-06-29T07:31:57.936218Z",
     "iopub.status.idle": "2024-06-29T07:31:57.943645Z",
     "shell.execute_reply": "2024-06-29T07:31:57.942393Z"
    },
    "papermill": {
     "duration": 0.031061,
     "end_time": "2024-06-29T07:31:57.946297",
     "exception": false,
     "start_time": "2024-06-29T07:31:57.915236",
     "status": "completed"
    },
    "tags": []
   },
   "outputs": [],
   "source": [
    "df['GPU'] = df['GPU'].apply(lambda x: 'AMD' if 'amd' in x.lower() else x)"
   ]
  },
  {
   "cell_type": "code",
   "execution_count": 25,
   "id": "7a2d25a1",
   "metadata": {
    "execution": {
     "iopub.execute_input": "2024-06-29T07:31:57.986090Z",
     "iopub.status.busy": "2024-06-29T07:31:57.985683Z",
     "iopub.status.idle": "2024-06-29T07:31:57.996291Z",
     "shell.execute_reply": "2024-06-29T07:31:57.994839Z"
    },
    "papermill": {
     "duration": 0.033902,
     "end_time": "2024-06-29T07:31:57.999171",
     "exception": false,
     "start_time": "2024-06-29T07:31:57.965269",
     "status": "completed"
    },
    "tags": []
   },
   "outputs": [],
   "source": [
    "df.drop([1190],axis = 0,inplace = True)"
   ]
  },
  {
   "cell_type": "code",
   "execution_count": 26,
   "id": "014acd19",
   "metadata": {
    "execution": {
     "iopub.execute_input": "2024-06-29T07:31:58.040226Z",
     "iopub.status.busy": "2024-06-29T07:31:58.039816Z",
     "iopub.status.idle": "2024-06-29T07:31:58.046892Z",
     "shell.execute_reply": "2024-06-29T07:31:58.045621Z"
    },
    "papermill": {
     "duration": 0.031332,
     "end_time": "2024-06-29T07:31:58.049431",
     "exception": false,
     "start_time": "2024-06-29T07:31:58.018099",
     "status": "completed"
    },
    "tags": []
   },
   "outputs": [],
   "source": [
    "gpu_mapping = {'Intel':1,'NVidia':2,'AMD':3}\n",
    "df['GPU'] = df['GPU'].map(gpu_mapping)"
   ]
  },
  {
   "cell_type": "code",
   "execution_count": 27,
   "id": "1ad02a68",
   "metadata": {
    "execution": {
     "iopub.execute_input": "2024-06-29T07:31:58.090147Z",
     "iopub.status.busy": "2024-06-29T07:31:58.089765Z",
     "iopub.status.idle": "2024-06-29T07:31:58.100377Z",
     "shell.execute_reply": "2024-06-29T07:31:58.099184Z"
    },
    "papermill": {
     "duration": 0.034056,
     "end_time": "2024-06-29T07:31:58.103018",
     "exception": false,
     "start_time": "2024-06-29T07:31:58.068962",
     "status": "completed"
    },
    "tags": []
   },
   "outputs": [
    {
     "data": {
      "text/plain": [
       "GPU\n",
       "1    722\n",
       "2    399\n",
       "3    180\n",
       "Name: count, dtype: int64"
      ]
     },
     "execution_count": 27,
     "metadata": {},
     "output_type": "execute_result"
    }
   ],
   "source": [
    "df['GPU'].value_counts()"
   ]
  },
  {
   "cell_type": "code",
   "execution_count": 28,
   "id": "85fb28e1",
   "metadata": {
    "execution": {
     "iopub.execute_input": "2024-06-29T07:31:58.144416Z",
     "iopub.status.busy": "2024-06-29T07:31:58.143988Z",
     "iopub.status.idle": "2024-06-29T07:31:58.158978Z",
     "shell.execute_reply": "2024-06-29T07:31:58.157640Z"
    },
    "papermill": {
     "duration": 0.039362,
     "end_time": "2024-06-29T07:31:58.162012",
     "exception": false,
     "start_time": "2024-06-29T07:31:58.122650",
     "status": "completed"
    },
    "tags": []
   },
   "outputs": [
    {
     "name": "stdout",
     "output_type": "stream",
     "text": [
      "<class 'pandas.core.frame.DataFrame'>\n",
      "Index: 1301 entries, 0 to 1301\n",
      "Data columns (total 13 columns):\n",
      " #   Column                    Non-Null Count  Dtype  \n",
      "---  ------                    --------------  -----  \n",
      " 0   Manufacturer              1301 non-null   object \n",
      " 1   Model Name                1301 non-null   object \n",
      " 2   Category                  1301 non-null   int64  \n",
      " 3   Screen Size               1301 non-null   float64\n",
      " 4   Screen                    1301 non-null   object \n",
      " 5   CPU                       1301 non-null   object \n",
      " 6   RAM                       1301 non-null   object \n",
      " 7   Storage                   1301 non-null   object \n",
      " 8   GPU                       1301 non-null   int64  \n",
      " 9   Operating System          1301 non-null   object \n",
      " 10  Operating System Version  1301 non-null   object \n",
      " 11  Weight                    1301 non-null   object \n",
      " 12  Price                     1301 non-null   float64\n",
      "dtypes: float64(2), int64(2), object(9)\n",
      "memory usage: 142.3+ KB\n"
     ]
    }
   ],
   "source": [
    "df.info()"
   ]
  },
  {
   "cell_type": "code",
   "execution_count": 29,
   "id": "56f91ebe",
   "metadata": {
    "execution": {
     "iopub.execute_input": "2024-06-29T07:31:58.202793Z",
     "iopub.status.busy": "2024-06-29T07:31:58.202368Z",
     "iopub.status.idle": "2024-06-29T07:31:58.208958Z",
     "shell.execute_reply": "2024-06-29T07:31:58.207780Z"
    },
    "papermill": {
     "duration": 0.029523,
     "end_time": "2024-06-29T07:31:58.211440",
     "exception": false,
     "start_time": "2024-06-29T07:31:58.181917",
     "status": "completed"
    },
    "tags": []
   },
   "outputs": [],
   "source": [
    "df['Operating System'] = df['Operating System'].replace('No OS','Windows')"
   ]
  },
  {
   "cell_type": "code",
   "execution_count": 30,
   "id": "da358de1",
   "metadata": {
    "execution": {
     "iopub.execute_input": "2024-06-29T07:31:58.251716Z",
     "iopub.status.busy": "2024-06-29T07:31:58.251247Z",
     "iopub.status.idle": "2024-06-29T07:31:58.257750Z",
     "shell.execute_reply": "2024-06-29T07:31:58.256500Z"
    },
    "papermill": {
     "duration": 0.029578,
     "end_time": "2024-06-29T07:31:58.260402",
     "exception": false,
     "start_time": "2024-06-29T07:31:58.230824",
     "status": "completed"
    },
    "tags": []
   },
   "outputs": [],
   "source": [
    "df['Operating System'] = df['Operating System'].replace('Mac OS','macOS')"
   ]
  },
  {
   "cell_type": "code",
   "execution_count": 31,
   "id": "ff356728",
   "metadata": {
    "execution": {
     "iopub.execute_input": "2024-06-29T07:31:58.301345Z",
     "iopub.status.busy": "2024-06-29T07:31:58.300391Z",
     "iopub.status.idle": "2024-06-29T07:31:58.308079Z",
     "shell.execute_reply": "2024-06-29T07:31:58.307013Z"
    },
    "papermill": {
     "duration": 0.030792,
     "end_time": "2024-06-29T07:31:58.310593",
     "exception": false,
     "start_time": "2024-06-29T07:31:58.279801",
     "status": "completed"
    },
    "tags": []
   },
   "outputs": [],
   "source": [
    "df = df[df['Operating System'] != 'Android']"
   ]
  },
  {
   "cell_type": "code",
   "execution_count": 32,
   "id": "ea3e94d0",
   "metadata": {
    "collapsed": true,
    "execution": {
     "iopub.execute_input": "2024-06-29T07:31:58.351523Z",
     "iopub.status.busy": "2024-06-29T07:31:58.351128Z",
     "iopub.status.idle": "2024-06-29T07:31:58.358426Z",
     "shell.execute_reply": "2024-06-29T07:31:58.357251Z"
    },
    "jupyter": {
     "outputs_hidden": true
    },
    "papermill": {
     "duration": 0.030865,
     "end_time": "2024-06-29T07:31:58.361249",
     "exception": false,
     "start_time": "2024-06-29T07:31:58.330384",
     "status": "completed"
    },
    "tags": []
   },
   "outputs": [],
   "source": [
    "os_mapping = {'Windows':1,'Linux':2,'Chrome OS':3,'macOS':4}\n",
    "df['Operating System'] = df['Operating System'].map(os_mapping)"
   ]
  },
  {
   "cell_type": "code",
   "execution_count": 33,
   "id": "96dc4864",
   "metadata": {
    "execution": {
     "iopub.execute_input": "2024-06-29T07:31:58.402085Z",
     "iopub.status.busy": "2024-06-29T07:31:58.401157Z",
     "iopub.status.idle": "2024-06-29T07:31:58.410211Z",
     "shell.execute_reply": "2024-06-29T07:31:58.408936Z"
    },
    "papermill": {
     "duration": 0.032176,
     "end_time": "2024-06-29T07:31:58.412709",
     "exception": false,
     "start_time": "2024-06-29T07:31:58.380533",
     "status": "completed"
    },
    "tags": []
   },
   "outputs": [
    {
     "data": {
      "text/plain": [
       "Operating System\n",
       "1    1190\n",
       "2      62\n",
       "3      26\n",
       "4      21\n",
       "Name: count, dtype: int64"
      ]
     },
     "execution_count": 33,
     "metadata": {},
     "output_type": "execute_result"
    }
   ],
   "source": [
    "df['Operating System'].value_counts()"
   ]
  },
  {
   "cell_type": "code",
   "execution_count": 34,
   "id": "8776ac8f",
   "metadata": {
    "execution": {
     "iopub.execute_input": "2024-06-29T07:31:58.454381Z",
     "iopub.status.busy": "2024-06-29T07:31:58.453964Z",
     "iopub.status.idle": "2024-06-29T07:31:58.468623Z",
     "shell.execute_reply": "2024-06-29T07:31:58.467453Z"
    },
    "papermill": {
     "duration": 0.039103,
     "end_time": "2024-06-29T07:31:58.471143",
     "exception": false,
     "start_time": "2024-06-29T07:31:58.432040",
     "status": "completed"
    },
    "tags": []
   },
   "outputs": [
    {
     "name": "stdout",
     "output_type": "stream",
     "text": [
      "<class 'pandas.core.frame.DataFrame'>\n",
      "Index: 1299 entries, 0 to 1301\n",
      "Data columns (total 13 columns):\n",
      " #   Column                    Non-Null Count  Dtype  \n",
      "---  ------                    --------------  -----  \n",
      " 0   Manufacturer              1299 non-null   object \n",
      " 1   Model Name                1299 non-null   object \n",
      " 2   Category                  1299 non-null   int64  \n",
      " 3   Screen Size               1299 non-null   float64\n",
      " 4   Screen                    1299 non-null   object \n",
      " 5   CPU                       1299 non-null   object \n",
      " 6   RAM                       1299 non-null   object \n",
      " 7   Storage                   1299 non-null   object \n",
      " 8   GPU                       1299 non-null   int64  \n",
      " 9   Operating System          1299 non-null   int64  \n",
      " 10  Operating System Version  1299 non-null   object \n",
      " 11  Weight                    1299 non-null   object \n",
      " 12  Price                     1299 non-null   float64\n",
      "dtypes: float64(2), int64(3), object(8)\n",
      "memory usage: 142.1+ KB\n"
     ]
    }
   ],
   "source": [
    "df.info()"
   ]
  },
  {
   "cell_type": "code",
   "execution_count": 35,
   "id": "c5a6b13a",
   "metadata": {
    "execution": {
     "iopub.execute_input": "2024-06-29T07:31:58.514081Z",
     "iopub.status.busy": "2024-06-29T07:31:58.513671Z",
     "iopub.status.idle": "2024-06-29T07:31:58.523437Z",
     "shell.execute_reply": "2024-06-29T07:31:58.522356Z"
    },
    "papermill": {
     "duration": 0.035087,
     "end_time": "2024-06-29T07:31:58.526064",
     "exception": false,
     "start_time": "2024-06-29T07:31:58.490977",
     "status": "completed"
    },
    "tags": []
   },
   "outputs": [],
   "source": [
    "df = df[df['CPU'].str.contains('Intel',case=False, na=False)]"
   ]
  },
  {
   "cell_type": "code",
   "execution_count": 36,
   "id": "b8cb5cd9",
   "metadata": {
    "execution": {
     "iopub.execute_input": "2024-06-29T07:31:58.567716Z",
     "iopub.status.busy": "2024-06-29T07:31:58.567273Z",
     "iopub.status.idle": "2024-06-29T07:31:58.586807Z",
     "shell.execute_reply": "2024-06-29T07:31:58.585667Z"
    },
    "papermill": {
     "duration": 0.043382,
     "end_time": "2024-06-29T07:31:58.589350",
     "exception": false,
     "start_time": "2024-06-29T07:31:58.545968",
     "status": "completed"
    },
    "tags": []
   },
   "outputs": [
    {
     "data": {
      "text/html": [
       "<div>\n",
       "<style scoped>\n",
       "    .dataframe tbody tr th:only-of-type {\n",
       "        vertical-align: middle;\n",
       "    }\n",
       "\n",
       "    .dataframe tbody tr th {\n",
       "        vertical-align: top;\n",
       "    }\n",
       "\n",
       "    .dataframe thead th {\n",
       "        text-align: right;\n",
       "    }\n",
       "</style>\n",
       "<table border=\"1\" class=\"dataframe\">\n",
       "  <thead>\n",
       "    <tr style=\"text-align: right;\">\n",
       "      <th></th>\n",
       "      <th>Manufacturer</th>\n",
       "      <th>Model Name</th>\n",
       "      <th>Category</th>\n",
       "      <th>Screen Size</th>\n",
       "      <th>Screen</th>\n",
       "      <th>CPU</th>\n",
       "      <th>RAM</th>\n",
       "      <th>Storage</th>\n",
       "      <th>GPU</th>\n",
       "      <th>Operating System</th>\n",
       "      <th>Operating System Version</th>\n",
       "      <th>Weight</th>\n",
       "      <th>Price</th>\n",
       "    </tr>\n",
       "  </thead>\n",
       "  <tbody>\n",
       "    <tr>\n",
       "      <th>1297</th>\n",
       "      <td>Lenovo</td>\n",
       "      <td>Yoga 500-14ISK</td>\n",
       "      <td>6</td>\n",
       "      <td>14.0</td>\n",
       "      <td>IPS Panel Full HD / Touchscreen 1920x1080</td>\n",
       "      <td>Intel Core i7 6500U 2.5GHz</td>\n",
       "      <td>4GB</td>\n",
       "      <td>128GB SSD</td>\n",
       "      <td>1</td>\n",
       "      <td>1</td>\n",
       "      <td>10</td>\n",
       "      <td>1.8kg</td>\n",
       "      <td>5673096.0</td>\n",
       "    </tr>\n",
       "    <tr>\n",
       "      <th>1298</th>\n",
       "      <td>Lenovo</td>\n",
       "      <td>Yoga 900-13ISK</td>\n",
       "      <td>6</td>\n",
       "      <td>13.3</td>\n",
       "      <td>IPS Panel Quad HD+ / Touchscreen 3200x1800</td>\n",
       "      <td>Intel Core i7 6500U 2.5GHz</td>\n",
       "      <td>16GB</td>\n",
       "      <td>512GB SSD</td>\n",
       "      <td>1</td>\n",
       "      <td>1</td>\n",
       "      <td>10</td>\n",
       "      <td>1.3kg</td>\n",
       "      <td>13329108.0</td>\n",
       "    </tr>\n",
       "    <tr>\n",
       "      <th>1299</th>\n",
       "      <td>Lenovo</td>\n",
       "      <td>IdeaPad 100S-14IBR</td>\n",
       "      <td>3</td>\n",
       "      <td>14.0</td>\n",
       "      <td>1366x768</td>\n",
       "      <td>Intel Celeron Dual Core N3050 1.6GHz</td>\n",
       "      <td>2GB</td>\n",
       "      <td>64GB Flash Storage</td>\n",
       "      <td>1</td>\n",
       "      <td>1</td>\n",
       "      <td>10</td>\n",
       "      <td>1.5kg</td>\n",
       "      <td>2036268.0</td>\n",
       "    </tr>\n",
       "    <tr>\n",
       "      <th>1300</th>\n",
       "      <td>HP</td>\n",
       "      <td>15-AC110nv (i7-6500U/6GB/1TB/Radeon</td>\n",
       "      <td>3</td>\n",
       "      <td>15.6</td>\n",
       "      <td>1366x768</td>\n",
       "      <td>Intel Core i7 6500U 2.5GHz</td>\n",
       "      <td>6GB</td>\n",
       "      <td>1TB HDD</td>\n",
       "      <td>3</td>\n",
       "      <td>1</td>\n",
       "      <td>10</td>\n",
       "      <td>2.19kg</td>\n",
       "      <td>6793488.0</td>\n",
       "    </tr>\n",
       "    <tr>\n",
       "      <th>1301</th>\n",
       "      <td>Asus</td>\n",
       "      <td>X553SA-XX031T (N3050/4GB/500GB/W10)</td>\n",
       "      <td>3</td>\n",
       "      <td>15.6</td>\n",
       "      <td>1366x768</td>\n",
       "      <td>Intel Celeron Dual Core N3050 1.6GHz</td>\n",
       "      <td>4GB</td>\n",
       "      <td>500GB HDD</td>\n",
       "      <td>1</td>\n",
       "      <td>1</td>\n",
       "      <td>10</td>\n",
       "      <td>2.2kg</td>\n",
       "      <td>3281148.0</td>\n",
       "    </tr>\n",
       "  </tbody>\n",
       "</table>\n",
       "</div>"
      ],
      "text/plain": [
       "     Manufacturer                           Model Name  Category  Screen Size  \\\n",
       "1297       Lenovo                       Yoga 500-14ISK         6         14.0   \n",
       "1298       Lenovo                       Yoga 900-13ISK         6         13.3   \n",
       "1299       Lenovo                   IdeaPad 100S-14IBR         3         14.0   \n",
       "1300           HP  15-AC110nv (i7-6500U/6GB/1TB/Radeon         3         15.6   \n",
       "1301         Asus  X553SA-XX031T (N3050/4GB/500GB/W10)         3         15.6   \n",
       "\n",
       "                                          Screen  \\\n",
       "1297   IPS Panel Full HD / Touchscreen 1920x1080   \n",
       "1298  IPS Panel Quad HD+ / Touchscreen 3200x1800   \n",
       "1299                                    1366x768   \n",
       "1300                                    1366x768   \n",
       "1301                                    1366x768   \n",
       "\n",
       "                                       CPU   RAM             Storage  GPU  \\\n",
       "1297            Intel Core i7 6500U 2.5GHz   4GB           128GB SSD    1   \n",
       "1298            Intel Core i7 6500U 2.5GHz  16GB           512GB SSD    1   \n",
       "1299  Intel Celeron Dual Core N3050 1.6GHz   2GB  64GB Flash Storage    1   \n",
       "1300            Intel Core i7 6500U 2.5GHz   6GB             1TB HDD    3   \n",
       "1301  Intel Celeron Dual Core N3050 1.6GHz   4GB           500GB HDD    1   \n",
       "\n",
       "      Operating System Operating System Version  Weight       Price  \n",
       "1297                 1                       10   1.8kg   5673096.0  \n",
       "1298                 1                       10   1.3kg  13329108.0  \n",
       "1299                 1                       10   1.5kg   2036268.0  \n",
       "1300                 1                       10  2.19kg   6793488.0  \n",
       "1301                 1                       10   2.2kg   3281148.0  "
      ]
     },
     "execution_count": 36,
     "metadata": {},
     "output_type": "execute_result"
    }
   ],
   "source": [
    "df.tail()"
   ]
  },
  {
   "cell_type": "code",
   "execution_count": 37,
   "id": "91f341bd",
   "metadata": {
    "execution": {
     "iopub.execute_input": "2024-06-29T07:31:58.630645Z",
     "iopub.status.busy": "2024-06-29T07:31:58.630229Z",
     "iopub.status.idle": "2024-06-29T07:31:58.646779Z",
     "shell.execute_reply": "2024-06-29T07:31:58.645272Z"
    },
    "papermill": {
     "duration": 0.040703,
     "end_time": "2024-06-29T07:31:58.649852",
     "exception": false,
     "start_time": "2024-06-29T07:31:58.609149",
     "status": "completed"
    },
    "tags": []
   },
   "outputs": [
    {
     "data": {
      "text/html": [
       "<div>\n",
       "<style scoped>\n",
       "    .dataframe tbody tr th:only-of-type {\n",
       "        vertical-align: middle;\n",
       "    }\n",
       "\n",
       "    .dataframe tbody tr th {\n",
       "        vertical-align: top;\n",
       "    }\n",
       "\n",
       "    .dataframe thead th {\n",
       "        text-align: right;\n",
       "    }\n",
       "</style>\n",
       "<table border=\"1\" class=\"dataframe\">\n",
       "  <thead>\n",
       "    <tr style=\"text-align: right;\">\n",
       "      <th></th>\n",
       "      <th>Manufacturer</th>\n",
       "      <th>Model Name</th>\n",
       "      <th>Category</th>\n",
       "      <th>Screen Size</th>\n",
       "      <th>Screen</th>\n",
       "      <th>CPU</th>\n",
       "      <th>RAM</th>\n",
       "      <th>Storage</th>\n",
       "      <th>GPU</th>\n",
       "      <th>Operating System</th>\n",
       "      <th>Operating System Version</th>\n",
       "      <th>Weight</th>\n",
       "      <th>Price</th>\n",
       "    </tr>\n",
       "  </thead>\n",
       "  <tbody>\n",
       "  </tbody>\n",
       "</table>\n",
       "</div>"
      ],
      "text/plain": [
       "Empty DataFrame\n",
       "Columns: [Manufacturer, Model Name, Category, Screen Size, Screen, CPU, RAM, Storage, GPU, Operating System, Operating System Version, Weight, Price]\n",
       "Index: []"
      ]
     },
     "execution_count": 37,
     "metadata": {},
     "output_type": "execute_result"
    }
   ],
   "source": [
    "df[df['CPU'].str.contains('AMD')]"
   ]
  },
  {
   "cell_type": "code",
   "execution_count": 38,
   "id": "73c5dd76",
   "metadata": {
    "execution": {
     "iopub.execute_input": "2024-06-29T07:31:58.707098Z",
     "iopub.status.busy": "2024-06-29T07:31:58.706651Z",
     "iopub.status.idle": "2024-06-29T07:31:58.733506Z",
     "shell.execute_reply": "2024-06-29T07:31:58.732093Z"
    },
    "papermill": {
     "duration": 0.057445,
     "end_time": "2024-06-29T07:31:58.736586",
     "exception": false,
     "start_time": "2024-06-29T07:31:58.679141",
     "status": "completed"
    },
    "tags": []
   },
   "outputs": [
    {
     "data": {
      "text/html": [
       "<div>\n",
       "<style scoped>\n",
       "    .dataframe tbody tr th:only-of-type {\n",
       "        vertical-align: middle;\n",
       "    }\n",
       "\n",
       "    .dataframe tbody tr th {\n",
       "        vertical-align: top;\n",
       "    }\n",
       "\n",
       "    .dataframe thead th {\n",
       "        text-align: right;\n",
       "    }\n",
       "</style>\n",
       "<table border=\"1\" class=\"dataframe\">\n",
       "  <thead>\n",
       "    <tr style=\"text-align: right;\">\n",
       "      <th></th>\n",
       "      <th>Manufacturer</th>\n",
       "      <th>Model Name</th>\n",
       "      <th>Category</th>\n",
       "      <th>Screen Size</th>\n",
       "      <th>Screen</th>\n",
       "      <th>CPU</th>\n",
       "      <th>RAM</th>\n",
       "      <th>Storage</th>\n",
       "      <th>GPU</th>\n",
       "      <th>Operating System</th>\n",
       "      <th>Operating System Version</th>\n",
       "      <th>Weight</th>\n",
       "      <th>Price</th>\n",
       "    </tr>\n",
       "  </thead>\n",
       "  <tbody>\n",
       "    <tr>\n",
       "      <th>0</th>\n",
       "      <td>Apple</td>\n",
       "      <td>MacBook Pro</td>\n",
       "      <td>4</td>\n",
       "      <td>13.3</td>\n",
       "      <td>IPS Panel Retina Display 2560x1600</td>\n",
       "      <td>Intel Core i5 2.3GHz</td>\n",
       "      <td>8GB</td>\n",
       "      <td>128GB SSD</td>\n",
       "      <td>1</td>\n",
       "      <td>4</td>\n",
       "      <td>10</td>\n",
       "      <td>1.37kg</td>\n",
       "      <td>11912523.48</td>\n",
       "    </tr>\n",
       "    <tr>\n",
       "      <th>1</th>\n",
       "      <td>Apple</td>\n",
       "      <td>Macbook Air</td>\n",
       "      <td>4</td>\n",
       "      <td>13.3</td>\n",
       "      <td>1440x900</td>\n",
       "      <td>Intel Core i5 1.8GHz</td>\n",
       "      <td>8GB</td>\n",
       "      <td>128GB Flash Storage</td>\n",
       "      <td>1</td>\n",
       "      <td>4</td>\n",
       "      <td>10</td>\n",
       "      <td>1.34kg</td>\n",
       "      <td>7993374.48</td>\n",
       "    </tr>\n",
       "    <tr>\n",
       "      <th>2</th>\n",
       "      <td>HP</td>\n",
       "      <td>250 G6</td>\n",
       "      <td>3</td>\n",
       "      <td>15.6</td>\n",
       "      <td>Full HD 1920x1080</td>\n",
       "      <td>Intel Core i5 7200U 2.5GHz</td>\n",
       "      <td>8GB</td>\n",
       "      <td>256GB SSD</td>\n",
       "      <td>1</td>\n",
       "      <td>1</td>\n",
       "      <td>10</td>\n",
       "      <td>1.86kg</td>\n",
       "      <td>5112900.00</td>\n",
       "    </tr>\n",
       "    <tr>\n",
       "      <th>3</th>\n",
       "      <td>Apple</td>\n",
       "      <td>MacBook Pro</td>\n",
       "      <td>4</td>\n",
       "      <td>15.4</td>\n",
       "      <td>IPS Panel Retina Display 2880x1800</td>\n",
       "      <td>Intel Core i7 2.7GHz</td>\n",
       "      <td>16GB</td>\n",
       "      <td>512GB SSD</td>\n",
       "      <td>3</td>\n",
       "      <td>4</td>\n",
       "      <td>10</td>\n",
       "      <td>1.83kg</td>\n",
       "      <td>22563005.40</td>\n",
       "    </tr>\n",
       "    <tr>\n",
       "      <th>4</th>\n",
       "      <td>Apple</td>\n",
       "      <td>MacBook Pro</td>\n",
       "      <td>4</td>\n",
       "      <td>13.3</td>\n",
       "      <td>IPS Panel Retina Display 2560x1600</td>\n",
       "      <td>Intel Core i5 3.1GHz</td>\n",
       "      <td>8GB</td>\n",
       "      <td>256GB SSD</td>\n",
       "      <td>1</td>\n",
       "      <td>4</td>\n",
       "      <td>10</td>\n",
       "      <td>1.37kg</td>\n",
       "      <td>16037611.20</td>\n",
       "    </tr>\n",
       "    <tr>\n",
       "      <th>...</th>\n",
       "      <td>...</td>\n",
       "      <td>...</td>\n",
       "      <td>...</td>\n",
       "      <td>...</td>\n",
       "      <td>...</td>\n",
       "      <td>...</td>\n",
       "      <td>...</td>\n",
       "      <td>...</td>\n",
       "      <td>...</td>\n",
       "      <td>...</td>\n",
       "      <td>...</td>\n",
       "      <td>...</td>\n",
       "      <td>...</td>\n",
       "    </tr>\n",
       "    <tr>\n",
       "      <th>1297</th>\n",
       "      <td>Lenovo</td>\n",
       "      <td>Yoga 500-14ISK</td>\n",
       "      <td>6</td>\n",
       "      <td>14.0</td>\n",
       "      <td>IPS Panel Full HD / Touchscreen 1920x1080</td>\n",
       "      <td>Intel Core i7 6500U 2.5GHz</td>\n",
       "      <td>4GB</td>\n",
       "      <td>128GB SSD</td>\n",
       "      <td>1</td>\n",
       "      <td>1</td>\n",
       "      <td>10</td>\n",
       "      <td>1.8kg</td>\n",
       "      <td>5673096.00</td>\n",
       "    </tr>\n",
       "    <tr>\n",
       "      <th>1298</th>\n",
       "      <td>Lenovo</td>\n",
       "      <td>Yoga 900-13ISK</td>\n",
       "      <td>6</td>\n",
       "      <td>13.3</td>\n",
       "      <td>IPS Panel Quad HD+ / Touchscreen 3200x1800</td>\n",
       "      <td>Intel Core i7 6500U 2.5GHz</td>\n",
       "      <td>16GB</td>\n",
       "      <td>512GB SSD</td>\n",
       "      <td>1</td>\n",
       "      <td>1</td>\n",
       "      <td>10</td>\n",
       "      <td>1.3kg</td>\n",
       "      <td>13329108.00</td>\n",
       "    </tr>\n",
       "    <tr>\n",
       "      <th>1299</th>\n",
       "      <td>Lenovo</td>\n",
       "      <td>IdeaPad 100S-14IBR</td>\n",
       "      <td>3</td>\n",
       "      <td>14.0</td>\n",
       "      <td>1366x768</td>\n",
       "      <td>Intel Celeron Dual Core N3050 1.6GHz</td>\n",
       "      <td>2GB</td>\n",
       "      <td>64GB Flash Storage</td>\n",
       "      <td>1</td>\n",
       "      <td>1</td>\n",
       "      <td>10</td>\n",
       "      <td>1.5kg</td>\n",
       "      <td>2036268.00</td>\n",
       "    </tr>\n",
       "    <tr>\n",
       "      <th>1300</th>\n",
       "      <td>HP</td>\n",
       "      <td>15-AC110nv (i7-6500U/6GB/1TB/Radeon</td>\n",
       "      <td>3</td>\n",
       "      <td>15.6</td>\n",
       "      <td>1366x768</td>\n",
       "      <td>Intel Core i7 6500U 2.5GHz</td>\n",
       "      <td>6GB</td>\n",
       "      <td>1TB HDD</td>\n",
       "      <td>3</td>\n",
       "      <td>1</td>\n",
       "      <td>10</td>\n",
       "      <td>2.19kg</td>\n",
       "      <td>6793488.00</td>\n",
       "    </tr>\n",
       "    <tr>\n",
       "      <th>1301</th>\n",
       "      <td>Asus</td>\n",
       "      <td>X553SA-XX031T (N3050/4GB/500GB/W10)</td>\n",
       "      <td>3</td>\n",
       "      <td>15.6</td>\n",
       "      <td>1366x768</td>\n",
       "      <td>Intel Celeron Dual Core N3050 1.6GHz</td>\n",
       "      <td>4GB</td>\n",
       "      <td>500GB HDD</td>\n",
       "      <td>1</td>\n",
       "      <td>1</td>\n",
       "      <td>10</td>\n",
       "      <td>2.2kg</td>\n",
       "      <td>3281148.00</td>\n",
       "    </tr>\n",
       "  </tbody>\n",
       "</table>\n",
       "<p>1237 rows × 13 columns</p>\n",
       "</div>"
      ],
      "text/plain": [
       "     Manufacturer                           Model Name  Category  Screen Size  \\\n",
       "0           Apple                          MacBook Pro         4         13.3   \n",
       "1           Apple                          Macbook Air         4         13.3   \n",
       "2              HP                               250 G6         3         15.6   \n",
       "3           Apple                          MacBook Pro         4         15.4   \n",
       "4           Apple                          MacBook Pro         4         13.3   \n",
       "...           ...                                  ...       ...          ...   \n",
       "1297       Lenovo                       Yoga 500-14ISK         6         14.0   \n",
       "1298       Lenovo                       Yoga 900-13ISK         6         13.3   \n",
       "1299       Lenovo                   IdeaPad 100S-14IBR         3         14.0   \n",
       "1300           HP  15-AC110nv (i7-6500U/6GB/1TB/Radeon         3         15.6   \n",
       "1301         Asus  X553SA-XX031T (N3050/4GB/500GB/W10)         3         15.6   \n",
       "\n",
       "                                          Screen  \\\n",
       "0             IPS Panel Retina Display 2560x1600   \n",
       "1                                       1440x900   \n",
       "2                              Full HD 1920x1080   \n",
       "3             IPS Panel Retina Display 2880x1800   \n",
       "4             IPS Panel Retina Display 2560x1600   \n",
       "...                                          ...   \n",
       "1297   IPS Panel Full HD / Touchscreen 1920x1080   \n",
       "1298  IPS Panel Quad HD+ / Touchscreen 3200x1800   \n",
       "1299                                    1366x768   \n",
       "1300                                    1366x768   \n",
       "1301                                    1366x768   \n",
       "\n",
       "                                       CPU   RAM              Storage  GPU  \\\n",
       "0                     Intel Core i5 2.3GHz   8GB            128GB SSD    1   \n",
       "1                     Intel Core i5 1.8GHz   8GB  128GB Flash Storage    1   \n",
       "2               Intel Core i5 7200U 2.5GHz   8GB            256GB SSD    1   \n",
       "3                     Intel Core i7 2.7GHz  16GB            512GB SSD    3   \n",
       "4                     Intel Core i5 3.1GHz   8GB            256GB SSD    1   \n",
       "...                                    ...   ...                  ...  ...   \n",
       "1297            Intel Core i7 6500U 2.5GHz   4GB            128GB SSD    1   \n",
       "1298            Intel Core i7 6500U 2.5GHz  16GB            512GB SSD    1   \n",
       "1299  Intel Celeron Dual Core N3050 1.6GHz   2GB   64GB Flash Storage    1   \n",
       "1300            Intel Core i7 6500U 2.5GHz   6GB              1TB HDD    3   \n",
       "1301  Intel Celeron Dual Core N3050 1.6GHz   4GB            500GB HDD    1   \n",
       "\n",
       "      Operating System Operating System Version  Weight        Price  \n",
       "0                    4                       10  1.37kg  11912523.48  \n",
       "1                    4                       10  1.34kg   7993374.48  \n",
       "2                    1                       10  1.86kg   5112900.00  \n",
       "3                    4                       10  1.83kg  22563005.40  \n",
       "4                    4                       10  1.37kg  16037611.20  \n",
       "...                ...                      ...     ...          ...  \n",
       "1297                 1                       10   1.8kg   5673096.00  \n",
       "1298                 1                       10   1.3kg  13329108.00  \n",
       "1299                 1                       10   1.5kg   2036268.00  \n",
       "1300                 1                       10  2.19kg   6793488.00  \n",
       "1301                 1                       10   2.2kg   3281148.00  \n",
       "\n",
       "[1237 rows x 13 columns]"
      ]
     },
     "execution_count": 38,
     "metadata": {},
     "output_type": "execute_result"
    }
   ],
   "source": [
    "df[df['CPU'].str.contains('Intel')]"
   ]
  },
  {
   "cell_type": "code",
   "execution_count": 39,
   "id": "11dbdaab",
   "metadata": {
    "execution": {
     "iopub.execute_input": "2024-06-29T07:31:58.783671Z",
     "iopub.status.busy": "2024-06-29T07:31:58.783075Z",
     "iopub.status.idle": "2024-06-29T07:31:58.803472Z",
     "shell.execute_reply": "2024-06-29T07:31:58.802287Z"
    },
    "papermill": {
     "duration": 0.048602,
     "end_time": "2024-06-29T07:31:58.806331",
     "exception": false,
     "start_time": "2024-06-29T07:31:58.757729",
     "status": "completed"
    },
    "tags": []
   },
   "outputs": [
    {
     "name": "stdout",
     "output_type": "stream",
     "text": [
      "<class 'pandas.core.frame.DataFrame'>\n",
      "Index: 1237 entries, 0 to 1301\n",
      "Data columns (total 13 columns):\n",
      " #   Column                    Non-Null Count  Dtype  \n",
      "---  ------                    --------------  -----  \n",
      " 0   Manufacturer              1237 non-null   object \n",
      " 1   Model Name                1237 non-null   object \n",
      " 2   Category                  1237 non-null   int64  \n",
      " 3   Screen Size               1237 non-null   float64\n",
      " 4   Screen                    1237 non-null   object \n",
      " 5   CPU                       1237 non-null   object \n",
      " 6   RAM                       1237 non-null   object \n",
      " 7   Storage                   1237 non-null   object \n",
      " 8   GPU                       1237 non-null   int64  \n",
      " 9   Operating System          1237 non-null   int64  \n",
      " 10  Operating System Version  1237 non-null   object \n",
      " 11  Weight                    1237 non-null   object \n",
      " 12  Price                     1237 non-null   float64\n",
      "dtypes: float64(2), int64(3), object(8)\n",
      "memory usage: 135.3+ KB\n"
     ]
    }
   ],
   "source": [
    "df.info()"
   ]
  },
  {
   "cell_type": "code",
   "execution_count": 40,
   "id": "d4c8c962",
   "metadata": {
    "execution": {
     "iopub.execute_input": "2024-06-29T07:31:58.867117Z",
     "iopub.status.busy": "2024-06-29T07:31:58.866535Z",
     "iopub.status.idle": "2024-06-29T07:31:58.878410Z",
     "shell.execute_reply": "2024-06-29T07:31:58.876784Z"
    },
    "papermill": {
     "duration": 0.050364,
     "end_time": "2024-06-29T07:31:58.882083",
     "exception": false,
     "start_time": "2024-06-29T07:31:58.831719",
     "status": "completed"
    },
    "tags": []
   },
   "outputs": [],
   "source": [
    "df['CPU'] = df['CPU'].apply(lambda x: 'i5' if 'i5' in x.lower() else x)"
   ]
  },
  {
   "cell_type": "code",
   "execution_count": 41,
   "id": "2ef3f829",
   "metadata": {
    "execution": {
     "iopub.execute_input": "2024-06-29T07:31:58.939130Z",
     "iopub.status.busy": "2024-06-29T07:31:58.938715Z",
     "iopub.status.idle": "2024-06-29T07:31:58.945799Z",
     "shell.execute_reply": "2024-06-29T07:31:58.944490Z"
    },
    "papermill": {
     "duration": 0.035363,
     "end_time": "2024-06-29T07:31:58.948421",
     "exception": false,
     "start_time": "2024-06-29T07:31:58.913058",
     "status": "completed"
    },
    "tags": []
   },
   "outputs": [],
   "source": [
    "df['CPU'] = df['CPU'].apply(lambda x: 'i7' if 'i7' in x.lower() else x)"
   ]
  },
  {
   "cell_type": "code",
   "execution_count": 42,
   "id": "330c6d3a",
   "metadata": {
    "execution": {
     "iopub.execute_input": "2024-06-29T07:31:58.992469Z",
     "iopub.status.busy": "2024-06-29T07:31:58.992053Z",
     "iopub.status.idle": "2024-06-29T07:31:59.000278Z",
     "shell.execute_reply": "2024-06-29T07:31:58.998345Z"
    },
    "papermill": {
     "duration": 0.033789,
     "end_time": "2024-06-29T07:31:59.003644",
     "exception": false,
     "start_time": "2024-06-29T07:31:58.969855",
     "status": "completed"
    },
    "tags": []
   },
   "outputs": [],
   "source": [
    "df['CPU'] = df['CPU'].apply(lambda x: 'i3' if 'i3' in x.lower() else x) "
   ]
  },
  {
   "cell_type": "code",
   "execution_count": 43,
   "id": "0c67d240",
   "metadata": {
    "execution": {
     "iopub.execute_input": "2024-06-29T07:31:59.055720Z",
     "iopub.status.busy": "2024-06-29T07:31:59.054797Z",
     "iopub.status.idle": "2024-06-29T07:31:59.066702Z",
     "shell.execute_reply": "2024-06-29T07:31:59.065443Z"
    },
    "papermill": {
     "duration": 0.0391,
     "end_time": "2024-06-29T07:31:59.069506",
     "exception": false,
     "start_time": "2024-06-29T07:31:59.030406",
     "status": "completed"
    },
    "tags": []
   },
   "outputs": [
    {
     "data": {
      "text/plain": [
       "CPU\n",
       "i7                                       526\n",
       "i5                                       423\n",
       "i3                                       136\n",
       "Intel Celeron Dual Core N3350 1.1GHz      30\n",
       "Intel Celeron Dual Core N3060 1.6GHz      28\n",
       "Intel Pentium Quad Core N4200 1.1GHz      14\n",
       "Intel Pentium Quad Core N3710 1.6GHz      11\n",
       "Intel Celeron Dual Core N3050 1.6GHz      11\n",
       "Intel Atom x5-Z8350 1.44GHz                5\n",
       "Intel Core M 6Y75 1.2GHz                   5\n",
       "Intel Celeron Quad Core N3450 1.1GHz       5\n",
       "Intel Celeron Dual Core 3205U 1.5GHz       4\n",
       "Intel Core M 6Y30 0.9GHz                   3\n",
       "Intel Celeron Dual Core 3855U 1.6GHz       3\n",
       "Intel Core M 1.2GHz                        2\n",
       "Intel Celeron Dual Core N3350 2GHz         2\n",
       "Intel Pentium Quad Core N3700 1.6GHz       2\n",
       "Intel Atom x5-Z8550 1.44GHz                2\n",
       "Intel Celeron Quad Core N3160 1.6GHz       2\n",
       "Intel Core M 1.1GHz                        2\n",
       "Intel Atom X5-Z8350 1.44GHz                2\n",
       "Intel Xeon E3-1505M V6 3GHz                2\n",
       "Intel Core M 6Y54 1.1GHz                   1\n",
       "Intel Pentium Dual Core 4405Y 1.5GHz       1\n",
       "Intel Core M M7-6Y75 1.2GHz                1\n",
       "Intel Core M m7-6Y75 1.2GHz                1\n",
       "Intel Pentium Dual Core 4405U 2.1GHz       1\n",
       "Intel Celeron Quad Core N3710 1.6GHz       1\n",
       "Intel Pentium Dual Core N4200 1.1GHz       1\n",
       "Intel Xeon E3-1535M v5 2.9GHz              1\n",
       "Intel Atom Z8350 1.92GHz                   1\n",
       "Intel Core M M3-6Y30 0.9GHz                1\n",
       "Intel Core M m3 1.2GHz                     1\n",
       "Intel Atom x5-Z8300 1.44GHz                1\n",
       "Intel Core M 7Y30 1.0GHz                   1\n",
       "Intel Celeron Dual Core N3350 2.0GHz       1\n",
       "Intel Core M m3-7Y30 2.2GHz                1\n",
       "Intel Celeron Dual Core N3060 1.60GHz      1\n",
       "Intel Xeon E3-1535M v6 3.1GHz              1\n",
       "Name: count, dtype: int64"
      ]
     },
     "execution_count": 43,
     "metadata": {},
     "output_type": "execute_result"
    }
   ],
   "source": [
    "df['CPU'].value_counts()"
   ]
  },
  {
   "cell_type": "code",
   "execution_count": 44,
   "id": "e5346c0c",
   "metadata": {
    "execution": {
     "iopub.execute_input": "2024-06-29T07:31:59.116371Z",
     "iopub.status.busy": "2024-06-29T07:31:59.115950Z",
     "iopub.status.idle": "2024-06-29T07:31:59.123289Z",
     "shell.execute_reply": "2024-06-29T07:31:59.122349Z"
    },
    "papermill": {
     "duration": 0.032524,
     "end_time": "2024-06-29T07:31:59.125862",
     "exception": false,
     "start_time": "2024-06-29T07:31:59.093338",
     "status": "completed"
    },
    "tags": []
   },
   "outputs": [],
   "source": [
    "df = df[df['CPU'].isin(['i3','i5','i7'])]"
   ]
  },
  {
   "cell_type": "code",
   "execution_count": 45,
   "id": "1f710a79",
   "metadata": {
    "execution": {
     "iopub.execute_input": "2024-06-29T07:31:59.170666Z",
     "iopub.status.busy": "2024-06-29T07:31:59.170166Z",
     "iopub.status.idle": "2024-06-29T07:31:59.184681Z",
     "shell.execute_reply": "2024-06-29T07:31:59.183388Z"
    },
    "papermill": {
     "duration": 0.041262,
     "end_time": "2024-06-29T07:31:59.188313",
     "exception": false,
     "start_time": "2024-06-29T07:31:59.147051",
     "status": "completed"
    },
    "tags": []
   },
   "outputs": [
    {
     "name": "stdout",
     "output_type": "stream",
     "text": [
      "<class 'pandas.core.frame.DataFrame'>\n",
      "Index: 1085 entries, 0 to 1300\n",
      "Data columns (total 13 columns):\n",
      " #   Column                    Non-Null Count  Dtype  \n",
      "---  ------                    --------------  -----  \n",
      " 0   Manufacturer              1085 non-null   object \n",
      " 1   Model Name                1085 non-null   object \n",
      " 2   Category                  1085 non-null   int64  \n",
      " 3   Screen Size               1085 non-null   float64\n",
      " 4   Screen                    1085 non-null   object \n",
      " 5   CPU                       1085 non-null   object \n",
      " 6   RAM                       1085 non-null   object \n",
      " 7   Storage                   1085 non-null   object \n",
      " 8   GPU                       1085 non-null   int64  \n",
      " 9   Operating System          1085 non-null   int64  \n",
      " 10  Operating System Version  1085 non-null   object \n",
      " 11  Weight                    1085 non-null   object \n",
      " 12  Price                     1085 non-null   float64\n",
      "dtypes: float64(2), int64(3), object(8)\n",
      "memory usage: 118.7+ KB\n"
     ]
    }
   ],
   "source": [
    "df.info()"
   ]
  },
  {
   "cell_type": "code",
   "execution_count": 46,
   "id": "77409700",
   "metadata": {
    "execution": {
     "iopub.execute_input": "2024-06-29T07:31:59.232745Z",
     "iopub.status.busy": "2024-06-29T07:31:59.232327Z",
     "iopub.status.idle": "2024-06-29T07:31:59.239566Z",
     "shell.execute_reply": "2024-06-29T07:31:59.238404Z"
    },
    "papermill": {
     "duration": 0.032306,
     "end_time": "2024-06-29T07:31:59.242074",
     "exception": false,
     "start_time": "2024-06-29T07:31:59.209768",
     "status": "completed"
    },
    "tags": []
   },
   "outputs": [],
   "source": [
    "cpu_mapping = {'i3':3,'i5':5,'i7':7}\n",
    "df['CPU'] = df['CPU'].map(cpu_mapping)"
   ]
  },
  {
   "cell_type": "code",
   "execution_count": 47,
   "id": "85607fe5",
   "metadata": {
    "execution": {
     "iopub.execute_input": "2024-06-29T07:31:59.286801Z",
     "iopub.status.busy": "2024-06-29T07:31:59.286369Z",
     "iopub.status.idle": "2024-06-29T07:31:59.301671Z",
     "shell.execute_reply": "2024-06-29T07:31:59.300215Z"
    },
    "papermill": {
     "duration": 0.040566,
     "end_time": "2024-06-29T07:31:59.304259",
     "exception": false,
     "start_time": "2024-06-29T07:31:59.263693",
     "status": "completed"
    },
    "tags": []
   },
   "outputs": [
    {
     "name": "stdout",
     "output_type": "stream",
     "text": [
      "<class 'pandas.core.frame.DataFrame'>\n",
      "Index: 1085 entries, 0 to 1300\n",
      "Data columns (total 13 columns):\n",
      " #   Column                    Non-Null Count  Dtype  \n",
      "---  ------                    --------------  -----  \n",
      " 0   Manufacturer              1085 non-null   object \n",
      " 1   Model Name                1085 non-null   object \n",
      " 2   Category                  1085 non-null   int64  \n",
      " 3   Screen Size               1085 non-null   float64\n",
      " 4   Screen                    1085 non-null   object \n",
      " 5   CPU                       1085 non-null   int64  \n",
      " 6   RAM                       1085 non-null   object \n",
      " 7   Storage                   1085 non-null   object \n",
      " 8   GPU                       1085 non-null   int64  \n",
      " 9   Operating System          1085 non-null   int64  \n",
      " 10  Operating System Version  1085 non-null   object \n",
      " 11  Weight                    1085 non-null   object \n",
      " 12  Price                     1085 non-null   float64\n",
      "dtypes: float64(2), int64(4), object(7)\n",
      "memory usage: 118.7+ KB\n"
     ]
    }
   ],
   "source": [
    "df.info()"
   ]
  },
  {
   "cell_type": "code",
   "execution_count": 48,
   "id": "ed88b4b5",
   "metadata": {
    "execution": {
     "iopub.execute_input": "2024-06-29T07:31:59.350617Z",
     "iopub.status.busy": "2024-06-29T07:31:59.350185Z",
     "iopub.status.idle": "2024-06-29T07:31:59.358471Z",
     "shell.execute_reply": "2024-06-29T07:31:59.357316Z"
    },
    "papermill": {
     "duration": 0.034617,
     "end_time": "2024-06-29T07:31:59.361129",
     "exception": false,
     "start_time": "2024-06-29T07:31:59.326512",
     "status": "completed"
    },
    "tags": []
   },
   "outputs": [],
   "source": [
    "df = df.reset_index()"
   ]
  },
  {
   "cell_type": "code",
   "execution_count": 49,
   "id": "f4de3031",
   "metadata": {
    "execution": {
     "iopub.execute_input": "2024-06-29T07:31:59.406057Z",
     "iopub.status.busy": "2024-06-29T07:31:59.404985Z",
     "iopub.status.idle": "2024-06-29T07:31:59.411761Z",
     "shell.execute_reply": "2024-06-29T07:31:59.410512Z"
    },
    "papermill": {
     "duration": 0.032071,
     "end_time": "2024-06-29T07:31:59.414486",
     "exception": false,
     "start_time": "2024-06-29T07:31:59.382415",
     "status": "completed"
    },
    "tags": []
   },
   "outputs": [],
   "source": [
    "df = df.drop(columns = 'index',axis = 1)"
   ]
  },
  {
   "cell_type": "code",
   "execution_count": 50,
   "id": "53375a5d",
   "metadata": {
    "execution": {
     "iopub.execute_input": "2024-06-29T07:31:59.459148Z",
     "iopub.status.busy": "2024-06-29T07:31:59.458755Z",
     "iopub.status.idle": "2024-06-29T07:31:59.477423Z",
     "shell.execute_reply": "2024-06-29T07:31:59.476282Z"
    },
    "papermill": {
     "duration": 0.044176,
     "end_time": "2024-06-29T07:31:59.480043",
     "exception": false,
     "start_time": "2024-06-29T07:31:59.435867",
     "status": "completed"
    },
    "tags": []
   },
   "outputs": [
    {
     "data": {
      "text/html": [
       "<div>\n",
       "<style scoped>\n",
       "    .dataframe tbody tr th:only-of-type {\n",
       "        vertical-align: middle;\n",
       "    }\n",
       "\n",
       "    .dataframe tbody tr th {\n",
       "        vertical-align: top;\n",
       "    }\n",
       "\n",
       "    .dataframe thead th {\n",
       "        text-align: right;\n",
       "    }\n",
       "</style>\n",
       "<table border=\"1\" class=\"dataframe\">\n",
       "  <thead>\n",
       "    <tr style=\"text-align: right;\">\n",
       "      <th></th>\n",
       "      <th>Manufacturer</th>\n",
       "      <th>Model Name</th>\n",
       "      <th>Category</th>\n",
       "      <th>Screen Size</th>\n",
       "      <th>Screen</th>\n",
       "      <th>CPU</th>\n",
       "      <th>RAM</th>\n",
       "      <th>Storage</th>\n",
       "      <th>GPU</th>\n",
       "      <th>Operating System</th>\n",
       "      <th>Operating System Version</th>\n",
       "      <th>Weight</th>\n",
       "      <th>Price</th>\n",
       "    </tr>\n",
       "  </thead>\n",
       "  <tbody>\n",
       "    <tr>\n",
       "      <th>1080</th>\n",
       "      <td>Dell</td>\n",
       "      <td>Inspiron 3567</td>\n",
       "      <td>3</td>\n",
       "      <td>15.6</td>\n",
       "      <td>1366x768</td>\n",
       "      <td>7</td>\n",
       "      <td>8GB</td>\n",
       "      <td>1TB HDD</td>\n",
       "      <td>3</td>\n",
       "      <td>2</td>\n",
       "      <td>10</td>\n",
       "      <td>2.3kg</td>\n",
       "      <td>7166863.08</td>\n",
       "    </tr>\n",
       "    <tr>\n",
       "      <th>1081</th>\n",
       "      <td>Asus</td>\n",
       "      <td>X556UJ-XO044T (i7-6500U/4GB/500GB/GeForce</td>\n",
       "      <td>3</td>\n",
       "      <td>15.6</td>\n",
       "      <td>1366x768</td>\n",
       "      <td>7</td>\n",
       "      <td>4GB</td>\n",
       "      <td>500GB HDD</td>\n",
       "      <td>2</td>\n",
       "      <td>1</td>\n",
       "      <td>10</td>\n",
       "      <td>2.2kg</td>\n",
       "      <td>6405085.44</td>\n",
       "    </tr>\n",
       "    <tr>\n",
       "      <th>1082</th>\n",
       "      <td>Lenovo</td>\n",
       "      <td>Yoga 500-14ISK</td>\n",
       "      <td>6</td>\n",
       "      <td>14.0</td>\n",
       "      <td>IPS Panel Full HD / Touchscreen 1920x1080</td>\n",
       "      <td>7</td>\n",
       "      <td>4GB</td>\n",
       "      <td>128GB SSD</td>\n",
       "      <td>1</td>\n",
       "      <td>1</td>\n",
       "      <td>10</td>\n",
       "      <td>1.8kg</td>\n",
       "      <td>5673096.00</td>\n",
       "    </tr>\n",
       "    <tr>\n",
       "      <th>1083</th>\n",
       "      <td>Lenovo</td>\n",
       "      <td>Yoga 900-13ISK</td>\n",
       "      <td>6</td>\n",
       "      <td>13.3</td>\n",
       "      <td>IPS Panel Quad HD+ / Touchscreen 3200x1800</td>\n",
       "      <td>7</td>\n",
       "      <td>16GB</td>\n",
       "      <td>512GB SSD</td>\n",
       "      <td>1</td>\n",
       "      <td>1</td>\n",
       "      <td>10</td>\n",
       "      <td>1.3kg</td>\n",
       "      <td>13329108.00</td>\n",
       "    </tr>\n",
       "    <tr>\n",
       "      <th>1084</th>\n",
       "      <td>HP</td>\n",
       "      <td>15-AC110nv (i7-6500U/6GB/1TB/Radeon</td>\n",
       "      <td>3</td>\n",
       "      <td>15.6</td>\n",
       "      <td>1366x768</td>\n",
       "      <td>7</td>\n",
       "      <td>6GB</td>\n",
       "      <td>1TB HDD</td>\n",
       "      <td>3</td>\n",
       "      <td>1</td>\n",
       "      <td>10</td>\n",
       "      <td>2.19kg</td>\n",
       "      <td>6793488.00</td>\n",
       "    </tr>\n",
       "  </tbody>\n",
       "</table>\n",
       "</div>"
      ],
      "text/plain": [
       "     Manufacturer                                 Model Name  Category  \\\n",
       "1080         Dell                              Inspiron 3567         3   \n",
       "1081         Asus  X556UJ-XO044T (i7-6500U/4GB/500GB/GeForce         3   \n",
       "1082       Lenovo                             Yoga 500-14ISK         6   \n",
       "1083       Lenovo                             Yoga 900-13ISK         6   \n",
       "1084           HP        15-AC110nv (i7-6500U/6GB/1TB/Radeon         3   \n",
       "\n",
       "      Screen Size                                      Screen  CPU   RAM  \\\n",
       "1080         15.6                                    1366x768    7   8GB   \n",
       "1081         15.6                                    1366x768    7   4GB   \n",
       "1082         14.0   IPS Panel Full HD / Touchscreen 1920x1080    7   4GB   \n",
       "1083         13.3  IPS Panel Quad HD+ / Touchscreen 3200x1800    7  16GB   \n",
       "1084         15.6                                    1366x768    7   6GB   \n",
       "\n",
       "        Storage  GPU  Operating System Operating System Version  Weight  \\\n",
       "1080    1TB HDD    3                 2                       10   2.3kg   \n",
       "1081  500GB HDD    2                 1                       10   2.2kg   \n",
       "1082  128GB SSD    1                 1                       10   1.8kg   \n",
       "1083  512GB SSD    1                 1                       10   1.3kg   \n",
       "1084    1TB HDD    3                 1                       10  2.19kg   \n",
       "\n",
       "            Price  \n",
       "1080   7166863.08  \n",
       "1081   6405085.44  \n",
       "1082   5673096.00  \n",
       "1083  13329108.00  \n",
       "1084   6793488.00  "
      ]
     },
     "execution_count": 50,
     "metadata": {},
     "output_type": "execute_result"
    }
   ],
   "source": [
    "df.tail()"
   ]
  },
  {
   "cell_type": "code",
   "execution_count": null,
   "id": "8dbbcd42",
   "metadata": {
    "papermill": {
     "duration": 0.021666,
     "end_time": "2024-06-29T07:31:59.523326",
     "exception": false,
     "start_time": "2024-06-29T07:31:59.501660",
     "status": "completed"
    },
    "tags": []
   },
   "outputs": [],
   "source": []
  }
 ],
 "metadata": {
  "kaggle": {
   "accelerator": "none",
   "dataSources": [
    {
     "datasetId": 3057690,
     "sourceId": 5254982,
     "sourceType": "datasetVersion"
    }
   ],
   "dockerImageVersionId": 30732,
   "isGpuEnabled": false,
   "isInternetEnabled": true,
   "language": "python",
   "sourceType": "notebook"
  },
  "kernelspec": {
   "display_name": "Python 3",
   "language": "python",
   "name": "python3"
  },
  "language_info": {
   "codemirror_mode": {
    "name": "ipython",
    "version": 3
   },
   "file_extension": ".py",
   "mimetype": "text/x-python",
   "name": "python",
   "nbconvert_exporter": "python",
   "pygments_lexer": "ipython3",
   "version": "3.10.13"
  },
  "papermill": {
   "default_parameters": {},
   "duration": 9.954786,
   "end_time": "2024-06-29T07:32:00.167375",
   "environment_variables": {},
   "exception": null,
   "input_path": "__notebook__.ipynb",
   "output_path": "__notebook__.ipynb",
   "parameters": {},
   "start_time": "2024-06-29T07:31:50.212589",
   "version": "2.5.0"
  }
 },
 "nbformat": 4,
 "nbformat_minor": 5
}
